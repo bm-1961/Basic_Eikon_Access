{
 "cells": [
  {
   "cell_type": "markdown",
   "metadata": {},
   "source": [
    "# Import Packages"
   ]
  },
  {
   "cell_type": "code",
   "execution_count": 1,
   "metadata": {},
   "outputs": [
    {
     "data": {
      "text/html": [
       "        <script type=\"text/javascript\">\n",
       "        window.PlotlyConfig = {MathJaxConfig: 'local'};\n",
       "        if (window.MathJax) {MathJax.Hub.Config({SVG: {font: \"STIX-Web\"}});}\n",
       "        if (typeof require !== 'undefined') {\n",
       "        require.undef(\"plotly\");\n",
       "        requirejs.config({\n",
       "            paths: {\n",
       "                'plotly': ['https://cdn.plot.ly/plotly-latest.min']\n",
       "            }\n",
       "        });\n",
       "        require(['plotly'], function(Plotly) {\n",
       "            window._Plotly = Plotly;\n",
       "        });\n",
       "        }\n",
       "        </script>\n",
       "        "
      ]
     },
     "metadata": {},
     "output_type": "display_data"
    },
    {
     "data": {
      "text/html": [
       "        <script type=\"text/javascript\">\n",
       "        window.PlotlyConfig = {MathJaxConfig: 'local'};\n",
       "        if (window.MathJax) {MathJax.Hub.Config({SVG: {font: \"STIX-Web\"}});}\n",
       "        if (typeof require !== 'undefined') {\n",
       "        require.undef(\"plotly\");\n",
       "        requirejs.config({\n",
       "            paths: {\n",
       "                'plotly': ['https://cdn.plot.ly/plotly-latest.min']\n",
       "            }\n",
       "        });\n",
       "        require(['plotly'], function(Plotly) {\n",
       "            window._Plotly = Plotly;\n",
       "        });\n",
       "        }\n",
       "        </script>\n",
       "        "
      ]
     },
     "metadata": {},
     "output_type": "display_data"
    }
   ],
   "source": [
    "import eikon as ek  # the Eikon Python wrapper package\n",
    "import cufflinks as cf  # Cufflinks\n",
    "import configparser as cp\n",
    "cf.set_config_file(offline=True)  # set the plotting mode to offline"
   ]
  },
  {
   "cell_type": "markdown",
   "metadata": {},
   "source": [
    "# Connecting to Eikon Data API"
   ]
  },
  {
   "cell_type": "code",
   "execution_count": 2,
   "metadata": {},
   "outputs": [
    {
     "data": {
      "text/plain": [
       "['eikon.txt']"
      ]
     },
     "execution_count": 2,
     "metadata": {},
     "output_type": "execute_result"
    }
   ],
   "source": [
    "txt = cp.ConfigParser()\n",
    "txt.read('eikon.txt')  # adjust for different file location"
   ]
  },
  {
   "cell_type": "code",
   "execution_count": 4,
   "metadata": {},
   "outputs": [],
   "source": [
    "ek.set_app_key(txt['eikon']['app_id']) #set_app_id function being deprecated"
   ]
  },
  {
   "cell_type": "markdown",
   "metadata": {},
   "source": [
    "# RICS"
   ]
  },
  {
   "cell_type": "code",
   "execution_count": 18,
   "metadata": {},
   "outputs": [],
   "source": [
    "rics = [\n",
    "    'AAPL.O',  # Apple stock\n",
    "    'AMZN.O',  # Amazon stock\n",
    "    'TSLA.O',  # Tesla stock\n",
    "    '.SPX',  # S&P 500 stock index\n",
    "]"
   ]
  },
  {
   "cell_type": "markdown",
   "metadata": {},
   "source": [
    "# Convert RICS to ISIN & Get The Data"
   ]
  },
  {
   "cell_type": "code",
   "execution_count": 6,
   "metadata": {},
   "outputs": [],
   "source": [
    "isin = ek.get_symbology(rics, from_symbol_type='RIC', to_symbol_type='ISIN')"
   ]
  },
  {
   "cell_type": "code",
   "execution_count": 7,
   "metadata": {},
   "outputs": [
    {
     "data": {
      "text/html": [
       "<div>\n",
       "<style scoped>\n",
       "    .dataframe tbody tr th:only-of-type {\n",
       "        vertical-align: middle;\n",
       "    }\n",
       "\n",
       "    .dataframe tbody tr th {\n",
       "        vertical-align: top;\n",
       "    }\n",
       "\n",
       "    .dataframe thead th {\n",
       "        text-align: right;\n",
       "    }\n",
       "</style>\n",
       "<table border=\"1\" class=\"dataframe\">\n",
       "  <thead>\n",
       "    <tr style=\"text-align: right;\">\n",
       "      <th></th>\n",
       "      <th>ISIN</th>\n",
       "    </tr>\n",
       "  </thead>\n",
       "  <tbody>\n",
       "    <tr>\n",
       "      <th>AAPL.O</th>\n",
       "      <td>US0378331005</td>\n",
       "    </tr>\n",
       "    <tr>\n",
       "      <th>AMZN.O</th>\n",
       "      <td>US0231351067</td>\n",
       "    </tr>\n",
       "    <tr>\n",
       "      <th>TSLA.O</th>\n",
       "      <td>US88160R1014</td>\n",
       "    </tr>\n",
       "    <tr>\n",
       "      <th>.SPX</th>\n",
       "      <td>US78378X1072</td>\n",
       "    </tr>\n",
       "  </tbody>\n",
       "</table>\n",
       "</div>"
      ],
      "text/plain": [
       "                ISIN\n",
       "AAPL.O  US0378331005\n",
       "AMZN.O  US0231351067\n",
       "TSLA.O  US88160R1014\n",
       ".SPX    US78378X1072"
      ]
     },
     "execution_count": 7,
     "metadata": {},
     "output_type": "execute_result"
    }
   ],
   "source": [
    "isin"
   ]
  },
  {
   "cell_type": "code",
   "execution_count": 15,
   "metadata": {},
   "outputs": [],
   "source": [
    "isins = list(isin['ISIN'].values)"
   ]
  },
  {
   "cell_type": "code",
   "execution_count": 9,
   "metadata": {},
   "outputs": [
    {
     "data": {
      "text/plain": [
       "['US0378331005', 'US0231351067', 'US88160R1014', 'US78378X1072']"
      ]
     },
     "execution_count": 9,
     "metadata": {},
     "output_type": "execute_result"
    }
   ],
   "source": [
    "isins"
   ]
  },
  {
   "cell_type": "code",
   "execution_count": 20,
   "metadata": {},
   "outputs": [],
   "source": [
    "ben = ek.get_symbology(isins, from_symbol_type='ISIN', to_symbol_type='RIC')"
   ]
  },
  {
   "cell_type": "code",
   "execution_count": 21,
   "metadata": {},
   "outputs": [],
   "source": [
    "rics_1 = list(ben.RIC.values)\n",
    "\n"
   ]
  },
  {
   "cell_type": "code",
   "execution_count": 17,
   "metadata": {},
   "outputs": [
    {
     "data": {
      "text/plain": [
       "['AAPL.O', 'AMZN.O', 'TSLA.O', '.SPX']"
      ]
     },
     "execution_count": 17,
     "metadata": {},
     "output_type": "execute_result"
    }
   ],
   "source": [
    "rics"
   ]
  },
  {
   "cell_type": "markdown",
   "metadata": {},
   "source": [
    "# ek.get_data()\n",
    "The function ek.get_data() is a general purpose data retrieval function."
   ]
  },
  {
   "cell_type": "code",
   "execution_count": 24,
   "metadata": {},
   "outputs": [
    {
     "name": "stderr",
     "output_type": "stream",
     "text": [
      "C:\\Users\\Admin\\anaconda3\\lib\\site-packages\\eikon\\data_grid.py:247: FutureWarning:\n",
      "\n",
      "The pandas.np module is deprecated and will be removed from pandas in a future version. Import numpy directly instead\n",
      "\n"
     ]
    }
   ],
   "source": [
    "data_grid, err = ek.get_data(['IBM', 'GOOG.O', 'MSFT.O'],\n",
    "                             ['TR.TotalReturnYTD', 'TR.WACCBeta', 'YRHIGH', 'YRLOW'])"
   ]
  },
  {
   "cell_type": "code",
   "execution_count": 25,
   "metadata": {},
   "outputs": [
    {
     "data": {
      "text/html": [
       "<div>\n",
       "<style scoped>\n",
       "    .dataframe tbody tr th:only-of-type {\n",
       "        vertical-align: middle;\n",
       "    }\n",
       "\n",
       "    .dataframe tbody tr th {\n",
       "        vertical-align: top;\n",
       "    }\n",
       "\n",
       "    .dataframe thead th {\n",
       "        text-align: right;\n",
       "    }\n",
       "</style>\n",
       "<table border=\"1\" class=\"dataframe\">\n",
       "  <thead>\n",
       "    <tr style=\"text-align: right;\">\n",
       "      <th></th>\n",
       "      <th>Instrument</th>\n",
       "      <th>YTD Total Return</th>\n",
       "      <th>Beta</th>\n",
       "      <th>YRHIGH</th>\n",
       "      <th>YRLOW</th>\n",
       "    </tr>\n",
       "  </thead>\n",
       "  <tbody>\n",
       "    <tr>\n",
       "      <th>0</th>\n",
       "      <td>IBM</td>\n",
       "      <td>-6.066334</td>\n",
       "      <td>1.213869</td>\n",
       "      <td>158.75</td>\n",
       "      <td>90.5600</td>\n",
       "    </tr>\n",
       "    <tr>\n",
       "      <th>1</th>\n",
       "      <td>GOOG.O</td>\n",
       "      <td>10.915319</td>\n",
       "      <td>1.040818</td>\n",
       "      <td>1586.99</td>\n",
       "      <td>1013.5361</td>\n",
       "    </tr>\n",
       "    <tr>\n",
       "      <th>2</th>\n",
       "      <td>MSFT.O</td>\n",
       "      <td>30.712092</td>\n",
       "      <td>0.910707</td>\n",
       "      <td>216.38</td>\n",
       "      <td>130.7800</td>\n",
       "    </tr>\n",
       "  </tbody>\n",
       "</table>\n",
       "</div>"
      ],
      "text/plain": [
       "  Instrument  YTD Total Return      Beta   YRHIGH      YRLOW\n",
       "0        IBM         -6.066334  1.213869   158.75    90.5600\n",
       "1     GOOG.O         10.915319  1.040818  1586.99  1013.5361\n",
       "2     MSFT.O         30.712092  0.910707   216.38   130.7800"
      ]
     },
     "execution_count": 25,
     "metadata": {},
     "output_type": "execute_result"
    }
   ],
   "source": [
    "data_grid"
   ]
  },
  {
   "cell_type": "code",
   "execution_count": 27,
   "metadata": {
    "scrolled": true
   },
   "outputs": [
    {
     "data": {
      "application/vnd.plotly.v1+json": {
       "config": {
        "linkText": "Export to plot.ly",
        "plotlyServerURL": "https://plot.ly",
        "showLink": true
       },
       "data": [
        {
         "marker": {
          "color": "rgba(255, 153, 51, 0.6)",
          "line": {
           "color": "rgba(255, 153, 51, 1.0)",
           "width": 1
          }
         },
         "name": "YTD Total Return",
         "orientation": "v",
         "text": "",
         "type": "bar",
         "x": [
          "IBM",
          "GOOG.O",
          "MSFT.O"
         ],
         "xaxis": "x",
         "y": [
          -6.066333907741691,
          10.915319140484801,
          30.712092230707196
         ],
         "yaxis": "y"
        },
        {
         "marker": {
          "color": "rgba(55, 128, 191, 0.6)",
          "line": {
           "color": "rgba(55, 128, 191, 1.0)",
           "width": 1
          }
         },
         "name": "Beta",
         "orientation": "v",
         "text": "",
         "type": "bar",
         "x": [
          "IBM",
          "GOOG.O",
          "MSFT.O"
         ],
         "xaxis": "x2",
         "y": [
          1.21386858831829,
          1.04081769517039,
          0.910706880809146
         ],
         "yaxis": "y2"
        },
        {
         "marker": {
          "color": "rgba(50, 171, 96, 0.6)",
          "line": {
           "color": "rgba(50, 171, 96, 1.0)",
           "width": 1
          }
         },
         "name": "YRHIGH",
         "orientation": "v",
         "text": "",
         "type": "bar",
         "x": [
          "IBM",
          "GOOG.O",
          "MSFT.O"
         ],
         "xaxis": "x3",
         "y": [
          158.75,
          1586.99,
          216.38
         ],
         "yaxis": "y3"
        }
       ],
       "layout": {
        "legend": {
         "bgcolor": "#F5F6F9",
         "font": {
          "color": "#4D5663"
         }
        },
        "paper_bgcolor": "#F5F6F9",
        "plot_bgcolor": "#F5F6F9",
        "template": {
         "data": {
          "bar": [
           {
            "error_x": {
             "color": "#2a3f5f"
            },
            "error_y": {
             "color": "#2a3f5f"
            },
            "marker": {
             "line": {
              "color": "#E5ECF6",
              "width": 0.5
             }
            },
            "type": "bar"
           }
          ],
          "barpolar": [
           {
            "marker": {
             "line": {
              "color": "#E5ECF6",
              "width": 0.5
             }
            },
            "type": "barpolar"
           }
          ],
          "carpet": [
           {
            "aaxis": {
             "endlinecolor": "#2a3f5f",
             "gridcolor": "white",
             "linecolor": "white",
             "minorgridcolor": "white",
             "startlinecolor": "#2a3f5f"
            },
            "baxis": {
             "endlinecolor": "#2a3f5f",
             "gridcolor": "white",
             "linecolor": "white",
             "minorgridcolor": "white",
             "startlinecolor": "#2a3f5f"
            },
            "type": "carpet"
           }
          ],
          "choropleth": [
           {
            "colorbar": {
             "outlinewidth": 0,
             "ticks": ""
            },
            "type": "choropleth"
           }
          ],
          "contour": [
           {
            "colorbar": {
             "outlinewidth": 0,
             "ticks": ""
            },
            "colorscale": [
             [
              0,
              "#0d0887"
             ],
             [
              0.1111111111111111,
              "#46039f"
             ],
             [
              0.2222222222222222,
              "#7201a8"
             ],
             [
              0.3333333333333333,
              "#9c179e"
             ],
             [
              0.4444444444444444,
              "#bd3786"
             ],
             [
              0.5555555555555556,
              "#d8576b"
             ],
             [
              0.6666666666666666,
              "#ed7953"
             ],
             [
              0.7777777777777778,
              "#fb9f3a"
             ],
             [
              0.8888888888888888,
              "#fdca26"
             ],
             [
              1,
              "#f0f921"
             ]
            ],
            "type": "contour"
           }
          ],
          "contourcarpet": [
           {
            "colorbar": {
             "outlinewidth": 0,
             "ticks": ""
            },
            "type": "contourcarpet"
           }
          ],
          "heatmap": [
           {
            "colorbar": {
             "outlinewidth": 0,
             "ticks": ""
            },
            "colorscale": [
             [
              0,
              "#0d0887"
             ],
             [
              0.1111111111111111,
              "#46039f"
             ],
             [
              0.2222222222222222,
              "#7201a8"
             ],
             [
              0.3333333333333333,
              "#9c179e"
             ],
             [
              0.4444444444444444,
              "#bd3786"
             ],
             [
              0.5555555555555556,
              "#d8576b"
             ],
             [
              0.6666666666666666,
              "#ed7953"
             ],
             [
              0.7777777777777778,
              "#fb9f3a"
             ],
             [
              0.8888888888888888,
              "#fdca26"
             ],
             [
              1,
              "#f0f921"
             ]
            ],
            "type": "heatmap"
           }
          ],
          "heatmapgl": [
           {
            "colorbar": {
             "outlinewidth": 0,
             "ticks": ""
            },
            "colorscale": [
             [
              0,
              "#0d0887"
             ],
             [
              0.1111111111111111,
              "#46039f"
             ],
             [
              0.2222222222222222,
              "#7201a8"
             ],
             [
              0.3333333333333333,
              "#9c179e"
             ],
             [
              0.4444444444444444,
              "#bd3786"
             ],
             [
              0.5555555555555556,
              "#d8576b"
             ],
             [
              0.6666666666666666,
              "#ed7953"
             ],
             [
              0.7777777777777778,
              "#fb9f3a"
             ],
             [
              0.8888888888888888,
              "#fdca26"
             ],
             [
              1,
              "#f0f921"
             ]
            ],
            "type": "heatmapgl"
           }
          ],
          "histogram": [
           {
            "marker": {
             "colorbar": {
              "outlinewidth": 0,
              "ticks": ""
             }
            },
            "type": "histogram"
           }
          ],
          "histogram2d": [
           {
            "colorbar": {
             "outlinewidth": 0,
             "ticks": ""
            },
            "colorscale": [
             [
              0,
              "#0d0887"
             ],
             [
              0.1111111111111111,
              "#46039f"
             ],
             [
              0.2222222222222222,
              "#7201a8"
             ],
             [
              0.3333333333333333,
              "#9c179e"
             ],
             [
              0.4444444444444444,
              "#bd3786"
             ],
             [
              0.5555555555555556,
              "#d8576b"
             ],
             [
              0.6666666666666666,
              "#ed7953"
             ],
             [
              0.7777777777777778,
              "#fb9f3a"
             ],
             [
              0.8888888888888888,
              "#fdca26"
             ],
             [
              1,
              "#f0f921"
             ]
            ],
            "type": "histogram2d"
           }
          ],
          "histogram2dcontour": [
           {
            "colorbar": {
             "outlinewidth": 0,
             "ticks": ""
            },
            "colorscale": [
             [
              0,
              "#0d0887"
             ],
             [
              0.1111111111111111,
              "#46039f"
             ],
             [
              0.2222222222222222,
              "#7201a8"
             ],
             [
              0.3333333333333333,
              "#9c179e"
             ],
             [
              0.4444444444444444,
              "#bd3786"
             ],
             [
              0.5555555555555556,
              "#d8576b"
             ],
             [
              0.6666666666666666,
              "#ed7953"
             ],
             [
              0.7777777777777778,
              "#fb9f3a"
             ],
             [
              0.8888888888888888,
              "#fdca26"
             ],
             [
              1,
              "#f0f921"
             ]
            ],
            "type": "histogram2dcontour"
           }
          ],
          "mesh3d": [
           {
            "colorbar": {
             "outlinewidth": 0,
             "ticks": ""
            },
            "type": "mesh3d"
           }
          ],
          "parcoords": [
           {
            "line": {
             "colorbar": {
              "outlinewidth": 0,
              "ticks": ""
             }
            },
            "type": "parcoords"
           }
          ],
          "pie": [
           {
            "automargin": true,
            "type": "pie"
           }
          ],
          "scatter": [
           {
            "marker": {
             "colorbar": {
              "outlinewidth": 0,
              "ticks": ""
             }
            },
            "type": "scatter"
           }
          ],
          "scatter3d": [
           {
            "line": {
             "colorbar": {
              "outlinewidth": 0,
              "ticks": ""
             }
            },
            "marker": {
             "colorbar": {
              "outlinewidth": 0,
              "ticks": ""
             }
            },
            "type": "scatter3d"
           }
          ],
          "scattercarpet": [
           {
            "marker": {
             "colorbar": {
              "outlinewidth": 0,
              "ticks": ""
             }
            },
            "type": "scattercarpet"
           }
          ],
          "scattergeo": [
           {
            "marker": {
             "colorbar": {
              "outlinewidth": 0,
              "ticks": ""
             }
            },
            "type": "scattergeo"
           }
          ],
          "scattergl": [
           {
            "marker": {
             "colorbar": {
              "outlinewidth": 0,
              "ticks": ""
             }
            },
            "type": "scattergl"
           }
          ],
          "scattermapbox": [
           {
            "marker": {
             "colorbar": {
              "outlinewidth": 0,
              "ticks": ""
             }
            },
            "type": "scattermapbox"
           }
          ],
          "scatterpolar": [
           {
            "marker": {
             "colorbar": {
              "outlinewidth": 0,
              "ticks": ""
             }
            },
            "type": "scatterpolar"
           }
          ],
          "scatterpolargl": [
           {
            "marker": {
             "colorbar": {
              "outlinewidth": 0,
              "ticks": ""
             }
            },
            "type": "scatterpolargl"
           }
          ],
          "scatterternary": [
           {
            "marker": {
             "colorbar": {
              "outlinewidth": 0,
              "ticks": ""
             }
            },
            "type": "scatterternary"
           }
          ],
          "surface": [
           {
            "colorbar": {
             "outlinewidth": 0,
             "ticks": ""
            },
            "colorscale": [
             [
              0,
              "#0d0887"
             ],
             [
              0.1111111111111111,
              "#46039f"
             ],
             [
              0.2222222222222222,
              "#7201a8"
             ],
             [
              0.3333333333333333,
              "#9c179e"
             ],
             [
              0.4444444444444444,
              "#bd3786"
             ],
             [
              0.5555555555555556,
              "#d8576b"
             ],
             [
              0.6666666666666666,
              "#ed7953"
             ],
             [
              0.7777777777777778,
              "#fb9f3a"
             ],
             [
              0.8888888888888888,
              "#fdca26"
             ],
             [
              1,
              "#f0f921"
             ]
            ],
            "type": "surface"
           }
          ],
          "table": [
           {
            "cells": {
             "fill": {
              "color": "#EBF0F8"
             },
             "line": {
              "color": "white"
             }
            },
            "header": {
             "fill": {
              "color": "#C8D4E3"
             },
             "line": {
              "color": "white"
             }
            },
            "type": "table"
           }
          ]
         },
         "layout": {
          "annotationdefaults": {
           "arrowcolor": "#2a3f5f",
           "arrowhead": 0,
           "arrowwidth": 1
          },
          "coloraxis": {
           "colorbar": {
            "outlinewidth": 0,
            "ticks": ""
           }
          },
          "colorscale": {
           "diverging": [
            [
             0,
             "#8e0152"
            ],
            [
             0.1,
             "#c51b7d"
            ],
            [
             0.2,
             "#de77ae"
            ],
            [
             0.3,
             "#f1b6da"
            ],
            [
             0.4,
             "#fde0ef"
            ],
            [
             0.5,
             "#f7f7f7"
            ],
            [
             0.6,
             "#e6f5d0"
            ],
            [
             0.7,
             "#b8e186"
            ],
            [
             0.8,
             "#7fbc41"
            ],
            [
             0.9,
             "#4d9221"
            ],
            [
             1,
             "#276419"
            ]
           ],
           "sequential": [
            [
             0,
             "#0d0887"
            ],
            [
             0.1111111111111111,
             "#46039f"
            ],
            [
             0.2222222222222222,
             "#7201a8"
            ],
            [
             0.3333333333333333,
             "#9c179e"
            ],
            [
             0.4444444444444444,
             "#bd3786"
            ],
            [
             0.5555555555555556,
             "#d8576b"
            ],
            [
             0.6666666666666666,
             "#ed7953"
            ],
            [
             0.7777777777777778,
             "#fb9f3a"
            ],
            [
             0.8888888888888888,
             "#fdca26"
            ],
            [
             1,
             "#f0f921"
            ]
           ],
           "sequentialminus": [
            [
             0,
             "#0d0887"
            ],
            [
             0.1111111111111111,
             "#46039f"
            ],
            [
             0.2222222222222222,
             "#7201a8"
            ],
            [
             0.3333333333333333,
             "#9c179e"
            ],
            [
             0.4444444444444444,
             "#bd3786"
            ],
            [
             0.5555555555555556,
             "#d8576b"
            ],
            [
             0.6666666666666666,
             "#ed7953"
            ],
            [
             0.7777777777777778,
             "#fb9f3a"
            ],
            [
             0.8888888888888888,
             "#fdca26"
            ],
            [
             1,
             "#f0f921"
            ]
           ]
          },
          "colorway": [
           "#636efa",
           "#EF553B",
           "#00cc96",
           "#ab63fa",
           "#FFA15A",
           "#19d3f3",
           "#FF6692",
           "#B6E880",
           "#FF97FF",
           "#FECB52"
          ],
          "font": {
           "color": "#2a3f5f"
          },
          "geo": {
           "bgcolor": "white",
           "lakecolor": "white",
           "landcolor": "#E5ECF6",
           "showlakes": true,
           "showland": true,
           "subunitcolor": "white"
          },
          "hoverlabel": {
           "align": "left"
          },
          "hovermode": "closest",
          "mapbox": {
           "style": "light"
          },
          "paper_bgcolor": "white",
          "plot_bgcolor": "#E5ECF6",
          "polar": {
           "angularaxis": {
            "gridcolor": "white",
            "linecolor": "white",
            "ticks": ""
           },
           "bgcolor": "#E5ECF6",
           "radialaxis": {
            "gridcolor": "white",
            "linecolor": "white",
            "ticks": ""
           }
          },
          "scene": {
           "xaxis": {
            "backgroundcolor": "#E5ECF6",
            "gridcolor": "white",
            "gridwidth": 2,
            "linecolor": "white",
            "showbackground": true,
            "ticks": "",
            "zerolinecolor": "white"
           },
           "yaxis": {
            "backgroundcolor": "#E5ECF6",
            "gridcolor": "white",
            "gridwidth": 2,
            "linecolor": "white",
            "showbackground": true,
            "ticks": "",
            "zerolinecolor": "white"
           },
           "zaxis": {
            "backgroundcolor": "#E5ECF6",
            "gridcolor": "white",
            "gridwidth": 2,
            "linecolor": "white",
            "showbackground": true,
            "ticks": "",
            "zerolinecolor": "white"
           }
          },
          "shapedefaults": {
           "line": {
            "color": "#2a3f5f"
           }
          },
          "ternary": {
           "aaxis": {
            "gridcolor": "white",
            "linecolor": "white",
            "ticks": ""
           },
           "baxis": {
            "gridcolor": "white",
            "linecolor": "white",
            "ticks": ""
           },
           "bgcolor": "#E5ECF6",
           "caxis": {
            "gridcolor": "white",
            "linecolor": "white",
            "ticks": ""
           }
          },
          "title": {
           "x": 0.05
          },
          "xaxis": {
           "automargin": true,
           "gridcolor": "white",
           "linecolor": "white",
           "ticks": "",
           "title": {
            "standoff": 15
           },
           "zerolinecolor": "white",
           "zerolinewidth": 2
          },
          "yaxis": {
           "automargin": true,
           "gridcolor": "white",
           "linecolor": "white",
           "ticks": "",
           "title": {
            "standoff": 15
           },
           "zerolinecolor": "white",
           "zerolinewidth": 2
          }
         }
        },
        "title": {
         "font": {
          "color": "#4D5663"
         }
        },
        "xaxis": {
         "anchor": "y",
         "domain": [
          0,
          0.45
         ],
         "gridcolor": "#E1E5ED",
         "showgrid": true,
         "tickfont": {
          "color": "#4D5663"
         },
         "title": {
          "font": {
           "color": "#4D5663"
          },
          "text": ""
         },
         "zerolinecolor": "#E1E5ED"
        },
        "xaxis2": {
         "anchor": "y2",
         "domain": [
          0.55,
          1
         ],
         "gridcolor": "#E1E5ED",
         "showgrid": true,
         "tickfont": {
          "color": "#4D5663"
         },
         "title": {
          "font": {
           "color": "#4D5663"
          },
          "text": ""
         },
         "zerolinecolor": "#E1E5ED"
        },
        "xaxis3": {
         "anchor": "y3",
         "domain": [
          0,
          0.45
         ],
         "gridcolor": "#E1E5ED",
         "showgrid": true,
         "tickfont": {
          "color": "#4D5663"
         },
         "title": {
          "font": {
           "color": "#4D5663"
          },
          "text": ""
         },
         "zerolinecolor": "#E1E5ED"
        },
        "yaxis": {
         "anchor": "x",
         "domain": [
          0.575,
          1
         ],
         "gridcolor": "#E1E5ED",
         "showgrid": true,
         "tickfont": {
          "color": "#4D5663"
         },
         "title": {
          "font": {
           "color": "#4D5663"
          },
          "text": ""
         },
         "zerolinecolor": "#E1E5ED"
        },
        "yaxis2": {
         "anchor": "x2",
         "domain": [
          0.575,
          1
         ],
         "gridcolor": "#E1E5ED",
         "showgrid": true,
         "tickfont": {
          "color": "#4D5663"
         },
         "title": {
          "font": {
           "color": "#4D5663"
          },
          "text": ""
         },
         "zerolinecolor": "#E1E5ED"
        },
        "yaxis3": {
         "anchor": "x3",
         "domain": [
          0,
          0.425
         ],
         "gridcolor": "#E1E5ED",
         "showgrid": true,
         "tickfont": {
          "color": "#4D5663"
         },
         "title": {
          "font": {
           "color": "#4D5663"
          },
          "text": ""
         },
         "zerolinecolor": "#E1E5ED"
        }
       }
      },
      "text/html": [
       "<div>\n",
       "        \n",
       "        \n",
       "            <div id=\"6f3ab918-0d91-4786-9ef2-917b8718e391\" class=\"plotly-graph-div\" style=\"height:525px; width:100%;\"></div>\n",
       "            <script type=\"text/javascript\">\n",
       "                require([\"plotly\"], function(Plotly) {\n",
       "                    window.PLOTLYENV=window.PLOTLYENV || {};\n",
       "                    window.PLOTLYENV.BASE_URL='https://plot.ly';\n",
       "                    \n",
       "                if (document.getElementById(\"6f3ab918-0d91-4786-9ef2-917b8718e391\")) {\n",
       "                    Plotly.newPlot(\n",
       "                        '6f3ab918-0d91-4786-9ef2-917b8718e391',\n",
       "                        [{\"marker\": {\"color\": \"rgba(255, 153, 51, 0.6)\", \"line\": {\"color\": \"rgba(255, 153, 51, 1.0)\", \"width\": 1}}, \"name\": \"YTD Total Return\", \"orientation\": \"v\", \"text\": \"\", \"type\": \"bar\", \"x\": [\"IBM\", \"GOOG.O\", \"MSFT.O\"], \"xaxis\": \"x\", \"y\": [-6.066333907741691, 10.915319140484801, 30.712092230707196], \"yaxis\": \"y\"}, {\"marker\": {\"color\": \"rgba(55, 128, 191, 0.6)\", \"line\": {\"color\": \"rgba(55, 128, 191, 1.0)\", \"width\": 1}}, \"name\": \"Beta\", \"orientation\": \"v\", \"text\": \"\", \"type\": \"bar\", \"x\": [\"IBM\", \"GOOG.O\", \"MSFT.O\"], \"xaxis\": \"x2\", \"y\": [1.21386858831829, 1.04081769517039, 0.910706880809146], \"yaxis\": \"y2\"}, {\"marker\": {\"color\": \"rgba(50, 171, 96, 0.6)\", \"line\": {\"color\": \"rgba(50, 171, 96, 1.0)\", \"width\": 1}}, \"name\": \"YRHIGH\", \"orientation\": \"v\", \"text\": \"\", \"type\": \"bar\", \"x\": [\"IBM\", \"GOOG.O\", \"MSFT.O\"], \"xaxis\": \"x3\", \"y\": [158.75, 1586.99, 216.38], \"yaxis\": \"y3\"}],\n",
       "                        {\"legend\": {\"bgcolor\": \"#F5F6F9\", \"font\": {\"color\": \"#4D5663\"}}, \"paper_bgcolor\": \"#F5F6F9\", \"plot_bgcolor\": \"#F5F6F9\", \"template\": {\"data\": {\"bar\": [{\"error_x\": {\"color\": \"#2a3f5f\"}, \"error_y\": {\"color\": \"#2a3f5f\"}, \"marker\": {\"line\": {\"color\": \"#E5ECF6\", \"width\": 0.5}}, \"type\": \"bar\"}], \"barpolar\": [{\"marker\": {\"line\": {\"color\": \"#E5ECF6\", \"width\": 0.5}}, \"type\": \"barpolar\"}], \"carpet\": [{\"aaxis\": {\"endlinecolor\": \"#2a3f5f\", \"gridcolor\": \"white\", \"linecolor\": \"white\", \"minorgridcolor\": \"white\", \"startlinecolor\": \"#2a3f5f\"}, \"baxis\": {\"endlinecolor\": \"#2a3f5f\", \"gridcolor\": \"white\", \"linecolor\": \"white\", \"minorgridcolor\": \"white\", \"startlinecolor\": \"#2a3f5f\"}, \"type\": \"carpet\"}], \"choropleth\": [{\"colorbar\": {\"outlinewidth\": 0, \"ticks\": \"\"}, \"type\": \"choropleth\"}], \"contour\": [{\"colorbar\": {\"outlinewidth\": 0, \"ticks\": \"\"}, \"colorscale\": [[0.0, \"#0d0887\"], [0.1111111111111111, \"#46039f\"], [0.2222222222222222, \"#7201a8\"], [0.3333333333333333, \"#9c179e\"], [0.4444444444444444, \"#bd3786\"], [0.5555555555555556, \"#d8576b\"], [0.6666666666666666, \"#ed7953\"], [0.7777777777777778, \"#fb9f3a\"], [0.8888888888888888, \"#fdca26\"], [1.0, \"#f0f921\"]], \"type\": \"contour\"}], \"contourcarpet\": [{\"colorbar\": {\"outlinewidth\": 0, \"ticks\": \"\"}, \"type\": \"contourcarpet\"}], \"heatmap\": [{\"colorbar\": {\"outlinewidth\": 0, \"ticks\": \"\"}, \"colorscale\": [[0.0, \"#0d0887\"], [0.1111111111111111, \"#46039f\"], [0.2222222222222222, \"#7201a8\"], [0.3333333333333333, \"#9c179e\"], [0.4444444444444444, \"#bd3786\"], [0.5555555555555556, \"#d8576b\"], [0.6666666666666666, \"#ed7953\"], [0.7777777777777778, \"#fb9f3a\"], [0.8888888888888888, \"#fdca26\"], [1.0, \"#f0f921\"]], \"type\": \"heatmap\"}], \"heatmapgl\": [{\"colorbar\": {\"outlinewidth\": 0, \"ticks\": \"\"}, \"colorscale\": [[0.0, \"#0d0887\"], [0.1111111111111111, \"#46039f\"], [0.2222222222222222, \"#7201a8\"], [0.3333333333333333, \"#9c179e\"], [0.4444444444444444, \"#bd3786\"], [0.5555555555555556, \"#d8576b\"], [0.6666666666666666, \"#ed7953\"], [0.7777777777777778, \"#fb9f3a\"], [0.8888888888888888, \"#fdca26\"], [1.0, \"#f0f921\"]], \"type\": \"heatmapgl\"}], \"histogram\": [{\"marker\": {\"colorbar\": {\"outlinewidth\": 0, \"ticks\": \"\"}}, \"type\": \"histogram\"}], \"histogram2d\": [{\"colorbar\": {\"outlinewidth\": 0, \"ticks\": \"\"}, \"colorscale\": [[0.0, \"#0d0887\"], [0.1111111111111111, \"#46039f\"], [0.2222222222222222, \"#7201a8\"], [0.3333333333333333, \"#9c179e\"], [0.4444444444444444, \"#bd3786\"], [0.5555555555555556, \"#d8576b\"], [0.6666666666666666, \"#ed7953\"], [0.7777777777777778, \"#fb9f3a\"], [0.8888888888888888, \"#fdca26\"], [1.0, \"#f0f921\"]], \"type\": \"histogram2d\"}], \"histogram2dcontour\": [{\"colorbar\": {\"outlinewidth\": 0, \"ticks\": \"\"}, \"colorscale\": [[0.0, \"#0d0887\"], [0.1111111111111111, \"#46039f\"], [0.2222222222222222, \"#7201a8\"], [0.3333333333333333, \"#9c179e\"], [0.4444444444444444, \"#bd3786\"], [0.5555555555555556, \"#d8576b\"], [0.6666666666666666, \"#ed7953\"], [0.7777777777777778, \"#fb9f3a\"], [0.8888888888888888, \"#fdca26\"], [1.0, \"#f0f921\"]], \"type\": \"histogram2dcontour\"}], \"mesh3d\": [{\"colorbar\": {\"outlinewidth\": 0, \"ticks\": \"\"}, \"type\": \"mesh3d\"}], \"parcoords\": [{\"line\": {\"colorbar\": {\"outlinewidth\": 0, \"ticks\": \"\"}}, \"type\": \"parcoords\"}], \"pie\": [{\"automargin\": true, \"type\": \"pie\"}], \"scatter\": [{\"marker\": {\"colorbar\": {\"outlinewidth\": 0, \"ticks\": \"\"}}, \"type\": \"scatter\"}], \"scatter3d\": [{\"line\": {\"colorbar\": {\"outlinewidth\": 0, \"ticks\": \"\"}}, \"marker\": {\"colorbar\": {\"outlinewidth\": 0, \"ticks\": \"\"}}, \"type\": \"scatter3d\"}], \"scattercarpet\": [{\"marker\": {\"colorbar\": {\"outlinewidth\": 0, \"ticks\": \"\"}}, \"type\": \"scattercarpet\"}], \"scattergeo\": [{\"marker\": {\"colorbar\": {\"outlinewidth\": 0, \"ticks\": \"\"}}, \"type\": \"scattergeo\"}], \"scattergl\": [{\"marker\": {\"colorbar\": {\"outlinewidth\": 0, \"ticks\": \"\"}}, \"type\": \"scattergl\"}], \"scattermapbox\": [{\"marker\": {\"colorbar\": {\"outlinewidth\": 0, \"ticks\": \"\"}}, \"type\": \"scattermapbox\"}], \"scatterpolar\": [{\"marker\": {\"colorbar\": {\"outlinewidth\": 0, \"ticks\": \"\"}}, \"type\": \"scatterpolar\"}], \"scatterpolargl\": [{\"marker\": {\"colorbar\": {\"outlinewidth\": 0, \"ticks\": \"\"}}, \"type\": \"scatterpolargl\"}], \"scatterternary\": [{\"marker\": {\"colorbar\": {\"outlinewidth\": 0, \"ticks\": \"\"}}, \"type\": \"scatterternary\"}], \"surface\": [{\"colorbar\": {\"outlinewidth\": 0, \"ticks\": \"\"}, \"colorscale\": [[0.0, \"#0d0887\"], [0.1111111111111111, \"#46039f\"], [0.2222222222222222, \"#7201a8\"], [0.3333333333333333, \"#9c179e\"], [0.4444444444444444, \"#bd3786\"], [0.5555555555555556, \"#d8576b\"], [0.6666666666666666, \"#ed7953\"], [0.7777777777777778, \"#fb9f3a\"], [0.8888888888888888, \"#fdca26\"], [1.0, \"#f0f921\"]], \"type\": \"surface\"}], \"table\": [{\"cells\": {\"fill\": {\"color\": \"#EBF0F8\"}, \"line\": {\"color\": \"white\"}}, \"header\": {\"fill\": {\"color\": \"#C8D4E3\"}, \"line\": {\"color\": \"white\"}}, \"type\": \"table\"}]}, \"layout\": {\"annotationdefaults\": {\"arrowcolor\": \"#2a3f5f\", \"arrowhead\": 0, \"arrowwidth\": 1}, \"coloraxis\": {\"colorbar\": {\"outlinewidth\": 0, \"ticks\": \"\"}}, \"colorscale\": {\"diverging\": [[0, \"#8e0152\"], [0.1, \"#c51b7d\"], [0.2, \"#de77ae\"], [0.3, \"#f1b6da\"], [0.4, \"#fde0ef\"], [0.5, \"#f7f7f7\"], [0.6, \"#e6f5d0\"], [0.7, \"#b8e186\"], [0.8, \"#7fbc41\"], [0.9, \"#4d9221\"], [1, \"#276419\"]], \"sequential\": [[0.0, \"#0d0887\"], [0.1111111111111111, \"#46039f\"], [0.2222222222222222, \"#7201a8\"], [0.3333333333333333, \"#9c179e\"], [0.4444444444444444, \"#bd3786\"], [0.5555555555555556, \"#d8576b\"], [0.6666666666666666, \"#ed7953\"], [0.7777777777777778, \"#fb9f3a\"], [0.8888888888888888, \"#fdca26\"], [1.0, \"#f0f921\"]], \"sequentialminus\": [[0.0, \"#0d0887\"], [0.1111111111111111, \"#46039f\"], [0.2222222222222222, \"#7201a8\"], [0.3333333333333333, \"#9c179e\"], [0.4444444444444444, \"#bd3786\"], [0.5555555555555556, \"#d8576b\"], [0.6666666666666666, \"#ed7953\"], [0.7777777777777778, \"#fb9f3a\"], [0.8888888888888888, \"#fdca26\"], [1.0, \"#f0f921\"]]}, \"colorway\": [\"#636efa\", \"#EF553B\", \"#00cc96\", \"#ab63fa\", \"#FFA15A\", \"#19d3f3\", \"#FF6692\", \"#B6E880\", \"#FF97FF\", \"#FECB52\"], \"font\": {\"color\": \"#2a3f5f\"}, \"geo\": {\"bgcolor\": \"white\", \"lakecolor\": \"white\", \"landcolor\": \"#E5ECF6\", \"showlakes\": true, \"showland\": true, \"subunitcolor\": \"white\"}, \"hoverlabel\": {\"align\": \"left\"}, \"hovermode\": \"closest\", \"mapbox\": {\"style\": \"light\"}, \"paper_bgcolor\": \"white\", \"plot_bgcolor\": \"#E5ECF6\", \"polar\": {\"angularaxis\": {\"gridcolor\": \"white\", \"linecolor\": \"white\", \"ticks\": \"\"}, \"bgcolor\": \"#E5ECF6\", \"radialaxis\": {\"gridcolor\": \"white\", \"linecolor\": \"white\", \"ticks\": \"\"}}, \"scene\": {\"xaxis\": {\"backgroundcolor\": \"#E5ECF6\", \"gridcolor\": \"white\", \"gridwidth\": 2, \"linecolor\": \"white\", \"showbackground\": true, \"ticks\": \"\", \"zerolinecolor\": \"white\"}, \"yaxis\": {\"backgroundcolor\": \"#E5ECF6\", \"gridcolor\": \"white\", \"gridwidth\": 2, \"linecolor\": \"white\", \"showbackground\": true, \"ticks\": \"\", \"zerolinecolor\": \"white\"}, \"zaxis\": {\"backgroundcolor\": \"#E5ECF6\", \"gridcolor\": \"white\", \"gridwidth\": 2, \"linecolor\": \"white\", \"showbackground\": true, \"ticks\": \"\", \"zerolinecolor\": \"white\"}}, \"shapedefaults\": {\"line\": {\"color\": \"#2a3f5f\"}}, \"ternary\": {\"aaxis\": {\"gridcolor\": \"white\", \"linecolor\": \"white\", \"ticks\": \"\"}, \"baxis\": {\"gridcolor\": \"white\", \"linecolor\": \"white\", \"ticks\": \"\"}, \"bgcolor\": \"#E5ECF6\", \"caxis\": {\"gridcolor\": \"white\", \"linecolor\": \"white\", \"ticks\": \"\"}}, \"title\": {\"x\": 0.05}, \"xaxis\": {\"automargin\": true, \"gridcolor\": \"white\", \"linecolor\": \"white\", \"ticks\": \"\", \"title\": {\"standoff\": 15}, \"zerolinecolor\": \"white\", \"zerolinewidth\": 2}, \"yaxis\": {\"automargin\": true, \"gridcolor\": \"white\", \"linecolor\": \"white\", \"ticks\": \"\", \"title\": {\"standoff\": 15}, \"zerolinecolor\": \"white\", \"zerolinewidth\": 2}}}, \"title\": {\"font\": {\"color\": \"#4D5663\"}}, \"xaxis\": {\"anchor\": \"y\", \"domain\": [0.0, 0.45], \"gridcolor\": \"#E1E5ED\", \"showgrid\": true, \"tickfont\": {\"color\": \"#4D5663\"}, \"title\": {\"font\": {\"color\": \"#4D5663\"}, \"text\": \"\"}, \"zerolinecolor\": \"#E1E5ED\"}, \"xaxis2\": {\"anchor\": \"y2\", \"domain\": [0.55, 1.0], \"gridcolor\": \"#E1E5ED\", \"showgrid\": true, \"tickfont\": {\"color\": \"#4D5663\"}, \"title\": {\"font\": {\"color\": \"#4D5663\"}, \"text\": \"\"}, \"zerolinecolor\": \"#E1E5ED\"}, \"xaxis3\": {\"anchor\": \"y3\", \"domain\": [0.0, 0.45], \"gridcolor\": \"#E1E5ED\", \"showgrid\": true, \"tickfont\": {\"color\": \"#4D5663\"}, \"title\": {\"font\": {\"color\": \"#4D5663\"}, \"text\": \"\"}, \"zerolinecolor\": \"#E1E5ED\"}, \"yaxis\": {\"anchor\": \"x\", \"domain\": [0.575, 1.0], \"gridcolor\": \"#E1E5ED\", \"showgrid\": true, \"tickfont\": {\"color\": \"#4D5663\"}, \"title\": {\"font\": {\"color\": \"#4D5663\"}, \"text\": \"\"}, \"zerolinecolor\": \"#E1E5ED\"}, \"yaxis2\": {\"anchor\": \"x2\", \"domain\": [0.575, 1.0], \"gridcolor\": \"#E1E5ED\", \"showgrid\": true, \"tickfont\": {\"color\": \"#4D5663\"}, \"title\": {\"font\": {\"color\": \"#4D5663\"}, \"text\": \"\"}, \"zerolinecolor\": \"#E1E5ED\"}, \"yaxis3\": {\"anchor\": \"x3\", \"domain\": [0.0, 0.425], \"gridcolor\": \"#E1E5ED\", \"showgrid\": true, \"tickfont\": {\"color\": \"#4D5663\"}, \"title\": {\"font\": {\"color\": \"#4D5663\"}, \"text\": \"\"}, \"zerolinecolor\": \"#E1E5ED\"}},\n",
       "                        {\"showLink\": true, \"linkText\": \"Export to plot.ly\", \"plotlyServerURL\": \"https://plot.ly\", \"responsive\": true}\n",
       "                    ).then(function(){\n",
       "                            \n",
       "var gd = document.getElementById('6f3ab918-0d91-4786-9ef2-917b8718e391');\n",
       "var x = new MutationObserver(function (mutations, observer) {{\n",
       "        var display = window.getComputedStyle(gd).display;\n",
       "        if (!display || display === 'none') {{\n",
       "            console.log([gd, 'removed!']);\n",
       "            Plotly.purge(gd);\n",
       "            observer.disconnect();\n",
       "        }}\n",
       "}});\n",
       "\n",
       "// Listen for the removal of the full notebook cells\n",
       "var notebookContainer = gd.closest('#notebook-container');\n",
       "if (notebookContainer) {{\n",
       "    x.observe(notebookContainer, {childList: true});\n",
       "}}\n",
       "\n",
       "// Listen for the clearing of the current output cell\n",
       "var outputEl = gd.closest('.output');\n",
       "if (outputEl) {{\n",
       "    x.observe(outputEl, {childList: true});\n",
       "}}\n",
       "\n",
       "                        })\n",
       "                };\n",
       "                });\n",
       "            </script>\n",
       "        </div>"
      ]
     },
     "metadata": {},
     "output_type": "display_data"
    }
   ],
   "source": [
    "data_grid.set_index('Instrument')[['YTD Total Return', 'Beta',\"YRHIGH\"]].iplot(\n",
    "                    kind='bar', subplots=True)"
   ]
  },
  {
   "cell_type": "code",
   "execution_count": 28,
   "metadata": {
    "scrolled": true
   },
   "outputs": [
    {
     "data": {
      "application/vnd.plotly.v1+json": {
       "config": {
        "linkText": "Export to plot.ly",
        "plotlyServerURL": "https://plot.ly",
        "showLink": true
       },
       "data": [
        {
         "marker": {
          "color": "rgba(255, 153, 51, 0.6)",
          "line": {
           "color": "rgba(255, 153, 51, 1.0)",
           "width": 1
          }
         },
         "name": "YRHIGH",
         "orientation": "v",
         "text": "",
         "type": "bar",
         "x": [
          "IBM",
          "GOOG.O",
          "MSFT.O"
         ],
         "y": [
          158.75,
          1586.99,
          216.38
         ]
        },
        {
         "marker": {
          "color": "rgba(55, 128, 191, 0.6)",
          "line": {
           "color": "rgba(55, 128, 191, 1.0)",
           "width": 1
          }
         },
         "name": "YRLOW",
         "orientation": "v",
         "text": "",
         "type": "bar",
         "x": [
          "IBM",
          "GOOG.O",
          "MSFT.O"
         ],
         "y": [
          90.56,
          1013.5361,
          130.78
         ]
        }
       ],
       "layout": {
        "legend": {
         "bgcolor": "#F5F6F9",
         "font": {
          "color": "#4D5663"
         }
        },
        "paper_bgcolor": "#F5F6F9",
        "plot_bgcolor": "#F5F6F9",
        "template": {
         "data": {
          "bar": [
           {
            "error_x": {
             "color": "#2a3f5f"
            },
            "error_y": {
             "color": "#2a3f5f"
            },
            "marker": {
             "line": {
              "color": "#E5ECF6",
              "width": 0.5
             }
            },
            "type": "bar"
           }
          ],
          "barpolar": [
           {
            "marker": {
             "line": {
              "color": "#E5ECF6",
              "width": 0.5
             }
            },
            "type": "barpolar"
           }
          ],
          "carpet": [
           {
            "aaxis": {
             "endlinecolor": "#2a3f5f",
             "gridcolor": "white",
             "linecolor": "white",
             "minorgridcolor": "white",
             "startlinecolor": "#2a3f5f"
            },
            "baxis": {
             "endlinecolor": "#2a3f5f",
             "gridcolor": "white",
             "linecolor": "white",
             "minorgridcolor": "white",
             "startlinecolor": "#2a3f5f"
            },
            "type": "carpet"
           }
          ],
          "choropleth": [
           {
            "colorbar": {
             "outlinewidth": 0,
             "ticks": ""
            },
            "type": "choropleth"
           }
          ],
          "contour": [
           {
            "colorbar": {
             "outlinewidth": 0,
             "ticks": ""
            },
            "colorscale": [
             [
              0,
              "#0d0887"
             ],
             [
              0.1111111111111111,
              "#46039f"
             ],
             [
              0.2222222222222222,
              "#7201a8"
             ],
             [
              0.3333333333333333,
              "#9c179e"
             ],
             [
              0.4444444444444444,
              "#bd3786"
             ],
             [
              0.5555555555555556,
              "#d8576b"
             ],
             [
              0.6666666666666666,
              "#ed7953"
             ],
             [
              0.7777777777777778,
              "#fb9f3a"
             ],
             [
              0.8888888888888888,
              "#fdca26"
             ],
             [
              1,
              "#f0f921"
             ]
            ],
            "type": "contour"
           }
          ],
          "contourcarpet": [
           {
            "colorbar": {
             "outlinewidth": 0,
             "ticks": ""
            },
            "type": "contourcarpet"
           }
          ],
          "heatmap": [
           {
            "colorbar": {
             "outlinewidth": 0,
             "ticks": ""
            },
            "colorscale": [
             [
              0,
              "#0d0887"
             ],
             [
              0.1111111111111111,
              "#46039f"
             ],
             [
              0.2222222222222222,
              "#7201a8"
             ],
             [
              0.3333333333333333,
              "#9c179e"
             ],
             [
              0.4444444444444444,
              "#bd3786"
             ],
             [
              0.5555555555555556,
              "#d8576b"
             ],
             [
              0.6666666666666666,
              "#ed7953"
             ],
             [
              0.7777777777777778,
              "#fb9f3a"
             ],
             [
              0.8888888888888888,
              "#fdca26"
             ],
             [
              1,
              "#f0f921"
             ]
            ],
            "type": "heatmap"
           }
          ],
          "heatmapgl": [
           {
            "colorbar": {
             "outlinewidth": 0,
             "ticks": ""
            },
            "colorscale": [
             [
              0,
              "#0d0887"
             ],
             [
              0.1111111111111111,
              "#46039f"
             ],
             [
              0.2222222222222222,
              "#7201a8"
             ],
             [
              0.3333333333333333,
              "#9c179e"
             ],
             [
              0.4444444444444444,
              "#bd3786"
             ],
             [
              0.5555555555555556,
              "#d8576b"
             ],
             [
              0.6666666666666666,
              "#ed7953"
             ],
             [
              0.7777777777777778,
              "#fb9f3a"
             ],
             [
              0.8888888888888888,
              "#fdca26"
             ],
             [
              1,
              "#f0f921"
             ]
            ],
            "type": "heatmapgl"
           }
          ],
          "histogram": [
           {
            "marker": {
             "colorbar": {
              "outlinewidth": 0,
              "ticks": ""
             }
            },
            "type": "histogram"
           }
          ],
          "histogram2d": [
           {
            "colorbar": {
             "outlinewidth": 0,
             "ticks": ""
            },
            "colorscale": [
             [
              0,
              "#0d0887"
             ],
             [
              0.1111111111111111,
              "#46039f"
             ],
             [
              0.2222222222222222,
              "#7201a8"
             ],
             [
              0.3333333333333333,
              "#9c179e"
             ],
             [
              0.4444444444444444,
              "#bd3786"
             ],
             [
              0.5555555555555556,
              "#d8576b"
             ],
             [
              0.6666666666666666,
              "#ed7953"
             ],
             [
              0.7777777777777778,
              "#fb9f3a"
             ],
             [
              0.8888888888888888,
              "#fdca26"
             ],
             [
              1,
              "#f0f921"
             ]
            ],
            "type": "histogram2d"
           }
          ],
          "histogram2dcontour": [
           {
            "colorbar": {
             "outlinewidth": 0,
             "ticks": ""
            },
            "colorscale": [
             [
              0,
              "#0d0887"
             ],
             [
              0.1111111111111111,
              "#46039f"
             ],
             [
              0.2222222222222222,
              "#7201a8"
             ],
             [
              0.3333333333333333,
              "#9c179e"
             ],
             [
              0.4444444444444444,
              "#bd3786"
             ],
             [
              0.5555555555555556,
              "#d8576b"
             ],
             [
              0.6666666666666666,
              "#ed7953"
             ],
             [
              0.7777777777777778,
              "#fb9f3a"
             ],
             [
              0.8888888888888888,
              "#fdca26"
             ],
             [
              1,
              "#f0f921"
             ]
            ],
            "type": "histogram2dcontour"
           }
          ],
          "mesh3d": [
           {
            "colorbar": {
             "outlinewidth": 0,
             "ticks": ""
            },
            "type": "mesh3d"
           }
          ],
          "parcoords": [
           {
            "line": {
             "colorbar": {
              "outlinewidth": 0,
              "ticks": ""
             }
            },
            "type": "parcoords"
           }
          ],
          "pie": [
           {
            "automargin": true,
            "type": "pie"
           }
          ],
          "scatter": [
           {
            "marker": {
             "colorbar": {
              "outlinewidth": 0,
              "ticks": ""
             }
            },
            "type": "scatter"
           }
          ],
          "scatter3d": [
           {
            "line": {
             "colorbar": {
              "outlinewidth": 0,
              "ticks": ""
             }
            },
            "marker": {
             "colorbar": {
              "outlinewidth": 0,
              "ticks": ""
             }
            },
            "type": "scatter3d"
           }
          ],
          "scattercarpet": [
           {
            "marker": {
             "colorbar": {
              "outlinewidth": 0,
              "ticks": ""
             }
            },
            "type": "scattercarpet"
           }
          ],
          "scattergeo": [
           {
            "marker": {
             "colorbar": {
              "outlinewidth": 0,
              "ticks": ""
             }
            },
            "type": "scattergeo"
           }
          ],
          "scattergl": [
           {
            "marker": {
             "colorbar": {
              "outlinewidth": 0,
              "ticks": ""
             }
            },
            "type": "scattergl"
           }
          ],
          "scattermapbox": [
           {
            "marker": {
             "colorbar": {
              "outlinewidth": 0,
              "ticks": ""
             }
            },
            "type": "scattermapbox"
           }
          ],
          "scatterpolar": [
           {
            "marker": {
             "colorbar": {
              "outlinewidth": 0,
              "ticks": ""
             }
            },
            "type": "scatterpolar"
           }
          ],
          "scatterpolargl": [
           {
            "marker": {
             "colorbar": {
              "outlinewidth": 0,
              "ticks": ""
             }
            },
            "type": "scatterpolargl"
           }
          ],
          "scatterternary": [
           {
            "marker": {
             "colorbar": {
              "outlinewidth": 0,
              "ticks": ""
             }
            },
            "type": "scatterternary"
           }
          ],
          "surface": [
           {
            "colorbar": {
             "outlinewidth": 0,
             "ticks": ""
            },
            "colorscale": [
             [
              0,
              "#0d0887"
             ],
             [
              0.1111111111111111,
              "#46039f"
             ],
             [
              0.2222222222222222,
              "#7201a8"
             ],
             [
              0.3333333333333333,
              "#9c179e"
             ],
             [
              0.4444444444444444,
              "#bd3786"
             ],
             [
              0.5555555555555556,
              "#d8576b"
             ],
             [
              0.6666666666666666,
              "#ed7953"
             ],
             [
              0.7777777777777778,
              "#fb9f3a"
             ],
             [
              0.8888888888888888,
              "#fdca26"
             ],
             [
              1,
              "#f0f921"
             ]
            ],
            "type": "surface"
           }
          ],
          "table": [
           {
            "cells": {
             "fill": {
              "color": "#EBF0F8"
             },
             "line": {
              "color": "white"
             }
            },
            "header": {
             "fill": {
              "color": "#C8D4E3"
             },
             "line": {
              "color": "white"
             }
            },
            "type": "table"
           }
          ]
         },
         "layout": {
          "annotationdefaults": {
           "arrowcolor": "#2a3f5f",
           "arrowhead": 0,
           "arrowwidth": 1
          },
          "coloraxis": {
           "colorbar": {
            "outlinewidth": 0,
            "ticks": ""
           }
          },
          "colorscale": {
           "diverging": [
            [
             0,
             "#8e0152"
            ],
            [
             0.1,
             "#c51b7d"
            ],
            [
             0.2,
             "#de77ae"
            ],
            [
             0.3,
             "#f1b6da"
            ],
            [
             0.4,
             "#fde0ef"
            ],
            [
             0.5,
             "#f7f7f7"
            ],
            [
             0.6,
             "#e6f5d0"
            ],
            [
             0.7,
             "#b8e186"
            ],
            [
             0.8,
             "#7fbc41"
            ],
            [
             0.9,
             "#4d9221"
            ],
            [
             1,
             "#276419"
            ]
           ],
           "sequential": [
            [
             0,
             "#0d0887"
            ],
            [
             0.1111111111111111,
             "#46039f"
            ],
            [
             0.2222222222222222,
             "#7201a8"
            ],
            [
             0.3333333333333333,
             "#9c179e"
            ],
            [
             0.4444444444444444,
             "#bd3786"
            ],
            [
             0.5555555555555556,
             "#d8576b"
            ],
            [
             0.6666666666666666,
             "#ed7953"
            ],
            [
             0.7777777777777778,
             "#fb9f3a"
            ],
            [
             0.8888888888888888,
             "#fdca26"
            ],
            [
             1,
             "#f0f921"
            ]
           ],
           "sequentialminus": [
            [
             0,
             "#0d0887"
            ],
            [
             0.1111111111111111,
             "#46039f"
            ],
            [
             0.2222222222222222,
             "#7201a8"
            ],
            [
             0.3333333333333333,
             "#9c179e"
            ],
            [
             0.4444444444444444,
             "#bd3786"
            ],
            [
             0.5555555555555556,
             "#d8576b"
            ],
            [
             0.6666666666666666,
             "#ed7953"
            ],
            [
             0.7777777777777778,
             "#fb9f3a"
            ],
            [
             0.8888888888888888,
             "#fdca26"
            ],
            [
             1,
             "#f0f921"
            ]
           ]
          },
          "colorway": [
           "#636efa",
           "#EF553B",
           "#00cc96",
           "#ab63fa",
           "#FFA15A",
           "#19d3f3",
           "#FF6692",
           "#B6E880",
           "#FF97FF",
           "#FECB52"
          ],
          "font": {
           "color": "#2a3f5f"
          },
          "geo": {
           "bgcolor": "white",
           "lakecolor": "white",
           "landcolor": "#E5ECF6",
           "showlakes": true,
           "showland": true,
           "subunitcolor": "white"
          },
          "hoverlabel": {
           "align": "left"
          },
          "hovermode": "closest",
          "mapbox": {
           "style": "light"
          },
          "paper_bgcolor": "white",
          "plot_bgcolor": "#E5ECF6",
          "polar": {
           "angularaxis": {
            "gridcolor": "white",
            "linecolor": "white",
            "ticks": ""
           },
           "bgcolor": "#E5ECF6",
           "radialaxis": {
            "gridcolor": "white",
            "linecolor": "white",
            "ticks": ""
           }
          },
          "scene": {
           "xaxis": {
            "backgroundcolor": "#E5ECF6",
            "gridcolor": "white",
            "gridwidth": 2,
            "linecolor": "white",
            "showbackground": true,
            "ticks": "",
            "zerolinecolor": "white"
           },
           "yaxis": {
            "backgroundcolor": "#E5ECF6",
            "gridcolor": "white",
            "gridwidth": 2,
            "linecolor": "white",
            "showbackground": true,
            "ticks": "",
            "zerolinecolor": "white"
           },
           "zaxis": {
            "backgroundcolor": "#E5ECF6",
            "gridcolor": "white",
            "gridwidth": 2,
            "linecolor": "white",
            "showbackground": true,
            "ticks": "",
            "zerolinecolor": "white"
           }
          },
          "shapedefaults": {
           "line": {
            "color": "#2a3f5f"
           }
          },
          "ternary": {
           "aaxis": {
            "gridcolor": "white",
            "linecolor": "white",
            "ticks": ""
           },
           "baxis": {
            "gridcolor": "white",
            "linecolor": "white",
            "ticks": ""
           },
           "bgcolor": "#E5ECF6",
           "caxis": {
            "gridcolor": "white",
            "linecolor": "white",
            "ticks": ""
           }
          },
          "title": {
           "x": 0.05
          },
          "xaxis": {
           "automargin": true,
           "gridcolor": "white",
           "linecolor": "white",
           "ticks": "",
           "title": {
            "standoff": 15
           },
           "zerolinecolor": "white",
           "zerolinewidth": 2
          },
          "yaxis": {
           "automargin": true,
           "gridcolor": "white",
           "linecolor": "white",
           "ticks": "",
           "title": {
            "standoff": 15
           },
           "zerolinecolor": "white",
           "zerolinewidth": 2
          }
         }
        },
        "title": {
         "font": {
          "color": "#4D5663"
         }
        },
        "xaxis": {
         "gridcolor": "#E1E5ED",
         "showgrid": true,
         "tickfont": {
          "color": "#4D5663"
         },
         "title": {
          "font": {
           "color": "#4D5663"
          },
          "text": ""
         },
         "zerolinecolor": "#E1E5ED"
        },
        "yaxis": {
         "gridcolor": "#E1E5ED",
         "showgrid": true,
         "tickfont": {
          "color": "#4D5663"
         },
         "title": {
          "font": {
           "color": "#4D5663"
          },
          "text": ""
         },
         "zerolinecolor": "#E1E5ED"
        }
       }
      },
      "text/html": [
       "<div>\n",
       "        \n",
       "        \n",
       "            <div id=\"ee044e72-e640-458c-9502-ffb3e3360530\" class=\"plotly-graph-div\" style=\"height:525px; width:100%;\"></div>\n",
       "            <script type=\"text/javascript\">\n",
       "                require([\"plotly\"], function(Plotly) {\n",
       "                    window.PLOTLYENV=window.PLOTLYENV || {};\n",
       "                    window.PLOTLYENV.BASE_URL='https://plot.ly';\n",
       "                    \n",
       "                if (document.getElementById(\"ee044e72-e640-458c-9502-ffb3e3360530\")) {\n",
       "                    Plotly.newPlot(\n",
       "                        'ee044e72-e640-458c-9502-ffb3e3360530',\n",
       "                        [{\"marker\": {\"color\": \"rgba(255, 153, 51, 0.6)\", \"line\": {\"color\": \"rgba(255, 153, 51, 1.0)\", \"width\": 1}}, \"name\": \"YRHIGH\", \"orientation\": \"v\", \"text\": \"\", \"type\": \"bar\", \"x\": [\"IBM\", \"GOOG.O\", \"MSFT.O\"], \"y\": [158.75, 1586.99, 216.38]}, {\"marker\": {\"color\": \"rgba(55, 128, 191, 0.6)\", \"line\": {\"color\": \"rgba(55, 128, 191, 1.0)\", \"width\": 1}}, \"name\": \"YRLOW\", \"orientation\": \"v\", \"text\": \"\", \"type\": \"bar\", \"x\": [\"IBM\", \"GOOG.O\", \"MSFT.O\"], \"y\": [90.56, 1013.5361, 130.78]}],\n",
       "                        {\"legend\": {\"bgcolor\": \"#F5F6F9\", \"font\": {\"color\": \"#4D5663\"}}, \"paper_bgcolor\": \"#F5F6F9\", \"plot_bgcolor\": \"#F5F6F9\", \"template\": {\"data\": {\"bar\": [{\"error_x\": {\"color\": \"#2a3f5f\"}, \"error_y\": {\"color\": \"#2a3f5f\"}, \"marker\": {\"line\": {\"color\": \"#E5ECF6\", \"width\": 0.5}}, \"type\": \"bar\"}], \"barpolar\": [{\"marker\": {\"line\": {\"color\": \"#E5ECF6\", \"width\": 0.5}}, \"type\": \"barpolar\"}], \"carpet\": [{\"aaxis\": {\"endlinecolor\": \"#2a3f5f\", \"gridcolor\": \"white\", \"linecolor\": \"white\", \"minorgridcolor\": \"white\", \"startlinecolor\": \"#2a3f5f\"}, \"baxis\": {\"endlinecolor\": \"#2a3f5f\", \"gridcolor\": \"white\", \"linecolor\": \"white\", \"minorgridcolor\": \"white\", \"startlinecolor\": \"#2a3f5f\"}, \"type\": \"carpet\"}], \"choropleth\": [{\"colorbar\": {\"outlinewidth\": 0, \"ticks\": \"\"}, \"type\": \"choropleth\"}], \"contour\": [{\"colorbar\": {\"outlinewidth\": 0, \"ticks\": \"\"}, \"colorscale\": [[0.0, \"#0d0887\"], [0.1111111111111111, \"#46039f\"], [0.2222222222222222, \"#7201a8\"], [0.3333333333333333, \"#9c179e\"], [0.4444444444444444, \"#bd3786\"], [0.5555555555555556, \"#d8576b\"], [0.6666666666666666, \"#ed7953\"], [0.7777777777777778, \"#fb9f3a\"], [0.8888888888888888, \"#fdca26\"], [1.0, \"#f0f921\"]], \"type\": \"contour\"}], \"contourcarpet\": [{\"colorbar\": {\"outlinewidth\": 0, \"ticks\": \"\"}, \"type\": \"contourcarpet\"}], \"heatmap\": [{\"colorbar\": {\"outlinewidth\": 0, \"ticks\": \"\"}, \"colorscale\": [[0.0, \"#0d0887\"], [0.1111111111111111, \"#46039f\"], [0.2222222222222222, \"#7201a8\"], [0.3333333333333333, \"#9c179e\"], [0.4444444444444444, \"#bd3786\"], [0.5555555555555556, \"#d8576b\"], [0.6666666666666666, \"#ed7953\"], [0.7777777777777778, \"#fb9f3a\"], [0.8888888888888888, \"#fdca26\"], [1.0, \"#f0f921\"]], \"type\": \"heatmap\"}], \"heatmapgl\": [{\"colorbar\": {\"outlinewidth\": 0, \"ticks\": \"\"}, \"colorscale\": [[0.0, \"#0d0887\"], [0.1111111111111111, \"#46039f\"], [0.2222222222222222, \"#7201a8\"], [0.3333333333333333, \"#9c179e\"], [0.4444444444444444, \"#bd3786\"], [0.5555555555555556, \"#d8576b\"], [0.6666666666666666, \"#ed7953\"], [0.7777777777777778, \"#fb9f3a\"], [0.8888888888888888, \"#fdca26\"], [1.0, \"#f0f921\"]], \"type\": \"heatmapgl\"}], \"histogram\": [{\"marker\": {\"colorbar\": {\"outlinewidth\": 0, \"ticks\": \"\"}}, \"type\": \"histogram\"}], \"histogram2d\": [{\"colorbar\": {\"outlinewidth\": 0, \"ticks\": \"\"}, \"colorscale\": [[0.0, \"#0d0887\"], [0.1111111111111111, \"#46039f\"], [0.2222222222222222, \"#7201a8\"], [0.3333333333333333, \"#9c179e\"], [0.4444444444444444, \"#bd3786\"], [0.5555555555555556, \"#d8576b\"], [0.6666666666666666, \"#ed7953\"], [0.7777777777777778, \"#fb9f3a\"], [0.8888888888888888, \"#fdca26\"], [1.0, \"#f0f921\"]], \"type\": \"histogram2d\"}], \"histogram2dcontour\": [{\"colorbar\": {\"outlinewidth\": 0, \"ticks\": \"\"}, \"colorscale\": [[0.0, \"#0d0887\"], [0.1111111111111111, \"#46039f\"], [0.2222222222222222, \"#7201a8\"], [0.3333333333333333, \"#9c179e\"], [0.4444444444444444, \"#bd3786\"], [0.5555555555555556, \"#d8576b\"], [0.6666666666666666, \"#ed7953\"], [0.7777777777777778, \"#fb9f3a\"], [0.8888888888888888, \"#fdca26\"], [1.0, \"#f0f921\"]], \"type\": \"histogram2dcontour\"}], \"mesh3d\": [{\"colorbar\": {\"outlinewidth\": 0, \"ticks\": \"\"}, \"type\": \"mesh3d\"}], \"parcoords\": [{\"line\": {\"colorbar\": {\"outlinewidth\": 0, \"ticks\": \"\"}}, \"type\": \"parcoords\"}], \"pie\": [{\"automargin\": true, \"type\": \"pie\"}], \"scatter\": [{\"marker\": {\"colorbar\": {\"outlinewidth\": 0, \"ticks\": \"\"}}, \"type\": \"scatter\"}], \"scatter3d\": [{\"line\": {\"colorbar\": {\"outlinewidth\": 0, \"ticks\": \"\"}}, \"marker\": {\"colorbar\": {\"outlinewidth\": 0, \"ticks\": \"\"}}, \"type\": \"scatter3d\"}], \"scattercarpet\": [{\"marker\": {\"colorbar\": {\"outlinewidth\": 0, \"ticks\": \"\"}}, \"type\": \"scattercarpet\"}], \"scattergeo\": [{\"marker\": {\"colorbar\": {\"outlinewidth\": 0, \"ticks\": \"\"}}, \"type\": \"scattergeo\"}], \"scattergl\": [{\"marker\": {\"colorbar\": {\"outlinewidth\": 0, \"ticks\": \"\"}}, \"type\": \"scattergl\"}], \"scattermapbox\": [{\"marker\": {\"colorbar\": {\"outlinewidth\": 0, \"ticks\": \"\"}}, \"type\": \"scattermapbox\"}], \"scatterpolar\": [{\"marker\": {\"colorbar\": {\"outlinewidth\": 0, \"ticks\": \"\"}}, \"type\": \"scatterpolar\"}], \"scatterpolargl\": [{\"marker\": {\"colorbar\": {\"outlinewidth\": 0, \"ticks\": \"\"}}, \"type\": \"scatterpolargl\"}], \"scatterternary\": [{\"marker\": {\"colorbar\": {\"outlinewidth\": 0, \"ticks\": \"\"}}, \"type\": \"scatterternary\"}], \"surface\": [{\"colorbar\": {\"outlinewidth\": 0, \"ticks\": \"\"}, \"colorscale\": [[0.0, \"#0d0887\"], [0.1111111111111111, \"#46039f\"], [0.2222222222222222, \"#7201a8\"], [0.3333333333333333, \"#9c179e\"], [0.4444444444444444, \"#bd3786\"], [0.5555555555555556, \"#d8576b\"], [0.6666666666666666, \"#ed7953\"], [0.7777777777777778, \"#fb9f3a\"], [0.8888888888888888, \"#fdca26\"], [1.0, \"#f0f921\"]], \"type\": \"surface\"}], \"table\": [{\"cells\": {\"fill\": {\"color\": \"#EBF0F8\"}, \"line\": {\"color\": \"white\"}}, \"header\": {\"fill\": {\"color\": \"#C8D4E3\"}, \"line\": {\"color\": \"white\"}}, \"type\": \"table\"}]}, \"layout\": {\"annotationdefaults\": {\"arrowcolor\": \"#2a3f5f\", \"arrowhead\": 0, \"arrowwidth\": 1}, \"coloraxis\": {\"colorbar\": {\"outlinewidth\": 0, \"ticks\": \"\"}}, \"colorscale\": {\"diverging\": [[0, \"#8e0152\"], [0.1, \"#c51b7d\"], [0.2, \"#de77ae\"], [0.3, \"#f1b6da\"], [0.4, \"#fde0ef\"], [0.5, \"#f7f7f7\"], [0.6, \"#e6f5d0\"], [0.7, \"#b8e186\"], [0.8, \"#7fbc41\"], [0.9, \"#4d9221\"], [1, \"#276419\"]], \"sequential\": [[0.0, \"#0d0887\"], [0.1111111111111111, \"#46039f\"], [0.2222222222222222, \"#7201a8\"], [0.3333333333333333, \"#9c179e\"], [0.4444444444444444, \"#bd3786\"], [0.5555555555555556, \"#d8576b\"], [0.6666666666666666, \"#ed7953\"], [0.7777777777777778, \"#fb9f3a\"], [0.8888888888888888, \"#fdca26\"], [1.0, \"#f0f921\"]], \"sequentialminus\": [[0.0, \"#0d0887\"], [0.1111111111111111, \"#46039f\"], [0.2222222222222222, \"#7201a8\"], [0.3333333333333333, \"#9c179e\"], [0.4444444444444444, \"#bd3786\"], [0.5555555555555556, \"#d8576b\"], [0.6666666666666666, \"#ed7953\"], [0.7777777777777778, \"#fb9f3a\"], [0.8888888888888888, \"#fdca26\"], [1.0, \"#f0f921\"]]}, \"colorway\": [\"#636efa\", \"#EF553B\", \"#00cc96\", \"#ab63fa\", \"#FFA15A\", \"#19d3f3\", \"#FF6692\", \"#B6E880\", \"#FF97FF\", \"#FECB52\"], \"font\": {\"color\": \"#2a3f5f\"}, \"geo\": {\"bgcolor\": \"white\", \"lakecolor\": \"white\", \"landcolor\": \"#E5ECF6\", \"showlakes\": true, \"showland\": true, \"subunitcolor\": \"white\"}, \"hoverlabel\": {\"align\": \"left\"}, \"hovermode\": \"closest\", \"mapbox\": {\"style\": \"light\"}, \"paper_bgcolor\": \"white\", \"plot_bgcolor\": \"#E5ECF6\", \"polar\": {\"angularaxis\": {\"gridcolor\": \"white\", \"linecolor\": \"white\", \"ticks\": \"\"}, \"bgcolor\": \"#E5ECF6\", \"radialaxis\": {\"gridcolor\": \"white\", \"linecolor\": \"white\", \"ticks\": \"\"}}, \"scene\": {\"xaxis\": {\"backgroundcolor\": \"#E5ECF6\", \"gridcolor\": \"white\", \"gridwidth\": 2, \"linecolor\": \"white\", \"showbackground\": true, \"ticks\": \"\", \"zerolinecolor\": \"white\"}, \"yaxis\": {\"backgroundcolor\": \"#E5ECF6\", \"gridcolor\": \"white\", \"gridwidth\": 2, \"linecolor\": \"white\", \"showbackground\": true, \"ticks\": \"\", \"zerolinecolor\": \"white\"}, \"zaxis\": {\"backgroundcolor\": \"#E5ECF6\", \"gridcolor\": \"white\", \"gridwidth\": 2, \"linecolor\": \"white\", \"showbackground\": true, \"ticks\": \"\", \"zerolinecolor\": \"white\"}}, \"shapedefaults\": {\"line\": {\"color\": \"#2a3f5f\"}}, \"ternary\": {\"aaxis\": {\"gridcolor\": \"white\", \"linecolor\": \"white\", \"ticks\": \"\"}, \"baxis\": {\"gridcolor\": \"white\", \"linecolor\": \"white\", \"ticks\": \"\"}, \"bgcolor\": \"#E5ECF6\", \"caxis\": {\"gridcolor\": \"white\", \"linecolor\": \"white\", \"ticks\": \"\"}}, \"title\": {\"x\": 0.05}, \"xaxis\": {\"automargin\": true, \"gridcolor\": \"white\", \"linecolor\": \"white\", \"ticks\": \"\", \"title\": {\"standoff\": 15}, \"zerolinecolor\": \"white\", \"zerolinewidth\": 2}, \"yaxis\": {\"automargin\": true, \"gridcolor\": \"white\", \"linecolor\": \"white\", \"ticks\": \"\", \"title\": {\"standoff\": 15}, \"zerolinecolor\": \"white\", \"zerolinewidth\": 2}}}, \"title\": {\"font\": {\"color\": \"#4D5663\"}}, \"xaxis\": {\"gridcolor\": \"#E1E5ED\", \"showgrid\": true, \"tickfont\": {\"color\": \"#4D5663\"}, \"title\": {\"font\": {\"color\": \"#4D5663\"}, \"text\": \"\"}, \"zerolinecolor\": \"#E1E5ED\"}, \"yaxis\": {\"gridcolor\": \"#E1E5ED\", \"showgrid\": true, \"tickfont\": {\"color\": \"#4D5663\"}, \"title\": {\"font\": {\"color\": \"#4D5663\"}, \"text\": \"\"}, \"zerolinecolor\": \"#E1E5ED\"}},\n",
       "                        {\"showLink\": true, \"linkText\": \"Export to plot.ly\", \"plotlyServerURL\": \"https://plot.ly\", \"responsive\": true}\n",
       "                    ).then(function(){\n",
       "                            \n",
       "var gd = document.getElementById('ee044e72-e640-458c-9502-ffb3e3360530');\n",
       "var x = new MutationObserver(function (mutations, observer) {{\n",
       "        var display = window.getComputedStyle(gd).display;\n",
       "        if (!display || display === 'none') {{\n",
       "            console.log([gd, 'removed!']);\n",
       "            Plotly.purge(gd);\n",
       "            observer.disconnect();\n",
       "        }}\n",
       "}});\n",
       "\n",
       "// Listen for the removal of the full notebook cells\n",
       "var notebookContainer = gd.closest('#notebook-container');\n",
       "if (notebookContainer) {{\n",
       "    x.observe(notebookContainer, {childList: true});\n",
       "}}\n",
       "\n",
       "// Listen for the clearing of the current output cell\n",
       "var outputEl = gd.closest('.output');\n",
       "if (outputEl) {{\n",
       "    x.observe(outputEl, {childList: true});\n",
       "}}\n",
       "\n",
       "                        })\n",
       "                };\n",
       "                });\n",
       "            </script>\n",
       "        </div>"
      ]
     },
     "metadata": {},
     "output_type": "display_data"
    }
   ],
   "source": [
    "data_grid.set_index('Instrument')[['YRHIGH', 'YRLOW']].iplot(kind='bar')"
   ]
  },
  {
   "cell_type": "markdown",
   "metadata": {},
   "source": [
    "# ek.get_timeseries()\n",
    "The function ek.get_timeseries() retrieves time series data."
   ]
  },
  {
   "cell_type": "code",
   "execution_count": 32,
   "metadata": {},
   "outputs": [
    {
     "name": "stderr",
     "output_type": "stream",
     "text": [
      "C:\\Users\\Admin\\anaconda3\\lib\\site-packages\\eikon\\time_series.py:282: FutureWarning:\n",
      "\n",
      "The pandas.np module is deprecated and will be removed from pandas in a future version. Import numpy directly instead\n",
      "\n",
      "C:\\Users\\Admin\\anaconda3\\lib\\site-packages\\eikon\\time_series.py:284: FutureWarning:\n",
      "\n",
      "The pandas.np module is deprecated and will be removed from pandas in a future version. Import numpy directly instead\n",
      "\n",
      "C:\\Users\\Admin\\anaconda3\\lib\\site-packages\\eikon\\time_series.py:286: FutureWarning:\n",
      "\n",
      "The pandas.np module is deprecated and will be removed from pandas in a future version. Import numpy directly instead\n",
      "\n",
      "C:\\Users\\Admin\\anaconda3\\lib\\site-packages\\eikon\\time_series.py:209: FutureWarning:\n",
      "\n",
      "The pandas.np module is deprecated and will be removed from pandas in a future version. Import numpy directly instead\n",
      "\n"
     ]
    }
   ],
   "source": [
    "data = ek.get_timeseries(rics,\n",
    "                         start_date='2017-01-01',\n",
    "                         fields='CLOSE',\n",
    "                         interval='daily'\n",
    "                        )"
   ]
  },
  {
   "cell_type": "code",
   "execution_count": 33,
   "metadata": {
    "scrolled": true
   },
   "outputs": [
    {
     "data": {
      "text/html": [
       "<div>\n",
       "<style scoped>\n",
       "    .dataframe tbody tr th:only-of-type {\n",
       "        vertical-align: middle;\n",
       "    }\n",
       "\n",
       "    .dataframe tbody tr th {\n",
       "        vertical-align: top;\n",
       "    }\n",
       "\n",
       "    .dataframe thead th {\n",
       "        text-align: right;\n",
       "    }\n",
       "</style>\n",
       "<table border=\"1\" class=\"dataframe\">\n",
       "  <thead>\n",
       "    <tr style=\"text-align: right;\">\n",
       "      <th>CLOSE</th>\n",
       "      <th>AAPL.O</th>\n",
       "      <th>AMZN.O</th>\n",
       "      <th>TSLA.O</th>\n",
       "      <th>.SPX</th>\n",
       "    </tr>\n",
       "    <tr>\n",
       "      <th>Date</th>\n",
       "      <th></th>\n",
       "      <th></th>\n",
       "      <th></th>\n",
       "      <th></th>\n",
       "    </tr>\n",
       "  </thead>\n",
       "  <tbody>\n",
       "    <tr>\n",
       "      <th>2017-08-09</th>\n",
       "      <td>161.06</td>\n",
       "      <td>982.01</td>\n",
       "      <td>363.53</td>\n",
       "      <td>2474.02</td>\n",
       "    </tr>\n",
       "    <tr>\n",
       "      <th>2017-08-10</th>\n",
       "      <td>155.32</td>\n",
       "      <td>956.92</td>\n",
       "      <td>355.40</td>\n",
       "      <td>2438.21</td>\n",
       "    </tr>\n",
       "    <tr>\n",
       "      <th>2017-08-11</th>\n",
       "      <td>157.48</td>\n",
       "      <td>967.99</td>\n",
       "      <td>357.87</td>\n",
       "      <td>2441.32</td>\n",
       "    </tr>\n",
       "    <tr>\n",
       "      <th>2017-08-14</th>\n",
       "      <td>159.85</td>\n",
       "      <td>983.30</td>\n",
       "      <td>363.80</td>\n",
       "      <td>2465.84</td>\n",
       "    </tr>\n",
       "    <tr>\n",
       "      <th>2017-08-15</th>\n",
       "      <td>161.60</td>\n",
       "      <td>982.74</td>\n",
       "      <td>362.33</td>\n",
       "      <td>2464.61</td>\n",
       "    </tr>\n",
       "  </tbody>\n",
       "</table>\n",
       "</div>"
      ],
      "text/plain": [
       "CLOSE       AAPL.O  AMZN.O  TSLA.O     .SPX\n",
       "Date                                       \n",
       "2017-08-09  161.06  982.01  363.53  2474.02\n",
       "2017-08-10  155.32  956.92  355.40  2438.21\n",
       "2017-08-11  157.48  967.99  357.87  2441.32\n",
       "2017-08-14  159.85  983.30  363.80  2465.84\n",
       "2017-08-15  161.60  982.74  362.33  2464.61"
      ]
     },
     "execution_count": 33,
     "metadata": {},
     "output_type": "execute_result"
    }
   ],
   "source": [
    "data.head()\n"
   ]
  },
  {
   "cell_type": "code",
   "execution_count": 34,
   "metadata": {},
   "outputs": [
    {
     "data": {
      "application/vnd.plotly.v1+json": {
       "config": {
        "linkText": "Export to plot.ly",
        "plotlyServerURL": "https://plot.ly",
        "showLink": true
       },
       "data": [
        {
         "line": {
          "color": "rgba(255, 153, 51, 1.0)",
          "dash": "solid",
          "shape": "linear",
          "width": 1.3
         },
         "mode": "lines",
         "name": "AAPL.O",
         "text": "",
         "type": "scatter",
         "x": [
          "2017-08-09",
          "2017-08-10",
          "2017-08-11",
          "2017-08-14",
          "2017-08-15",
          "2017-08-16",
          "2017-08-17",
          "2017-08-18",
          "2017-08-21",
          "2017-08-22",
          "2017-08-23",
          "2017-08-24",
          "2017-08-25",
          "2017-08-28",
          "2017-08-29",
          "2017-08-30",
          "2017-08-31",
          "2017-09-01",
          "2017-09-05",
          "2017-09-06",
          "2017-09-07",
          "2017-09-08",
          "2017-09-11",
          "2017-09-12",
          "2017-09-13",
          "2017-09-14",
          "2017-09-15",
          "2017-09-18",
          "2017-09-19",
          "2017-09-20",
          "2017-09-21",
          "2017-09-22",
          "2017-09-25",
          "2017-09-26",
          "2017-09-27",
          "2017-09-28",
          "2017-09-29",
          "2017-10-02",
          "2017-10-03",
          "2017-10-04",
          "2017-10-05",
          "2017-10-06",
          "2017-10-09",
          "2017-10-10",
          "2017-10-11",
          "2017-10-12",
          "2017-10-13",
          "2017-10-16",
          "2017-10-17",
          "2017-10-18",
          "2017-10-19",
          "2017-10-20",
          "2017-10-23",
          "2017-10-24",
          "2017-10-25",
          "2017-10-26",
          "2017-10-27",
          "2017-10-30",
          "2017-10-31",
          "2017-11-01",
          "2017-11-02",
          "2017-11-03",
          "2017-11-06",
          "2017-11-07",
          "2017-11-08",
          "2017-11-09",
          "2017-11-10",
          "2017-11-13",
          "2017-11-14",
          "2017-11-15",
          "2017-11-16",
          "2017-11-17",
          "2017-11-20",
          "2017-11-21",
          "2017-11-22",
          "2017-11-24",
          "2017-11-27",
          "2017-11-28",
          "2017-11-29",
          "2017-11-30",
          "2017-12-01",
          "2017-12-04",
          "2017-12-05",
          "2017-12-06",
          "2017-12-07",
          "2017-12-08",
          "2017-12-11",
          "2017-12-12",
          "2017-12-13",
          "2017-12-14",
          "2017-12-15",
          "2017-12-18",
          "2017-12-19",
          "2017-12-20",
          "2017-12-21",
          "2017-12-22",
          "2017-12-26",
          "2017-12-27",
          "2017-12-28",
          "2017-12-29",
          "2018-01-02",
          "2018-01-03",
          "2018-01-04",
          "2018-01-05",
          "2018-01-08",
          "2018-01-09",
          "2018-01-10",
          "2018-01-11",
          "2018-01-12",
          "2018-01-16",
          "2018-01-17",
          "2018-01-18",
          "2018-01-19",
          "2018-01-22",
          "2018-01-23",
          "2018-01-24",
          "2018-01-25",
          "2018-01-26",
          "2018-01-29",
          "2018-01-30",
          "2018-01-31",
          "2018-02-01",
          "2018-02-02",
          "2018-02-05",
          "2018-02-06",
          "2018-02-07",
          "2018-02-08",
          "2018-02-09",
          "2018-02-12",
          "2018-02-13",
          "2018-02-14",
          "2018-02-15",
          "2018-02-16",
          "2018-02-20",
          "2018-02-21",
          "2018-02-22",
          "2018-02-23",
          "2018-02-26",
          "2018-02-27",
          "2018-02-28",
          "2018-03-01",
          "2018-03-02",
          "2018-03-05",
          "2018-03-06",
          "2018-03-07",
          "2018-03-08",
          "2018-03-09",
          "2018-03-12",
          "2018-03-13",
          "2018-03-14",
          "2018-03-15",
          "2018-03-16",
          "2018-03-19",
          "2018-03-20",
          "2018-03-21",
          "2018-03-22",
          "2018-03-23",
          "2018-03-26",
          "2018-03-27",
          "2018-03-28",
          "2018-03-29",
          "2018-04-02",
          "2018-04-03",
          "2018-04-04",
          "2018-04-05",
          "2018-04-06",
          "2018-04-09",
          "2018-04-10",
          "2018-04-11",
          "2018-04-12",
          "2018-04-13",
          "2018-04-16",
          "2018-04-17",
          "2018-04-18",
          "2018-04-19",
          "2018-04-20",
          "2018-04-23",
          "2018-04-24",
          "2018-04-25",
          "2018-04-26",
          "2018-04-27",
          "2018-04-30",
          "2018-05-01",
          "2018-05-02",
          "2018-05-03",
          "2018-05-04",
          "2018-05-07",
          "2018-05-08",
          "2018-05-09",
          "2018-05-10",
          "2018-05-11",
          "2018-05-14",
          "2018-05-15",
          "2018-05-16",
          "2018-05-17",
          "2018-05-18",
          "2018-05-21",
          "2018-05-22",
          "2018-05-23",
          "2018-05-24",
          "2018-05-25",
          "2018-05-29",
          "2018-05-30",
          "2018-05-31",
          "2018-06-01",
          "2018-06-04",
          "2018-06-05",
          "2018-06-06",
          "2018-06-07",
          "2018-06-08",
          "2018-06-11",
          "2018-06-12",
          "2018-06-13",
          "2018-06-14",
          "2018-06-15",
          "2018-06-18",
          "2018-06-19",
          "2018-06-20",
          "2018-06-21",
          "2018-06-22",
          "2018-06-25",
          "2018-06-26",
          "2018-06-27",
          "2018-06-28",
          "2018-06-29",
          "2018-07-02",
          "2018-07-03",
          "2018-07-05",
          "2018-07-06",
          "2018-07-09",
          "2018-07-10",
          "2018-07-11",
          "2018-07-12",
          "2018-07-13",
          "2018-07-16",
          "2018-07-17",
          "2018-07-18",
          "2018-07-19",
          "2018-07-20",
          "2018-07-23",
          "2018-07-24",
          "2018-07-25",
          "2018-07-26",
          "2018-07-27",
          "2018-07-30",
          "2018-07-31",
          "2018-08-01",
          "2018-08-02",
          "2018-08-03",
          "2018-08-06",
          "2018-08-07",
          "2018-08-08",
          "2018-08-09",
          "2018-08-10",
          "2018-08-13",
          "2018-08-14",
          "2018-08-15",
          "2018-08-16",
          "2018-08-17",
          "2018-08-20",
          "2018-08-21",
          "2018-08-22",
          "2018-08-23",
          "2018-08-24",
          "2018-08-27",
          "2018-08-28",
          "2018-08-29",
          "2018-08-30",
          "2018-08-31",
          "2018-09-04",
          "2018-09-05",
          "2018-09-06",
          "2018-09-07",
          "2018-09-10",
          "2018-09-11",
          "2018-09-12",
          "2018-09-13",
          "2018-09-14",
          "2018-09-17",
          "2018-09-18",
          "2018-09-19",
          "2018-09-20",
          "2018-09-21",
          "2018-09-24",
          "2018-09-25",
          "2018-09-26",
          "2018-09-27",
          "2018-09-28",
          "2018-10-01",
          "2018-10-02",
          "2018-10-03",
          "2018-10-04",
          "2018-10-05",
          "2018-10-08",
          "2018-10-09",
          "2018-10-10",
          "2018-10-11",
          "2018-10-12",
          "2018-10-15",
          "2018-10-16",
          "2018-10-17",
          "2018-10-18",
          "2018-10-19",
          "2018-10-22",
          "2018-10-23",
          "2018-10-24",
          "2018-10-25",
          "2018-10-26",
          "2018-10-29",
          "2018-10-30",
          "2018-10-31",
          "2018-11-01",
          "2018-11-02",
          "2018-11-05",
          "2018-11-06",
          "2018-11-07",
          "2018-11-08",
          "2018-11-09",
          "2018-11-12",
          "2018-11-13",
          "2018-11-14",
          "2018-11-15",
          "2018-11-16",
          "2018-11-19",
          "2018-11-20",
          "2018-11-21",
          "2018-11-23",
          "2018-11-26",
          "2018-11-27",
          "2018-11-28",
          "2018-11-29",
          "2018-11-30",
          "2018-12-03",
          "2018-12-04",
          "2018-12-06",
          "2018-12-07",
          "2018-12-10",
          "2018-12-11",
          "2018-12-12",
          "2018-12-13",
          "2018-12-14",
          "2018-12-17",
          "2018-12-18",
          "2018-12-19",
          "2018-12-20",
          "2018-12-21",
          "2018-12-24",
          "2018-12-26",
          "2018-12-27",
          "2018-12-28",
          "2018-12-31",
          "2019-01-02",
          "2019-01-03",
          "2019-01-04",
          "2019-01-07",
          "2019-01-08",
          "2019-01-09",
          "2019-01-10",
          "2019-01-11",
          "2019-01-14",
          "2019-01-15",
          "2019-01-16",
          "2019-01-17",
          "2019-01-18",
          "2019-01-22",
          "2019-01-23",
          "2019-01-24",
          "2019-01-25",
          "2019-01-28",
          "2019-01-29",
          "2019-01-30",
          "2019-01-31",
          "2019-02-01",
          "2019-02-04",
          "2019-02-05",
          "2019-02-06",
          "2019-02-07",
          "2019-02-08",
          "2019-02-11",
          "2019-02-12",
          "2019-02-13",
          "2019-02-14",
          "2019-02-15",
          "2019-02-19",
          "2019-02-20",
          "2019-02-21",
          "2019-02-22",
          "2019-02-25",
          "2019-02-26",
          "2019-02-27",
          "2019-02-28",
          "2019-03-01",
          "2019-03-04",
          "2019-03-05",
          "2019-03-06",
          "2019-03-07",
          "2019-03-08",
          "2019-03-11",
          "2019-03-12",
          "2019-03-13",
          "2019-03-14",
          "2019-03-15",
          "2019-03-18",
          "2019-03-19",
          "2019-03-20",
          "2019-03-21",
          "2019-03-22",
          "2019-03-25",
          "2019-03-26",
          "2019-03-27",
          "2019-03-28",
          "2019-03-29",
          "2019-04-01",
          "2019-04-02",
          "2019-04-03",
          "2019-04-04",
          "2019-04-05",
          "2019-04-08",
          "2019-04-09",
          "2019-04-10",
          "2019-04-11",
          "2019-04-12",
          "2019-04-15",
          "2019-04-16",
          "2019-04-17",
          "2019-04-18",
          "2019-04-22",
          "2019-04-23",
          "2019-04-24",
          "2019-04-25",
          "2019-04-26",
          "2019-04-29",
          "2019-04-30",
          "2019-05-01",
          "2019-05-02",
          "2019-05-03",
          "2019-05-06",
          "2019-05-07",
          "2019-05-08",
          "2019-05-09",
          "2019-05-10",
          "2019-05-13",
          "2019-05-14",
          "2019-05-15",
          "2019-05-16",
          "2019-05-17",
          "2019-05-20",
          "2019-05-21",
          "2019-05-22",
          "2019-05-23",
          "2019-05-24",
          "2019-05-28",
          "2019-05-29",
          "2019-05-30",
          "2019-05-31",
          "2019-06-03",
          "2019-06-04",
          "2019-06-05",
          "2019-06-06",
          "2019-06-07",
          "2019-06-10",
          "2019-06-11",
          "2019-06-12",
          "2019-06-13",
          "2019-06-14",
          "2019-06-17",
          "2019-06-18",
          "2019-06-19",
          "2019-06-20",
          "2019-06-21",
          "2019-06-24",
          "2019-06-25",
          "2019-06-26",
          "2019-06-27",
          "2019-06-28",
          "2019-07-01",
          "2019-07-02",
          "2019-07-03",
          "2019-07-05",
          "2019-07-08",
          "2019-07-09",
          "2019-07-10",
          "2019-07-11",
          "2019-07-12",
          "2019-07-15",
          "2019-07-16",
          "2019-07-17",
          "2019-07-18",
          "2019-07-19",
          "2019-07-22",
          "2019-07-23",
          "2019-07-24",
          "2019-07-25",
          "2019-07-26",
          "2019-07-29",
          "2019-07-30",
          "2019-07-31",
          "2019-08-01",
          "2019-08-02",
          "2019-08-05",
          "2019-08-06",
          "2019-08-07",
          "2019-08-08",
          "2019-08-09",
          "2019-08-12",
          "2019-08-13",
          "2019-08-14",
          "2019-08-15",
          "2019-08-16",
          "2019-08-19",
          "2019-08-20",
          "2019-08-21",
          "2019-08-22",
          "2019-08-23",
          "2019-08-26",
          "2019-08-27",
          "2019-08-28",
          "2019-08-29",
          "2019-08-30",
          "2019-09-03",
          "2019-09-04",
          "2019-09-05",
          "2019-09-06",
          "2019-09-09",
          "2019-09-10",
          "2019-09-11",
          "2019-09-12",
          "2019-09-13",
          "2019-09-16",
          "2019-09-17",
          "2019-09-18",
          "2019-09-19",
          "2019-09-20",
          "2019-09-23",
          "2019-09-24",
          "2019-09-25",
          "2019-09-26",
          "2019-09-27",
          "2019-09-30",
          "2019-10-01",
          "2019-10-02",
          "2019-10-03",
          "2019-10-04",
          "2019-10-07",
          "2019-10-08",
          "2019-10-09",
          "2019-10-10",
          "2019-10-11",
          "2019-10-14",
          "2019-10-15",
          "2019-10-16",
          "2019-10-17",
          "2019-10-18",
          "2019-10-21",
          "2019-10-22",
          "2019-10-23",
          "2019-10-24",
          "2019-10-25",
          "2019-10-28",
          "2019-10-29",
          "2019-10-30",
          "2019-10-31",
          "2019-11-01",
          "2019-11-04",
          "2019-11-05",
          "2019-11-06",
          "2019-11-07",
          "2019-11-08",
          "2019-11-11",
          "2019-11-12",
          "2019-11-13",
          "2019-11-14",
          "2019-11-15",
          "2019-11-18",
          "2019-11-19",
          "2019-11-20",
          "2019-11-21",
          "2019-11-22",
          "2019-11-25",
          "2019-11-26",
          "2019-11-27",
          "2019-11-29",
          "2019-12-02",
          "2019-12-03",
          "2019-12-04",
          "2019-12-05",
          "2019-12-06",
          "2019-12-09",
          "2019-12-10",
          "2019-12-11",
          "2019-12-12",
          "2019-12-13",
          "2019-12-16",
          "2019-12-17",
          "2019-12-18",
          "2019-12-19",
          "2019-12-20",
          "2019-12-23",
          "2019-12-24",
          "2019-12-26",
          "2019-12-27",
          "2019-12-30",
          "2019-12-31",
          "2020-01-02",
          "2020-01-03",
          "2020-01-06",
          "2020-01-07",
          "2020-01-08",
          "2020-01-09",
          "2020-01-10",
          "2020-01-13",
          "2020-01-14",
          "2020-01-15",
          "2020-01-16",
          "2020-01-17",
          "2020-01-21",
          "2020-01-22",
          "2020-01-23",
          "2020-01-24",
          "2020-01-27",
          "2020-01-28",
          "2020-01-29",
          "2020-01-30",
          "2020-01-31",
          "2020-02-03",
          "2020-02-04",
          "2020-02-05",
          "2020-02-06",
          "2020-02-07",
          "2020-02-10",
          "2020-02-11",
          "2020-02-12",
          "2020-02-13",
          "2020-02-14",
          "2020-02-18",
          "2020-02-19",
          "2020-02-20",
          "2020-02-21",
          "2020-02-24",
          "2020-02-25",
          "2020-02-26",
          "2020-02-27",
          "2020-02-28",
          "2020-03-02",
          "2020-03-03",
          "2020-03-04",
          "2020-03-05",
          "2020-03-06",
          "2020-03-09",
          "2020-03-10",
          "2020-03-11",
          "2020-03-12",
          "2020-03-13",
          "2020-03-16",
          "2020-03-17",
          "2020-03-18",
          "2020-03-19",
          "2020-03-20",
          "2020-03-23",
          "2020-03-24",
          "2020-03-25",
          "2020-03-26",
          "2020-03-27",
          "2020-03-30",
          "2020-03-31",
          "2020-04-01",
          "2020-04-02",
          "2020-04-03",
          "2020-04-06",
          "2020-04-07",
          "2020-04-08",
          "2020-04-09",
          "2020-04-13",
          "2020-04-14",
          "2020-04-15",
          "2020-04-16",
          "2020-04-17",
          "2020-04-20",
          "2020-04-21",
          "2020-04-22",
          "2020-04-23",
          "2020-04-24",
          "2020-04-27",
          "2020-04-28",
          "2020-04-29",
          "2020-04-30",
          "2020-05-01",
          "2020-05-04",
          "2020-05-05",
          "2020-05-06",
          "2020-05-07",
          "2020-05-08",
          "2020-05-11",
          "2020-05-12",
          "2020-05-13",
          "2020-05-14",
          "2020-05-15",
          "2020-05-18",
          "2020-05-19",
          "2020-05-20",
          "2020-05-21",
          "2020-05-22",
          "2020-05-26",
          "2020-05-27",
          "2020-05-28",
          "2020-05-29",
          "2020-06-01",
          "2020-06-02",
          "2020-06-03",
          "2020-06-04",
          "2020-06-05",
          "2020-06-08",
          "2020-06-09",
          "2020-06-10",
          "2020-06-11",
          "2020-06-12",
          "2020-06-15",
          "2020-06-16",
          "2020-06-17",
          "2020-06-18",
          "2020-06-19",
          "2020-06-22",
          "2020-06-23",
          "2020-06-24",
          "2020-06-25",
          "2020-06-26",
          "2020-06-29",
          "2020-06-30",
          "2020-07-01",
          "2020-07-02",
          "2020-07-06",
          "2020-07-07",
          "2020-07-08",
          "2020-07-09",
          "2020-07-10",
          "2020-07-13",
          "2020-07-14",
          "2020-07-15",
          "2020-07-16",
          "2020-07-17",
          "2020-07-20",
          "2020-07-21",
          "2020-07-22",
          "2020-07-23",
          "2020-07-24",
          "2020-07-27",
          "2020-07-28",
          "2020-07-29",
          "2020-07-30",
          "2020-07-31"
         ],
         "y": [
          100,
          96.43611076617408,
          97.77722587855456,
          99.24872718241649,
          100.33527877809512,
          99.93170247112876,
          98.01316279647338,
          97.78964361107661,
          97.60958648950702,
          99.20526511858935,
          99.32944244380975,
          98.8886129392773,
          99.25493604867752,
          100.25456351670185,
          101.14864025828882,
          101.42183037377374,
          101.82540668074009,
          101.85645101204521,
          100.63330435862412,
          100.52775363218676,
          100.12417732522042,
          98.49124549857196,
          100.2731901154849,
          99.87582267477958,
          99.12454985719607,
          98.27393517943624,
          99.26735378119955,
          98.51608096361603,
          98.55333416118216,
          96.90177573575065,
          95.23779957779709,
          94.30646963864397,
          93.47448155966721,
          95.08257792127156,
          95.75934434372283,
          95.16950204892586,
          95.6910468148516,
          95.49857196075997,
          95.91456600024834,
          95.29367937414628,
          96.47957283000123,
          96.42369303365206,
          96.75897181174717,
          96.7962250093133,
          97.19980131627966,
          96.8583136719235,
          97.47299143176457,
          99.26735378119955,
          99.63367689059977,
          99.1928473860673,
          96.84589593940146,
          97.01353532844902,
          96.96386439836085,
          97.54128896063578,
          97.11287718862536,
          97.73376381472742,
          101.23556438594312,
          103.51421830373772,
          104.95467527629454,
          103.61976903017509,
          104.37725071401962,
          107.10294300260772,
          108.18949459828634,
          108.53719110890351,
          109.42505898422948,
          109.20153979883274,
          108.45026698124923,
          108.01564634297777,
          106.38271451632933,
          104.97951074133864,
          106.23370172606481,
          105.64385943126786,
          105.5383087048305,
          107.50031044331305,
          108.63032410281883,
          108.63653296907985,
          108.09015273811002,
          107.4568483794859,
          105.22786539177946,
          106.69936669564137,
          106.20265739475971,
          105.42654911213214,
          105.32720725195578,
          104.93604867751148,
          105.12852353160311,
          105.15956786290823,
          107.20849372904506,
          106.60623370172605,
          106.96013907860424,
          106.92909474729915,
          108.01564634297777,
          109.53681857692786,
          108.36955171985593,
          108.25158326089654,
          108.66136843412393,
          108.66136843412393,
          105.90463181423071,
          105.92325841301377,
          106.22128399354278,
          105.07264373525393,
          106.95393021234322,
          106.93530361356017,
          107.43201291444183,
          108.65515956786291,
          108.25158326089654,
          108.23916552837451,
          108.21433006333044,
          108.82900782317148,
          109.95281261641625,
          109.39401465292437,
          111.2007947348814,
          111.30013659505774,
          110.80342729417609,
          109.89693282006705,
          109.92176828511113,
          108.17086799950329,
          106.23991059232584,
          106.48826524276667,
          104.2841177201043,
          103.66943996026325,
          103.95504780827021,
          104.17235812740593,
          99.65230348938283,
          97.16254811871353,
          101.2231466534211,
          99.05625232832485,
          96.33056003973675,
          97.11287718862536,
          101.02446293306842,
          102.0365081336148,
          103.91779461070409,
          107.40717744939774,
          107.05948093878057,
          106.69936669564137,
          106.21507512728175,
          107.10294300260772,
          108.96560288091395,
          111.12007947348815,
          110.75996523034893,
          110.59232584130139,
          108.65515956786291,
          109.40643238544642,
          109.78517322736867,
          109.69204023345335,
          108.67378616664598,
          109.85967962250093,
          111.74717496585123,
          112.82751769526884,
          111.74096609959021,
          110.79100956165404,
          110.92139575313549,
          110.53023717869117,
          108.84142555569353,
          108.8041723581274,
          106.33925245250218,
          104.83670681733514,
          102.40904010927605,
          107.27058239165528,
          104.5200546380231,
          103.36520551347323,
          104.17235812740593,
          103.48938283869367,
          104.5510989693282,
          106.55035390537688,
          107.28920899043834,
          104.54489010306717,
          105.58177076865765,
          107.56860797218428,
          107.06568980504159,
          108.12119706941512,
          108.48752017881533,
          109.1642866012666,
          110.66683223643363,
          110.41847758599279,
          107.28920899043834,
          102.89333167763566,
          102.59530609710667,
          101.1672668570719,
          101.60809636160437,
          101.96200173848256,
          100.78231714888861,
          102.60772382962871,
          104.99192847386067,
          109.62995157084316,
          109.82863529119582,
          114.13758847634423,
          114.96336768905996,
          115.51595678629083,
          116.32931826648453,
          117.99329442443809,
          117.09300881659009,
          116.81981870110518,
          115.75810257047064,
          116.83844529988825,
          116.09959021482679,
          115.67738730907737,
          116.4969576555321,
          116.20514094126413,
          116.95020489258663,
          116.81981870110518,
          117.08679995032907,
          116.66459704457965,
          116.41624239413883,
          116.02508381969452,
          118.11747174965852,
          119.10468148516082,
          120.02359369179187,
          120.43958773128026,
          120.11672668570719,
          119.02396622376754,
          118.73214950949955,
          119.38408046690674,
          118.40307959766545,
          118.46516826027569,
          117.24823047311561,
          117.18614181050539,
          115.29243760089408,
          115.79535576803674,
          115.1496336768906,
          114.81435489879547,
          113.10691667701475,
          114.51012045200545,
          114.3424810629579,
          115.17446914193468,
          114.93232335775487,
          116.21755867378616,
          114.1934682726934,
          115.11238047932449,
          116.7080591084068,
          118.32857320253322,
          118.18576927852973,
          116.65217931205763,
          118.60797218427915,
          118.79423817210979,
          118.5334657891469,
          118.86874456724202,
          118.21681360983484,
          119.1357258164659,
          118.862535700981,
          118.96808642741836,
          119.83111883770023,
          120.96113249720601,
          120.58239165528374,
          118.57692785297405,
          117.91257916304482,
          118.14851608096362,
          125.10865515956786,
          128.76567738730907,
          129.13820936297034,
          129.80876691916055,
          128.5918291320005,
          128.6787532596548,
          129.69079846020117,
          128.85260151496337,
          129.68458959394016,
          130.23096982490995,
          130.5352042717,
          132.44753508009438,
          135.0925121072892,
          133.77623245995284,
          133.51546007698994,
          133.52166894325097,
          133.79485905873588,
          134.21085309822428,
          135.31603129268595,
          136.40879175462558,
          138.44529988824038,
          139.71811747174965,
          141.33242269961502,
          141.78566993666956,
          140.86054886377747,
          138.51980628337265,
          137.40221035638893,
          135.55817707686577,
          138.9854712529492,
          137.25940643238545,
          140.57494101577052,
          138.9792623866882,
          135.27877809511983,
          135.50229728051656,
          135.58301254190985,
          136.6136843412393,
          135.14218303737738,
          137.08555817707685,
          137.95479945361976,
          136.8558301254191,
          139.6684465416615,
          140.15894697628212,
          141.1026946479573,
          142.3568856326835,
          144.08915931950824,
          141.5559418850118,
          139.25866136843413,
          138.93580032286107,
          140.86054886377747,
          134.3350304234447,
          133.1491369675897,
          137.9051285235316,
          134.95591704954677,
          137.92996398857568,
          137.3339128275177,
          134.12392897056998,
          136.16664597044578,
          136.99863404942258,
          138.2900782317149,
          133.54650440829505,
          136.4708804172358,
          134.29777722587858,
          131.77697752390415,
          132.43511734757234,
          135.88724698869987,
          137.97342605240283,
          128.82155718365826,
          125.16453495591703,
          126.51806780081958,
          130.35514715013036,
          129.44865267602137,
          126.95268843909102,
          120.55755619023965,
          119.35303613560163,
          115.9816217558674,
          118.84390910219793,
          120.16018874953434,
          115.39798832733143,
          109.884515087545,
          109.76033776232458,
          106.97255681112627,
          108.41922264994412,
          108.18328573202534,
          112.34322612690922,
          111.48019371662734,
          110.87793368930834,
          114.75226623618526,
          109.70445796597541,
          108.48131131255431,
          104.61318763193842,
          105.3023717869117,
          104.70011175959269,
          104.99192847386067,
          106.1405687321495,
          102.74431888737116,
          101.78815348317396,
          103.11064199677138,
          99.89444927356263,
          97.37364957158825,
          93.58624115236557,
          91.1647833105675,
          97.58475102446292,
          96.95144666583883,
          97.00111759592698,
          97.93865640134112,
          98.05041599403947,
          88.28386936545387,
          92.05265118589345,
          91.84775859927977,
          93.59865888488763,
          95.18812864770892,
          95.49236309449896,
          94.5548242890848,
          93.13299391531106,
          95.03911585744443,
          96.2001738482553,
          96.77138954426923,
          97.3674407053272,
          95.18191978144792,
          95.56686948963117,
          94.80938780578666,
          97.95107413386314,
          97.04457965975413,
          96.03874332546877,
          102.60151496336769,
          103.34037004842915,
          103.39004097851732,
          106.32683471998013,
          108.14603253445921,
          108.18328573202534,
          106.13435986588848,
          105.80528995405439,
          105.19682106047436,
          106.10331553458336,
          105.6624860300509,
          106.04743573823421,
          105.81149882031539,
          106.12815099962747,
          106.81112628833975,
          106.20886626102073,
          107.39475971687568,
          108.17707686576429,
          108.23916552837451,
          108.57444430646963,
          107.50651930957406,
          108.63653296907985,
          109.18291320004967,
          108.98422947969702,
          108.35713398733391,
          107.10294300260772,
          107.35750651930958,
          111.076617409661,
          112.32459952812617,
          112.82130882900783,
          114.075499813734,
          115.55941885011798,
          116.73910343971193,
          115.81398236681981,
          116.8260275673662,
          121.12877188625357,
          118.6203899168012,
          117.18614181050539,
          115.97541288960636,
          117.01850242145784,
          117.17372407798337,
          117.93741462808892,
          118.73835837576058,
          120.46442319632436,
          121.29020240904009,
          121.50130386191482,
          122.31466534210853,
          124.23941388302495,
          123.86688190736372,
          124.56227492859804,
          123.52539426300757,
          123.4757233329194,
          123.69924251831614,
          123.7116602508382,
          126.12070036011424,
          126.57394759716875,
          126.98994163665715,
          128.82155718365826,
          128.62287346330558,
          127.4556066062337,
          126.84713771265368,
          127.03961256674532,
          124.59331925990314,
          130.70905252700857,
          129.85843784924873,
          131.47274307711413,
          129.44244380976033,
          125.95306097106669,
          125.97789643611077,
          124.62436359120825,
          122.4264249348069,
          115.31106419967713,
          117.13647088041724,
          118.53967465540791,
          118.0181298894822,
          117.34757233329194,
          113.67813237302869,
          115.85744443064696,
          113.48565751893705,
          111.54849124549857,
          111.12007947348815,
          110.6606233701726,
          110.13286973798584,
          110.70408543399977,
          108.69862163169005,
          107.59965230348938,
          111.53607351297651,
          113.33664472867252,
          115.00062088662611,
          118.06159195330932,
          119.57034645473736,
          120.954923630945,
          120.5699739227617,
          120.54513845771761,
          119.66968831491369,
          120.38370793493107,
          123.21495094995653,
          122.85483670681734,
          123.84204644231964,
          123.41984353657023,
          123.29566621134983,
          121.42679746678256,
          124.05314789519434,
          124.01589469762821,
          122.88588103812243,
          125.13969949087299,
          125.87234570967341,
          126.91543524152489,
          126.80367564882651,
          124.18974295293678,
          124.94722463678131,
          126.18278902272444,
          125.26387681609339,
          126.22625108655161,
          127.41214454240657,
          126.97131503787409,
          126.25729541785668,
          127.69154352415248,
          125.78542158201913,
          128.66012666087173,
          129.6659629951571,
          129.56041226871972,
          128.5359493356513,
          128.98298770644482,
          130.18750776108283,
          129.62870979759094,
          132.27368682478578,
          129.41139947845522,
          126.67328945734508,
          120.04222029057495,
          122.31466534210853,
          123.58127405935674,
          126.30696634794486,
          124.79200298025582,
          124.47535080094374,
          129.74667825655035,
          125.88476344219546,
          125.25766794983238,
          128.21308829007822,
          130.60350180057122,
          130.60971066683226,
          132.02533217434495,
          131.9135725816466,
          125.81646591332422,
          128.2068794238172,
          126.76021358499938,
          127.61082826275923,
          129.77151372159443,
          129.60387433254687,
          127.71637898919657,
          129.8832733142928,
          132.42269961505028,
          132.41028188252824,
          132.97528871228113,
          134.54613187631938,
          138.82404073016266,
          138.51049298398112,
          135.81894945982864,
          136.53296907984603,
          137.02967838072766,
          138.31491369675896,
          137.19110890351422,
          135.18564510120453,
          135.80032286104557,
          135.15460076989942,
          137.23457096734134,
          136.526760213585,
          135.86241152365577,
          139.05997764808146,
          139.44492735626474,
          135.94933565131007,
          137.10418477585992,
          140.94747299143177,
          140.97851732273688,
          139.32695889730536,
          140.9598907239538,
          142.85980379982615,
          146.65962995157085,
          146.44852849869613,
          146.10704085434,
          145.51719855954303,
          146.0822053892959,
          146.78380727679126,
          149.32944244380974,
          148.9879547994536,
          150.9872097355023,
          151.23556438594312,
          153.09822426424935,
          154.6318142307215,
          151.05550726437352,
          151.03688066559045,
          154.45175710915186,
          158.8352166894325,
          159.878306221284,
          159.64857816962623,
          159.71687569849746,
          161.076617409661,
          161.51744691419344,
          162.7964733639637,
          162.64746057369922,
          164.20588600521546,
          163.06966347944865,
          165.0068297528871,
          165.8388178318639,
          165.33589966472124,
          163.41115112380479,
          162.67850490500433,
          162.53570098100084,
          165.3855705948094,
          164.09412641251708,
          166.29827393517942,
          165.9319508257792,
          164.01341115112382,
          161.08903514218304,
          162.5108655159568,
          164.89507016018874,
          168.08021855209236,
          165.72705823916553,
          166.69564137588478,
          168.1174717496585,
          168.54588352166894,
          170.83695517198558,
          173.76133118092636,
          174.10281882528253,
          173.6868247857941,
          173.8606730411027,
          173.5005587979635,
          176.33180181298894,
          176.49944120203648,
          180.00124177325222,
          179.93294424438096,
          181.00086924127652,
          182.32335775487394,
          186.48329814975787,
          184.6703092015398,
          186.14181050540174,
          185.2663603625978,
          188.24661616788774,
          192.24512603998508,
          192.67974667825655,
          196.79622500931328,
          194.13883024959642,
          193.30684217061963,
          195.72830001241775,
          197.89519433751397,
          196.55407922513348,
          197.25568111262882,
          198.20563765056502,
          197.6344219545511,
          191.82292313423568,
          197.24947224636782,
          201.3783683099466,
          201.0865515956786,
          192.17061964485285,
          191.6428660126661,
          197.96970073264623,
          199.5840059605116,
          201.9185396746554,
          198.70234695144663,
          199.64609462312183,
          198.4415745684838,
          203.1541040605985,
          201.70743822178073,
          201.75710915186883,
          198.06283372656154,
          200.93132993915313,
          198.86998634049422,
          194.36855830125418,
          185.13597417111635,
          178.86501924748538,
          181.70247112877186,
          169.82490997143918,
          169.7255681112629,
          185.52713274556066,
          179.63491866385198,
          187.96721718614182,
          181.87011051781946,
          179.45486154228237,
          165.26139326958898,
          177.1637898919657,
          171.01080342729418,
          154.12268719731776,
          172.58785545759346,
          150.38494970818329,
          156.9973922761704,
          153.15410406059854,
          151.9806283372656,
          142.33205016763938,
          139.3083322985223,
          153.28449025207996,
          152.44008444058116,
          160.46193964981995,
          153.81845275052777,
          158.20812119706943,
          157.88526015149634,
          149.5777970942506,
          152.07376133118095,
          149.88824040730162,
          162.96411275301134,
          161.076617409661,
          165.19930460697876,
          166.39140692909476,
          169.65727058239167,
          178.22550602260029,
          176.59878306221285,
          178.00198683720353,
          175.58673786166648,
          171.94213336644728,
          166.62734384701355,
          171.42679746678257,
          170.76244877685335,
          175.69228858810382,
          175.81646591332424,
          172.9665962995157,
          178.6477089283497,
          182.41649074878927,
          179.47969700732648,
          182.01912330808398,
          184.7510244629331,
          186.65714640506644,
          188.5881038122439,
          192.55556935303613,
          195.58549608841423,
          193.3503042344468,
          191.015770520303,
          192.18924624363592,
          191.0530237178691,
          195.55445175710912,
          194.42443809760337,
          198.20563765056502,
          196.72792748044208,
          197.9945361976903,
          196.65342108530984,
          197.51024462933069,
          197.59716875698496,
          197.4046939028933,
          199.83236061095243,
          200.75748168384453,
          201.8626598783062,
          200.1241773252204,
          205.82391655283746,
          207.04085433999748,
          213.57879051285232,
          219.0736371538557,
          208.55581770768654,
          210.3563889233826,
          212.95790388675027,
          218.60176331801813,
          218.2975288712281,
          218.3844529988824,
          217.13647088041722,
          222.81758350925122,
          227.5735750651931,
          223.55643859431268,
          226.52427666708058,
          219.56413758847634,
          224.62436359120824,
          226.4994412020365,
          226.07102943002607,
          226.07102943002607,
          232.11846516826026,
          231.39823668198187,
          236.7875325965479,
          237.6319384080467,
          238.2217807028437,
          237.122811374643,
          241.0468148516081,
          242.70458214330063,
          239.71811747174962,
          239.23382590339003,
          244.27542530733888,
          240.90401092760462,
          241.58077735005588,
          230.58487520178815,
          230.01365950577423,
          235.46504408295044,
          231.59692040233452,
          236.0362597789644,
          238.89233825903392,
          263.90165155842544
         ]
        },
        {
         "line": {
          "color": "rgba(55, 128, 191, 1.0)",
          "dash": "solid",
          "shape": "linear",
          "width": 1.3
         },
         "mode": "lines",
         "name": "AMZN.O",
         "text": "",
         "type": "scatter",
         "x": [
          "2017-08-09",
          "2017-08-10",
          "2017-08-11",
          "2017-08-14",
          "2017-08-15",
          "2017-08-16",
          "2017-08-17",
          "2017-08-18",
          "2017-08-21",
          "2017-08-22",
          "2017-08-23",
          "2017-08-24",
          "2017-08-25",
          "2017-08-28",
          "2017-08-29",
          "2017-08-30",
          "2017-08-31",
          "2017-09-01",
          "2017-09-05",
          "2017-09-06",
          "2017-09-07",
          "2017-09-08",
          "2017-09-11",
          "2017-09-12",
          "2017-09-13",
          "2017-09-14",
          "2017-09-15",
          "2017-09-18",
          "2017-09-19",
          "2017-09-20",
          "2017-09-21",
          "2017-09-22",
          "2017-09-25",
          "2017-09-26",
          "2017-09-27",
          "2017-09-28",
          "2017-09-29",
          "2017-10-02",
          "2017-10-03",
          "2017-10-04",
          "2017-10-05",
          "2017-10-06",
          "2017-10-09",
          "2017-10-10",
          "2017-10-11",
          "2017-10-12",
          "2017-10-13",
          "2017-10-16",
          "2017-10-17",
          "2017-10-18",
          "2017-10-19",
          "2017-10-20",
          "2017-10-23",
          "2017-10-24",
          "2017-10-25",
          "2017-10-26",
          "2017-10-27",
          "2017-10-30",
          "2017-10-31",
          "2017-11-01",
          "2017-11-02",
          "2017-11-03",
          "2017-11-06",
          "2017-11-07",
          "2017-11-08",
          "2017-11-09",
          "2017-11-10",
          "2017-11-13",
          "2017-11-14",
          "2017-11-15",
          "2017-11-16",
          "2017-11-17",
          "2017-11-20",
          "2017-11-21",
          "2017-11-22",
          "2017-11-24",
          "2017-11-27",
          "2017-11-28",
          "2017-11-29",
          "2017-11-30",
          "2017-12-01",
          "2017-12-04",
          "2017-12-05",
          "2017-12-06",
          "2017-12-07",
          "2017-12-08",
          "2017-12-11",
          "2017-12-12",
          "2017-12-13",
          "2017-12-14",
          "2017-12-15",
          "2017-12-18",
          "2017-12-19",
          "2017-12-20",
          "2017-12-21",
          "2017-12-22",
          "2017-12-26",
          "2017-12-27",
          "2017-12-28",
          "2017-12-29",
          "2018-01-02",
          "2018-01-03",
          "2018-01-04",
          "2018-01-05",
          "2018-01-08",
          "2018-01-09",
          "2018-01-10",
          "2018-01-11",
          "2018-01-12",
          "2018-01-16",
          "2018-01-17",
          "2018-01-18",
          "2018-01-19",
          "2018-01-22",
          "2018-01-23",
          "2018-01-24",
          "2018-01-25",
          "2018-01-26",
          "2018-01-29",
          "2018-01-30",
          "2018-01-31",
          "2018-02-01",
          "2018-02-02",
          "2018-02-05",
          "2018-02-06",
          "2018-02-07",
          "2018-02-08",
          "2018-02-09",
          "2018-02-12",
          "2018-02-13",
          "2018-02-14",
          "2018-02-15",
          "2018-02-16",
          "2018-02-20",
          "2018-02-21",
          "2018-02-22",
          "2018-02-23",
          "2018-02-26",
          "2018-02-27",
          "2018-02-28",
          "2018-03-01",
          "2018-03-02",
          "2018-03-05",
          "2018-03-06",
          "2018-03-07",
          "2018-03-08",
          "2018-03-09",
          "2018-03-12",
          "2018-03-13",
          "2018-03-14",
          "2018-03-15",
          "2018-03-16",
          "2018-03-19",
          "2018-03-20",
          "2018-03-21",
          "2018-03-22",
          "2018-03-23",
          "2018-03-26",
          "2018-03-27",
          "2018-03-28",
          "2018-03-29",
          "2018-04-02",
          "2018-04-03",
          "2018-04-04",
          "2018-04-05",
          "2018-04-06",
          "2018-04-09",
          "2018-04-10",
          "2018-04-11",
          "2018-04-12",
          "2018-04-13",
          "2018-04-16",
          "2018-04-17",
          "2018-04-18",
          "2018-04-19",
          "2018-04-20",
          "2018-04-23",
          "2018-04-24",
          "2018-04-25",
          "2018-04-26",
          "2018-04-27",
          "2018-04-30",
          "2018-05-01",
          "2018-05-02",
          "2018-05-03",
          "2018-05-04",
          "2018-05-07",
          "2018-05-08",
          "2018-05-09",
          "2018-05-10",
          "2018-05-11",
          "2018-05-14",
          "2018-05-15",
          "2018-05-16",
          "2018-05-17",
          "2018-05-18",
          "2018-05-21",
          "2018-05-22",
          "2018-05-23",
          "2018-05-24",
          "2018-05-25",
          "2018-05-29",
          "2018-05-30",
          "2018-05-31",
          "2018-06-01",
          "2018-06-04",
          "2018-06-05",
          "2018-06-06",
          "2018-06-07",
          "2018-06-08",
          "2018-06-11",
          "2018-06-12",
          "2018-06-13",
          "2018-06-14",
          "2018-06-15",
          "2018-06-18",
          "2018-06-19",
          "2018-06-20",
          "2018-06-21",
          "2018-06-22",
          "2018-06-25",
          "2018-06-26",
          "2018-06-27",
          "2018-06-28",
          "2018-06-29",
          "2018-07-02",
          "2018-07-03",
          "2018-07-05",
          "2018-07-06",
          "2018-07-09",
          "2018-07-10",
          "2018-07-11",
          "2018-07-12",
          "2018-07-13",
          "2018-07-16",
          "2018-07-17",
          "2018-07-18",
          "2018-07-19",
          "2018-07-20",
          "2018-07-23",
          "2018-07-24",
          "2018-07-25",
          "2018-07-26",
          "2018-07-27",
          "2018-07-30",
          "2018-07-31",
          "2018-08-01",
          "2018-08-02",
          "2018-08-03",
          "2018-08-06",
          "2018-08-07",
          "2018-08-08",
          "2018-08-09",
          "2018-08-10",
          "2018-08-13",
          "2018-08-14",
          "2018-08-15",
          "2018-08-16",
          "2018-08-17",
          "2018-08-20",
          "2018-08-21",
          "2018-08-22",
          "2018-08-23",
          "2018-08-24",
          "2018-08-27",
          "2018-08-28",
          "2018-08-29",
          "2018-08-30",
          "2018-08-31",
          "2018-09-04",
          "2018-09-05",
          "2018-09-06",
          "2018-09-07",
          "2018-09-10",
          "2018-09-11",
          "2018-09-12",
          "2018-09-13",
          "2018-09-14",
          "2018-09-17",
          "2018-09-18",
          "2018-09-19",
          "2018-09-20",
          "2018-09-21",
          "2018-09-24",
          "2018-09-25",
          "2018-09-26",
          "2018-09-27",
          "2018-09-28",
          "2018-10-01",
          "2018-10-02",
          "2018-10-03",
          "2018-10-04",
          "2018-10-05",
          "2018-10-08",
          "2018-10-09",
          "2018-10-10",
          "2018-10-11",
          "2018-10-12",
          "2018-10-15",
          "2018-10-16",
          "2018-10-17",
          "2018-10-18",
          "2018-10-19",
          "2018-10-22",
          "2018-10-23",
          "2018-10-24",
          "2018-10-25",
          "2018-10-26",
          "2018-10-29",
          "2018-10-30",
          "2018-10-31",
          "2018-11-01",
          "2018-11-02",
          "2018-11-05",
          "2018-11-06",
          "2018-11-07",
          "2018-11-08",
          "2018-11-09",
          "2018-11-12",
          "2018-11-13",
          "2018-11-14",
          "2018-11-15",
          "2018-11-16",
          "2018-11-19",
          "2018-11-20",
          "2018-11-21",
          "2018-11-23",
          "2018-11-26",
          "2018-11-27",
          "2018-11-28",
          "2018-11-29",
          "2018-11-30",
          "2018-12-03",
          "2018-12-04",
          "2018-12-06",
          "2018-12-07",
          "2018-12-10",
          "2018-12-11",
          "2018-12-12",
          "2018-12-13",
          "2018-12-14",
          "2018-12-17",
          "2018-12-18",
          "2018-12-19",
          "2018-12-20",
          "2018-12-21",
          "2018-12-24",
          "2018-12-26",
          "2018-12-27",
          "2018-12-28",
          "2018-12-31",
          "2019-01-02",
          "2019-01-03",
          "2019-01-04",
          "2019-01-07",
          "2019-01-08",
          "2019-01-09",
          "2019-01-10",
          "2019-01-11",
          "2019-01-14",
          "2019-01-15",
          "2019-01-16",
          "2019-01-17",
          "2019-01-18",
          "2019-01-22",
          "2019-01-23",
          "2019-01-24",
          "2019-01-25",
          "2019-01-28",
          "2019-01-29",
          "2019-01-30",
          "2019-01-31",
          "2019-02-01",
          "2019-02-04",
          "2019-02-05",
          "2019-02-06",
          "2019-02-07",
          "2019-02-08",
          "2019-02-11",
          "2019-02-12",
          "2019-02-13",
          "2019-02-14",
          "2019-02-15",
          "2019-02-19",
          "2019-02-20",
          "2019-02-21",
          "2019-02-22",
          "2019-02-25",
          "2019-02-26",
          "2019-02-27",
          "2019-02-28",
          "2019-03-01",
          "2019-03-04",
          "2019-03-05",
          "2019-03-06",
          "2019-03-07",
          "2019-03-08",
          "2019-03-11",
          "2019-03-12",
          "2019-03-13",
          "2019-03-14",
          "2019-03-15",
          "2019-03-18",
          "2019-03-19",
          "2019-03-20",
          "2019-03-21",
          "2019-03-22",
          "2019-03-25",
          "2019-03-26",
          "2019-03-27",
          "2019-03-28",
          "2019-03-29",
          "2019-04-01",
          "2019-04-02",
          "2019-04-03",
          "2019-04-04",
          "2019-04-05",
          "2019-04-08",
          "2019-04-09",
          "2019-04-10",
          "2019-04-11",
          "2019-04-12",
          "2019-04-15",
          "2019-04-16",
          "2019-04-17",
          "2019-04-18",
          "2019-04-22",
          "2019-04-23",
          "2019-04-24",
          "2019-04-25",
          "2019-04-26",
          "2019-04-29",
          "2019-04-30",
          "2019-05-01",
          "2019-05-02",
          "2019-05-03",
          "2019-05-06",
          "2019-05-07",
          "2019-05-08",
          "2019-05-09",
          "2019-05-10",
          "2019-05-13",
          "2019-05-14",
          "2019-05-15",
          "2019-05-16",
          "2019-05-17",
          "2019-05-20",
          "2019-05-21",
          "2019-05-22",
          "2019-05-23",
          "2019-05-24",
          "2019-05-28",
          "2019-05-29",
          "2019-05-30",
          "2019-05-31",
          "2019-06-03",
          "2019-06-04",
          "2019-06-05",
          "2019-06-06",
          "2019-06-07",
          "2019-06-10",
          "2019-06-11",
          "2019-06-12",
          "2019-06-13",
          "2019-06-14",
          "2019-06-17",
          "2019-06-18",
          "2019-06-19",
          "2019-06-20",
          "2019-06-21",
          "2019-06-24",
          "2019-06-25",
          "2019-06-26",
          "2019-06-27",
          "2019-06-28",
          "2019-07-01",
          "2019-07-02",
          "2019-07-03",
          "2019-07-05",
          "2019-07-08",
          "2019-07-09",
          "2019-07-10",
          "2019-07-11",
          "2019-07-12",
          "2019-07-15",
          "2019-07-16",
          "2019-07-17",
          "2019-07-18",
          "2019-07-19",
          "2019-07-22",
          "2019-07-23",
          "2019-07-24",
          "2019-07-25",
          "2019-07-26",
          "2019-07-29",
          "2019-07-30",
          "2019-07-31",
          "2019-08-01",
          "2019-08-02",
          "2019-08-05",
          "2019-08-06",
          "2019-08-07",
          "2019-08-08",
          "2019-08-09",
          "2019-08-12",
          "2019-08-13",
          "2019-08-14",
          "2019-08-15",
          "2019-08-16",
          "2019-08-19",
          "2019-08-20",
          "2019-08-21",
          "2019-08-22",
          "2019-08-23",
          "2019-08-26",
          "2019-08-27",
          "2019-08-28",
          "2019-08-29",
          "2019-08-30",
          "2019-09-03",
          "2019-09-04",
          "2019-09-05",
          "2019-09-06",
          "2019-09-09",
          "2019-09-10",
          "2019-09-11",
          "2019-09-12",
          "2019-09-13",
          "2019-09-16",
          "2019-09-17",
          "2019-09-18",
          "2019-09-19",
          "2019-09-20",
          "2019-09-23",
          "2019-09-24",
          "2019-09-25",
          "2019-09-26",
          "2019-09-27",
          "2019-09-30",
          "2019-10-01",
          "2019-10-02",
          "2019-10-03",
          "2019-10-04",
          "2019-10-07",
          "2019-10-08",
          "2019-10-09",
          "2019-10-10",
          "2019-10-11",
          "2019-10-14",
          "2019-10-15",
          "2019-10-16",
          "2019-10-17",
          "2019-10-18",
          "2019-10-21",
          "2019-10-22",
          "2019-10-23",
          "2019-10-24",
          "2019-10-25",
          "2019-10-28",
          "2019-10-29",
          "2019-10-30",
          "2019-10-31",
          "2019-11-01",
          "2019-11-04",
          "2019-11-05",
          "2019-11-06",
          "2019-11-07",
          "2019-11-08",
          "2019-11-11",
          "2019-11-12",
          "2019-11-13",
          "2019-11-14",
          "2019-11-15",
          "2019-11-18",
          "2019-11-19",
          "2019-11-20",
          "2019-11-21",
          "2019-11-22",
          "2019-11-25",
          "2019-11-26",
          "2019-11-27",
          "2019-11-29",
          "2019-12-02",
          "2019-12-03",
          "2019-12-04",
          "2019-12-05",
          "2019-12-06",
          "2019-12-09",
          "2019-12-10",
          "2019-12-11",
          "2019-12-12",
          "2019-12-13",
          "2019-12-16",
          "2019-12-17",
          "2019-12-18",
          "2019-12-19",
          "2019-12-20",
          "2019-12-23",
          "2019-12-24",
          "2019-12-26",
          "2019-12-27",
          "2019-12-30",
          "2019-12-31",
          "2020-01-02",
          "2020-01-03",
          "2020-01-06",
          "2020-01-07",
          "2020-01-08",
          "2020-01-09",
          "2020-01-10",
          "2020-01-13",
          "2020-01-14",
          "2020-01-15",
          "2020-01-16",
          "2020-01-17",
          "2020-01-21",
          "2020-01-22",
          "2020-01-23",
          "2020-01-24",
          "2020-01-27",
          "2020-01-28",
          "2020-01-29",
          "2020-01-30",
          "2020-01-31",
          "2020-02-03",
          "2020-02-04",
          "2020-02-05",
          "2020-02-06",
          "2020-02-07",
          "2020-02-10",
          "2020-02-11",
          "2020-02-12",
          "2020-02-13",
          "2020-02-14",
          "2020-02-18",
          "2020-02-19",
          "2020-02-20",
          "2020-02-21",
          "2020-02-24",
          "2020-02-25",
          "2020-02-26",
          "2020-02-27",
          "2020-02-28",
          "2020-03-02",
          "2020-03-03",
          "2020-03-04",
          "2020-03-05",
          "2020-03-06",
          "2020-03-09",
          "2020-03-10",
          "2020-03-11",
          "2020-03-12",
          "2020-03-13",
          "2020-03-16",
          "2020-03-17",
          "2020-03-18",
          "2020-03-19",
          "2020-03-20",
          "2020-03-23",
          "2020-03-24",
          "2020-03-25",
          "2020-03-26",
          "2020-03-27",
          "2020-03-30",
          "2020-03-31",
          "2020-04-01",
          "2020-04-02",
          "2020-04-03",
          "2020-04-06",
          "2020-04-07",
          "2020-04-08",
          "2020-04-09",
          "2020-04-13",
          "2020-04-14",
          "2020-04-15",
          "2020-04-16",
          "2020-04-17",
          "2020-04-20",
          "2020-04-21",
          "2020-04-22",
          "2020-04-23",
          "2020-04-24",
          "2020-04-27",
          "2020-04-28",
          "2020-04-29",
          "2020-04-30",
          "2020-05-01",
          "2020-05-04",
          "2020-05-05",
          "2020-05-06",
          "2020-05-07",
          "2020-05-08",
          "2020-05-11",
          "2020-05-12",
          "2020-05-13",
          "2020-05-14",
          "2020-05-15",
          "2020-05-18",
          "2020-05-19",
          "2020-05-20",
          "2020-05-21",
          "2020-05-22",
          "2020-05-26",
          "2020-05-27",
          "2020-05-28",
          "2020-05-29",
          "2020-06-01",
          "2020-06-02",
          "2020-06-03",
          "2020-06-04",
          "2020-06-05",
          "2020-06-08",
          "2020-06-09",
          "2020-06-10",
          "2020-06-11",
          "2020-06-12",
          "2020-06-15",
          "2020-06-16",
          "2020-06-17",
          "2020-06-18",
          "2020-06-19",
          "2020-06-22",
          "2020-06-23",
          "2020-06-24",
          "2020-06-25",
          "2020-06-26",
          "2020-06-29",
          "2020-06-30",
          "2020-07-01",
          "2020-07-02",
          "2020-07-06",
          "2020-07-07",
          "2020-07-08",
          "2020-07-09",
          "2020-07-10",
          "2020-07-13",
          "2020-07-14",
          "2020-07-15",
          "2020-07-16",
          "2020-07-17",
          "2020-07-20",
          "2020-07-21",
          "2020-07-22",
          "2020-07-23",
          "2020-07-24",
          "2020-07-27",
          "2020-07-28",
          "2020-07-29",
          "2020-07-30",
          "2020-07-31"
         ],
         "y": [
          100,
          97.44503620126068,
          98.5723159641959,
          100.13136322440708,
          100.07433732854045,
          99.60998360505494,
          97.8167228439629,
          97.60287573446298,
          97.07538619769656,
          98.46131913116974,
          97.55501471471777,
          96.98984735389661,
          96.25767558375169,
          96.33506787099928,
          97.15379680451319,
          98.531583181434,
          99.85641694076436,
          99.61711184203827,
          98.29533304141506,
          98.55296789238398,
          99.74134682946203,
          98.35948717426503,
          99.5875805745359,
          100.0580442154357,
          101.79122412195396,
          101.03868596042811,
          100.48675675400453,
          99.20367409700512,
          98.7627417236077,
          99.10387877923851,
          98.23219722813413,
          97.25970203969409,
          95.7006547794829,
          95.5794747507663,
          96.82895286198715,
          97.39208358367023,
          97.89615177034857,
          97.67619474343438,
          97.46336595350354,
          98.31366279365791,
          99.88187492999053,
          100.7708679137687,
          100.91445097300435,
          100.5285078563355,
          101.32279712019225,
          101.92666062463722,
          102.1313428580157,
          102.47757151149175,
          102.7616826712559,
          101.5264610340017,
          100.46842700176168,
          100.09164876121423,
          98.40021995702692,
          99.37780674331218,
          99.07332919216708,
          99.02444985285281,
          112.11189295424691,
          113.12002932760359,
          112.55282532764433,
          112.38989419659677,
          111.42656388427817,
          113.19640329528211,
          114.11900082483885,
          114.3745990366697,
          115.3633873382145,
          114.98151749982182,
          114.59659270272195,
          114.985590778098,
          115.76664188755714,
          114.73304752497428,
          115.81246626816429,
          115.05789146750034,
          114.69435138135049,
          116.03649657335464,
          117.73403529495627,
          120.77270088899299,
          121.77370902536633,
          121.54662376146881,
          118.25439659473935,
          119.83075528762437,
          118.36437510819644,
          115.47234753210253,
          116.24830704371645,
          117.34605553914929,
          118.10368529852038,
          118.3287339232798,
          119.03341106506045,
          118.64237635054633,
          118.54563599148686,
          119.57719371493162,
          120.07413366462664,
          121.23909125161659,
          120.9132289895215,
          119.91934909013145,
          119.62810969338398,
          118.97638516919378,
          119.83177360719341,
          120.39184937016935,
          120.78288408468345,
          119.08941864135802,
          121.07921507927617,
          122.62604250465883,
          123.17491675237522,
          125.16573150986244,
          126.97121210578304,
          127.56489241453754,
          127.7308785042922,
          130.00682274111261,
          132.9110701520351,
          132.8764472866875,
          131.872384191607,
          131.70130650400708,
          131.82961476970704,
          135.16257471919837,
          138.75011456095152,
          138.2378998177208,
          140.3193450168532,
          142.77349517825684,
          144.36512866467757,
          146.4160242767385,
          147.74696795348316,
          141.54642009755503,
          145.6146067758984,
          141.54642009755503,
          146.9272207004002,
          144.2734799034633,
          137.52405779981873,
          136.41408946955733,
          141.16251362002424,
          144.0423213612896,
          147.76326106658792,
          148.85388132503743,
          147.52293764829278,
          149.52495392103947,
          151.00864553314122,
          151.2550788688506,
          152.74793535707377,
          154.9831468111323,
          153.96788220079225,
          154.01574322053747,
          152.08093603934788,
          152.77339334629994,
          155.15218785959408,
          156.58089021496727,
          157.33037341778598,
          158.02894064215232,
          160.7814584372868,
          162.76718159692876,
          161.7274773169316,
          162.01464343540292,
          161.13074204946994,
          160.0472500280038,
          157.32324518080264,
          161.55741794890073,
          161.0838993492938,
          157.32222686123362,
          152.2958014684168,
          158.43626846977116,
          152.44753108420483,
          145.76429975254834,
          147.3854645064714,
          139.71242655370108,
          141.75517560920966,
          143.641103451085,
          147.83454343642123,
          143.09732080121384,
          143.18387796458282,
          146.253093145691,
          145.31929410087474,
          147.5035895764809,
          145.70014561969836,
          146.79076587814788,
          153.1379517520188,
          155.58293703730104,
          158.54319202452115,
          155.5472958523844,
          154.56665410739197,
          148.68382195700653,
          148.69196851355892,
          154.57683730308244,
          160.1429720674942,
          159.48208266718262,
          161.12463213205567,
          159.84358611419435,
          160.08747365098114,
          160.99123226851052,
          162.94538752151203,
          162.15618985550046,
          163.74578670278305,
          163.85576521624014,
          163.2274620421381,
          163.0879522611786,
          160.49938391666072,
          161.63582855571735,
          161.07371615360333,
          160.32117799207745,
          161.45049439415078,
          161.03705664911763,
          163.1205384873881,
          163.2437551552428,
          163.9647254101282,
          164.24170833290904,
          165.46572845490374,
          165.947393611063,
          167.16123053736723,
          169.57770287471615,
          172.7426400953147,
          172.6815409211719,
          172.02472479913646,
          171.4839971079724,
          172.0063950468936,
          172.98703679188603,
          173.60923004857383,
          175.54403722976343,
          174.74058308978525,
          175.53690899278013,
          176.65604219916293,
          178.2140711398051,
          176.19168847567744,
          174.71003350271383,
          169.36181912607816,
          172.2070040019959,
          169.0929827598497,
          173.26198307552875,
          173.09396034663598,
          174.5175711041639,
          172.49926171831245,
          173.08683210965265,
          174.19680043991406,
          177.08780969643894,
          177.50022912190303,
          178.7150843677763,
          182.95333041415057,
          184.62439282695695,
          185.58772313927557,
          187.7710002953127,
          187.66815001883893,
          184.61828290954267,
          184.69262023808312,
          183.50118634229796,
          186.2750888483824,
          189.7750532071975,
          184.11217808372623,
          185.05616032423296,
          181.18145436400852,
          181.0001934807181,
          183.00933799044816,
          186.7934135090274,
          185.66918870479932,
          188.1599983706887,
          189.65998309589514,
          192.10802333988454,
          193.3300068227411,
          192.08562030936548,
          193.0937566827222,
          195.48171607213777,
          191.7108787079561,
          192.10802333988454,
          191.67014592519425,
          191.10905184264925,
          191.7923442734799,
          193.97969470779321,
          193.77603079398378,
          194.02959236667652,
          196.29942668608265,
          196.82284294457287,
          203.4704330913127,
          203.90627386686492,
          204.9581979816906,
          207.687294426737,
          203.13642427266524,
          199.41853952607406,
          198.78310811498864,
          197.45318275781304,
          202.35537316320608,
          202.6455942403845,
          202.63235608598688,
          200.62830317410211,
          194.29842873290494,
          197.66091994989867,
          196.1711184203827,
          197.991873809839,
          195.0092157920999,
          196.9796641582061,
          201.07229050620666,
          201.10284009327808,
          204.98569261005488,
          203.96940968014582,
          204.10790114153622,
          200.74235496583537,
          198.8533721652529,
          194.43997515300254,
          192.4267573649963,
          189.85753709229033,
          190.45834563802813,
          178.74054235700248,
          175.08579342369222,
          182.1376564393438,
          179.32098451135937,
          185.33008828830663,
          186.52865042107513,
          180.31588273031844,
          179.6346269386259,
          182.20792048960806,
          180.11018217737092,
          169.4687426808281,
          181.48185863687743,
          167.29055712263624,
          156.70716184152914,
          155.84566348611523,
          162.72848545330496,
          169.60417918351135,
          169.60417918351135,
          165.76205944949643,
          167.29055712263624,
          178.7649820266596,
          178.7059194916549,
          174.38009796234255,
          166.6836386594841,
          166.10523314426536,
          162.8303174102097,
          164.91074428977302,
          162.26005845154327,
          153.99945010743272,
          152.28561827272637,
          154.45158399608965,
          152.95770918829749,
          161.02992841213427,
          161.0390932882557,
          170.848565696887,
          170.4229081170253,
          172.11331860164358,
          180.48288713964214,
          169.8964368998279,
          173.03184285292411,
          165.89749595217972,
          167.10929623934584,
          167.33434486410525,
          169.401533589271,
          168.87608069164267,
          162.1073105161862,
          154.8772415759514,
          157.99024449852854,
          152.24692212910256,
          148.75917760511604,
          140.26842903840085,
          136.85807680166192,
          149.78462541114655,
          148.84166149020888,
          150.50966894430812,
          152.94854431217607,
          156.7326198307553,
          152.77644830500708,
          160.4250465881203,
          165.9361920958035,
          168.69278316921418,
          168.98198592682357,
          168.65612366472845,
          167.0614352196006,
          164.6836590258755,
          170.52372175436093,
          171.46261239702244,
          172.42390607020295,
          172.727365301779,
          166.20706510117006,
          167.00644596287205,
          168.5247604403214,
          170.11741224631115,
          166.78954389466503,
          162.3079194712885,
          170.1031557723445,
          175.02163929084224,
          165.60218327715603,
          166.3231535320414,
          168.91986843311167,
          167.0308856325292,
          164.3944562682661,
          161.73155059520778,
          162.01464343540292,
          166.8017637294936,
          167.00440932373397,
          165.23762487143716,
          163.74069510493783,
          165.73965641897738,
          165.18161729513957,
          164.91074428977302,
          166.14494760745816,
          166.29158562540096,
          166.63781427887702,
          167.11540615676012,
          166.98709789106016,
          170.23553731632063,
          172.72431034307186,
          172.34345882424824,
          169.9524444761255,
          165.57367032922272,
          165.04923575116345,
          170.12250384415637,
          170.37504709728006,
          172.1784910540626,
          171.71108237186994,
          174.3729697253592,
          177.40654372155072,
          179.4126332725736,
          183.01952118613863,
          185.25880591847334,
          179.70998258673535,
          180.67636785776114,
          181.64377144835592,
          179.80468630665675,
          180.59082901396118,
          181.33725725807273,
          184.74251789696643,
          184.72113318601643,
          185.40544393641613,
          185.21807313571145,
          187.09381778189632,
          188.37486379975763,
          186.94717976395353,
          188.1172289487887,
          187.78525676927933,
          187.68240649280557,
          187.86672233480311,
          189.7170089917618,
          189.8982698750522,
          189.57953584994044,
          192.18847058583924,
          195.90126373458517,
          193.65892404354335,
          193.7098400219957,
          198.63647009704584,
          197.39412022280834,
          196.18130161607317,
          194.65382226250242,
          193.56422032362195,
          199.84114214722865,
          198.62832354049345,
          195.61918921395915,
          195.2902719931569,
          193.46747996456247,
          192.46036191077485,
          185.6070712110875,
          187.3830205395057,
          190.54286616225906,
          194.2515860327288,
          190.3239274549139,
          189.3025529271596,
          189.15489658964776,
          189.37485361656198,
          184.8738811213735,
          185.6681703852303,
          187.0072606185273,
          185.25167768149004,
          184.95941996517345,
          180.75885174285392,
          172.36993513304347,
          176.12447938412032,
          177.0348570788485,
          178.64991191535725,
          183.7079052148145,
          189.47159397562143,
          189.7842180833189,
          188.93086628445738,
          190.45630899889002,
          190.39215486604007,
          192.0581256810012,
          193.62022789991954,
          194.37582102015253,
          195.33304141505687,
          194.63141923198336,
          194.89618231993566,
          191.26790969542063,
          193.25974277247687,
          193.91655889451226,
          192.83204855347705,
          195.74036924267574,
          196.97457256036088,
          197.452164438244,
          197.85032738974147,
          198.80856610421483,
          202.4724799136465,
          205.43680817914282,
          203.77287400331974,
          204.78406533538353,
          205.80136658486165,
          204.67205018278838,
          202.8523131129011,
          201.41342756183747,
          200.05091597845234,
          202.2005885887109,
          203.1028197268867,
          203.7463976945245,
          200.99795317766623,
          197.8645838637081,
          194.7485259824238,
          193.33102514231015,
          190.09786051058543,
          188.93086628445738,
          185.6640971069541,
          179.74664209122108,
          182.0582275129581,
          182.6254315129174,
          186.6467754910846,
          184.06940866182623,
          181.7618965183654,
          185.77611225954928,
          179.52566674473783,
          180.86577529760388,
          182.54091098868645,
          184.93905357379253,
          183.43805052901703,
          185.69464669402552,
          183.8677813871549,
          178.1672284396289,
          180.1274936100447,
          179.41059663343552,
          179.65702996914493,
          181.9126078145844,
          180.88308673027768,
          182.2629097463366,
          183.3606582417694,
          187.44411971364855,
          186.70991130436553,
          186.48995427745135,
          185.3901691428804,
          185.63863911772793,
          187.73230415168888,
          187.30359161312003,
          184.09588497062148,
          185.59383305668985,
          185.07550839604485,
          185.4869095019399,
          182.702823800165,
          181.80059266198919,
          177.35155446482213,
          180.07250435331613,
          177.1713119011008,
          175.70595004124195,
          176.77111231046527,
          176.74463600167005,
          174.46156352786633,
          175.60106312563008,
          177.15196382928892,
          176.44015845052496,
          173.6754208205619,
          175.3536114703516,
          175.17744218490648,
          176.36480280241545,
          176.82406492805575,
          179.9757639942567,
          180.99917516114908,
          182.02258632804146,
          178.97068257960714,
          181.83725216647488,
          179.8077412653639,
          179.4452194987831,
          181.34031221677986,
          179.35968065498312,
          180.9635339762324,
          179.50020875551166,
          181.25986497082516,
          180.92076455433246,
          182.42584087738413,
          183.7720593476645,
          183.47165507479556,
          182.86677325078156,
          182.09590533701288,
          181.85965519699394,
          180.4105864502398,
          181.05721937658475,
          178.52262196922638,
          178.67435158501442,
          177.13567071618414,
          178.46355943422165,
          178.49003574301688,
          177.75073573588864,
          176.64891396217962,
          177.77008380770053,
          180.63359843586113,
          182.98591664036007,
          185.1824319507948,
          183.37898799401228,
          181.42381442144173,
          180.23849044307084,
          179.29450820256415,
          177.2364843535198,
          178.36885571430025,
          178.1560269243694,
          177.10715776825083,
          178.07557967841467,
          179.25784869807842,
          179.31996619179031,
          180.1621164753923,
          182.3464119509985,
          181.6712660767202,
          182.51137972118408,
          181.92279101027484,
          182.5846987301555,
          182.19875561348664,
          190.3005061048258,
          190.40539302043766,
          188.07242288775066,
          188.16916324681011,
          193.2780725247197,
          190.93186423763507,
          193.7739941548457,
          194.17928534332643,
          192.66300750501523,
          193.58764167371004,
          191.7658679646847,
          192.59478009388906,
          190.368733515952,
          189.613140395719,
          191.23430514964207,
          189.88808667936172,
          192.66606246372237,
          192.20374537937496,
          191.91046934348935,
          189.5744442520952,
          186.18344008716815,
          188.72007413366464,
          189.20377592896202,
          190.49500514251383,
          204.55188847364082,
          204.0916080284315,
          208.72190710888893,
          207.7239539312227,
          208.77893300475554,
          211.73715135283757,
          217.30023115854218,
          219.02017291066284,
          219.9570269141862,
          218.92546919074144,
          217.39798983717068,
          219.5160945407888,
          220.99774951375238,
          219.25438641154366,
          213.43672671357723,
          204.60993268907652,
          200.8879746642091,
          201.5855235690064,
          191.88195639555605,
          191.82594881925846,
          198.97455219396952,
          194.39618741153348,
          201.2026354110447,
          195.9277400433804,
          193.5917149519862,
          183.35963992220036,
          192.6477327114795,
          185.42173704952089,
          170.73247726601562,
          181.77004307491777,
          172.00945000560077,
          184.09588497062148,
          186.35248113563,
          191.53878270078718,
          187.99095732222685,
          193.76890255700044,
          197.5641795908392,
          192.0387776091893,
          199.13137340760278,
          193.49090131465056,
          199.99287176301667,
          198.5438030162626,
          194.2648241871264,
          195.3982138674759,
          194.15179071496215,
          203.4184987932913,
          204.8451645095264,
          208.04268795633445,
          208.01824828667733,
          220.86027637193104,
          232.51494383967577,
          234.99557030987464,
          245.23070029836762,
          241.8508976487001,
          243.74599036669687,
          237.07701550900703,
          240.6788118247268,
          244.34068899502043,
          245.43741917088417,
          241.95272960560484,
          235.64729483406484,
          241.6177024673883,
          251.93226138226697,
          232.79192676245663,
          235.8417938717528,
          236.02610971375037,
          239.4334069917822,
          241.0983594871743,
          242.32034297003088,
          245.31318418346046,
          240.01283082656997,
          241.12992739381474,
          243.2612702518304,
          245.39261310984614,
          247.07080375963585,
          249.42006700542763,
          254.37011843056587,
          249.1563222370444,
          248.15225914196395,
          246.6227431492551,
          245.45473060355798,
          244.50871172391317,
          248.7113165853708,
          251.63083878982903,
          251.77034857078846,
          252.38032199264774,
          250.5677131597438,
          252.84874899440945,
          257.02996914491706,
          264.85066343519924,
          269.59501430738993,
          260.48207248398694,
          259.1643669616399,
          261.98103888962436,
          266.3180619341962,
          268.9361615462164,
          270.25997698597774,
          272.4015030396839,
          276.353601287156,
          281.5052799869655,
          278.449302960255,
          280.50427185059215,
          274.22022179000214,
          272.9483406482622,
          280.93603934786813,
          293.14365434160544,
          294.32490504170016,
          311.30436553599253,
          305.5080905489761,
          313.755460738689,
          324.09344100365576,
          325.8622620950907,
          316.086394232238,
          314.0497550941436,
          306.3991201718923,
          305.48568751845704,
          301.62320139306115,
          325.5404731112718,
          319.57821203450067,
          315.66990152849763,
          304.1262308937791,
          306.40319345016854,
          311.1180130548569,
          305.5294752599261,
          308.91029622916267,
          310.77891263836415,
          322.2655573772161
         ]
        },
        {
         "line": {
          "color": "rgba(50, 171, 96, 1.0)",
          "dash": "solid",
          "shape": "linear",
          "width": 1.3
         },
         "mode": "lines",
         "name": "TSLA.O",
         "text": "",
         "type": "scatter",
         "x": [
          "2017-08-09",
          "2017-08-10",
          "2017-08-11",
          "2017-08-14",
          "2017-08-15",
          "2017-08-16",
          "2017-08-17",
          "2017-08-18",
          "2017-08-21",
          "2017-08-22",
          "2017-08-23",
          "2017-08-24",
          "2017-08-25",
          "2017-08-28",
          "2017-08-29",
          "2017-08-30",
          "2017-08-31",
          "2017-09-01",
          "2017-09-05",
          "2017-09-06",
          "2017-09-07",
          "2017-09-08",
          "2017-09-11",
          "2017-09-12",
          "2017-09-13",
          "2017-09-14",
          "2017-09-15",
          "2017-09-18",
          "2017-09-19",
          "2017-09-20",
          "2017-09-21",
          "2017-09-22",
          "2017-09-25",
          "2017-09-26",
          "2017-09-27",
          "2017-09-28",
          "2017-09-29",
          "2017-10-02",
          "2017-10-03",
          "2017-10-04",
          "2017-10-05",
          "2017-10-06",
          "2017-10-09",
          "2017-10-10",
          "2017-10-11",
          "2017-10-12",
          "2017-10-13",
          "2017-10-16",
          "2017-10-17",
          "2017-10-18",
          "2017-10-19",
          "2017-10-20",
          "2017-10-23",
          "2017-10-24",
          "2017-10-25",
          "2017-10-26",
          "2017-10-27",
          "2017-10-30",
          "2017-10-31",
          "2017-11-01",
          "2017-11-02",
          "2017-11-03",
          "2017-11-06",
          "2017-11-07",
          "2017-11-08",
          "2017-11-09",
          "2017-11-10",
          "2017-11-13",
          "2017-11-14",
          "2017-11-15",
          "2017-11-16",
          "2017-11-17",
          "2017-11-20",
          "2017-11-21",
          "2017-11-22",
          "2017-11-24",
          "2017-11-27",
          "2017-11-28",
          "2017-11-29",
          "2017-11-30",
          "2017-12-01",
          "2017-12-04",
          "2017-12-05",
          "2017-12-06",
          "2017-12-07",
          "2017-12-08",
          "2017-12-11",
          "2017-12-12",
          "2017-12-13",
          "2017-12-14",
          "2017-12-15",
          "2017-12-18",
          "2017-12-19",
          "2017-12-20",
          "2017-12-21",
          "2017-12-22",
          "2017-12-26",
          "2017-12-27",
          "2017-12-28",
          "2017-12-29",
          "2018-01-02",
          "2018-01-03",
          "2018-01-04",
          "2018-01-05",
          "2018-01-08",
          "2018-01-09",
          "2018-01-10",
          "2018-01-11",
          "2018-01-12",
          "2018-01-16",
          "2018-01-17",
          "2018-01-18",
          "2018-01-19",
          "2018-01-22",
          "2018-01-23",
          "2018-01-24",
          "2018-01-25",
          "2018-01-26",
          "2018-01-29",
          "2018-01-30",
          "2018-01-31",
          "2018-02-01",
          "2018-02-02",
          "2018-02-05",
          "2018-02-06",
          "2018-02-07",
          "2018-02-08",
          "2018-02-09",
          "2018-02-12",
          "2018-02-13",
          "2018-02-14",
          "2018-02-15",
          "2018-02-16",
          "2018-02-20",
          "2018-02-21",
          "2018-02-22",
          "2018-02-23",
          "2018-02-26",
          "2018-02-27",
          "2018-02-28",
          "2018-03-01",
          "2018-03-02",
          "2018-03-05",
          "2018-03-06",
          "2018-03-07",
          "2018-03-08",
          "2018-03-09",
          "2018-03-12",
          "2018-03-13",
          "2018-03-14",
          "2018-03-15",
          "2018-03-16",
          "2018-03-19",
          "2018-03-20",
          "2018-03-21",
          "2018-03-22",
          "2018-03-23",
          "2018-03-26",
          "2018-03-27",
          "2018-03-28",
          "2018-03-29",
          "2018-04-02",
          "2018-04-03",
          "2018-04-04",
          "2018-04-05",
          "2018-04-06",
          "2018-04-09",
          "2018-04-10",
          "2018-04-11",
          "2018-04-12",
          "2018-04-13",
          "2018-04-16",
          "2018-04-17",
          "2018-04-18",
          "2018-04-19",
          "2018-04-20",
          "2018-04-23",
          "2018-04-24",
          "2018-04-25",
          "2018-04-26",
          "2018-04-27",
          "2018-04-30",
          "2018-05-01",
          "2018-05-02",
          "2018-05-03",
          "2018-05-04",
          "2018-05-07",
          "2018-05-08",
          "2018-05-09",
          "2018-05-10",
          "2018-05-11",
          "2018-05-14",
          "2018-05-15",
          "2018-05-16",
          "2018-05-17",
          "2018-05-18",
          "2018-05-21",
          "2018-05-22",
          "2018-05-23",
          "2018-05-24",
          "2018-05-25",
          "2018-05-29",
          "2018-05-30",
          "2018-05-31",
          "2018-06-01",
          "2018-06-04",
          "2018-06-05",
          "2018-06-06",
          "2018-06-07",
          "2018-06-08",
          "2018-06-11",
          "2018-06-12",
          "2018-06-13",
          "2018-06-14",
          "2018-06-15",
          "2018-06-18",
          "2018-06-19",
          "2018-06-20",
          "2018-06-21",
          "2018-06-22",
          "2018-06-25",
          "2018-06-26",
          "2018-06-27",
          "2018-06-28",
          "2018-06-29",
          "2018-07-02",
          "2018-07-03",
          "2018-07-05",
          "2018-07-06",
          "2018-07-09",
          "2018-07-10",
          "2018-07-11",
          "2018-07-12",
          "2018-07-13",
          "2018-07-16",
          "2018-07-17",
          "2018-07-18",
          "2018-07-19",
          "2018-07-20",
          "2018-07-23",
          "2018-07-24",
          "2018-07-25",
          "2018-07-26",
          "2018-07-27",
          "2018-07-30",
          "2018-07-31",
          "2018-08-01",
          "2018-08-02",
          "2018-08-03",
          "2018-08-06",
          "2018-08-07",
          "2018-08-08",
          "2018-08-09",
          "2018-08-10",
          "2018-08-13",
          "2018-08-14",
          "2018-08-15",
          "2018-08-16",
          "2018-08-17",
          "2018-08-20",
          "2018-08-21",
          "2018-08-22",
          "2018-08-23",
          "2018-08-24",
          "2018-08-27",
          "2018-08-28",
          "2018-08-29",
          "2018-08-30",
          "2018-08-31",
          "2018-09-04",
          "2018-09-05",
          "2018-09-06",
          "2018-09-07",
          "2018-09-10",
          "2018-09-11",
          "2018-09-12",
          "2018-09-13",
          "2018-09-14",
          "2018-09-17",
          "2018-09-18",
          "2018-09-19",
          "2018-09-20",
          "2018-09-21",
          "2018-09-24",
          "2018-09-25",
          "2018-09-26",
          "2018-09-27",
          "2018-09-28",
          "2018-10-01",
          "2018-10-02",
          "2018-10-03",
          "2018-10-04",
          "2018-10-05",
          "2018-10-08",
          "2018-10-09",
          "2018-10-10",
          "2018-10-11",
          "2018-10-12",
          "2018-10-15",
          "2018-10-16",
          "2018-10-17",
          "2018-10-18",
          "2018-10-19",
          "2018-10-22",
          "2018-10-23",
          "2018-10-24",
          "2018-10-25",
          "2018-10-26",
          "2018-10-29",
          "2018-10-30",
          "2018-10-31",
          "2018-11-01",
          "2018-11-02",
          "2018-11-05",
          "2018-11-06",
          "2018-11-07",
          "2018-11-08",
          "2018-11-09",
          "2018-11-12",
          "2018-11-13",
          "2018-11-14",
          "2018-11-15",
          "2018-11-16",
          "2018-11-19",
          "2018-11-20",
          "2018-11-21",
          "2018-11-23",
          "2018-11-26",
          "2018-11-27",
          "2018-11-28",
          "2018-11-29",
          "2018-11-30",
          "2018-12-03",
          "2018-12-04",
          "2018-12-06",
          "2018-12-07",
          "2018-12-10",
          "2018-12-11",
          "2018-12-12",
          "2018-12-13",
          "2018-12-14",
          "2018-12-17",
          "2018-12-18",
          "2018-12-19",
          "2018-12-20",
          "2018-12-21",
          "2018-12-24",
          "2018-12-26",
          "2018-12-27",
          "2018-12-28",
          "2018-12-31",
          "2019-01-02",
          "2019-01-03",
          "2019-01-04",
          "2019-01-07",
          "2019-01-08",
          "2019-01-09",
          "2019-01-10",
          "2019-01-11",
          "2019-01-14",
          "2019-01-15",
          "2019-01-16",
          "2019-01-17",
          "2019-01-18",
          "2019-01-22",
          "2019-01-23",
          "2019-01-24",
          "2019-01-25",
          "2019-01-28",
          "2019-01-29",
          "2019-01-30",
          "2019-01-31",
          "2019-02-01",
          "2019-02-04",
          "2019-02-05",
          "2019-02-06",
          "2019-02-07",
          "2019-02-08",
          "2019-02-11",
          "2019-02-12",
          "2019-02-13",
          "2019-02-14",
          "2019-02-15",
          "2019-02-19",
          "2019-02-20",
          "2019-02-21",
          "2019-02-22",
          "2019-02-25",
          "2019-02-26",
          "2019-02-27",
          "2019-02-28",
          "2019-03-01",
          "2019-03-04",
          "2019-03-05",
          "2019-03-06",
          "2019-03-07",
          "2019-03-08",
          "2019-03-11",
          "2019-03-12",
          "2019-03-13",
          "2019-03-14",
          "2019-03-15",
          "2019-03-18",
          "2019-03-19",
          "2019-03-20",
          "2019-03-21",
          "2019-03-22",
          "2019-03-25",
          "2019-03-26",
          "2019-03-27",
          "2019-03-28",
          "2019-03-29",
          "2019-04-01",
          "2019-04-02",
          "2019-04-03",
          "2019-04-04",
          "2019-04-05",
          "2019-04-08",
          "2019-04-09",
          "2019-04-10",
          "2019-04-11",
          "2019-04-12",
          "2019-04-15",
          "2019-04-16",
          "2019-04-17",
          "2019-04-18",
          "2019-04-22",
          "2019-04-23",
          "2019-04-24",
          "2019-04-25",
          "2019-04-26",
          "2019-04-29",
          "2019-04-30",
          "2019-05-01",
          "2019-05-02",
          "2019-05-03",
          "2019-05-06",
          "2019-05-07",
          "2019-05-08",
          "2019-05-09",
          "2019-05-10",
          "2019-05-13",
          "2019-05-14",
          "2019-05-15",
          "2019-05-16",
          "2019-05-17",
          "2019-05-20",
          "2019-05-21",
          "2019-05-22",
          "2019-05-23",
          "2019-05-24",
          "2019-05-28",
          "2019-05-29",
          "2019-05-30",
          "2019-05-31",
          "2019-06-03",
          "2019-06-04",
          "2019-06-05",
          "2019-06-06",
          "2019-06-07",
          "2019-06-10",
          "2019-06-11",
          "2019-06-12",
          "2019-06-13",
          "2019-06-14",
          "2019-06-17",
          "2019-06-18",
          "2019-06-19",
          "2019-06-20",
          "2019-06-21",
          "2019-06-24",
          "2019-06-25",
          "2019-06-26",
          "2019-06-27",
          "2019-06-28",
          "2019-07-01",
          "2019-07-02",
          "2019-07-03",
          "2019-07-05",
          "2019-07-08",
          "2019-07-09",
          "2019-07-10",
          "2019-07-11",
          "2019-07-12",
          "2019-07-15",
          "2019-07-16",
          "2019-07-17",
          "2019-07-18",
          "2019-07-19",
          "2019-07-22",
          "2019-07-23",
          "2019-07-24",
          "2019-07-25",
          "2019-07-26",
          "2019-07-29",
          "2019-07-30",
          "2019-07-31",
          "2019-08-01",
          "2019-08-02",
          "2019-08-05",
          "2019-08-06",
          "2019-08-07",
          "2019-08-08",
          "2019-08-09",
          "2019-08-12",
          "2019-08-13",
          "2019-08-14",
          "2019-08-15",
          "2019-08-16",
          "2019-08-19",
          "2019-08-20",
          "2019-08-21",
          "2019-08-22",
          "2019-08-23",
          "2019-08-26",
          "2019-08-27",
          "2019-08-28",
          "2019-08-29",
          "2019-08-30",
          "2019-09-03",
          "2019-09-04",
          "2019-09-05",
          "2019-09-06",
          "2019-09-09",
          "2019-09-10",
          "2019-09-11",
          "2019-09-12",
          "2019-09-13",
          "2019-09-16",
          "2019-09-17",
          "2019-09-18",
          "2019-09-19",
          "2019-09-20",
          "2019-09-23",
          "2019-09-24",
          "2019-09-25",
          "2019-09-26",
          "2019-09-27",
          "2019-09-30",
          "2019-10-01",
          "2019-10-02",
          "2019-10-03",
          "2019-10-04",
          "2019-10-07",
          "2019-10-08",
          "2019-10-09",
          "2019-10-10",
          "2019-10-11",
          "2019-10-14",
          "2019-10-15",
          "2019-10-16",
          "2019-10-17",
          "2019-10-18",
          "2019-10-21",
          "2019-10-22",
          "2019-10-23",
          "2019-10-24",
          "2019-10-25",
          "2019-10-28",
          "2019-10-29",
          "2019-10-30",
          "2019-10-31",
          "2019-11-01",
          "2019-11-04",
          "2019-11-05",
          "2019-11-06",
          "2019-11-07",
          "2019-11-08",
          "2019-11-11",
          "2019-11-12",
          "2019-11-13",
          "2019-11-14",
          "2019-11-15",
          "2019-11-18",
          "2019-11-19",
          "2019-11-20",
          "2019-11-21",
          "2019-11-22",
          "2019-11-25",
          "2019-11-26",
          "2019-11-27",
          "2019-11-29",
          "2019-12-02",
          "2019-12-03",
          "2019-12-04",
          "2019-12-05",
          "2019-12-06",
          "2019-12-09",
          "2019-12-10",
          "2019-12-11",
          "2019-12-12",
          "2019-12-13",
          "2019-12-16",
          "2019-12-17",
          "2019-12-18",
          "2019-12-19",
          "2019-12-20",
          "2019-12-23",
          "2019-12-24",
          "2019-12-26",
          "2019-12-27",
          "2019-12-30",
          "2019-12-31",
          "2020-01-02",
          "2020-01-03",
          "2020-01-06",
          "2020-01-07",
          "2020-01-08",
          "2020-01-09",
          "2020-01-10",
          "2020-01-13",
          "2020-01-14",
          "2020-01-15",
          "2020-01-16",
          "2020-01-17",
          "2020-01-21",
          "2020-01-22",
          "2020-01-23",
          "2020-01-24",
          "2020-01-27",
          "2020-01-28",
          "2020-01-29",
          "2020-01-30",
          "2020-01-31",
          "2020-02-03",
          "2020-02-04",
          "2020-02-05",
          "2020-02-06",
          "2020-02-07",
          "2020-02-10",
          "2020-02-11",
          "2020-02-12",
          "2020-02-13",
          "2020-02-14",
          "2020-02-18",
          "2020-02-19",
          "2020-02-20",
          "2020-02-21",
          "2020-02-24",
          "2020-02-25",
          "2020-02-26",
          "2020-02-27",
          "2020-02-28",
          "2020-03-02",
          "2020-03-03",
          "2020-03-04",
          "2020-03-05",
          "2020-03-06",
          "2020-03-09",
          "2020-03-10",
          "2020-03-11",
          "2020-03-12",
          "2020-03-13",
          "2020-03-16",
          "2020-03-17",
          "2020-03-18",
          "2020-03-19",
          "2020-03-20",
          "2020-03-23",
          "2020-03-24",
          "2020-03-25",
          "2020-03-26",
          "2020-03-27",
          "2020-03-30",
          "2020-03-31",
          "2020-04-01",
          "2020-04-02",
          "2020-04-03",
          "2020-04-06",
          "2020-04-07",
          "2020-04-08",
          "2020-04-09",
          "2020-04-13",
          "2020-04-14",
          "2020-04-15",
          "2020-04-16",
          "2020-04-17",
          "2020-04-20",
          "2020-04-21",
          "2020-04-22",
          "2020-04-23",
          "2020-04-24",
          "2020-04-27",
          "2020-04-28",
          "2020-04-29",
          "2020-04-30",
          "2020-05-01",
          "2020-05-04",
          "2020-05-05",
          "2020-05-06",
          "2020-05-07",
          "2020-05-08",
          "2020-05-11",
          "2020-05-12",
          "2020-05-13",
          "2020-05-14",
          "2020-05-15",
          "2020-05-18",
          "2020-05-19",
          "2020-05-20",
          "2020-05-21",
          "2020-05-22",
          "2020-05-26",
          "2020-05-27",
          "2020-05-28",
          "2020-05-29",
          "2020-06-01",
          "2020-06-02",
          "2020-06-03",
          "2020-06-04",
          "2020-06-05",
          "2020-06-08",
          "2020-06-09",
          "2020-06-10",
          "2020-06-11",
          "2020-06-12",
          "2020-06-15",
          "2020-06-16",
          "2020-06-17",
          "2020-06-18",
          "2020-06-19",
          "2020-06-22",
          "2020-06-23",
          "2020-06-24",
          "2020-06-25",
          "2020-06-26",
          "2020-06-29",
          "2020-06-30",
          "2020-07-01",
          "2020-07-02",
          "2020-07-06",
          "2020-07-07",
          "2020-07-08",
          "2020-07-09",
          "2020-07-10",
          "2020-07-13",
          "2020-07-14",
          "2020-07-15",
          "2020-07-16",
          "2020-07-17",
          "2020-07-20",
          "2020-07-21",
          "2020-07-22",
          "2020-07-23",
          "2020-07-24",
          "2020-07-27",
          "2020-07-28",
          "2020-07-29",
          "2020-07-30",
          "2020-07-31"
         ],
         "y": [
          100,
          97.76359585178665,
          98.44304459054274,
          100.07427172447943,
          99.66990344675818,
          99.8294501141584,
          96.80631584738538,
          95.57945699116992,
          92.93868456523533,
          93.89871537424698,
          97.04013423926499,
          97.08414711303057,
          95.7417544631805,
          95.0843121613072,
          95.55194894506644,
          97.15291722828928,
          97.90113608230408,
          97.76359585178665,
          96.16537837317415,
          94.7734712403378,
          96.44596044342971,
          94.46263031936842,
          100.04401287376558,
          99.78543724039282,
          100.74271724479411,
          103.88138530520177,
          104.47830990564742,
          105.90597749841831,
          103.18268093417326,
          102.85533518554179,
          100.81148736005284,
          96.57799906472643,
          94.90000825241384,
          94.9715291722829,
          93.79418479905374,
          93.41732456743598,
          93.82994525898826,
          93.94822985723324,
          95.76651170467362,
          97.65631447198307,
          97.74434021951421,
          98.17071493411824,
          94.33609330729239,
          97.81586113938327,
          97.54353148295878,
          97.84061838087642,
          97.81035953016259,
          96.44320963881937,
          97.85987401314885,
          98.93268781118478,
          96.77605699667153,
          94.93026710312768,
          92.70761697796605,
          92.7956427254972,
          89.6322174235964,
          89.72299397573792,
          88.2650675322532,
          88.04775396803566,
          91.1974252468847,
          88.32283442907051,
          82.32057876929002,
          84.19937831815805,
          83.2888619921327,
          84.18837509971667,
          83.73174153439882,
          83.34662888895002,
          83.34662888895002,
          86.76037741039254,
          84.91733832145904,
          85.63254752014964,
          85.96264407339147,
          86.66409924903034,
          84.92834153990043,
          87.42332132148654,
          85.99015211949497,
          86.80163947954777,
          87.1482408604517,
          87.35180040161748,
          84.59824498665861,
          84.95860039061427,
          84.3204137210134,
          83.95455670783704,
          83.54193601628477,
          86.17170522377796,
          85.61604269248755,
          86.68610568591313,
          90.47671443897342,
          93.81068962671581,
          93.2605287046461,
          92.94693697906638,
          94.47638434242016,
          93.21651583088054,
          91.07914064863975,
          90.49597007124585,
          91.23318570681926,
          89.4561659285341,
          87.28027948174842,
          85.72607487690149,
          86.74937419195116,
          85.6463015432014,
          88.17154017550133,
          87.26927626330703,
          86.54581465078536,
          87.08497235441367,
          92.53981789673482,
          91.79159904272001,
          92.09693835446869,
          92.96344180672847,
          92.48755260913819,
          93.54386157951201,
          95.49693285285947,
          94.7844744587792,
          96.28366297141913,
          96.70728688141283,
          97.04563584848569,
          95.1475806673452,
          92.87816686380766,
          94.31133606579925,
          96.14887354551206,
          95.12832503507276,
          97.46375814925867,
          96.07185101642231,
          94.55890848073062,
          91.63755398454049,
          91.86862157180977,
          94.90275905702418,
          86.71361373201663,
          85.39047671443898,
          86.85115396253406,
          89.03254201854044,
          88.66118339614339,
          91.89475421560807,
          92.28674387258275,
          92.08868594063763,
          91.68431766291641,
          95.22460319643497,
          96.8420763073199,
          98.31925838307706,
          96.55049101862295,
          94.36910296261657,
          91.03237697026381,
          92.18496410199984,
          91.69807168596816,
          90.28140731163866,
          91.40923720188157,
          90.52897972657004,
          89.99807443677277,
          95.04305009215196,
          94.03350480015405,
          89.84953098781394,
          89.56619811294804,
          88.39710615354993,
          86.25422936208842,
          85.42623717437351,
          87.07121833136192,
          85.02737050587298,
          82.94776222044949,
          83.67397463758151,
          76.79696311171018,
          70.91024124556432,
          73.20716309520535,
          69.45231480207961,
          73.59227574065413,
          78.93158748934064,
          84.09759854757517,
          82.33158198773141,
          79.67980634335544,
          83.81701647731961,
          82.77996313921822,
          80.89566198112948,
          82.61766566720766,
          80.10618105795946,
          79.13789783511677,
          80.69485324457405,
          82.5461447473386,
          79.83935301075566,
          77.94955024344623,
          77.97430748493935,
          77.21233460787282,
          78.52997001622975,
          80.8942865788243,
          80.84614749814321,
          82.50213187357302,
          82.8404808406459,
          78.24663714136385,
          80.89841278573982,
          83.28611118752235,
          83.06604681869449,
          84.40843946854456,
          83.90504222485077,
          82.81572359915276,
          80.31524220834595,
          78.17236541688445,
          78.80505047726461,
          78.271394382857,
          76.14777322366793,
          78.25764035980525,
          75.64987758919484,
          76.76670426099635,
          76.43110609853383,
          76.70618655956869,
          78.0568316232498,
          80.24647209308723,
          78.32365967045362,
          80.27398013919071,
          81.6273760074822,
          80.08417462107667,
          87.88820730063544,
          86.95018292850659,
          87.38205925233132,
          91.3542211096746,
          94.28932962891646,
          94.84224135559651,
          98.40178252138752,
          98.5255687288532,
          102.00808736555442,
          96.97961653783733,
          99.63964459604436,
          95.59321101422167,
          91.7750942150579,
          91.6045443292163,
          94.07751767391963,
          94.76521882650675,
          96.25890572992601,
          94.33884411190273,
          92.17121007894809,
          85.51151211729432,
          85.04387533353507,
          84.972354413666,
          87.61587764421094,
          88.70519626990895,
          87.73966385167662,
          87.1207328143482,
          87.71490661018349,
          85.30245096690783,
          88.76571397133662,
          89.08480730613707,
          88.08901603719089,
          86.25973097130911,
          83.40439578576733,
          81.81718152559625,
          84.92834153990043,
          84.35342337633757,
          81.74841141033752,
          79.82009737848321,
          82.01248865293098,
          82.75520589772508,
          96.15162435012242,
          95.77476411850468,
          94.07476686930927,
          104.41229059499904,
          101.87329793964734,
          96.95210849173384,
          97.7883530932798,
          98.04142711743187,
          95.6289714741562,
          93.16700134789426,
          92.27574065414133,
          84.0370808461475,
          84.84581740158997,
          88.54840040711909,
          88.47687948725003,
          88.05325557725637,
          88.80147443127116,
          87.82493879459741,
          85.78659257832916,
          83.90229142024043,
          83.39064176271559,
          82.98077187577367,
          79.4844992160207,
          77.22608863092455,
          77.28385552774186,
          72.41218056281463,
          78.53547162545044,
          76.86848403157924,
          79.9218771490661,
          79.62479025114845,
          81.20375209748852,
          81.10472313151597,
          78.38692817649162,
          82.25455945864165,
          82.0647539405276,
          82.27656589552446,
          82.43611256292466,
          82.79646796688031,
          85.1594091271697,
          84.59274337743791,
          72.83305366819795,
          85.46749924352874,
          82.80472038071136,
          81.09371991307458,
          77.52592633345253,
          72.05732676807966,
          68.9241603168927,
          72.29114515995929,
          70.66266883063297,
          69.3835446868209,
          71.18532170659918,
          71.4081368800374,
          76.08450471762991,
          74.76136770005226,
          72.596484471708,
          71.5209198690617,
          71.78224630704482,
          80.91216680879157,
          79.36071300855501,
          86.61183396143373,
          91.02412455643277,
          92.11069237752044,
          90.7490440953979,
          92.79014111627652,
          94.70470112507908,
          95.29062250708333,
          93.91246939729871,
          93.81894204054687,
          95.77201331389433,
          96.66327400764723,
          96.41845239732622,
          91.128655131626,
          93.17800456633567,
          94.62767859598932,
          95.84903584298408,
          97.46375814925867,
          97.2326905619894,
          95.58770940500098,
          93.02946111737684,
          89.62946661898606,
          95.17783951805903,
          94.60567215910655,
          95.69223998019422,
          93.84920089126071,
          96.41019998349518,
          98.61359447638435,
          98.94644183423652,
          99.87071218331363,
          98.46917723434105,
          100.44563034687646,
          100.88850988914257,
          100.84449701537702,
          103.64756691332215,
          100.59967540505599,
          95.84353423376338,
          92.71036778257641,
          91.59354111077491,
          86.75487580117185,
          87.96247902511485,
          81.25601738508514,
          89.70098753885512,
          86.961186146948,
          91.84111352570628,
          91.54677743239898,
          85.30795257612851,
          82.62316727642836,
          87.39031166616236,
          92.14095122823426,
          92.24823260803787,
          93.12298847412869,
          94.89450664319314,
          95.52444089896295,
          91.98690617005474,
          94.74596319423432,
          95.19159354111079,
          95.5381949220147,
          83.14582015239458,
          82.22705141253817,
          79.11038978901328,
          80.18870519626992,
          81.70990014579266,
          81.52834704150965,
          81.82543393942728,
          84.93659395373146,
          84.45520314692048,
          85.88287073969137,
          86.06992545319507,
          88.39710615354993,
          87.26102384947598,
          84.58999257282755,
          84.11960498445796,
          86.05617143014331,
          85.77283855527743,
          84.77154567711057,
          83.56119164855721,
          84.69177234341045,
          84.07559211069238,
          83.22834429070504,
          80.11168266718016,
          81.06896267158143,
          82.18578934338294,
          81.93546612384124,
          86.57882430610955,
          87.99273787582868,
          81.09096910846424,
          78.49696036090558,
          76.07075069457817,
          75.98822655626772,
          76.08450471762991,
          78.16136219844306,
          80.02640772425936,
          77.94679943883587,
          79.48725002063104,
          79.76233048166588,
          75.76541138282948,
          74.13143344428246,
          73.57577091299207,
          75.26201413913572,
          75.37754793277034,
          72.76703435754958,
          71.63645366269635,
          73.6582950513025,
          75.60036310620856,
          76.64291805353066,
          76.98401782521388,
          79.54776772205872,
          78.64000220064369,
          80.27122933458037,
          73.66104585591286,
          75.6361235661431,
          75.15198195472176,
          74.90716034440075,
          75.93871207328145,
          73.83709735097517,
          73.63903941903007,
          73.27593321046406,
          75.19599482848734,
          74.6100734464831,
          75.16848678238385,
          72.27739113690755,
          72.59373366709762,
          71.15231205127502,
          68.11817456606057,
          64.68241960773527,
          66.42367892608588,
          65.65895524440899,
          64.37157868676589,
          67.14714053860754,
          70.15376997771848,
          70.23904492063929,
          67.96137870327071,
          67.35070007977335,
          66.56396996121366,
          65.88727202706792,
          62.44601545952191,
          63.90394190300663,
          63.80491293703409,
          62.80912166808792,
          58.05022969218497,
          56.49052347811736,
          56.41350094902759,
          53.016257255247154,
          53.77547932770336,
          52.43858828707397,
          51.90768299727671,
          52.226776332077144,
          51.77564437597998,
          50.93389816521333,
          49.23115011140759,
          53.255577256347486,
          54.07806783484169,
          56.65282095012791,
          56.25395428162739,
          58.55912854509945,
          59.71996809066652,
          57.563337276153284,
          58.84246141996534,
          59.12029268561054,
          61.9013561466729,
          61.8215828129728,
          62.28646879212171,
          60.41317085247435,
          61.02935108519243,
          61.51899430583446,
          60.45168211701923,
          60.31689269111216,
          61.298929937006584,
          61.46947982284819,
          62.49002833328748,
          61.76931752537618,
          64.61640029708691,
          64.12125546722417,
          63.36203339476798,
          63.28501086567822,
          65.722223750447,
          65.63419800291585,
          67.4167193904217,
          69.73289687233516,
          69.42480675597614,
          70.10700629934257,
          69.74390009077655,
          71.02027342997827,
          70.33257227739115,
          71.56768354743764,
          72.86331251891178,
          62.943911093995,
          62.729348334387815,
          64.85572029818722,
          66.64099249030342,
          66.46219019063076,
          64.3275658130003,
          64.46235523890739,
          62.80637086347757,
          63.474816383792266,
          64.20928121475532,
          65.5516738646054,
          64.64665914780073,
          62.99617638159162,
          64.64390834319039,
          60.41317085247435,
          59.31835061755564,
          60.5011966000055,
          62.39650097653564,
          62.12967292933184,
          60.746018210326525,
          61.109124418892534,
          58.152009462767865,
          59.142299122493334,
          58.88922509834127,
          59.3045965945039,
          60.98808901603719,
          62.060902814073124,
          61.89585453745221,
          60.7047561411713,
          63.15297224438149,
          62.56705086237725,
          63.76090006326851,
          64.79245179214921,
          67.9723819217121,
          67.63403295463924,
          67.44972904574588,
          66.79228674387258,
          67.33694605672159,
          66.97934145737628,
          67.83484169119468,
          66.18986053420626,
          66.35765961543751,
          61.40070970758947,
          62.910901438670805,
          66.72351662861388,
          66.60523203036888,
          66.25863064946498,
          67.30943801061811,
          66.88031249140374,
          64.10199983495173,
          63.661871097295965,
          65.39212719720518,
          66.0330646714164,
          67.26542513685253,
          67.32319203366986,
          68.18969548592963,
          70.68467526751576,
          70.94050009627816,
          71.452149753803,
          72.06282837730036,
          70.6819244629054,
          69.73289687233516,
          70.30506423128766,
          70.05749181635629,
          82.43611256292466,
          90.26215167936623,
          90.14661788573157,
          86.98594338844113,
          86.65309603058896,
          86.62833878909582,
          86.18545924682971,
          87.3297939647347,
          87.26102384947598,
          89.83577696476219,
          92.30049789563448,
          92.74062663329023,
          94.92751629851732,
          96.25890572992601,
          95.20809836877288,
          96.0993590625258,
          96.87508596264408,
          96.2754105575881,
          98.89692735125024,
          96.88883998569582,
          97.60679998899678,
          91.61279674304735,
          92.52056226446236,
          90.47946524358376,
          91.13140593623636,
          90.76004731383931,
          92.11619398674114,
          92.48205099991748,
          91.610045938437,
          90.87833191208429,
          92.39677605699667,
          93.39806893516354,
          95.959068027398,
          97.02087860699254,
          98.94094022501582,
          98.58608643028086,
          104.9431958847963,
          104.25274392759883,
          108.14788325585234,
          111.1435094765219,
          111.56988419112591,
          115.31923087503095,
          116.97796605507111,
          118.54317387835943,
          118.3891288201799,
          114.0758671911534,
          115.07440926470993,
          118.35611916485573,
          121.8633950430501,
          124.20983137567741,
          129.029241053008,
          135.37809809369242,
          132.40722911451599,
          131.52972244381482,
          144.3787307787528,
          147.97128159986798,
          142.62921904657114,
          141.25106593678652,
          140.4285753582923,
          150.52402827827143,
          156.6748273870107,
          157.40103980414273,
          155.37094600170553,
          153.50039886666852,
          155.943113360658,
          159.8189970566391,
          176.27431023574397,
          178.95909553544413,
          214.56275960718511,
          244.01287376557644,
          202.1016147223063,
          206.02426209666328,
          205.77944048634228,
          212.1640579869612,
          213.01680741616926,
          211.06648694743214,
          221.16469067202158,
          220.07262124171322,
          236.12906775231755,
          252.36431656259458,
          247.41011745935685,
          247.84749539240232,
          229.35933760624985,
          220.03961158638901,
          214.23266305394327,
          186.77963304266498,
          183.75099716667128,
          204.55533243473715,
          205.07523450609307,
          206.17280554562208,
          199.3067972381922,
          193.5136027287982,
          167.24892030919045,
          177.51767391962153,
          174.46428080213465,
          154.19635243308667,
          150.3644816108712,
          122.43006079278189,
          118.33961433719364,
          99.3645641350095,
          117.63540835694441,
          117.60514950623057,
          119.4646934228262,
          138.91563282260063,
          148.33713861304432,
          145.2864963001678,
          141.49038593788686,
          138.1261518994306,
          144.14216158226282,
          132.46774681594366,
          125.01581712650953,
          132.04137210133965,
          142.00753720463237,
          150.04263747146044,
          150.97516023436856,
          157.6211041729706,
          179.0636261106374,
          195.27686848403158,
          200.76197287706657,
          204.99271036778262,
          207.38040876956512,
          205.30905289797266,
          188.90325420185405,
          201.389156328226,
          194.10502572002312,
          199.47459631942343,
          219.72051825158863,
          211.5698841911259,
          220.20465986300994,
          215.07991087393066,
          192.91942893296292,
          209.38849613511957,
          211.3195609715842,
          215.27246719665504,
          214.57376282562652,
          225.406431381179,
          223.17002723296565,
          222.6528759662201,
          217.5776414601271,
          220.98038676312822,
          219.83605204522325,
          223.8137155117872,
          222.26776332077134,
          224.34462080158445,
          227.6565895524441,
          224.70772701015048,
          225.25513712760983,
          225.62924655461725,
          221.66258630649466,
          229.692184964102,
          247.0497620554012,
          242.49993122988474,
          242.88504387533357,
          237.774048909306,
          243.62776112012762,
          261.30443154622725,
          258.75993728165486,
          281.9712265837758,
          267.60927571314613,
          257.27725359667704,
          272.5772288394356,
          270.1647731961599,
          272.8220504497566,
          276.1697796605508,
          275.3280334497841,
          273.5180040161748,
          275.57010425549475,
          264.31106098533826,
          271.2238329711441,
          264.00572167358956,
          277.6524633455286,
          297.03463263004426,
          307.98833658845217,
          332.4787500343851,
          377.29485874618325,
          382.32332957390037,
          375.7269001182847,
          383.5391852116744,
          424.9030341374853,
          411.8119549968366,
          417.24204329766457,
          425.27714356449263,
          412.7967430473414,
          412.85175913954834,
          451.95719748026295,
          431.42519186862154,
          438.018870519627,
          416.2159931780046,
          389.7890132863863,
          423.5138778092592,
          406.1535499133497,
          412.37586994195806,
          409.17943498473306,
          393.5741204302259
         ]
        },
        {
         "line": {
          "color": "rgba(128, 0, 128, 1.0)",
          "dash": "solid",
          "shape": "linear",
          "width": 1.3
         },
         "mode": "lines",
         "name": ".SPX",
         "text": "",
         "type": "scatter",
         "x": [
          "2017-08-09",
          "2017-08-10",
          "2017-08-11",
          "2017-08-14",
          "2017-08-15",
          "2017-08-16",
          "2017-08-17",
          "2017-08-18",
          "2017-08-21",
          "2017-08-22",
          "2017-08-23",
          "2017-08-24",
          "2017-08-25",
          "2017-08-28",
          "2017-08-29",
          "2017-08-30",
          "2017-08-31",
          "2017-09-01",
          "2017-09-05",
          "2017-09-06",
          "2017-09-07",
          "2017-09-08",
          "2017-09-11",
          "2017-09-12",
          "2017-09-13",
          "2017-09-14",
          "2017-09-15",
          "2017-09-18",
          "2017-09-19",
          "2017-09-20",
          "2017-09-21",
          "2017-09-22",
          "2017-09-25",
          "2017-09-26",
          "2017-09-27",
          "2017-09-28",
          "2017-09-29",
          "2017-10-02",
          "2017-10-03",
          "2017-10-04",
          "2017-10-05",
          "2017-10-06",
          "2017-10-09",
          "2017-10-10",
          "2017-10-11",
          "2017-10-12",
          "2017-10-13",
          "2017-10-16",
          "2017-10-17",
          "2017-10-18",
          "2017-10-19",
          "2017-10-20",
          "2017-10-23",
          "2017-10-24",
          "2017-10-25",
          "2017-10-26",
          "2017-10-27",
          "2017-10-30",
          "2017-10-31",
          "2017-11-01",
          "2017-11-02",
          "2017-11-03",
          "2017-11-06",
          "2017-11-07",
          "2017-11-08",
          "2017-11-09",
          "2017-11-10",
          "2017-11-13",
          "2017-11-14",
          "2017-11-15",
          "2017-11-16",
          "2017-11-17",
          "2017-11-20",
          "2017-11-21",
          "2017-11-22",
          "2017-11-24",
          "2017-11-27",
          "2017-11-28",
          "2017-11-29",
          "2017-11-30",
          "2017-12-01",
          "2017-12-04",
          "2017-12-05",
          "2017-12-06",
          "2017-12-07",
          "2017-12-08",
          "2017-12-11",
          "2017-12-12",
          "2017-12-13",
          "2017-12-14",
          "2017-12-15",
          "2017-12-18",
          "2017-12-19",
          "2017-12-20",
          "2017-12-21",
          "2017-12-22",
          "2017-12-26",
          "2017-12-27",
          "2017-12-28",
          "2017-12-29",
          "2018-01-02",
          "2018-01-03",
          "2018-01-04",
          "2018-01-05",
          "2018-01-08",
          "2018-01-09",
          "2018-01-10",
          "2018-01-11",
          "2018-01-12",
          "2018-01-16",
          "2018-01-17",
          "2018-01-18",
          "2018-01-19",
          "2018-01-22",
          "2018-01-23",
          "2018-01-24",
          "2018-01-25",
          "2018-01-26",
          "2018-01-29",
          "2018-01-30",
          "2018-01-31",
          "2018-02-01",
          "2018-02-02",
          "2018-02-05",
          "2018-02-06",
          "2018-02-07",
          "2018-02-08",
          "2018-02-09",
          "2018-02-12",
          "2018-02-13",
          "2018-02-14",
          "2018-02-15",
          "2018-02-16",
          "2018-02-20",
          "2018-02-21",
          "2018-02-22",
          "2018-02-23",
          "2018-02-26",
          "2018-02-27",
          "2018-02-28",
          "2018-03-01",
          "2018-03-02",
          "2018-03-05",
          "2018-03-06",
          "2018-03-07",
          "2018-03-08",
          "2018-03-09",
          "2018-03-12",
          "2018-03-13",
          "2018-03-14",
          "2018-03-15",
          "2018-03-16",
          "2018-03-19",
          "2018-03-20",
          "2018-03-21",
          "2018-03-22",
          "2018-03-23",
          "2018-03-26",
          "2018-03-27",
          "2018-03-28",
          "2018-03-29",
          "2018-04-02",
          "2018-04-03",
          "2018-04-04",
          "2018-04-05",
          "2018-04-06",
          "2018-04-09",
          "2018-04-10",
          "2018-04-11",
          "2018-04-12",
          "2018-04-13",
          "2018-04-16",
          "2018-04-17",
          "2018-04-18",
          "2018-04-19",
          "2018-04-20",
          "2018-04-23",
          "2018-04-24",
          "2018-04-25",
          "2018-04-26",
          "2018-04-27",
          "2018-04-30",
          "2018-05-01",
          "2018-05-02",
          "2018-05-03",
          "2018-05-04",
          "2018-05-07",
          "2018-05-08",
          "2018-05-09",
          "2018-05-10",
          "2018-05-11",
          "2018-05-14",
          "2018-05-15",
          "2018-05-16",
          "2018-05-17",
          "2018-05-18",
          "2018-05-21",
          "2018-05-22",
          "2018-05-23",
          "2018-05-24",
          "2018-05-25",
          "2018-05-29",
          "2018-05-30",
          "2018-05-31",
          "2018-06-01",
          "2018-06-04",
          "2018-06-05",
          "2018-06-06",
          "2018-06-07",
          "2018-06-08",
          "2018-06-11",
          "2018-06-12",
          "2018-06-13",
          "2018-06-14",
          "2018-06-15",
          "2018-06-18",
          "2018-06-19",
          "2018-06-20",
          "2018-06-21",
          "2018-06-22",
          "2018-06-25",
          "2018-06-26",
          "2018-06-27",
          "2018-06-28",
          "2018-06-29",
          "2018-07-02",
          "2018-07-03",
          "2018-07-05",
          "2018-07-06",
          "2018-07-09",
          "2018-07-10",
          "2018-07-11",
          "2018-07-12",
          "2018-07-13",
          "2018-07-16",
          "2018-07-17",
          "2018-07-18",
          "2018-07-19",
          "2018-07-20",
          "2018-07-23",
          "2018-07-24",
          "2018-07-25",
          "2018-07-26",
          "2018-07-27",
          "2018-07-30",
          "2018-07-31",
          "2018-08-01",
          "2018-08-02",
          "2018-08-03",
          "2018-08-06",
          "2018-08-07",
          "2018-08-08",
          "2018-08-09",
          "2018-08-10",
          "2018-08-13",
          "2018-08-14",
          "2018-08-15",
          "2018-08-16",
          "2018-08-17",
          "2018-08-20",
          "2018-08-21",
          "2018-08-22",
          "2018-08-23",
          "2018-08-24",
          "2018-08-27",
          "2018-08-28",
          "2018-08-29",
          "2018-08-30",
          "2018-08-31",
          "2018-09-04",
          "2018-09-05",
          "2018-09-06",
          "2018-09-07",
          "2018-09-10",
          "2018-09-11",
          "2018-09-12",
          "2018-09-13",
          "2018-09-14",
          "2018-09-17",
          "2018-09-18",
          "2018-09-19",
          "2018-09-20",
          "2018-09-21",
          "2018-09-24",
          "2018-09-25",
          "2018-09-26",
          "2018-09-27",
          "2018-09-28",
          "2018-10-01",
          "2018-10-02",
          "2018-10-03",
          "2018-10-04",
          "2018-10-05",
          "2018-10-08",
          "2018-10-09",
          "2018-10-10",
          "2018-10-11",
          "2018-10-12",
          "2018-10-15",
          "2018-10-16",
          "2018-10-17",
          "2018-10-18",
          "2018-10-19",
          "2018-10-22",
          "2018-10-23",
          "2018-10-24",
          "2018-10-25",
          "2018-10-26",
          "2018-10-29",
          "2018-10-30",
          "2018-10-31",
          "2018-11-01",
          "2018-11-02",
          "2018-11-05",
          "2018-11-06",
          "2018-11-07",
          "2018-11-08",
          "2018-11-09",
          "2018-11-12",
          "2018-11-13",
          "2018-11-14",
          "2018-11-15",
          "2018-11-16",
          "2018-11-19",
          "2018-11-20",
          "2018-11-21",
          "2018-11-23",
          "2018-11-26",
          "2018-11-27",
          "2018-11-28",
          "2018-11-29",
          "2018-11-30",
          "2018-12-03",
          "2018-12-04",
          "2018-12-06",
          "2018-12-07",
          "2018-12-10",
          "2018-12-11",
          "2018-12-12",
          "2018-12-13",
          "2018-12-14",
          "2018-12-17",
          "2018-12-18",
          "2018-12-19",
          "2018-12-20",
          "2018-12-21",
          "2018-12-24",
          "2018-12-26",
          "2018-12-27",
          "2018-12-28",
          "2018-12-31",
          "2019-01-02",
          "2019-01-03",
          "2019-01-04",
          "2019-01-07",
          "2019-01-08",
          "2019-01-09",
          "2019-01-10",
          "2019-01-11",
          "2019-01-14",
          "2019-01-15",
          "2019-01-16",
          "2019-01-17",
          "2019-01-18",
          "2019-01-22",
          "2019-01-23",
          "2019-01-24",
          "2019-01-25",
          "2019-01-28",
          "2019-01-29",
          "2019-01-30",
          "2019-01-31",
          "2019-02-01",
          "2019-02-04",
          "2019-02-05",
          "2019-02-06",
          "2019-02-07",
          "2019-02-08",
          "2019-02-11",
          "2019-02-12",
          "2019-02-13",
          "2019-02-14",
          "2019-02-15",
          "2019-02-19",
          "2019-02-20",
          "2019-02-21",
          "2019-02-22",
          "2019-02-25",
          "2019-02-26",
          "2019-02-27",
          "2019-02-28",
          "2019-03-01",
          "2019-03-04",
          "2019-03-05",
          "2019-03-06",
          "2019-03-07",
          "2019-03-08",
          "2019-03-11",
          "2019-03-12",
          "2019-03-13",
          "2019-03-14",
          "2019-03-15",
          "2019-03-18",
          "2019-03-19",
          "2019-03-20",
          "2019-03-21",
          "2019-03-22",
          "2019-03-25",
          "2019-03-26",
          "2019-03-27",
          "2019-03-28",
          "2019-03-29",
          "2019-04-01",
          "2019-04-02",
          "2019-04-03",
          "2019-04-04",
          "2019-04-05",
          "2019-04-08",
          "2019-04-09",
          "2019-04-10",
          "2019-04-11",
          "2019-04-12",
          "2019-04-15",
          "2019-04-16",
          "2019-04-17",
          "2019-04-18",
          "2019-04-22",
          "2019-04-23",
          "2019-04-24",
          "2019-04-25",
          "2019-04-26",
          "2019-04-29",
          "2019-04-30",
          "2019-05-01",
          "2019-05-02",
          "2019-05-03",
          "2019-05-06",
          "2019-05-07",
          "2019-05-08",
          "2019-05-09",
          "2019-05-10",
          "2019-05-13",
          "2019-05-14",
          "2019-05-15",
          "2019-05-16",
          "2019-05-17",
          "2019-05-20",
          "2019-05-21",
          "2019-05-22",
          "2019-05-23",
          "2019-05-24",
          "2019-05-28",
          "2019-05-29",
          "2019-05-30",
          "2019-05-31",
          "2019-06-03",
          "2019-06-04",
          "2019-06-05",
          "2019-06-06",
          "2019-06-07",
          "2019-06-10",
          "2019-06-11",
          "2019-06-12",
          "2019-06-13",
          "2019-06-14",
          "2019-06-17",
          "2019-06-18",
          "2019-06-19",
          "2019-06-20",
          "2019-06-21",
          "2019-06-24",
          "2019-06-25",
          "2019-06-26",
          "2019-06-27",
          "2019-06-28",
          "2019-07-01",
          "2019-07-02",
          "2019-07-03",
          "2019-07-05",
          "2019-07-08",
          "2019-07-09",
          "2019-07-10",
          "2019-07-11",
          "2019-07-12",
          "2019-07-15",
          "2019-07-16",
          "2019-07-17",
          "2019-07-18",
          "2019-07-19",
          "2019-07-22",
          "2019-07-23",
          "2019-07-24",
          "2019-07-25",
          "2019-07-26",
          "2019-07-29",
          "2019-07-30",
          "2019-07-31",
          "2019-08-01",
          "2019-08-02",
          "2019-08-05",
          "2019-08-06",
          "2019-08-07",
          "2019-08-08",
          "2019-08-09",
          "2019-08-12",
          "2019-08-13",
          "2019-08-14",
          "2019-08-15",
          "2019-08-16",
          "2019-08-19",
          "2019-08-20",
          "2019-08-21",
          "2019-08-22",
          "2019-08-23",
          "2019-08-26",
          "2019-08-27",
          "2019-08-28",
          "2019-08-29",
          "2019-08-30",
          "2019-09-03",
          "2019-09-04",
          "2019-09-05",
          "2019-09-06",
          "2019-09-09",
          "2019-09-10",
          "2019-09-11",
          "2019-09-12",
          "2019-09-13",
          "2019-09-16",
          "2019-09-17",
          "2019-09-18",
          "2019-09-19",
          "2019-09-20",
          "2019-09-23",
          "2019-09-24",
          "2019-09-25",
          "2019-09-26",
          "2019-09-27",
          "2019-09-30",
          "2019-10-01",
          "2019-10-02",
          "2019-10-03",
          "2019-10-04",
          "2019-10-07",
          "2019-10-08",
          "2019-10-09",
          "2019-10-10",
          "2019-10-11",
          "2019-10-14",
          "2019-10-15",
          "2019-10-16",
          "2019-10-17",
          "2019-10-18",
          "2019-10-21",
          "2019-10-22",
          "2019-10-23",
          "2019-10-24",
          "2019-10-25",
          "2019-10-28",
          "2019-10-29",
          "2019-10-30",
          "2019-10-31",
          "2019-11-01",
          "2019-11-04",
          "2019-11-05",
          "2019-11-06",
          "2019-11-07",
          "2019-11-08",
          "2019-11-11",
          "2019-11-12",
          "2019-11-13",
          "2019-11-14",
          "2019-11-15",
          "2019-11-18",
          "2019-11-19",
          "2019-11-20",
          "2019-11-21",
          "2019-11-22",
          "2019-11-25",
          "2019-11-26",
          "2019-11-27",
          "2019-11-29",
          "2019-12-02",
          "2019-12-03",
          "2019-12-04",
          "2019-12-05",
          "2019-12-06",
          "2019-12-09",
          "2019-12-10",
          "2019-12-11",
          "2019-12-12",
          "2019-12-13",
          "2019-12-16",
          "2019-12-17",
          "2019-12-18",
          "2019-12-19",
          "2019-12-20",
          "2019-12-23",
          "2019-12-24",
          "2019-12-26",
          "2019-12-27",
          "2019-12-30",
          "2019-12-31",
          "2020-01-02",
          "2020-01-03",
          "2020-01-06",
          "2020-01-07",
          "2020-01-08",
          "2020-01-09",
          "2020-01-10",
          "2020-01-13",
          "2020-01-14",
          "2020-01-15",
          "2020-01-16",
          "2020-01-17",
          "2020-01-21",
          "2020-01-22",
          "2020-01-23",
          "2020-01-24",
          "2020-01-27",
          "2020-01-28",
          "2020-01-29",
          "2020-01-30",
          "2020-01-31",
          "2020-02-03",
          "2020-02-04",
          "2020-02-05",
          "2020-02-06",
          "2020-02-07",
          "2020-02-10",
          "2020-02-11",
          "2020-02-12",
          "2020-02-13",
          "2020-02-14",
          "2020-02-18",
          "2020-02-19",
          "2020-02-20",
          "2020-02-21",
          "2020-02-24",
          "2020-02-25",
          "2020-02-26",
          "2020-02-27",
          "2020-02-28",
          "2020-03-02",
          "2020-03-03",
          "2020-03-04",
          "2020-03-05",
          "2020-03-06",
          "2020-03-09",
          "2020-03-10",
          "2020-03-11",
          "2020-03-12",
          "2020-03-13",
          "2020-03-16",
          "2020-03-17",
          "2020-03-18",
          "2020-03-19",
          "2020-03-20",
          "2020-03-23",
          "2020-03-24",
          "2020-03-25",
          "2020-03-26",
          "2020-03-27",
          "2020-03-30",
          "2020-03-31",
          "2020-04-01",
          "2020-04-02",
          "2020-04-03",
          "2020-04-06",
          "2020-04-07",
          "2020-04-08",
          "2020-04-09",
          "2020-04-13",
          "2020-04-14",
          "2020-04-15",
          "2020-04-16",
          "2020-04-17",
          "2020-04-20",
          "2020-04-21",
          "2020-04-22",
          "2020-04-23",
          "2020-04-24",
          "2020-04-27",
          "2020-04-28",
          "2020-04-29",
          "2020-04-30",
          "2020-05-01",
          "2020-05-04",
          "2020-05-05",
          "2020-05-06",
          "2020-05-07",
          "2020-05-08",
          "2020-05-11",
          "2020-05-12",
          "2020-05-13",
          "2020-05-14",
          "2020-05-15",
          "2020-05-18",
          "2020-05-19",
          "2020-05-20",
          "2020-05-21",
          "2020-05-22",
          "2020-05-26",
          "2020-05-27",
          "2020-05-28",
          "2020-05-29",
          "2020-06-01",
          "2020-06-02",
          "2020-06-03",
          "2020-06-04",
          "2020-06-05",
          "2020-06-08",
          "2020-06-09",
          "2020-06-10",
          "2020-06-11",
          "2020-06-12",
          "2020-06-15",
          "2020-06-16",
          "2020-06-17",
          "2020-06-18",
          "2020-06-19",
          "2020-06-22",
          "2020-06-23",
          "2020-06-24",
          "2020-06-25",
          "2020-06-26",
          "2020-06-29",
          "2020-06-30",
          "2020-07-01",
          "2020-07-02",
          "2020-07-06",
          "2020-07-07",
          "2020-07-08",
          "2020-07-09",
          "2020-07-10",
          "2020-07-13",
          "2020-07-14",
          "2020-07-15",
          "2020-07-16",
          "2020-07-17",
          "2020-07-20",
          "2020-07-21",
          "2020-07-22",
          "2020-07-23",
          "2020-07-24",
          "2020-07-27",
          "2020-07-28",
          "2020-07-29",
          "2020-07-30",
          "2020-07-31"
         ],
         "y": [
          100,
          98.55255818465494,
          98.67826452494322,
          99.66936403101026,
          99.61964737552648,
          99.76111753340717,
          98.22111381476303,
          98.04084041357791,
          98.15482494078464,
          99.13056482971035,
          98.78820704763906,
          98.58327741893758,
          98.74819120298139,
          98.7962910566608,
          98.8795563495849,
          99.3358986588629,
          99.90420449309222,
          100.10226271412519,
          99.34640787059118,
          99.65723801747762,
          99.63945319762976,
          99.49111163208057,
          100.56951843558257,
          100.90783421314298,
          100.98422809839856,
          100.87307297434944,
          101.05940938230087,
          101.2065383464968,
          101.31890607189918,
          101.38317394362211,
          101.07436479899113,
          101.13984527206732,
          100.91510982126255,
          100.92238542938215,
          101.33466988949161,
          101.45673842572008,
          101.83264484523164,
          102.22714448549324,
          102.44783793178713,
          102.57556527433084,
          103.15478452073954,
          103.04403359714149,
          102.85810138964115,
          103.09698385623398,
          103.28291606373432,
          103.10870566931551,
          103.19924657035916,
          103.37992417199537,
          103.44944664958247,
          103.52624473528913,
          103.56019757318049,
          104.09010436455648,
          103.67660730309376,
          103.84435049029514,
          103.36011834989209,
          103.49148349649559,
          104.32696582889388,
          103.9939046571976,
          104.09212536681191,
          104.25784755175786,
          104.27765337386117,
          104.60060953428025,
          104.7335914826881,
          104.7137856605848,
          104.86495662929161,
          104.47045698903,
          104.37668248437765,
          104.47934939895393,
          104.23804172965457,
          103.66205608685459,
          104.51168543504095,
          104.23723332875238,
          104.37021527716024,
          105.05290983904739,
          104.97409075108528,
          105.18993379196611,
          105.14951374685735,
          106.18507530254404,
          106.14586785878855,
          107.01530302907818,
          106.79865158729515,
          106.68628386189279,
          106.28733801666922,
          106.27521200313659,
          106.58685055092522,
          107.17374960590456,
          107.51691578887801,
          107.68344637472616,
          107.63251711788911,
          107.19436382891003,
          108.15636090249876,
          108.73638854980963,
          108.3851383578144,
          108.29540585767295,
          108.5104404976516,
          108.46072384216781,
          108.34593091405891,
          108.4316214096895,
          108.63048803162465,
          108.06743680325948,
          108.96476180467418,
          109.66200758280047,
          110.1037986758393,
          110.87824674012336,
          111.06256214581936,
          111.20726590730877,
          111.08358056927592,
          111.86490004122844,
          112.61994648386026,
          112.22302164089216,
          113.27960162003541,
          113.09649881569268,
          113.59245276917729,
          114.5087751917931,
          114.75776266966315,
          114.6934947979402,
          114.7626130750762,
          116.12153499163304,
          115.33981131922944,
          114.08274791634668,
          114.13852757859677,
          114.06455889604771,
          111.64541919628783,
          107.0702742904261,
          108.93768037445129,
          108.39281816638507,
          104.32413642573626,
          105.88232916467935,
          107.35563980889403,
          107.63615492194889,
          109.07874633188091,
          110.39522720107355,
          110.43645564708449,
          109.79135172714854,
          109.18788045367458,
          109.29418517231066,
          111.04598992732477,
          112.35155738433804,
          110.92392139109629,
          109.69313101753421,
          108.23154218640107,
          108.7804463989782,
          109.98051753825757,
          110.27073346213854,
          110.21737900259498,
          110.70929095156869,
          112.63328509874617,
          112.48979393861003,
          111.77395493973373,
          111.13410562566189,
          111.04720252867801,
          111.23636833978708,
          109.65634877648525,
          109.8188373578225,
          109.61633293182756,
          106.85806905360506,
          104.61758595322594,
          107.4587109239214,
          105.60221825207556,
          105.29421750834673,
          106.74408452639832,
          104.35970606543196,
          105.67618693462461,
          106.89848909871384,
          107.63211291743802,
          105.27279488443908,
          105.6240450764343,
          107.39080524813865,
          106.79743898594192,
          107.67859596931308,
          107.36776582242666,
          108.23841359406958,
          109.39240588192496,
          109.4833509834197,
          108.85643608378268,
          107.92717924673202,
          107.93324225349836,
          106.489034041762,
          106.68466706008843,
          107.79783510238398,
          107.91788263635702,
          107.0343004502793,
          107.30713575476352,
          106.53390029183274,
          106.29380522388662,
          107.65555654360111,
          108.0278251590529,
          107.99912692702564,
          109.04479349398954,
          110.06661223433926,
          110.25456544409502,
          110.35197775280719,
          109.59693131017534,
          110.04195600682291,
          109.94777730171947,
          109.65836977874066,
          110.46838748272043,
          110.12198769613828,
          110.47970509535088,
          110.2561822458994,
          109.99628135585,
          108.72426253627701,
          110.1046070767415,
          109.34713543140313,
          110.53346375534554,
          111.028609307928,
          111.10661999498792,
          112.05851205729947,
          111.97848036798408,
          112.32851795862607,
          112.4485654925991,
          112.64460271137662,
          112.19108980525623,
          112.46837131470238,
          112.35398258704457,
          112.11510012045174,
          111.66401241703787,
          111.85519923040235,
          111.14542323829235,
          111.35237386924923,
          109.82409196368663,
          110.06620803388816,
          109.11916637698968,
          109.79337272940397,
          109.87663802232804,
          110.21374119853517,
          109.66847479001787,
          110.61389964511201,
          111.55204889208656,
          112.53627699048512,
          112.92713882668694,
          112.12601353263109,
          113.10700802742095,
          113.22907656364944,
          113.11266683373617,
          113.56213773534571,
          113.80748740915594,
          113.35761230709534,
          113.25009498710601,
          113.45825821941618,
          114.00069522477587,
          115.03827778271803,
          114.68945279342933,
          113.93683155350402,
          113.28121842183975,
          113.83456883937882,
          113.71613810721013,
          114.27635993241768,
          114.80707512469583,
          115.21329657803898,
          115.53867794116456,
          115.508362907333,
          115.34183232148487,
          114.52130540577686,
          114.06253789379228,
          114.79131130710343,
          113.91864253320507,
          114.82081794003282,
          115.20238316585963,
          115.48208987801232,
          115.72097234460514,
          115.67489349318114,
          115.47926047485468,
          116.195099473731,
          117.08636146837938,
          117.11788910356424,
          117.78562824876113,
          117.26380546640691,
          117.27956928399932,
          117.0855530674772,
          116.75734230119402,
          116.3309108252965,
          116.07343513795361,
          116.29372438379642,
          116.72864406916679,
          116.77027671562882,
          117.38708660398865,
          117.41942264007568,
          116.76542631021579,
          117.39234120985277,
          117.53947017404872,
          118.46104720252868,
          118.4173935538112,
          118.00106708919087,
          117.84706671732646,
          117.45943848473334,
          117.78401144695678,
          117.78320304605461,
          118.21205972465867,
          118.16517247233247,
          118.24924616615873,
          117.28320708805913,
          116.63486956451443,
          116.58879071309043,
          116.42347272859557,
          112.59731125859935,
          110.28083847341574,
          111.84751942183169,
          111.18705588475437,
          113.57709315203597,
          113.54839492000875,
          111.91421249626114,
          111.87379245115238,
          111.39279391435801,
          110.77881342915579,
          107.35968181340489,
          109.35926144493577,
          107.46436973023663,
          106.75944414353967,
          108.43202561014058,
          109.60865312325687,
          110.76587901472097,
          110.06620803388816,
          110.68261372179691,
          111.37541329496123,
          113.73756073111778,
          113.45219521264987,
          112.40854964794143,
          110.19393537643187,
          110.03063839419245,
          109.19798546495178,
          110.35480715596478,
          110.60015682977502,
          108.75942797552163,
          106.78531297240927,
          107.11029013508377,
          106.40819395154443,
          108.06096959604206,
          108.41343238939054,
          110.90411556899298,
          110.6603826969871,
          111.56619590787464,
          112.7868812701595,
          109.13654699638644,
          108.97042061098941,
          106.429212375001,
          106.61676138430569,
          106.57876654190348,
          107.1563689865078,
          107.13494636260015,
          105.09009628054744,
          102.90700964422277,
          102.91590205414668,
          101.3314362858829,
          99.73322770228212,
          97.67988941075659,
          95.03156805522994,
          99.74454531491257,
          100.59862086806089,
          100.47372292867477,
          101.32699008092092,
          101.45552582436683,
          98.94382422130784,
          102.34112901269998,
          103.05858481338066,
          104.05776832846945,
          104.48419980436698,
          104.95630593123741,
          104.9409463140961,
          104.38921269836136,
          105.50844374742323,
          105.74288000905409,
          106.54562210491427,
          107.95021867244404,
          106.42193676688143,
          106.65637302851229,
          106.80309779225713,
          107.70971940404685,
          106.86453626082246,
          106.7089190871537,
          108.36816193886874,
          109.29984397862589,
          109.3980646882402,
          110.13936831553504,
          110.65795749428055,
          110.41179941956815,
          109.37866306658799,
          109.45263174913704,
          109.53023823574588,
          110.9421104113952,
          111.27759678579802,
          110.982530456504,
          112.18987720390297,
          112.35802459155546,
          112.55769961439277,
          112.16077477142466,
          112.87984737390968,
          113.01889232908384,
          112.92956402939348,
          112.86812556082812,
          112.54921140491992,
          113.32527627100832,
          112.88550618022491,
          112.75777883768119,
          112.02213401670156,
          111.11187460085206,
          110.87501313651467,
          112.5011115512405,
          112.83336432203458,
          113.61751319714473,
          113.51888828707932,
          114.08476891860211,
          114.50756259043986,
          114.4926071737496,
          114.15550399754247,
          115.39437838012627,
          113.20482453658418,
          113.10983743057858,
          113.92228033726485,
          113.39318194679105,
          113.80021180103637,
          114.56657585629866,
          115.89194913541523,
          115.89397013767066,
          116.1429576155407,
          116.38507368574223,
          116.92468128794431,
          117.0471540246239,
          116.33697383206278,
          116.74157848360159,
          116.74602468856357,
          117.51764334968998,
          117.44367466714093,
          117.50349633390191,
          117.23631983573293,
          117.42144364233111,
          117.54027857495089,
          118.57947793469737,
          118.31957704464797,
          118.27592339593052,
          118.83008221437174,
          118.95740535646439,
          119.07058148276892,
          118.17729848586511,
          117.92629000573965,
          119.06290167419826,
          118.53056968011575,
          116.5734310959491,
          116.38628628709552,
          116.03463189464918,
          116.46631797641088,
          113.65591223999805,
          114.56698005674974,
          115.23593180329989,
          116.26098414725831,
          115.58233158988207,
          114.80222471928279,
          115.77756040775742,
          115.45056224282746,
          114.07506810777599,
          114.22947268009152,
          113.27273021236692,
          112.48979393861003,
          112.72584700204527,
          111.23838934204251,
          110.93079279876477,
          113.30829985206263,
          114.2331104841513,
          114.93399406633738,
          116.14053241283418,
          116.6817568168406,
          116.64093257128074,
          116.40326270604118,
          116.88021923832466,
          116.6918618281178,
          116.80059174946041,
          117.93558661611468,
          118.28764520901206,
          119.40808885942715,
          119.25772629162255,
          119.05117986111674,
          117.92063119942442,
          117.77511903703287,
          118.22539833954455,
          118.90607189917625,
          119.81835231728117,
          120.16919830882533,
          121.09117953775636,
          120.8725070937179,
          120.28803324144508,
          120.43677900744538,
          120.98002441370726,
          121.25649752225122,
          121.81671934745879,
          121.83814197136644,
          121.42343230855046,
          120.63039102351638,
          121.06248130572914,
          120.31471047121688,
          120.65504725103273,
          121.481232973056,
          122.05075140863858,
          121.4084768918602,
          122.30539769282383,
          122.10774367224192,
          121.79287152084461,
          120.46709404127695,
          119.38302843145973,
          118.51359326117009,
          114.98451912272334,
          116.4812733931011,
          116.5706016927915,
          118.75773033362707,
          117.97196465671256,
          116.56130508241647,
          118.28198640269683,
          114.81718013597302,
          115.10012045173441,
          116.7605759048027,
          118.17406488225642,
          117.23874503843948,
          118.20559251744125,
          118.14577085068025,
          115.08031462963113,
          116.34424944018238,
          115.9715766242795,
          116.73066507142222,
          118.21165552420756,
          118.28764520901206,
          117.47156449826599,
          118.74520011964333,
          120.29005424370054,
          120.3995925659453,
          120.38827495331483,
          120.42707819661926,
          121.29772596826218,
          121.64695515800197,
          121.55883945966484,
          121.17767843428912,
          121.49052958343101,
          121.53216222989305,
          121.53458743259958,
          120.93960436859848,
          120.92788255551694,
          119.9101058196781,
          120.64858004381533,
          120.35553471677673,
          119.71568540270492,
          120.31996507708102,
          118.845037631062,
          116.71732645653634,
          117.64779589494023,
          119.32037736154115,
          118.78602436520318,
          116.93761570237913,
          118.00227969054413,
          118.75934713543141,
          120.05844738522728,
          119.89191679937916,
          121.08552073144112,
          120.84340466123959,
          121.17727423383803,
          120.70233870381,
          121.53175802944196,
          121.09805094542484,
          121.44283393020268,
          121.67605759048028,
          122.1716073435138,
          122.85349350449874,
          122.75123079037355,
          123.15058083604822,
          122.77831222059643,
          123.96464054453884,
          124.42381225697447,
          124.27627909232746,
          124.36358638976242,
          124.70311476867609,
          125.02243312503536,
          124.77708345122514,
          124.9723122691005,
          125.06123636833979,
          125.1659242851715,
          126.12913396011349,
          126.19259343093428,
          126.11781634748304,
          125.64409341880827,
          125.44522679687311,
          125.7180621013573,
          126.66187015464709,
          126.93996006499543,
          127.46986685637143,
          126.95855328574548,
          125.8627658628467,
          125.02728353044841,
          125.81789961277599,
          126.00666122343391,
          127.1578241081317,
          126.75564465929945,
          126.61659970412526,
          126.98482631506619,
          128.07374233029645,
          128.08303894067146,
          128.9985529623851,
          129.04180241065148,
          128.98602274840138,
          129.56119999029917,
          130.2018577052732,
          130.31462963112668,
          130.28916500270816,
          130.9573083483561,
          130.9617545533181,
          130.20468710843082,
          130.58827333651305,
          131.68244395760746,
          130.75278292010572,
          131.21478403569898,
          130.84696162520916,
          131.48842774108536,
          132.36352171769025,
          131.98559429592322,
          132.906362923501,
          132.70507109885935,
          132.9532501758272,
          134.06560981722055,
          134.5833905950639,
          134.22648159675344,
          134.2652848400579,
          134.41847681102013,
          133.20304605459938,
          131.10767091616077,
          132.42576858715773,
          132.31097565904884,
          132.72568532186483,
          130.37566389924092,
          131.32149295478615,
          133.28873655023,
          134.78832022376537,
          135.23657852402164,
          134.50618830890616,
          135.49162900865798,
          135.7204064639736,
          136.59752144283394,
          136.37480699428463,
          136.62621967486115,
          136.2272738296376,
          136.8683357450627,
          136.3461087622574,
          134.9120055617982,
          130.39061931593113,
          126.44238930970648,
          125.9646243765208,
          120.40161356820076,
          119.4097056612315,
          124.90723599647538,
          121.39635087832758,
          126.51959159586421,
          122.22779120621499,
          120.1433294799557,
          111.01607909394427,
          116.49986661385114,
          110.80670326028084,
          100.26758069862005,
          109.57955069077856,
          96.44748223539018,
          102.22997388865087,
          96.93131017534216,
          97.38765248462016,
          93.16497037210694,
          90.43580892636277,
          98.92118899604692,
          100.0622468694675,
          106.30754803922362,
          102.72633204258655,
          106.1693114849516,
          104.46924438767675,
          99.85772144121712,
          102.13741198535178,
          100.5913452599413,
          107.66606575532937,
          107.49347216271492,
          111.15431564821627,
          112.76465024534967,
          111.62520917373344,
          115.03787358226691,
          112.50353675394702,
          113.15793728425803,
          116.18984486786688,
          114.11225454927607,
          110.61187864285655,
          113.14823647343191,
          113.08720220531767,
          114.66115876185316,
          116.34829144469325,
          115.7383529640019,
          118.81512679768151,
          117.720551976136,
          114.4174258898473,
          114.9036790325058,
          115.9424741918012,
          115.13326488872362,
          116.45782976693802,
          118.42264815967536,
          118.44366658313193,
          116.01037986758394,
          113.98452720673235,
          115.29817867276739,
          115.75088317798563,
          119.39717544724779,
          118.14536665022919,
          120.11261024567304,
          119.17890720366044,
          119.45942231671529,
          120.92747835506586,
          122.7205115560909,
          122.46182326739476,
          123.05114752508064,
          123.5127444402228,
          124.52688337200183,
          126.22654626882563,
          125.80132739428136,
          129.09879467425483,
          130.65334960913816,
          129.63436027194606,
          128.9456027032926,
          121.34501742103944,
          122.92988738975433,
          123.95170613010404,
          126.30213175317904,
          125.84740624570536,
          125.92218332915661,
          125.21079053524223,
          126.0240418428307,
          126.56688304864147,
          123.29447619663543,
          124.64571830462164,
          121.6259367345454,
          123.41209852790196,
          125.31386165026962,
          125.94320175261315,
          126.51514539090228,
          128.52442583325922,
          127.13397628151755,
          128.12911779209546,
          127.40600318509956,
          128.73946047323787,
          127.53413472809434,
          129.24390263619534,
          130.41770074615405,
          129.97348445040865,
          130.343732063605,
          131.43951948650377,
          131.66021293279763,
          132.4168761772338,
          130.78552315664385,
          129.9759096531152,
          130.93709832580174,
          130.08948997987082,
          131.70629178422163,
          131.21235883299244,
          132.21881795620084
         ]
        }
       ],
       "layout": {
        "legend": {
         "bgcolor": "#F5F6F9",
         "font": {
          "color": "#4D5663"
         }
        },
        "paper_bgcolor": "#F5F6F9",
        "plot_bgcolor": "#F5F6F9",
        "template": {
         "data": {
          "bar": [
           {
            "error_x": {
             "color": "#2a3f5f"
            },
            "error_y": {
             "color": "#2a3f5f"
            },
            "marker": {
             "line": {
              "color": "#E5ECF6",
              "width": 0.5
             }
            },
            "type": "bar"
           }
          ],
          "barpolar": [
           {
            "marker": {
             "line": {
              "color": "#E5ECF6",
              "width": 0.5
             }
            },
            "type": "barpolar"
           }
          ],
          "carpet": [
           {
            "aaxis": {
             "endlinecolor": "#2a3f5f",
             "gridcolor": "white",
             "linecolor": "white",
             "minorgridcolor": "white",
             "startlinecolor": "#2a3f5f"
            },
            "baxis": {
             "endlinecolor": "#2a3f5f",
             "gridcolor": "white",
             "linecolor": "white",
             "minorgridcolor": "white",
             "startlinecolor": "#2a3f5f"
            },
            "type": "carpet"
           }
          ],
          "choropleth": [
           {
            "colorbar": {
             "outlinewidth": 0,
             "ticks": ""
            },
            "type": "choropleth"
           }
          ],
          "contour": [
           {
            "colorbar": {
             "outlinewidth": 0,
             "ticks": ""
            },
            "colorscale": [
             [
              0,
              "#0d0887"
             ],
             [
              0.1111111111111111,
              "#46039f"
             ],
             [
              0.2222222222222222,
              "#7201a8"
             ],
             [
              0.3333333333333333,
              "#9c179e"
             ],
             [
              0.4444444444444444,
              "#bd3786"
             ],
             [
              0.5555555555555556,
              "#d8576b"
             ],
             [
              0.6666666666666666,
              "#ed7953"
             ],
             [
              0.7777777777777778,
              "#fb9f3a"
             ],
             [
              0.8888888888888888,
              "#fdca26"
             ],
             [
              1,
              "#f0f921"
             ]
            ],
            "type": "contour"
           }
          ],
          "contourcarpet": [
           {
            "colorbar": {
             "outlinewidth": 0,
             "ticks": ""
            },
            "type": "contourcarpet"
           }
          ],
          "heatmap": [
           {
            "colorbar": {
             "outlinewidth": 0,
             "ticks": ""
            },
            "colorscale": [
             [
              0,
              "#0d0887"
             ],
             [
              0.1111111111111111,
              "#46039f"
             ],
             [
              0.2222222222222222,
              "#7201a8"
             ],
             [
              0.3333333333333333,
              "#9c179e"
             ],
             [
              0.4444444444444444,
              "#bd3786"
             ],
             [
              0.5555555555555556,
              "#d8576b"
             ],
             [
              0.6666666666666666,
              "#ed7953"
             ],
             [
              0.7777777777777778,
              "#fb9f3a"
             ],
             [
              0.8888888888888888,
              "#fdca26"
             ],
             [
              1,
              "#f0f921"
             ]
            ],
            "type": "heatmap"
           }
          ],
          "heatmapgl": [
           {
            "colorbar": {
             "outlinewidth": 0,
             "ticks": ""
            },
            "colorscale": [
             [
              0,
              "#0d0887"
             ],
             [
              0.1111111111111111,
              "#46039f"
             ],
             [
              0.2222222222222222,
              "#7201a8"
             ],
             [
              0.3333333333333333,
              "#9c179e"
             ],
             [
              0.4444444444444444,
              "#bd3786"
             ],
             [
              0.5555555555555556,
              "#d8576b"
             ],
             [
              0.6666666666666666,
              "#ed7953"
             ],
             [
              0.7777777777777778,
              "#fb9f3a"
             ],
             [
              0.8888888888888888,
              "#fdca26"
             ],
             [
              1,
              "#f0f921"
             ]
            ],
            "type": "heatmapgl"
           }
          ],
          "histogram": [
           {
            "marker": {
             "colorbar": {
              "outlinewidth": 0,
              "ticks": ""
             }
            },
            "type": "histogram"
           }
          ],
          "histogram2d": [
           {
            "colorbar": {
             "outlinewidth": 0,
             "ticks": ""
            },
            "colorscale": [
             [
              0,
              "#0d0887"
             ],
             [
              0.1111111111111111,
              "#46039f"
             ],
             [
              0.2222222222222222,
              "#7201a8"
             ],
             [
              0.3333333333333333,
              "#9c179e"
             ],
             [
              0.4444444444444444,
              "#bd3786"
             ],
             [
              0.5555555555555556,
              "#d8576b"
             ],
             [
              0.6666666666666666,
              "#ed7953"
             ],
             [
              0.7777777777777778,
              "#fb9f3a"
             ],
             [
              0.8888888888888888,
              "#fdca26"
             ],
             [
              1,
              "#f0f921"
             ]
            ],
            "type": "histogram2d"
           }
          ],
          "histogram2dcontour": [
           {
            "colorbar": {
             "outlinewidth": 0,
             "ticks": ""
            },
            "colorscale": [
             [
              0,
              "#0d0887"
             ],
             [
              0.1111111111111111,
              "#46039f"
             ],
             [
              0.2222222222222222,
              "#7201a8"
             ],
             [
              0.3333333333333333,
              "#9c179e"
             ],
             [
              0.4444444444444444,
              "#bd3786"
             ],
             [
              0.5555555555555556,
              "#d8576b"
             ],
             [
              0.6666666666666666,
              "#ed7953"
             ],
             [
              0.7777777777777778,
              "#fb9f3a"
             ],
             [
              0.8888888888888888,
              "#fdca26"
             ],
             [
              1,
              "#f0f921"
             ]
            ],
            "type": "histogram2dcontour"
           }
          ],
          "mesh3d": [
           {
            "colorbar": {
             "outlinewidth": 0,
             "ticks": ""
            },
            "type": "mesh3d"
           }
          ],
          "parcoords": [
           {
            "line": {
             "colorbar": {
              "outlinewidth": 0,
              "ticks": ""
             }
            },
            "type": "parcoords"
           }
          ],
          "pie": [
           {
            "automargin": true,
            "type": "pie"
           }
          ],
          "scatter": [
           {
            "marker": {
             "colorbar": {
              "outlinewidth": 0,
              "ticks": ""
             }
            },
            "type": "scatter"
           }
          ],
          "scatter3d": [
           {
            "line": {
             "colorbar": {
              "outlinewidth": 0,
              "ticks": ""
             }
            },
            "marker": {
             "colorbar": {
              "outlinewidth": 0,
              "ticks": ""
             }
            },
            "type": "scatter3d"
           }
          ],
          "scattercarpet": [
           {
            "marker": {
             "colorbar": {
              "outlinewidth": 0,
              "ticks": ""
             }
            },
            "type": "scattercarpet"
           }
          ],
          "scattergeo": [
           {
            "marker": {
             "colorbar": {
              "outlinewidth": 0,
              "ticks": ""
             }
            },
            "type": "scattergeo"
           }
          ],
          "scattergl": [
           {
            "marker": {
             "colorbar": {
              "outlinewidth": 0,
              "ticks": ""
             }
            },
            "type": "scattergl"
           }
          ],
          "scattermapbox": [
           {
            "marker": {
             "colorbar": {
              "outlinewidth": 0,
              "ticks": ""
             }
            },
            "type": "scattermapbox"
           }
          ],
          "scatterpolar": [
           {
            "marker": {
             "colorbar": {
              "outlinewidth": 0,
              "ticks": ""
             }
            },
            "type": "scatterpolar"
           }
          ],
          "scatterpolargl": [
           {
            "marker": {
             "colorbar": {
              "outlinewidth": 0,
              "ticks": ""
             }
            },
            "type": "scatterpolargl"
           }
          ],
          "scatterternary": [
           {
            "marker": {
             "colorbar": {
              "outlinewidth": 0,
              "ticks": ""
             }
            },
            "type": "scatterternary"
           }
          ],
          "surface": [
           {
            "colorbar": {
             "outlinewidth": 0,
             "ticks": ""
            },
            "colorscale": [
             [
              0,
              "#0d0887"
             ],
             [
              0.1111111111111111,
              "#46039f"
             ],
             [
              0.2222222222222222,
              "#7201a8"
             ],
             [
              0.3333333333333333,
              "#9c179e"
             ],
             [
              0.4444444444444444,
              "#bd3786"
             ],
             [
              0.5555555555555556,
              "#d8576b"
             ],
             [
              0.6666666666666666,
              "#ed7953"
             ],
             [
              0.7777777777777778,
              "#fb9f3a"
             ],
             [
              0.8888888888888888,
              "#fdca26"
             ],
             [
              1,
              "#f0f921"
             ]
            ],
            "type": "surface"
           }
          ],
          "table": [
           {
            "cells": {
             "fill": {
              "color": "#EBF0F8"
             },
             "line": {
              "color": "white"
             }
            },
            "header": {
             "fill": {
              "color": "#C8D4E3"
             },
             "line": {
              "color": "white"
             }
            },
            "type": "table"
           }
          ]
         },
         "layout": {
          "annotationdefaults": {
           "arrowcolor": "#2a3f5f",
           "arrowhead": 0,
           "arrowwidth": 1
          },
          "coloraxis": {
           "colorbar": {
            "outlinewidth": 0,
            "ticks": ""
           }
          },
          "colorscale": {
           "diverging": [
            [
             0,
             "#8e0152"
            ],
            [
             0.1,
             "#c51b7d"
            ],
            [
             0.2,
             "#de77ae"
            ],
            [
             0.3,
             "#f1b6da"
            ],
            [
             0.4,
             "#fde0ef"
            ],
            [
             0.5,
             "#f7f7f7"
            ],
            [
             0.6,
             "#e6f5d0"
            ],
            [
             0.7,
             "#b8e186"
            ],
            [
             0.8,
             "#7fbc41"
            ],
            [
             0.9,
             "#4d9221"
            ],
            [
             1,
             "#276419"
            ]
           ],
           "sequential": [
            [
             0,
             "#0d0887"
            ],
            [
             0.1111111111111111,
             "#46039f"
            ],
            [
             0.2222222222222222,
             "#7201a8"
            ],
            [
             0.3333333333333333,
             "#9c179e"
            ],
            [
             0.4444444444444444,
             "#bd3786"
            ],
            [
             0.5555555555555556,
             "#d8576b"
            ],
            [
             0.6666666666666666,
             "#ed7953"
            ],
            [
             0.7777777777777778,
             "#fb9f3a"
            ],
            [
             0.8888888888888888,
             "#fdca26"
            ],
            [
             1,
             "#f0f921"
            ]
           ],
           "sequentialminus": [
            [
             0,
             "#0d0887"
            ],
            [
             0.1111111111111111,
             "#46039f"
            ],
            [
             0.2222222222222222,
             "#7201a8"
            ],
            [
             0.3333333333333333,
             "#9c179e"
            ],
            [
             0.4444444444444444,
             "#bd3786"
            ],
            [
             0.5555555555555556,
             "#d8576b"
            ],
            [
             0.6666666666666666,
             "#ed7953"
            ],
            [
             0.7777777777777778,
             "#fb9f3a"
            ],
            [
             0.8888888888888888,
             "#fdca26"
            ],
            [
             1,
             "#f0f921"
            ]
           ]
          },
          "colorway": [
           "#636efa",
           "#EF553B",
           "#00cc96",
           "#ab63fa",
           "#FFA15A",
           "#19d3f3",
           "#FF6692",
           "#B6E880",
           "#FF97FF",
           "#FECB52"
          ],
          "font": {
           "color": "#2a3f5f"
          },
          "geo": {
           "bgcolor": "white",
           "lakecolor": "white",
           "landcolor": "#E5ECF6",
           "showlakes": true,
           "showland": true,
           "subunitcolor": "white"
          },
          "hoverlabel": {
           "align": "left"
          },
          "hovermode": "closest",
          "mapbox": {
           "style": "light"
          },
          "paper_bgcolor": "white",
          "plot_bgcolor": "#E5ECF6",
          "polar": {
           "angularaxis": {
            "gridcolor": "white",
            "linecolor": "white",
            "ticks": ""
           },
           "bgcolor": "#E5ECF6",
           "radialaxis": {
            "gridcolor": "white",
            "linecolor": "white",
            "ticks": ""
           }
          },
          "scene": {
           "xaxis": {
            "backgroundcolor": "#E5ECF6",
            "gridcolor": "white",
            "gridwidth": 2,
            "linecolor": "white",
            "showbackground": true,
            "ticks": "",
            "zerolinecolor": "white"
           },
           "yaxis": {
            "backgroundcolor": "#E5ECF6",
            "gridcolor": "white",
            "gridwidth": 2,
            "linecolor": "white",
            "showbackground": true,
            "ticks": "",
            "zerolinecolor": "white"
           },
           "zaxis": {
            "backgroundcolor": "#E5ECF6",
            "gridcolor": "white",
            "gridwidth": 2,
            "linecolor": "white",
            "showbackground": true,
            "ticks": "",
            "zerolinecolor": "white"
           }
          },
          "shapedefaults": {
           "line": {
            "color": "#2a3f5f"
           }
          },
          "ternary": {
           "aaxis": {
            "gridcolor": "white",
            "linecolor": "white",
            "ticks": ""
           },
           "baxis": {
            "gridcolor": "white",
            "linecolor": "white",
            "ticks": ""
           },
           "bgcolor": "#E5ECF6",
           "caxis": {
            "gridcolor": "white",
            "linecolor": "white",
            "ticks": ""
           }
          },
          "title": {
           "x": 0.05
          },
          "xaxis": {
           "automargin": true,
           "gridcolor": "white",
           "linecolor": "white",
           "ticks": "",
           "title": {
            "standoff": 15
           },
           "zerolinecolor": "white",
           "zerolinewidth": 2
          },
          "yaxis": {
           "automargin": true,
           "gridcolor": "white",
           "linecolor": "white",
           "ticks": "",
           "title": {
            "standoff": 15
           },
           "zerolinecolor": "white",
           "zerolinewidth": 2
          }
         }
        },
        "title": {
         "font": {
          "color": "#4D5663"
         }
        },
        "xaxis": {
         "gridcolor": "#E1E5ED",
         "showgrid": true,
         "tickfont": {
          "color": "#4D5663"
         },
         "title": {
          "font": {
           "color": "#4D5663"
          },
          "text": ""
         },
         "zerolinecolor": "#E1E5ED"
        },
        "yaxis": {
         "gridcolor": "#E1E5ED",
         "showgrid": true,
         "tickfont": {
          "color": "#4D5663"
         },
         "title": {
          "font": {
           "color": "#4D5663"
          },
          "text": ""
         },
         "zerolinecolor": "#E1E5ED"
        }
       }
      },
      "text/html": [
       "<div>\n",
       "        \n",
       "        \n",
       "            <div id=\"458722ff-d1a1-4fc0-b32e-813e7eaa33d1\" class=\"plotly-graph-div\" style=\"height:525px; width:100%;\"></div>\n",
       "            <script type=\"text/javascript\">\n",
       "                require([\"plotly\"], function(Plotly) {\n",
       "                    window.PLOTLYENV=window.PLOTLYENV || {};\n",
       "                    window.PLOTLYENV.BASE_URL='https://plot.ly';\n",
       "                    \n",
       "                if (document.getElementById(\"458722ff-d1a1-4fc0-b32e-813e7eaa33d1\")) {\n",
       "                    Plotly.newPlot(\n",
       "                        '458722ff-d1a1-4fc0-b32e-813e7eaa33d1',\n",
       "                        [{\"line\": {\"color\": \"rgba(255, 153, 51, 1.0)\", \"dash\": \"solid\", \"shape\": \"linear\", \"width\": 1.3}, \"mode\": \"lines\", \"name\": \"AAPL.O\", \"text\": \"\", \"type\": \"scatter\", \"x\": [\"2017-08-09\", \"2017-08-10\", \"2017-08-11\", \"2017-08-14\", \"2017-08-15\", \"2017-08-16\", \"2017-08-17\", \"2017-08-18\", \"2017-08-21\", \"2017-08-22\", \"2017-08-23\", \"2017-08-24\", \"2017-08-25\", \"2017-08-28\", \"2017-08-29\", \"2017-08-30\", \"2017-08-31\", \"2017-09-01\", \"2017-09-05\", \"2017-09-06\", \"2017-09-07\", \"2017-09-08\", \"2017-09-11\", \"2017-09-12\", \"2017-09-13\", \"2017-09-14\", \"2017-09-15\", \"2017-09-18\", \"2017-09-19\", \"2017-09-20\", \"2017-09-21\", \"2017-09-22\", \"2017-09-25\", \"2017-09-26\", \"2017-09-27\", \"2017-09-28\", \"2017-09-29\", \"2017-10-02\", \"2017-10-03\", \"2017-10-04\", \"2017-10-05\", \"2017-10-06\", \"2017-10-09\", \"2017-10-10\", \"2017-10-11\", \"2017-10-12\", \"2017-10-13\", \"2017-10-16\", \"2017-10-17\", \"2017-10-18\", \"2017-10-19\", \"2017-10-20\", \"2017-10-23\", \"2017-10-24\", \"2017-10-25\", \"2017-10-26\", \"2017-10-27\", \"2017-10-30\", \"2017-10-31\", \"2017-11-01\", \"2017-11-02\", \"2017-11-03\", \"2017-11-06\", \"2017-11-07\", \"2017-11-08\", \"2017-11-09\", \"2017-11-10\", \"2017-11-13\", \"2017-11-14\", \"2017-11-15\", \"2017-11-16\", \"2017-11-17\", \"2017-11-20\", \"2017-11-21\", \"2017-11-22\", \"2017-11-24\", \"2017-11-27\", \"2017-11-28\", \"2017-11-29\", \"2017-11-30\", \"2017-12-01\", \"2017-12-04\", \"2017-12-05\", \"2017-12-06\", \"2017-12-07\", \"2017-12-08\", \"2017-12-11\", \"2017-12-12\", \"2017-12-13\", \"2017-12-14\", \"2017-12-15\", \"2017-12-18\", \"2017-12-19\", \"2017-12-20\", \"2017-12-21\", \"2017-12-22\", \"2017-12-26\", \"2017-12-27\", \"2017-12-28\", \"2017-12-29\", \"2018-01-02\", \"2018-01-03\", \"2018-01-04\", \"2018-01-05\", \"2018-01-08\", \"2018-01-09\", \"2018-01-10\", \"2018-01-11\", \"2018-01-12\", \"2018-01-16\", \"2018-01-17\", \"2018-01-18\", \"2018-01-19\", \"2018-01-22\", \"2018-01-23\", \"2018-01-24\", \"2018-01-25\", \"2018-01-26\", \"2018-01-29\", \"2018-01-30\", \"2018-01-31\", \"2018-02-01\", \"2018-02-02\", \"2018-02-05\", \"2018-02-06\", \"2018-02-07\", \"2018-02-08\", \"2018-02-09\", \"2018-02-12\", \"2018-02-13\", \"2018-02-14\", \"2018-02-15\", \"2018-02-16\", \"2018-02-20\", \"2018-02-21\", \"2018-02-22\", \"2018-02-23\", \"2018-02-26\", \"2018-02-27\", \"2018-02-28\", \"2018-03-01\", \"2018-03-02\", \"2018-03-05\", \"2018-03-06\", \"2018-03-07\", \"2018-03-08\", \"2018-03-09\", \"2018-03-12\", \"2018-03-13\", \"2018-03-14\", \"2018-03-15\", \"2018-03-16\", \"2018-03-19\", \"2018-03-20\", \"2018-03-21\", \"2018-03-22\", \"2018-03-23\", \"2018-03-26\", \"2018-03-27\", \"2018-03-28\", \"2018-03-29\", \"2018-04-02\", \"2018-04-03\", \"2018-04-04\", \"2018-04-05\", \"2018-04-06\", \"2018-04-09\", \"2018-04-10\", \"2018-04-11\", \"2018-04-12\", \"2018-04-13\", \"2018-04-16\", \"2018-04-17\", \"2018-04-18\", \"2018-04-19\", \"2018-04-20\", \"2018-04-23\", \"2018-04-24\", \"2018-04-25\", \"2018-04-26\", \"2018-04-27\", \"2018-04-30\", \"2018-05-01\", \"2018-05-02\", \"2018-05-03\", \"2018-05-04\", \"2018-05-07\", \"2018-05-08\", \"2018-05-09\", \"2018-05-10\", \"2018-05-11\", \"2018-05-14\", \"2018-05-15\", \"2018-05-16\", \"2018-05-17\", \"2018-05-18\", \"2018-05-21\", \"2018-05-22\", \"2018-05-23\", \"2018-05-24\", \"2018-05-25\", \"2018-05-29\", \"2018-05-30\", \"2018-05-31\", \"2018-06-01\", \"2018-06-04\", \"2018-06-05\", \"2018-06-06\", \"2018-06-07\", \"2018-06-08\", \"2018-06-11\", \"2018-06-12\", \"2018-06-13\", \"2018-06-14\", \"2018-06-15\", \"2018-06-18\", \"2018-06-19\", \"2018-06-20\", \"2018-06-21\", \"2018-06-22\", \"2018-06-25\", \"2018-06-26\", \"2018-06-27\", \"2018-06-28\", \"2018-06-29\", \"2018-07-02\", \"2018-07-03\", \"2018-07-05\", \"2018-07-06\", \"2018-07-09\", \"2018-07-10\", \"2018-07-11\", \"2018-07-12\", \"2018-07-13\", \"2018-07-16\", \"2018-07-17\", \"2018-07-18\", \"2018-07-19\", \"2018-07-20\", \"2018-07-23\", \"2018-07-24\", \"2018-07-25\", \"2018-07-26\", \"2018-07-27\", \"2018-07-30\", \"2018-07-31\", \"2018-08-01\", \"2018-08-02\", \"2018-08-03\", \"2018-08-06\", \"2018-08-07\", \"2018-08-08\", \"2018-08-09\", \"2018-08-10\", \"2018-08-13\", \"2018-08-14\", \"2018-08-15\", \"2018-08-16\", \"2018-08-17\", \"2018-08-20\", \"2018-08-21\", \"2018-08-22\", \"2018-08-23\", \"2018-08-24\", \"2018-08-27\", \"2018-08-28\", \"2018-08-29\", \"2018-08-30\", \"2018-08-31\", \"2018-09-04\", \"2018-09-05\", \"2018-09-06\", \"2018-09-07\", \"2018-09-10\", \"2018-09-11\", \"2018-09-12\", \"2018-09-13\", \"2018-09-14\", \"2018-09-17\", \"2018-09-18\", \"2018-09-19\", \"2018-09-20\", \"2018-09-21\", \"2018-09-24\", \"2018-09-25\", \"2018-09-26\", \"2018-09-27\", \"2018-09-28\", \"2018-10-01\", \"2018-10-02\", \"2018-10-03\", \"2018-10-04\", \"2018-10-05\", \"2018-10-08\", \"2018-10-09\", \"2018-10-10\", \"2018-10-11\", \"2018-10-12\", \"2018-10-15\", \"2018-10-16\", \"2018-10-17\", \"2018-10-18\", \"2018-10-19\", \"2018-10-22\", \"2018-10-23\", \"2018-10-24\", \"2018-10-25\", \"2018-10-26\", \"2018-10-29\", \"2018-10-30\", \"2018-10-31\", \"2018-11-01\", \"2018-11-02\", \"2018-11-05\", \"2018-11-06\", \"2018-11-07\", \"2018-11-08\", \"2018-11-09\", \"2018-11-12\", \"2018-11-13\", \"2018-11-14\", \"2018-11-15\", \"2018-11-16\", \"2018-11-19\", \"2018-11-20\", \"2018-11-21\", \"2018-11-23\", \"2018-11-26\", \"2018-11-27\", \"2018-11-28\", \"2018-11-29\", \"2018-11-30\", \"2018-12-03\", \"2018-12-04\", \"2018-12-06\", \"2018-12-07\", \"2018-12-10\", \"2018-12-11\", \"2018-12-12\", \"2018-12-13\", \"2018-12-14\", \"2018-12-17\", \"2018-12-18\", \"2018-12-19\", \"2018-12-20\", \"2018-12-21\", \"2018-12-24\", \"2018-12-26\", \"2018-12-27\", \"2018-12-28\", \"2018-12-31\", \"2019-01-02\", \"2019-01-03\", \"2019-01-04\", \"2019-01-07\", \"2019-01-08\", \"2019-01-09\", \"2019-01-10\", \"2019-01-11\", \"2019-01-14\", \"2019-01-15\", \"2019-01-16\", \"2019-01-17\", \"2019-01-18\", \"2019-01-22\", \"2019-01-23\", \"2019-01-24\", \"2019-01-25\", \"2019-01-28\", \"2019-01-29\", \"2019-01-30\", \"2019-01-31\", \"2019-02-01\", \"2019-02-04\", \"2019-02-05\", \"2019-02-06\", \"2019-02-07\", \"2019-02-08\", \"2019-02-11\", \"2019-02-12\", \"2019-02-13\", \"2019-02-14\", \"2019-02-15\", \"2019-02-19\", \"2019-02-20\", \"2019-02-21\", \"2019-02-22\", \"2019-02-25\", \"2019-02-26\", \"2019-02-27\", \"2019-02-28\", \"2019-03-01\", \"2019-03-04\", \"2019-03-05\", \"2019-03-06\", \"2019-03-07\", \"2019-03-08\", \"2019-03-11\", \"2019-03-12\", \"2019-03-13\", \"2019-03-14\", \"2019-03-15\", \"2019-03-18\", \"2019-03-19\", \"2019-03-20\", \"2019-03-21\", \"2019-03-22\", \"2019-03-25\", \"2019-03-26\", \"2019-03-27\", \"2019-03-28\", \"2019-03-29\", \"2019-04-01\", \"2019-04-02\", \"2019-04-03\", \"2019-04-04\", \"2019-04-05\", \"2019-04-08\", \"2019-04-09\", \"2019-04-10\", \"2019-04-11\", \"2019-04-12\", \"2019-04-15\", \"2019-04-16\", \"2019-04-17\", \"2019-04-18\", \"2019-04-22\", \"2019-04-23\", \"2019-04-24\", \"2019-04-25\", \"2019-04-26\", \"2019-04-29\", \"2019-04-30\", \"2019-05-01\", \"2019-05-02\", \"2019-05-03\", \"2019-05-06\", \"2019-05-07\", \"2019-05-08\", \"2019-05-09\", \"2019-05-10\", \"2019-05-13\", \"2019-05-14\", \"2019-05-15\", \"2019-05-16\", \"2019-05-17\", \"2019-05-20\", \"2019-05-21\", \"2019-05-22\", \"2019-05-23\", \"2019-05-24\", \"2019-05-28\", \"2019-05-29\", \"2019-05-30\", \"2019-05-31\", \"2019-06-03\", \"2019-06-04\", \"2019-06-05\", \"2019-06-06\", \"2019-06-07\", \"2019-06-10\", \"2019-06-11\", \"2019-06-12\", \"2019-06-13\", \"2019-06-14\", \"2019-06-17\", \"2019-06-18\", \"2019-06-19\", \"2019-06-20\", \"2019-06-21\", \"2019-06-24\", \"2019-06-25\", \"2019-06-26\", \"2019-06-27\", \"2019-06-28\", \"2019-07-01\", \"2019-07-02\", \"2019-07-03\", \"2019-07-05\", \"2019-07-08\", \"2019-07-09\", \"2019-07-10\", \"2019-07-11\", \"2019-07-12\", \"2019-07-15\", \"2019-07-16\", \"2019-07-17\", \"2019-07-18\", \"2019-07-19\", \"2019-07-22\", \"2019-07-23\", \"2019-07-24\", \"2019-07-25\", \"2019-07-26\", \"2019-07-29\", \"2019-07-30\", \"2019-07-31\", \"2019-08-01\", \"2019-08-02\", \"2019-08-05\", \"2019-08-06\", \"2019-08-07\", \"2019-08-08\", \"2019-08-09\", \"2019-08-12\", \"2019-08-13\", \"2019-08-14\", \"2019-08-15\", \"2019-08-16\", \"2019-08-19\", \"2019-08-20\", \"2019-08-21\", \"2019-08-22\", \"2019-08-23\", \"2019-08-26\", \"2019-08-27\", \"2019-08-28\", \"2019-08-29\", \"2019-08-30\", \"2019-09-03\", \"2019-09-04\", \"2019-09-05\", \"2019-09-06\", \"2019-09-09\", \"2019-09-10\", \"2019-09-11\", \"2019-09-12\", \"2019-09-13\", \"2019-09-16\", \"2019-09-17\", \"2019-09-18\", \"2019-09-19\", \"2019-09-20\", \"2019-09-23\", \"2019-09-24\", \"2019-09-25\", \"2019-09-26\", \"2019-09-27\", \"2019-09-30\", \"2019-10-01\", \"2019-10-02\", \"2019-10-03\", \"2019-10-04\", \"2019-10-07\", \"2019-10-08\", \"2019-10-09\", \"2019-10-10\", \"2019-10-11\", \"2019-10-14\", \"2019-10-15\", \"2019-10-16\", \"2019-10-17\", \"2019-10-18\", \"2019-10-21\", \"2019-10-22\", \"2019-10-23\", \"2019-10-24\", \"2019-10-25\", \"2019-10-28\", \"2019-10-29\", \"2019-10-30\", \"2019-10-31\", \"2019-11-01\", \"2019-11-04\", \"2019-11-05\", \"2019-11-06\", \"2019-11-07\", \"2019-11-08\", \"2019-11-11\", \"2019-11-12\", \"2019-11-13\", \"2019-11-14\", \"2019-11-15\", \"2019-11-18\", \"2019-11-19\", \"2019-11-20\", \"2019-11-21\", \"2019-11-22\", \"2019-11-25\", \"2019-11-26\", \"2019-11-27\", \"2019-11-29\", \"2019-12-02\", \"2019-12-03\", \"2019-12-04\", \"2019-12-05\", \"2019-12-06\", \"2019-12-09\", \"2019-12-10\", \"2019-12-11\", \"2019-12-12\", \"2019-12-13\", \"2019-12-16\", \"2019-12-17\", \"2019-12-18\", \"2019-12-19\", \"2019-12-20\", \"2019-12-23\", \"2019-12-24\", \"2019-12-26\", \"2019-12-27\", \"2019-12-30\", \"2019-12-31\", \"2020-01-02\", \"2020-01-03\", \"2020-01-06\", \"2020-01-07\", \"2020-01-08\", \"2020-01-09\", \"2020-01-10\", \"2020-01-13\", \"2020-01-14\", \"2020-01-15\", \"2020-01-16\", \"2020-01-17\", \"2020-01-21\", \"2020-01-22\", \"2020-01-23\", \"2020-01-24\", \"2020-01-27\", \"2020-01-28\", \"2020-01-29\", \"2020-01-30\", \"2020-01-31\", \"2020-02-03\", \"2020-02-04\", \"2020-02-05\", \"2020-02-06\", \"2020-02-07\", \"2020-02-10\", \"2020-02-11\", \"2020-02-12\", \"2020-02-13\", \"2020-02-14\", \"2020-02-18\", \"2020-02-19\", \"2020-02-20\", \"2020-02-21\", \"2020-02-24\", \"2020-02-25\", \"2020-02-26\", \"2020-02-27\", \"2020-02-28\", \"2020-03-02\", \"2020-03-03\", \"2020-03-04\", \"2020-03-05\", \"2020-03-06\", \"2020-03-09\", \"2020-03-10\", \"2020-03-11\", \"2020-03-12\", \"2020-03-13\", \"2020-03-16\", \"2020-03-17\", \"2020-03-18\", \"2020-03-19\", \"2020-03-20\", \"2020-03-23\", \"2020-03-24\", \"2020-03-25\", \"2020-03-26\", \"2020-03-27\", \"2020-03-30\", \"2020-03-31\", \"2020-04-01\", \"2020-04-02\", \"2020-04-03\", \"2020-04-06\", \"2020-04-07\", \"2020-04-08\", \"2020-04-09\", \"2020-04-13\", \"2020-04-14\", \"2020-04-15\", \"2020-04-16\", \"2020-04-17\", \"2020-04-20\", \"2020-04-21\", \"2020-04-22\", \"2020-04-23\", \"2020-04-24\", \"2020-04-27\", \"2020-04-28\", \"2020-04-29\", \"2020-04-30\", \"2020-05-01\", \"2020-05-04\", \"2020-05-05\", \"2020-05-06\", \"2020-05-07\", \"2020-05-08\", \"2020-05-11\", \"2020-05-12\", \"2020-05-13\", \"2020-05-14\", \"2020-05-15\", \"2020-05-18\", \"2020-05-19\", \"2020-05-20\", \"2020-05-21\", \"2020-05-22\", \"2020-05-26\", \"2020-05-27\", \"2020-05-28\", \"2020-05-29\", \"2020-06-01\", \"2020-06-02\", \"2020-06-03\", \"2020-06-04\", \"2020-06-05\", \"2020-06-08\", \"2020-06-09\", \"2020-06-10\", \"2020-06-11\", \"2020-06-12\", \"2020-06-15\", \"2020-06-16\", \"2020-06-17\", \"2020-06-18\", \"2020-06-19\", \"2020-06-22\", \"2020-06-23\", \"2020-06-24\", \"2020-06-25\", \"2020-06-26\", \"2020-06-29\", \"2020-06-30\", \"2020-07-01\", \"2020-07-02\", \"2020-07-06\", \"2020-07-07\", \"2020-07-08\", \"2020-07-09\", \"2020-07-10\", \"2020-07-13\", \"2020-07-14\", \"2020-07-15\", \"2020-07-16\", \"2020-07-17\", \"2020-07-20\", \"2020-07-21\", \"2020-07-22\", \"2020-07-23\", \"2020-07-24\", \"2020-07-27\", \"2020-07-28\", \"2020-07-29\", \"2020-07-30\", \"2020-07-31\"], \"y\": [100.0, 96.43611076617408, 97.77722587855456, 99.24872718241649, 100.33527877809512, 99.93170247112876, 98.01316279647338, 97.78964361107661, 97.60958648950702, 99.20526511858935, 99.32944244380975, 98.8886129392773, 99.25493604867752, 100.25456351670185, 101.14864025828882, 101.42183037377374, 101.82540668074009, 101.85645101204521, 100.63330435862412, 100.52775363218676, 100.12417732522042, 98.49124549857196, 100.2731901154849, 99.87582267477958, 99.12454985719607, 98.27393517943624, 99.26735378119955, 98.51608096361603, 98.55333416118216, 96.90177573575065, 95.23779957779709, 94.30646963864397, 93.47448155966721, 95.08257792127156, 95.75934434372283, 95.16950204892586, 95.6910468148516, 95.49857196075997, 95.91456600024834, 95.29367937414628, 96.47957283000123, 96.42369303365206, 96.75897181174717, 96.7962250093133, 97.19980131627966, 96.8583136719235, 97.47299143176457, 99.26735378119955, 99.63367689059977, 99.1928473860673, 96.84589593940146, 97.01353532844902, 96.96386439836085, 97.54128896063578, 97.11287718862536, 97.73376381472742, 101.23556438594312, 103.51421830373772, 104.95467527629454, 103.61976903017509, 104.37725071401962, 107.10294300260772, 108.18949459828634, 108.53719110890351, 109.42505898422948, 109.20153979883274, 108.45026698124923, 108.01564634297777, 106.38271451632933, 104.97951074133864, 106.23370172606481, 105.64385943126786, 105.5383087048305, 107.50031044331305, 108.63032410281883, 108.63653296907985, 108.09015273811002, 107.4568483794859, 105.22786539177946, 106.69936669564137, 106.20265739475971, 105.42654911213214, 105.32720725195578, 104.93604867751148, 105.12852353160311, 105.15956786290823, 107.20849372904506, 106.60623370172605, 106.96013907860424, 106.92909474729915, 108.01564634297777, 109.53681857692786, 108.36955171985593, 108.25158326089654, 108.66136843412393, 108.66136843412393, 105.90463181423071, 105.92325841301377, 106.22128399354278, 105.07264373525393, 106.95393021234322, 106.93530361356017, 107.43201291444183, 108.65515956786291, 108.25158326089654, 108.23916552837451, 108.21433006333044, 108.82900782317148, 109.95281261641625, 109.39401465292437, 111.2007947348814, 111.30013659505774, 110.80342729417609, 109.89693282006705, 109.92176828511113, 108.17086799950329, 106.23991059232584, 106.48826524276667, 104.2841177201043, 103.66943996026325, 103.95504780827021, 104.17235812740593, 99.65230348938283, 97.16254811871353, 101.2231466534211, 99.05625232832485, 96.33056003973675, 97.11287718862536, 101.02446293306842, 102.0365081336148, 103.91779461070409, 107.40717744939774, 107.05948093878057, 106.69936669564137, 106.21507512728175, 107.10294300260772, 108.96560288091395, 111.12007947348815, 110.75996523034893, 110.59232584130139, 108.65515956786291, 109.40643238544642, 109.78517322736867, 109.69204023345335, 108.67378616664598, 109.85967962250093, 111.74717496585123, 112.82751769526884, 111.74096609959021, 110.79100956165404, 110.92139575313549, 110.53023717869117, 108.84142555569353, 108.8041723581274, 106.33925245250218, 104.83670681733514, 102.40904010927605, 107.27058239165528, 104.5200546380231, 103.36520551347323, 104.17235812740593, 103.48938283869367, 104.5510989693282, 106.55035390537688, 107.28920899043834, 104.54489010306717, 105.58177076865765, 107.56860797218428, 107.06568980504159, 108.12119706941512, 108.48752017881533, 109.1642866012666, 110.66683223643363, 110.41847758599279, 107.28920899043834, 102.89333167763566, 102.59530609710667, 101.1672668570719, 101.60809636160437, 101.96200173848256, 100.78231714888861, 102.60772382962871, 104.99192847386067, 109.62995157084316, 109.82863529119582, 114.13758847634423, 114.96336768905996, 115.51595678629083, 116.32931826648453, 117.99329442443809, 117.09300881659009, 116.81981870110518, 115.75810257047064, 116.83844529988825, 116.09959021482679, 115.67738730907737, 116.4969576555321, 116.20514094126413, 116.95020489258663, 116.81981870110518, 117.08679995032907, 116.66459704457965, 116.41624239413883, 116.02508381969452, 118.11747174965852, 119.10468148516082, 120.02359369179187, 120.43958773128026, 120.11672668570719, 119.02396622376754, 118.73214950949955, 119.38408046690674, 118.40307959766545, 118.46516826027569, 117.24823047311561, 117.18614181050539, 115.29243760089408, 115.79535576803674, 115.1496336768906, 114.81435489879547, 113.10691667701475, 114.51012045200545, 114.3424810629579, 115.17446914193468, 114.93232335775487, 116.21755867378616, 114.1934682726934, 115.11238047932449, 116.7080591084068, 118.32857320253322, 118.18576927852973, 116.65217931205763, 118.60797218427915, 118.79423817210979, 118.5334657891469, 118.86874456724202, 118.21681360983484, 119.1357258164659, 118.862535700981, 118.96808642741836, 119.83111883770023, 120.96113249720601, 120.58239165528374, 118.57692785297405, 117.91257916304482, 118.14851608096362, 125.10865515956786, 128.76567738730907, 129.13820936297034, 129.80876691916055, 128.5918291320005, 128.6787532596548, 129.69079846020117, 128.85260151496337, 129.68458959394016, 130.23096982490995, 130.5352042717, 132.44753508009438, 135.0925121072892, 133.77623245995284, 133.51546007698994, 133.52166894325097, 133.79485905873588, 134.21085309822428, 135.31603129268595, 136.40879175462558, 138.44529988824038, 139.71811747174965, 141.33242269961502, 141.78566993666956, 140.86054886377747, 138.51980628337265, 137.40221035638893, 135.55817707686577, 138.9854712529492, 137.25940643238545, 140.57494101577052, 138.9792623866882, 135.27877809511983, 135.50229728051656, 135.58301254190985, 136.6136843412393, 135.14218303737738, 137.08555817707685, 137.95479945361976, 136.8558301254191, 139.6684465416615, 140.15894697628212, 141.1026946479573, 142.3568856326835, 144.08915931950824, 141.5559418850118, 139.25866136843413, 138.93580032286107, 140.86054886377747, 134.3350304234447, 133.1491369675897, 137.9051285235316, 134.95591704954677, 137.92996398857568, 137.3339128275177, 134.12392897056998, 136.16664597044578, 136.99863404942258, 138.2900782317149, 133.54650440829505, 136.4708804172358, 134.29777722587858, 131.77697752390415, 132.43511734757234, 135.88724698869987, 137.97342605240283, 128.82155718365826, 125.16453495591703, 126.51806780081958, 130.35514715013036, 129.44865267602137, 126.95268843909102, 120.55755619023965, 119.35303613560163, 115.9816217558674, 118.84390910219793, 120.16018874953434, 115.39798832733143, 109.884515087545, 109.76033776232458, 106.97255681112627, 108.41922264994412, 108.18328573202534, 112.34322612690922, 111.48019371662734, 110.87793368930834, 114.75226623618526, 109.70445796597541, 108.48131131255431, 104.61318763193842, 105.3023717869117, 104.70011175959269, 104.99192847386067, 106.1405687321495, 102.74431888737116, 101.78815348317396, 103.11064199677138, 99.89444927356263, 97.37364957158825, 93.58624115236557, 91.1647833105675, 97.58475102446292, 96.95144666583883, 97.00111759592698, 97.93865640134112, 98.05041599403947, 88.28386936545387, 92.05265118589345, 91.84775859927977, 93.59865888488763, 95.18812864770892, 95.49236309449896, 94.5548242890848, 93.13299391531106, 95.03911585744443, 96.2001738482553, 96.77138954426923, 97.3674407053272, 95.18191978144792, 95.56686948963117, 94.80938780578666, 97.95107413386314, 97.04457965975413, 96.03874332546877, 102.60151496336769, 103.34037004842915, 103.39004097851732, 106.32683471998013, 108.14603253445921, 108.18328573202534, 106.13435986588848, 105.80528995405439, 105.19682106047436, 106.10331553458336, 105.6624860300509, 106.04743573823421, 105.81149882031539, 106.12815099962747, 106.81112628833975, 106.20886626102073, 107.39475971687568, 108.17707686576429, 108.23916552837451, 108.57444430646963, 107.50651930957406, 108.63653296907985, 109.18291320004967, 108.98422947969702, 108.35713398733391, 107.10294300260772, 107.35750651930958, 111.076617409661, 112.32459952812617, 112.82130882900783, 114.075499813734, 115.55941885011798, 116.73910343971193, 115.81398236681981, 116.8260275673662, 121.12877188625357, 118.6203899168012, 117.18614181050539, 115.97541288960636, 117.01850242145784, 117.17372407798337, 117.93741462808892, 118.73835837576058, 120.46442319632436, 121.29020240904009, 121.50130386191482, 122.31466534210853, 124.23941388302495, 123.86688190736372, 124.56227492859804, 123.52539426300757, 123.4757233329194, 123.69924251831614, 123.7116602508382, 126.12070036011424, 126.57394759716875, 126.98994163665715, 128.82155718365826, 128.62287346330558, 127.4556066062337, 126.84713771265368, 127.03961256674532, 124.59331925990314, 130.70905252700857, 129.85843784924873, 131.47274307711413, 129.44244380976033, 125.95306097106669, 125.97789643611077, 124.62436359120825, 122.4264249348069, 115.31106419967713, 117.13647088041724, 118.53967465540791, 118.0181298894822, 117.34757233329194, 113.67813237302869, 115.85744443064696, 113.48565751893705, 111.54849124549857, 111.12007947348815, 110.6606233701726, 110.13286973798584, 110.70408543399977, 108.69862163169005, 107.59965230348938, 111.53607351297651, 113.33664472867252, 115.00062088662611, 118.06159195330932, 119.57034645473736, 120.954923630945, 120.5699739227617, 120.54513845771761, 119.66968831491369, 120.38370793493107, 123.21495094995653, 122.85483670681734, 123.84204644231964, 123.41984353657023, 123.29566621134983, 121.42679746678256, 124.05314789519434, 124.01589469762821, 122.88588103812243, 125.13969949087299, 125.87234570967341, 126.91543524152489, 126.80367564882651, 124.18974295293678, 124.94722463678131, 126.18278902272444, 125.26387681609339, 126.22625108655161, 127.41214454240657, 126.97131503787409, 126.25729541785668, 127.69154352415248, 125.78542158201913, 128.66012666087173, 129.6659629951571, 129.56041226871972, 128.5359493356513, 128.98298770644482, 130.18750776108283, 129.62870979759094, 132.27368682478578, 129.41139947845522, 126.67328945734508, 120.04222029057495, 122.31466534210853, 123.58127405935674, 126.30696634794486, 124.79200298025582, 124.47535080094374, 129.74667825655035, 125.88476344219546, 125.25766794983238, 128.21308829007822, 130.60350180057122, 130.60971066683226, 132.02533217434495, 131.9135725816466, 125.81646591332422, 128.2068794238172, 126.76021358499938, 127.61082826275923, 129.77151372159443, 129.60387433254687, 127.71637898919657, 129.8832733142928, 132.42269961505028, 132.41028188252824, 132.97528871228113, 134.54613187631938, 138.82404073016266, 138.51049298398112, 135.81894945982864, 136.53296907984603, 137.02967838072766, 138.31491369675896, 137.19110890351422, 135.18564510120453, 135.80032286104557, 135.15460076989942, 137.23457096734134, 136.526760213585, 135.86241152365577, 139.05997764808146, 139.44492735626474, 135.94933565131007, 137.10418477585992, 140.94747299143177, 140.97851732273688, 139.32695889730536, 140.9598907239538, 142.85980379982615, 146.65962995157085, 146.44852849869613, 146.10704085434, 145.51719855954303, 146.0822053892959, 146.78380727679126, 149.32944244380974, 148.9879547994536, 150.9872097355023, 151.23556438594312, 153.09822426424935, 154.6318142307215, 151.05550726437352, 151.03688066559045, 154.45175710915186, 158.8352166894325, 159.878306221284, 159.64857816962623, 159.71687569849746, 161.076617409661, 161.51744691419344, 162.7964733639637, 162.64746057369922, 164.20588600521546, 163.06966347944865, 165.0068297528871, 165.8388178318639, 165.33589966472124, 163.41115112380479, 162.67850490500433, 162.53570098100084, 165.3855705948094, 164.09412641251708, 166.29827393517942, 165.9319508257792, 164.01341115112382, 161.08903514218304, 162.5108655159568, 164.89507016018874, 168.08021855209236, 165.72705823916553, 166.69564137588478, 168.1174717496585, 168.54588352166894, 170.83695517198558, 173.76133118092636, 174.10281882528253, 173.6868247857941, 173.8606730411027, 173.5005587979635, 176.33180181298894, 176.49944120203648, 180.00124177325222, 179.93294424438096, 181.00086924127652, 182.32335775487394, 186.48329814975787, 184.6703092015398, 186.14181050540174, 185.2663603625978, 188.24661616788774, 192.24512603998508, 192.67974667825655, 196.79622500931328, 194.13883024959642, 193.30684217061963, 195.72830001241775, 197.89519433751397, 196.55407922513348, 197.25568111262882, 198.20563765056502, 197.6344219545511, 191.82292313423568, 197.24947224636782, 201.3783683099466, 201.0865515956786, 192.17061964485285, 191.6428660126661, 197.96970073264623, 199.5840059605116, 201.9185396746554, 198.70234695144663, 199.64609462312183, 198.4415745684838, 203.1541040605985, 201.70743822178073, 201.75710915186883, 198.06283372656154, 200.93132993915313, 198.86998634049422, 194.36855830125418, 185.13597417111635, 178.86501924748538, 181.70247112877186, 169.82490997143918, 169.7255681112629, 185.52713274556066, 179.63491866385198, 187.96721718614182, 181.87011051781946, 179.45486154228237, 165.26139326958898, 177.1637898919657, 171.01080342729418, 154.12268719731776, 172.58785545759346, 150.38494970818329, 156.9973922761704, 153.15410406059854, 151.9806283372656, 142.33205016763938, 139.3083322985223, 153.28449025207996, 152.44008444058116, 160.46193964981995, 153.81845275052777, 158.20812119706943, 157.88526015149634, 149.5777970942506, 152.07376133118095, 149.88824040730162, 162.96411275301134, 161.076617409661, 165.19930460697876, 166.39140692909476, 169.65727058239167, 178.22550602260029, 176.59878306221285, 178.00198683720353, 175.58673786166648, 171.94213336644728, 166.62734384701355, 171.42679746678257, 170.76244877685335, 175.69228858810382, 175.81646591332424, 172.9665962995157, 178.6477089283497, 182.41649074878927, 179.47969700732648, 182.01912330808398, 184.7510244629331, 186.65714640506644, 188.5881038122439, 192.55556935303613, 195.58549608841423, 193.3503042344468, 191.015770520303, 192.18924624363592, 191.0530237178691, 195.55445175710912, 194.42443809760337, 198.20563765056502, 196.72792748044208, 197.9945361976903, 196.65342108530984, 197.51024462933069, 197.59716875698496, 197.4046939028933, 199.83236061095243, 200.75748168384453, 201.8626598783062, 200.1241773252204, 205.82391655283746, 207.04085433999748, 213.57879051285232, 219.0736371538557, 208.55581770768654, 210.3563889233826, 212.95790388675027, 218.60176331801813, 218.2975288712281, 218.3844529988824, 217.13647088041722, 222.81758350925122, 227.5735750651931, 223.55643859431268, 226.52427666708058, 219.56413758847634, 224.62436359120824, 226.4994412020365, 226.07102943002607, 226.07102943002607, 232.11846516826026, 231.39823668198187, 236.7875325965479, 237.6319384080467, 238.2217807028437, 237.122811374643, 241.0468148516081, 242.70458214330063, 239.71811747174962, 239.23382590339003, 244.27542530733888, 240.90401092760462, 241.58077735005588, 230.58487520178815, 230.01365950577423, 235.46504408295044, 231.59692040233452, 236.0362597789644, 238.89233825903392, 263.90165155842544]}, {\"line\": {\"color\": \"rgba(55, 128, 191, 1.0)\", \"dash\": \"solid\", \"shape\": \"linear\", \"width\": 1.3}, \"mode\": \"lines\", \"name\": \"AMZN.O\", \"text\": \"\", \"type\": \"scatter\", \"x\": [\"2017-08-09\", \"2017-08-10\", \"2017-08-11\", \"2017-08-14\", \"2017-08-15\", \"2017-08-16\", \"2017-08-17\", \"2017-08-18\", \"2017-08-21\", \"2017-08-22\", \"2017-08-23\", \"2017-08-24\", \"2017-08-25\", \"2017-08-28\", \"2017-08-29\", \"2017-08-30\", \"2017-08-31\", \"2017-09-01\", \"2017-09-05\", \"2017-09-06\", \"2017-09-07\", \"2017-09-08\", \"2017-09-11\", \"2017-09-12\", \"2017-09-13\", \"2017-09-14\", \"2017-09-15\", \"2017-09-18\", \"2017-09-19\", \"2017-09-20\", \"2017-09-21\", \"2017-09-22\", \"2017-09-25\", \"2017-09-26\", \"2017-09-27\", \"2017-09-28\", \"2017-09-29\", \"2017-10-02\", \"2017-10-03\", \"2017-10-04\", \"2017-10-05\", \"2017-10-06\", \"2017-10-09\", \"2017-10-10\", \"2017-10-11\", \"2017-10-12\", \"2017-10-13\", \"2017-10-16\", \"2017-10-17\", \"2017-10-18\", \"2017-10-19\", \"2017-10-20\", \"2017-10-23\", \"2017-10-24\", \"2017-10-25\", \"2017-10-26\", \"2017-10-27\", \"2017-10-30\", \"2017-10-31\", \"2017-11-01\", \"2017-11-02\", \"2017-11-03\", \"2017-11-06\", \"2017-11-07\", \"2017-11-08\", \"2017-11-09\", \"2017-11-10\", \"2017-11-13\", \"2017-11-14\", \"2017-11-15\", \"2017-11-16\", \"2017-11-17\", \"2017-11-20\", \"2017-11-21\", \"2017-11-22\", \"2017-11-24\", \"2017-11-27\", \"2017-11-28\", \"2017-11-29\", \"2017-11-30\", \"2017-12-01\", \"2017-12-04\", \"2017-12-05\", \"2017-12-06\", \"2017-12-07\", \"2017-12-08\", \"2017-12-11\", \"2017-12-12\", \"2017-12-13\", \"2017-12-14\", \"2017-12-15\", \"2017-12-18\", \"2017-12-19\", \"2017-12-20\", \"2017-12-21\", \"2017-12-22\", \"2017-12-26\", \"2017-12-27\", \"2017-12-28\", \"2017-12-29\", \"2018-01-02\", \"2018-01-03\", \"2018-01-04\", \"2018-01-05\", \"2018-01-08\", \"2018-01-09\", \"2018-01-10\", \"2018-01-11\", \"2018-01-12\", \"2018-01-16\", \"2018-01-17\", \"2018-01-18\", \"2018-01-19\", \"2018-01-22\", \"2018-01-23\", \"2018-01-24\", \"2018-01-25\", \"2018-01-26\", \"2018-01-29\", \"2018-01-30\", \"2018-01-31\", \"2018-02-01\", \"2018-02-02\", \"2018-02-05\", \"2018-02-06\", \"2018-02-07\", \"2018-02-08\", \"2018-02-09\", \"2018-02-12\", \"2018-02-13\", \"2018-02-14\", \"2018-02-15\", \"2018-02-16\", \"2018-02-20\", \"2018-02-21\", \"2018-02-22\", \"2018-02-23\", \"2018-02-26\", \"2018-02-27\", \"2018-02-28\", \"2018-03-01\", \"2018-03-02\", \"2018-03-05\", \"2018-03-06\", \"2018-03-07\", \"2018-03-08\", \"2018-03-09\", \"2018-03-12\", \"2018-03-13\", \"2018-03-14\", \"2018-03-15\", \"2018-03-16\", \"2018-03-19\", \"2018-03-20\", \"2018-03-21\", \"2018-03-22\", \"2018-03-23\", \"2018-03-26\", \"2018-03-27\", \"2018-03-28\", \"2018-03-29\", \"2018-04-02\", \"2018-04-03\", \"2018-04-04\", \"2018-04-05\", \"2018-04-06\", \"2018-04-09\", \"2018-04-10\", \"2018-04-11\", \"2018-04-12\", \"2018-04-13\", \"2018-04-16\", \"2018-04-17\", \"2018-04-18\", \"2018-04-19\", \"2018-04-20\", \"2018-04-23\", \"2018-04-24\", \"2018-04-25\", \"2018-04-26\", \"2018-04-27\", \"2018-04-30\", \"2018-05-01\", \"2018-05-02\", \"2018-05-03\", \"2018-05-04\", \"2018-05-07\", \"2018-05-08\", \"2018-05-09\", \"2018-05-10\", \"2018-05-11\", \"2018-05-14\", \"2018-05-15\", \"2018-05-16\", \"2018-05-17\", \"2018-05-18\", \"2018-05-21\", \"2018-05-22\", \"2018-05-23\", \"2018-05-24\", \"2018-05-25\", \"2018-05-29\", \"2018-05-30\", \"2018-05-31\", \"2018-06-01\", \"2018-06-04\", \"2018-06-05\", \"2018-06-06\", \"2018-06-07\", \"2018-06-08\", \"2018-06-11\", \"2018-06-12\", \"2018-06-13\", \"2018-06-14\", \"2018-06-15\", \"2018-06-18\", \"2018-06-19\", \"2018-06-20\", \"2018-06-21\", \"2018-06-22\", \"2018-06-25\", \"2018-06-26\", \"2018-06-27\", \"2018-06-28\", \"2018-06-29\", \"2018-07-02\", \"2018-07-03\", \"2018-07-05\", \"2018-07-06\", \"2018-07-09\", \"2018-07-10\", \"2018-07-11\", \"2018-07-12\", \"2018-07-13\", \"2018-07-16\", \"2018-07-17\", \"2018-07-18\", \"2018-07-19\", \"2018-07-20\", \"2018-07-23\", \"2018-07-24\", \"2018-07-25\", \"2018-07-26\", \"2018-07-27\", \"2018-07-30\", \"2018-07-31\", \"2018-08-01\", \"2018-08-02\", \"2018-08-03\", \"2018-08-06\", \"2018-08-07\", \"2018-08-08\", \"2018-08-09\", \"2018-08-10\", \"2018-08-13\", \"2018-08-14\", \"2018-08-15\", \"2018-08-16\", \"2018-08-17\", \"2018-08-20\", \"2018-08-21\", \"2018-08-22\", \"2018-08-23\", \"2018-08-24\", \"2018-08-27\", \"2018-08-28\", \"2018-08-29\", \"2018-08-30\", \"2018-08-31\", \"2018-09-04\", \"2018-09-05\", \"2018-09-06\", \"2018-09-07\", \"2018-09-10\", \"2018-09-11\", \"2018-09-12\", \"2018-09-13\", \"2018-09-14\", \"2018-09-17\", \"2018-09-18\", \"2018-09-19\", \"2018-09-20\", \"2018-09-21\", \"2018-09-24\", \"2018-09-25\", \"2018-09-26\", \"2018-09-27\", \"2018-09-28\", \"2018-10-01\", \"2018-10-02\", \"2018-10-03\", \"2018-10-04\", \"2018-10-05\", \"2018-10-08\", \"2018-10-09\", \"2018-10-10\", \"2018-10-11\", \"2018-10-12\", \"2018-10-15\", \"2018-10-16\", \"2018-10-17\", \"2018-10-18\", \"2018-10-19\", \"2018-10-22\", \"2018-10-23\", \"2018-10-24\", \"2018-10-25\", \"2018-10-26\", \"2018-10-29\", \"2018-10-30\", \"2018-10-31\", \"2018-11-01\", \"2018-11-02\", \"2018-11-05\", \"2018-11-06\", \"2018-11-07\", \"2018-11-08\", \"2018-11-09\", \"2018-11-12\", \"2018-11-13\", \"2018-11-14\", \"2018-11-15\", \"2018-11-16\", \"2018-11-19\", \"2018-11-20\", \"2018-11-21\", \"2018-11-23\", \"2018-11-26\", \"2018-11-27\", \"2018-11-28\", \"2018-11-29\", \"2018-11-30\", \"2018-12-03\", \"2018-12-04\", \"2018-12-06\", \"2018-12-07\", \"2018-12-10\", \"2018-12-11\", \"2018-12-12\", \"2018-12-13\", \"2018-12-14\", \"2018-12-17\", \"2018-12-18\", \"2018-12-19\", \"2018-12-20\", \"2018-12-21\", \"2018-12-24\", \"2018-12-26\", \"2018-12-27\", \"2018-12-28\", \"2018-12-31\", \"2019-01-02\", \"2019-01-03\", \"2019-01-04\", \"2019-01-07\", \"2019-01-08\", \"2019-01-09\", \"2019-01-10\", \"2019-01-11\", \"2019-01-14\", \"2019-01-15\", \"2019-01-16\", \"2019-01-17\", \"2019-01-18\", \"2019-01-22\", \"2019-01-23\", \"2019-01-24\", \"2019-01-25\", \"2019-01-28\", \"2019-01-29\", \"2019-01-30\", \"2019-01-31\", \"2019-02-01\", \"2019-02-04\", \"2019-02-05\", \"2019-02-06\", \"2019-02-07\", \"2019-02-08\", \"2019-02-11\", \"2019-02-12\", \"2019-02-13\", \"2019-02-14\", \"2019-02-15\", \"2019-02-19\", \"2019-02-20\", \"2019-02-21\", \"2019-02-22\", \"2019-02-25\", \"2019-02-26\", \"2019-02-27\", \"2019-02-28\", \"2019-03-01\", \"2019-03-04\", \"2019-03-05\", \"2019-03-06\", \"2019-03-07\", \"2019-03-08\", \"2019-03-11\", \"2019-03-12\", \"2019-03-13\", \"2019-03-14\", \"2019-03-15\", \"2019-03-18\", \"2019-03-19\", \"2019-03-20\", \"2019-03-21\", \"2019-03-22\", \"2019-03-25\", \"2019-03-26\", \"2019-03-27\", \"2019-03-28\", \"2019-03-29\", \"2019-04-01\", \"2019-04-02\", \"2019-04-03\", \"2019-04-04\", \"2019-04-05\", \"2019-04-08\", \"2019-04-09\", \"2019-04-10\", \"2019-04-11\", \"2019-04-12\", \"2019-04-15\", \"2019-04-16\", \"2019-04-17\", \"2019-04-18\", \"2019-04-22\", \"2019-04-23\", \"2019-04-24\", \"2019-04-25\", \"2019-04-26\", \"2019-04-29\", \"2019-04-30\", \"2019-05-01\", \"2019-05-02\", \"2019-05-03\", \"2019-05-06\", \"2019-05-07\", \"2019-05-08\", \"2019-05-09\", \"2019-05-10\", \"2019-05-13\", \"2019-05-14\", \"2019-05-15\", \"2019-05-16\", \"2019-05-17\", \"2019-05-20\", \"2019-05-21\", \"2019-05-22\", \"2019-05-23\", \"2019-05-24\", \"2019-05-28\", \"2019-05-29\", \"2019-05-30\", \"2019-05-31\", \"2019-06-03\", \"2019-06-04\", \"2019-06-05\", \"2019-06-06\", \"2019-06-07\", \"2019-06-10\", \"2019-06-11\", \"2019-06-12\", \"2019-06-13\", \"2019-06-14\", \"2019-06-17\", \"2019-06-18\", \"2019-06-19\", \"2019-06-20\", \"2019-06-21\", \"2019-06-24\", \"2019-06-25\", \"2019-06-26\", \"2019-06-27\", \"2019-06-28\", \"2019-07-01\", \"2019-07-02\", \"2019-07-03\", \"2019-07-05\", \"2019-07-08\", \"2019-07-09\", \"2019-07-10\", \"2019-07-11\", \"2019-07-12\", \"2019-07-15\", \"2019-07-16\", \"2019-07-17\", \"2019-07-18\", \"2019-07-19\", \"2019-07-22\", \"2019-07-23\", \"2019-07-24\", \"2019-07-25\", \"2019-07-26\", \"2019-07-29\", \"2019-07-30\", \"2019-07-31\", \"2019-08-01\", \"2019-08-02\", \"2019-08-05\", \"2019-08-06\", \"2019-08-07\", \"2019-08-08\", \"2019-08-09\", \"2019-08-12\", \"2019-08-13\", \"2019-08-14\", \"2019-08-15\", \"2019-08-16\", \"2019-08-19\", \"2019-08-20\", \"2019-08-21\", \"2019-08-22\", \"2019-08-23\", \"2019-08-26\", \"2019-08-27\", \"2019-08-28\", \"2019-08-29\", \"2019-08-30\", \"2019-09-03\", \"2019-09-04\", \"2019-09-05\", \"2019-09-06\", \"2019-09-09\", \"2019-09-10\", \"2019-09-11\", \"2019-09-12\", \"2019-09-13\", \"2019-09-16\", \"2019-09-17\", \"2019-09-18\", \"2019-09-19\", \"2019-09-20\", \"2019-09-23\", \"2019-09-24\", \"2019-09-25\", \"2019-09-26\", \"2019-09-27\", \"2019-09-30\", \"2019-10-01\", \"2019-10-02\", \"2019-10-03\", \"2019-10-04\", \"2019-10-07\", \"2019-10-08\", \"2019-10-09\", \"2019-10-10\", \"2019-10-11\", \"2019-10-14\", \"2019-10-15\", \"2019-10-16\", \"2019-10-17\", \"2019-10-18\", \"2019-10-21\", \"2019-10-22\", \"2019-10-23\", \"2019-10-24\", \"2019-10-25\", \"2019-10-28\", \"2019-10-29\", \"2019-10-30\", \"2019-10-31\", \"2019-11-01\", \"2019-11-04\", \"2019-11-05\", \"2019-11-06\", \"2019-11-07\", \"2019-11-08\", \"2019-11-11\", \"2019-11-12\", \"2019-11-13\", \"2019-11-14\", \"2019-11-15\", \"2019-11-18\", \"2019-11-19\", \"2019-11-20\", \"2019-11-21\", \"2019-11-22\", \"2019-11-25\", \"2019-11-26\", \"2019-11-27\", \"2019-11-29\", \"2019-12-02\", \"2019-12-03\", \"2019-12-04\", \"2019-12-05\", \"2019-12-06\", \"2019-12-09\", \"2019-12-10\", \"2019-12-11\", \"2019-12-12\", \"2019-12-13\", \"2019-12-16\", \"2019-12-17\", \"2019-12-18\", \"2019-12-19\", \"2019-12-20\", \"2019-12-23\", \"2019-12-24\", \"2019-12-26\", \"2019-12-27\", \"2019-12-30\", \"2019-12-31\", \"2020-01-02\", \"2020-01-03\", \"2020-01-06\", \"2020-01-07\", \"2020-01-08\", \"2020-01-09\", \"2020-01-10\", \"2020-01-13\", \"2020-01-14\", \"2020-01-15\", \"2020-01-16\", \"2020-01-17\", \"2020-01-21\", \"2020-01-22\", \"2020-01-23\", \"2020-01-24\", \"2020-01-27\", \"2020-01-28\", \"2020-01-29\", \"2020-01-30\", \"2020-01-31\", \"2020-02-03\", \"2020-02-04\", \"2020-02-05\", \"2020-02-06\", \"2020-02-07\", \"2020-02-10\", \"2020-02-11\", \"2020-02-12\", \"2020-02-13\", \"2020-02-14\", \"2020-02-18\", \"2020-02-19\", \"2020-02-20\", \"2020-02-21\", \"2020-02-24\", \"2020-02-25\", \"2020-02-26\", \"2020-02-27\", \"2020-02-28\", \"2020-03-02\", \"2020-03-03\", \"2020-03-04\", \"2020-03-05\", \"2020-03-06\", \"2020-03-09\", \"2020-03-10\", \"2020-03-11\", \"2020-03-12\", \"2020-03-13\", \"2020-03-16\", \"2020-03-17\", \"2020-03-18\", \"2020-03-19\", \"2020-03-20\", \"2020-03-23\", \"2020-03-24\", \"2020-03-25\", \"2020-03-26\", \"2020-03-27\", \"2020-03-30\", \"2020-03-31\", \"2020-04-01\", \"2020-04-02\", \"2020-04-03\", \"2020-04-06\", \"2020-04-07\", \"2020-04-08\", \"2020-04-09\", \"2020-04-13\", \"2020-04-14\", \"2020-04-15\", \"2020-04-16\", \"2020-04-17\", \"2020-04-20\", \"2020-04-21\", \"2020-04-22\", \"2020-04-23\", \"2020-04-24\", \"2020-04-27\", \"2020-04-28\", \"2020-04-29\", \"2020-04-30\", \"2020-05-01\", \"2020-05-04\", \"2020-05-05\", \"2020-05-06\", \"2020-05-07\", \"2020-05-08\", \"2020-05-11\", \"2020-05-12\", \"2020-05-13\", \"2020-05-14\", \"2020-05-15\", \"2020-05-18\", \"2020-05-19\", \"2020-05-20\", \"2020-05-21\", \"2020-05-22\", \"2020-05-26\", \"2020-05-27\", \"2020-05-28\", \"2020-05-29\", \"2020-06-01\", \"2020-06-02\", \"2020-06-03\", \"2020-06-04\", \"2020-06-05\", \"2020-06-08\", \"2020-06-09\", \"2020-06-10\", \"2020-06-11\", \"2020-06-12\", \"2020-06-15\", \"2020-06-16\", \"2020-06-17\", \"2020-06-18\", \"2020-06-19\", \"2020-06-22\", \"2020-06-23\", \"2020-06-24\", \"2020-06-25\", \"2020-06-26\", \"2020-06-29\", \"2020-06-30\", \"2020-07-01\", \"2020-07-02\", \"2020-07-06\", \"2020-07-07\", \"2020-07-08\", \"2020-07-09\", \"2020-07-10\", \"2020-07-13\", \"2020-07-14\", \"2020-07-15\", \"2020-07-16\", \"2020-07-17\", \"2020-07-20\", \"2020-07-21\", \"2020-07-22\", \"2020-07-23\", \"2020-07-24\", \"2020-07-27\", \"2020-07-28\", \"2020-07-29\", \"2020-07-30\", \"2020-07-31\"], \"y\": [100.0, 97.44503620126068, 98.5723159641959, 100.13136322440708, 100.07433732854045, 99.60998360505494, 97.8167228439629, 97.60287573446298, 97.07538619769656, 98.46131913116974, 97.55501471471777, 96.98984735389661, 96.25767558375169, 96.33506787099928, 97.15379680451319, 98.531583181434, 99.85641694076436, 99.61711184203827, 98.29533304141506, 98.55296789238398, 99.74134682946203, 98.35948717426503, 99.5875805745359, 100.0580442154357, 101.79122412195396, 101.03868596042811, 100.48675675400453, 99.20367409700512, 98.7627417236077, 99.10387877923851, 98.23219722813413, 97.25970203969409, 95.7006547794829, 95.5794747507663, 96.82895286198715, 97.39208358367023, 97.89615177034857, 97.67619474343438, 97.46336595350354, 98.31366279365791, 99.88187492999053, 100.7708679137687, 100.91445097300435, 100.5285078563355, 101.32279712019225, 101.92666062463722, 102.1313428580157, 102.47757151149175, 102.7616826712559, 101.5264610340017, 100.46842700176168, 100.09164876121423, 98.40021995702692, 99.37780674331218, 99.07332919216708, 99.02444985285281, 112.11189295424691, 113.12002932760359, 112.55282532764433, 112.38989419659677, 111.42656388427817, 113.19640329528211, 114.11900082483885, 114.3745990366697, 115.3633873382145, 114.98151749982182, 114.59659270272195, 114.985590778098, 115.76664188755714, 114.73304752497428, 115.81246626816429, 115.05789146750034, 114.69435138135049, 116.03649657335464, 117.73403529495627, 120.77270088899299, 121.77370902536633, 121.54662376146881, 118.25439659473935, 119.83075528762437, 118.36437510819644, 115.47234753210253, 116.24830704371645, 117.34605553914929, 118.10368529852038, 118.3287339232798, 119.03341106506045, 118.64237635054633, 118.54563599148686, 119.57719371493162, 120.07413366462664, 121.23909125161659, 120.9132289895215, 119.91934909013145, 119.62810969338398, 118.97638516919378, 119.83177360719341, 120.39184937016935, 120.78288408468345, 119.08941864135802, 121.07921507927617, 122.62604250465883, 123.17491675237522, 125.16573150986244, 126.97121210578304, 127.56489241453754, 127.7308785042922, 130.00682274111261, 132.9110701520351, 132.8764472866875, 131.872384191607, 131.70130650400708, 131.82961476970704, 135.16257471919837, 138.75011456095152, 138.2378998177208, 140.3193450168532, 142.77349517825684, 144.36512866467757, 146.4160242767385, 147.74696795348316, 141.54642009755503, 145.6146067758984, 141.54642009755503, 146.9272207004002, 144.2734799034633, 137.52405779981873, 136.41408946955733, 141.16251362002424, 144.0423213612896, 147.76326106658792, 148.85388132503743, 147.52293764829278, 149.52495392103947, 151.00864553314122, 151.2550788688506, 152.74793535707377, 154.9831468111323, 153.96788220079225, 154.01574322053747, 152.08093603934788, 152.77339334629994, 155.15218785959408, 156.58089021496727, 157.33037341778598, 158.02894064215232, 160.7814584372868, 162.76718159692876, 161.7274773169316, 162.01464343540292, 161.13074204946994, 160.0472500280038, 157.32324518080264, 161.55741794890073, 161.0838993492938, 157.32222686123362, 152.2958014684168, 158.43626846977116, 152.44753108420483, 145.76429975254834, 147.3854645064714, 139.71242655370108, 141.75517560920966, 143.641103451085, 147.83454343642123, 143.09732080121384, 143.18387796458282, 146.253093145691, 145.31929410087474, 147.5035895764809, 145.70014561969836, 146.79076587814788, 153.1379517520188, 155.58293703730104, 158.54319202452115, 155.5472958523844, 154.56665410739197, 148.68382195700653, 148.69196851355892, 154.57683730308244, 160.1429720674942, 159.48208266718262, 161.12463213205567, 159.84358611419435, 160.08747365098114, 160.99123226851052, 162.94538752151203, 162.15618985550046, 163.74578670278305, 163.85576521624014, 163.2274620421381, 163.0879522611786, 160.49938391666072, 161.63582855571735, 161.07371615360333, 160.32117799207745, 161.45049439415078, 161.03705664911763, 163.1205384873881, 163.2437551552428, 163.9647254101282, 164.24170833290904, 165.46572845490374, 165.947393611063, 167.16123053736723, 169.57770287471615, 172.7426400953147, 172.6815409211719, 172.02472479913646, 171.4839971079724, 172.0063950468936, 172.98703679188603, 173.60923004857383, 175.54403722976343, 174.74058308978525, 175.53690899278013, 176.65604219916293, 178.2140711398051, 176.19168847567744, 174.71003350271383, 169.36181912607816, 172.2070040019959, 169.0929827598497, 173.26198307552875, 173.09396034663598, 174.5175711041639, 172.49926171831245, 173.08683210965265, 174.19680043991406, 177.08780969643894, 177.50022912190303, 178.7150843677763, 182.95333041415057, 184.62439282695695, 185.58772313927557, 187.7710002953127, 187.66815001883893, 184.61828290954267, 184.69262023808312, 183.50118634229796, 186.2750888483824, 189.7750532071975, 184.11217808372623, 185.05616032423296, 181.18145436400852, 181.0001934807181, 183.00933799044816, 186.7934135090274, 185.66918870479932, 188.1599983706887, 189.65998309589514, 192.10802333988454, 193.3300068227411, 192.08562030936548, 193.0937566827222, 195.48171607213777, 191.7108787079561, 192.10802333988454, 191.67014592519425, 191.10905184264925, 191.7923442734799, 193.97969470779321, 193.77603079398378, 194.02959236667652, 196.29942668608265, 196.82284294457287, 203.4704330913127, 203.90627386686492, 204.9581979816906, 207.687294426737, 203.13642427266524, 199.41853952607406, 198.78310811498864, 197.45318275781304, 202.35537316320608, 202.6455942403845, 202.63235608598688, 200.62830317410211, 194.29842873290494, 197.66091994989867, 196.1711184203827, 197.991873809839, 195.0092157920999, 196.9796641582061, 201.07229050620666, 201.10284009327808, 204.98569261005488, 203.96940968014582, 204.10790114153622, 200.74235496583537, 198.8533721652529, 194.43997515300254, 192.4267573649963, 189.85753709229033, 190.45834563802813, 178.74054235700248, 175.08579342369222, 182.1376564393438, 179.32098451135937, 185.33008828830663, 186.52865042107513, 180.31588273031844, 179.6346269386259, 182.20792048960806, 180.11018217737092, 169.4687426808281, 181.48185863687743, 167.29055712263624, 156.70716184152914, 155.84566348611523, 162.72848545330496, 169.60417918351135, 169.60417918351135, 165.76205944949643, 167.29055712263624, 178.7649820266596, 178.7059194916549, 174.38009796234255, 166.6836386594841, 166.10523314426536, 162.8303174102097, 164.91074428977302, 162.26005845154327, 153.99945010743272, 152.28561827272637, 154.45158399608965, 152.95770918829749, 161.02992841213427, 161.0390932882557, 170.848565696887, 170.4229081170253, 172.11331860164358, 180.48288713964214, 169.8964368998279, 173.03184285292411, 165.89749595217972, 167.10929623934584, 167.33434486410525, 169.401533589271, 168.87608069164267, 162.1073105161862, 154.8772415759514, 157.99024449852854, 152.24692212910256, 148.75917760511604, 140.26842903840085, 136.85807680166192, 149.78462541114655, 148.84166149020888, 150.50966894430812, 152.94854431217607, 156.7326198307553, 152.77644830500708, 160.4250465881203, 165.9361920958035, 168.69278316921418, 168.98198592682357, 168.65612366472845, 167.0614352196006, 164.6836590258755, 170.52372175436093, 171.46261239702244, 172.42390607020295, 172.727365301779, 166.20706510117006, 167.00644596287205, 168.5247604403214, 170.11741224631115, 166.78954389466503, 162.3079194712885, 170.1031557723445, 175.02163929084224, 165.60218327715603, 166.3231535320414, 168.91986843311167, 167.0308856325292, 164.3944562682661, 161.73155059520778, 162.01464343540292, 166.8017637294936, 167.00440932373397, 165.23762487143716, 163.74069510493783, 165.73965641897738, 165.18161729513957, 164.91074428977302, 166.14494760745816, 166.29158562540096, 166.63781427887702, 167.11540615676012, 166.98709789106016, 170.23553731632063, 172.72431034307186, 172.34345882424824, 169.9524444761255, 165.57367032922272, 165.04923575116345, 170.12250384415637, 170.37504709728006, 172.1784910540626, 171.71108237186994, 174.3729697253592, 177.40654372155072, 179.4126332725736, 183.01952118613863, 185.25880591847334, 179.70998258673535, 180.67636785776114, 181.64377144835592, 179.80468630665675, 180.59082901396118, 181.33725725807273, 184.74251789696643, 184.72113318601643, 185.40544393641613, 185.21807313571145, 187.09381778189632, 188.37486379975763, 186.94717976395353, 188.1172289487887, 187.78525676927933, 187.68240649280557, 187.86672233480311, 189.7170089917618, 189.8982698750522, 189.57953584994044, 192.18847058583924, 195.90126373458517, 193.65892404354335, 193.7098400219957, 198.63647009704584, 197.39412022280834, 196.18130161607317, 194.65382226250242, 193.56422032362195, 199.84114214722865, 198.62832354049345, 195.61918921395915, 195.2902719931569, 193.46747996456247, 192.46036191077485, 185.6070712110875, 187.3830205395057, 190.54286616225906, 194.2515860327288, 190.3239274549139, 189.3025529271596, 189.15489658964776, 189.37485361656198, 184.8738811213735, 185.6681703852303, 187.0072606185273, 185.25167768149004, 184.95941996517345, 180.75885174285392, 172.36993513304347, 176.12447938412032, 177.0348570788485, 178.64991191535725, 183.7079052148145, 189.47159397562143, 189.7842180833189, 188.93086628445738, 190.45630899889002, 190.39215486604007, 192.0581256810012, 193.62022789991954, 194.37582102015253, 195.33304141505687, 194.63141923198336, 194.89618231993566, 191.26790969542063, 193.25974277247687, 193.91655889451226, 192.83204855347705, 195.74036924267574, 196.97457256036088, 197.452164438244, 197.85032738974147, 198.80856610421483, 202.4724799136465, 205.43680817914282, 203.77287400331974, 204.78406533538353, 205.80136658486165, 204.67205018278838, 202.8523131129011, 201.41342756183747, 200.05091597845234, 202.2005885887109, 203.1028197268867, 203.7463976945245, 200.99795317766623, 197.8645838637081, 194.7485259824238, 193.33102514231015, 190.09786051058543, 188.93086628445738, 185.6640971069541, 179.74664209122108, 182.0582275129581, 182.6254315129174, 186.6467754910846, 184.06940866182623, 181.7618965183654, 185.77611225954928, 179.52566674473783, 180.86577529760388, 182.54091098868645, 184.93905357379253, 183.43805052901703, 185.69464669402552, 183.8677813871549, 178.1672284396289, 180.1274936100447, 179.41059663343552, 179.65702996914493, 181.9126078145844, 180.88308673027768, 182.2629097463366, 183.3606582417694, 187.44411971364855, 186.70991130436553, 186.48995427745135, 185.3901691428804, 185.63863911772793, 187.73230415168888, 187.30359161312003, 184.09588497062148, 185.59383305668985, 185.07550839604485, 185.4869095019399, 182.702823800165, 181.80059266198919, 177.35155446482213, 180.07250435331613, 177.1713119011008, 175.70595004124195, 176.77111231046527, 176.74463600167005, 174.46156352786633, 175.60106312563008, 177.15196382928892, 176.44015845052496, 173.6754208205619, 175.3536114703516, 175.17744218490648, 176.36480280241545, 176.82406492805575, 179.9757639942567, 180.99917516114908, 182.02258632804146, 178.97068257960714, 181.83725216647488, 179.8077412653639, 179.4452194987831, 181.34031221677986, 179.35968065498312, 180.9635339762324, 179.50020875551166, 181.25986497082516, 180.92076455433246, 182.42584087738413, 183.7720593476645, 183.47165507479556, 182.86677325078156, 182.09590533701288, 181.85965519699394, 180.4105864502398, 181.05721937658475, 178.52262196922638, 178.67435158501442, 177.13567071618414, 178.46355943422165, 178.49003574301688, 177.75073573588864, 176.64891396217962, 177.77008380770053, 180.63359843586113, 182.98591664036007, 185.1824319507948, 183.37898799401228, 181.42381442144173, 180.23849044307084, 179.29450820256415, 177.2364843535198, 178.36885571430025, 178.1560269243694, 177.10715776825083, 178.07557967841467, 179.25784869807842, 179.31996619179031, 180.1621164753923, 182.3464119509985, 181.6712660767202, 182.51137972118408, 181.92279101027484, 182.5846987301555, 182.19875561348664, 190.3005061048258, 190.40539302043766, 188.07242288775066, 188.16916324681011, 193.2780725247197, 190.93186423763507, 193.7739941548457, 194.17928534332643, 192.66300750501523, 193.58764167371004, 191.7658679646847, 192.59478009388906, 190.368733515952, 189.613140395719, 191.23430514964207, 189.88808667936172, 192.66606246372237, 192.20374537937496, 191.91046934348935, 189.5744442520952, 186.18344008716815, 188.72007413366464, 189.20377592896202, 190.49500514251383, 204.55188847364082, 204.0916080284315, 208.72190710888893, 207.7239539312227, 208.77893300475554, 211.73715135283757, 217.30023115854218, 219.02017291066284, 219.9570269141862, 218.92546919074144, 217.39798983717068, 219.5160945407888, 220.99774951375238, 219.25438641154366, 213.43672671357723, 204.60993268907652, 200.8879746642091, 201.5855235690064, 191.88195639555605, 191.82594881925846, 198.97455219396952, 194.39618741153348, 201.2026354110447, 195.9277400433804, 193.5917149519862, 183.35963992220036, 192.6477327114795, 185.42173704952089, 170.73247726601562, 181.77004307491777, 172.00945000560077, 184.09588497062148, 186.35248113563, 191.53878270078718, 187.99095732222685, 193.76890255700044, 197.5641795908392, 192.0387776091893, 199.13137340760278, 193.49090131465056, 199.99287176301667, 198.5438030162626, 194.2648241871264, 195.3982138674759, 194.15179071496215, 203.4184987932913, 204.8451645095264, 208.04268795633445, 208.01824828667733, 220.86027637193104, 232.51494383967577, 234.99557030987464, 245.23070029836762, 241.8508976487001, 243.74599036669687, 237.07701550900703, 240.6788118247268, 244.34068899502043, 245.43741917088417, 241.95272960560484, 235.64729483406484, 241.6177024673883, 251.93226138226697, 232.79192676245663, 235.8417938717528, 236.02610971375037, 239.4334069917822, 241.0983594871743, 242.32034297003088, 245.31318418346046, 240.01283082656997, 241.12992739381474, 243.2612702518304, 245.39261310984614, 247.07080375963585, 249.42006700542763, 254.37011843056587, 249.1563222370444, 248.15225914196395, 246.6227431492551, 245.45473060355798, 244.50871172391317, 248.7113165853708, 251.63083878982903, 251.77034857078846, 252.38032199264774, 250.5677131597438, 252.84874899440945, 257.02996914491706, 264.85066343519924, 269.59501430738993, 260.48207248398694, 259.1643669616399, 261.98103888962436, 266.3180619341962, 268.9361615462164, 270.25997698597774, 272.4015030396839, 276.353601287156, 281.5052799869655, 278.449302960255, 280.50427185059215, 274.22022179000214, 272.9483406482622, 280.93603934786813, 293.14365434160544, 294.32490504170016, 311.30436553599253, 305.5080905489761, 313.755460738689, 324.09344100365576, 325.8622620950907, 316.086394232238, 314.0497550941436, 306.3991201718923, 305.48568751845704, 301.62320139306115, 325.5404731112718, 319.57821203450067, 315.66990152849763, 304.1262308937791, 306.40319345016854, 311.1180130548569, 305.5294752599261, 308.91029622916267, 310.77891263836415, 322.2655573772161]}, {\"line\": {\"color\": \"rgba(50, 171, 96, 1.0)\", \"dash\": \"solid\", \"shape\": \"linear\", \"width\": 1.3}, \"mode\": \"lines\", \"name\": \"TSLA.O\", \"text\": \"\", \"type\": \"scatter\", \"x\": [\"2017-08-09\", \"2017-08-10\", \"2017-08-11\", \"2017-08-14\", \"2017-08-15\", \"2017-08-16\", \"2017-08-17\", \"2017-08-18\", \"2017-08-21\", \"2017-08-22\", \"2017-08-23\", \"2017-08-24\", \"2017-08-25\", \"2017-08-28\", \"2017-08-29\", \"2017-08-30\", \"2017-08-31\", \"2017-09-01\", \"2017-09-05\", \"2017-09-06\", \"2017-09-07\", \"2017-09-08\", \"2017-09-11\", \"2017-09-12\", \"2017-09-13\", \"2017-09-14\", \"2017-09-15\", \"2017-09-18\", \"2017-09-19\", \"2017-09-20\", \"2017-09-21\", \"2017-09-22\", \"2017-09-25\", \"2017-09-26\", \"2017-09-27\", \"2017-09-28\", \"2017-09-29\", \"2017-10-02\", \"2017-10-03\", \"2017-10-04\", \"2017-10-05\", \"2017-10-06\", \"2017-10-09\", \"2017-10-10\", \"2017-10-11\", \"2017-10-12\", \"2017-10-13\", \"2017-10-16\", \"2017-10-17\", \"2017-10-18\", \"2017-10-19\", \"2017-10-20\", \"2017-10-23\", \"2017-10-24\", \"2017-10-25\", \"2017-10-26\", \"2017-10-27\", \"2017-10-30\", \"2017-10-31\", \"2017-11-01\", \"2017-11-02\", \"2017-11-03\", \"2017-11-06\", \"2017-11-07\", \"2017-11-08\", \"2017-11-09\", \"2017-11-10\", \"2017-11-13\", \"2017-11-14\", \"2017-11-15\", \"2017-11-16\", \"2017-11-17\", \"2017-11-20\", \"2017-11-21\", \"2017-11-22\", \"2017-11-24\", \"2017-11-27\", \"2017-11-28\", \"2017-11-29\", \"2017-11-30\", \"2017-12-01\", \"2017-12-04\", \"2017-12-05\", \"2017-12-06\", \"2017-12-07\", \"2017-12-08\", \"2017-12-11\", \"2017-12-12\", \"2017-12-13\", \"2017-12-14\", \"2017-12-15\", \"2017-12-18\", \"2017-12-19\", \"2017-12-20\", \"2017-12-21\", \"2017-12-22\", \"2017-12-26\", \"2017-12-27\", \"2017-12-28\", \"2017-12-29\", \"2018-01-02\", \"2018-01-03\", \"2018-01-04\", \"2018-01-05\", \"2018-01-08\", \"2018-01-09\", \"2018-01-10\", \"2018-01-11\", \"2018-01-12\", \"2018-01-16\", \"2018-01-17\", \"2018-01-18\", \"2018-01-19\", \"2018-01-22\", \"2018-01-23\", \"2018-01-24\", \"2018-01-25\", \"2018-01-26\", \"2018-01-29\", \"2018-01-30\", \"2018-01-31\", \"2018-02-01\", \"2018-02-02\", \"2018-02-05\", \"2018-02-06\", \"2018-02-07\", \"2018-02-08\", \"2018-02-09\", \"2018-02-12\", \"2018-02-13\", \"2018-02-14\", \"2018-02-15\", \"2018-02-16\", \"2018-02-20\", \"2018-02-21\", \"2018-02-22\", \"2018-02-23\", \"2018-02-26\", \"2018-02-27\", \"2018-02-28\", \"2018-03-01\", \"2018-03-02\", \"2018-03-05\", \"2018-03-06\", \"2018-03-07\", \"2018-03-08\", \"2018-03-09\", \"2018-03-12\", \"2018-03-13\", \"2018-03-14\", \"2018-03-15\", \"2018-03-16\", \"2018-03-19\", \"2018-03-20\", \"2018-03-21\", \"2018-03-22\", \"2018-03-23\", \"2018-03-26\", \"2018-03-27\", \"2018-03-28\", \"2018-03-29\", \"2018-04-02\", \"2018-04-03\", \"2018-04-04\", \"2018-04-05\", \"2018-04-06\", \"2018-04-09\", \"2018-04-10\", \"2018-04-11\", \"2018-04-12\", \"2018-04-13\", \"2018-04-16\", \"2018-04-17\", \"2018-04-18\", \"2018-04-19\", \"2018-04-20\", \"2018-04-23\", \"2018-04-24\", \"2018-04-25\", \"2018-04-26\", \"2018-04-27\", \"2018-04-30\", \"2018-05-01\", \"2018-05-02\", \"2018-05-03\", \"2018-05-04\", \"2018-05-07\", \"2018-05-08\", \"2018-05-09\", \"2018-05-10\", \"2018-05-11\", \"2018-05-14\", \"2018-05-15\", \"2018-05-16\", \"2018-05-17\", \"2018-05-18\", \"2018-05-21\", \"2018-05-22\", \"2018-05-23\", \"2018-05-24\", \"2018-05-25\", \"2018-05-29\", \"2018-05-30\", \"2018-05-31\", \"2018-06-01\", \"2018-06-04\", \"2018-06-05\", \"2018-06-06\", \"2018-06-07\", \"2018-06-08\", \"2018-06-11\", \"2018-06-12\", \"2018-06-13\", \"2018-06-14\", \"2018-06-15\", \"2018-06-18\", \"2018-06-19\", \"2018-06-20\", \"2018-06-21\", \"2018-06-22\", \"2018-06-25\", \"2018-06-26\", \"2018-06-27\", \"2018-06-28\", \"2018-06-29\", \"2018-07-02\", \"2018-07-03\", \"2018-07-05\", \"2018-07-06\", \"2018-07-09\", \"2018-07-10\", \"2018-07-11\", \"2018-07-12\", \"2018-07-13\", \"2018-07-16\", \"2018-07-17\", \"2018-07-18\", \"2018-07-19\", \"2018-07-20\", \"2018-07-23\", \"2018-07-24\", \"2018-07-25\", \"2018-07-26\", \"2018-07-27\", \"2018-07-30\", \"2018-07-31\", \"2018-08-01\", \"2018-08-02\", \"2018-08-03\", \"2018-08-06\", \"2018-08-07\", \"2018-08-08\", \"2018-08-09\", \"2018-08-10\", \"2018-08-13\", \"2018-08-14\", \"2018-08-15\", \"2018-08-16\", \"2018-08-17\", \"2018-08-20\", \"2018-08-21\", \"2018-08-22\", \"2018-08-23\", \"2018-08-24\", \"2018-08-27\", \"2018-08-28\", \"2018-08-29\", \"2018-08-30\", \"2018-08-31\", \"2018-09-04\", \"2018-09-05\", \"2018-09-06\", \"2018-09-07\", \"2018-09-10\", \"2018-09-11\", \"2018-09-12\", \"2018-09-13\", \"2018-09-14\", \"2018-09-17\", \"2018-09-18\", \"2018-09-19\", \"2018-09-20\", \"2018-09-21\", \"2018-09-24\", \"2018-09-25\", \"2018-09-26\", \"2018-09-27\", \"2018-09-28\", \"2018-10-01\", \"2018-10-02\", \"2018-10-03\", \"2018-10-04\", \"2018-10-05\", \"2018-10-08\", \"2018-10-09\", \"2018-10-10\", \"2018-10-11\", \"2018-10-12\", \"2018-10-15\", \"2018-10-16\", \"2018-10-17\", \"2018-10-18\", \"2018-10-19\", \"2018-10-22\", \"2018-10-23\", \"2018-10-24\", \"2018-10-25\", \"2018-10-26\", \"2018-10-29\", \"2018-10-30\", \"2018-10-31\", \"2018-11-01\", \"2018-11-02\", \"2018-11-05\", \"2018-11-06\", \"2018-11-07\", \"2018-11-08\", \"2018-11-09\", \"2018-11-12\", \"2018-11-13\", \"2018-11-14\", \"2018-11-15\", \"2018-11-16\", \"2018-11-19\", \"2018-11-20\", \"2018-11-21\", \"2018-11-23\", \"2018-11-26\", \"2018-11-27\", \"2018-11-28\", \"2018-11-29\", \"2018-11-30\", \"2018-12-03\", \"2018-12-04\", \"2018-12-06\", \"2018-12-07\", \"2018-12-10\", \"2018-12-11\", \"2018-12-12\", \"2018-12-13\", \"2018-12-14\", \"2018-12-17\", \"2018-12-18\", \"2018-12-19\", \"2018-12-20\", \"2018-12-21\", \"2018-12-24\", \"2018-12-26\", \"2018-12-27\", \"2018-12-28\", \"2018-12-31\", \"2019-01-02\", \"2019-01-03\", \"2019-01-04\", \"2019-01-07\", \"2019-01-08\", \"2019-01-09\", \"2019-01-10\", \"2019-01-11\", \"2019-01-14\", \"2019-01-15\", \"2019-01-16\", \"2019-01-17\", \"2019-01-18\", \"2019-01-22\", \"2019-01-23\", \"2019-01-24\", \"2019-01-25\", \"2019-01-28\", \"2019-01-29\", \"2019-01-30\", \"2019-01-31\", \"2019-02-01\", \"2019-02-04\", \"2019-02-05\", \"2019-02-06\", \"2019-02-07\", \"2019-02-08\", \"2019-02-11\", \"2019-02-12\", \"2019-02-13\", \"2019-02-14\", \"2019-02-15\", \"2019-02-19\", \"2019-02-20\", \"2019-02-21\", \"2019-02-22\", \"2019-02-25\", \"2019-02-26\", \"2019-02-27\", \"2019-02-28\", \"2019-03-01\", \"2019-03-04\", \"2019-03-05\", \"2019-03-06\", \"2019-03-07\", \"2019-03-08\", \"2019-03-11\", \"2019-03-12\", \"2019-03-13\", \"2019-03-14\", \"2019-03-15\", \"2019-03-18\", \"2019-03-19\", \"2019-03-20\", \"2019-03-21\", \"2019-03-22\", \"2019-03-25\", \"2019-03-26\", \"2019-03-27\", \"2019-03-28\", \"2019-03-29\", \"2019-04-01\", \"2019-04-02\", \"2019-04-03\", \"2019-04-04\", \"2019-04-05\", \"2019-04-08\", \"2019-04-09\", \"2019-04-10\", \"2019-04-11\", \"2019-04-12\", \"2019-04-15\", \"2019-04-16\", \"2019-04-17\", \"2019-04-18\", \"2019-04-22\", \"2019-04-23\", \"2019-04-24\", \"2019-04-25\", \"2019-04-26\", \"2019-04-29\", \"2019-04-30\", \"2019-05-01\", \"2019-05-02\", \"2019-05-03\", \"2019-05-06\", \"2019-05-07\", \"2019-05-08\", \"2019-05-09\", \"2019-05-10\", \"2019-05-13\", \"2019-05-14\", \"2019-05-15\", \"2019-05-16\", \"2019-05-17\", \"2019-05-20\", \"2019-05-21\", \"2019-05-22\", \"2019-05-23\", \"2019-05-24\", \"2019-05-28\", \"2019-05-29\", \"2019-05-30\", \"2019-05-31\", \"2019-06-03\", \"2019-06-04\", \"2019-06-05\", \"2019-06-06\", \"2019-06-07\", \"2019-06-10\", \"2019-06-11\", \"2019-06-12\", \"2019-06-13\", \"2019-06-14\", \"2019-06-17\", \"2019-06-18\", \"2019-06-19\", \"2019-06-20\", \"2019-06-21\", \"2019-06-24\", \"2019-06-25\", \"2019-06-26\", \"2019-06-27\", \"2019-06-28\", \"2019-07-01\", \"2019-07-02\", \"2019-07-03\", \"2019-07-05\", \"2019-07-08\", \"2019-07-09\", \"2019-07-10\", \"2019-07-11\", \"2019-07-12\", \"2019-07-15\", \"2019-07-16\", \"2019-07-17\", \"2019-07-18\", \"2019-07-19\", \"2019-07-22\", \"2019-07-23\", \"2019-07-24\", \"2019-07-25\", \"2019-07-26\", \"2019-07-29\", \"2019-07-30\", \"2019-07-31\", \"2019-08-01\", \"2019-08-02\", \"2019-08-05\", \"2019-08-06\", \"2019-08-07\", \"2019-08-08\", \"2019-08-09\", \"2019-08-12\", \"2019-08-13\", \"2019-08-14\", \"2019-08-15\", \"2019-08-16\", \"2019-08-19\", \"2019-08-20\", \"2019-08-21\", \"2019-08-22\", \"2019-08-23\", \"2019-08-26\", \"2019-08-27\", \"2019-08-28\", \"2019-08-29\", \"2019-08-30\", \"2019-09-03\", \"2019-09-04\", \"2019-09-05\", \"2019-09-06\", \"2019-09-09\", \"2019-09-10\", \"2019-09-11\", \"2019-09-12\", \"2019-09-13\", \"2019-09-16\", \"2019-09-17\", \"2019-09-18\", \"2019-09-19\", \"2019-09-20\", \"2019-09-23\", \"2019-09-24\", \"2019-09-25\", \"2019-09-26\", \"2019-09-27\", \"2019-09-30\", \"2019-10-01\", \"2019-10-02\", \"2019-10-03\", \"2019-10-04\", \"2019-10-07\", \"2019-10-08\", \"2019-10-09\", \"2019-10-10\", \"2019-10-11\", \"2019-10-14\", \"2019-10-15\", \"2019-10-16\", \"2019-10-17\", \"2019-10-18\", \"2019-10-21\", \"2019-10-22\", \"2019-10-23\", \"2019-10-24\", \"2019-10-25\", \"2019-10-28\", \"2019-10-29\", \"2019-10-30\", \"2019-10-31\", \"2019-11-01\", \"2019-11-04\", \"2019-11-05\", \"2019-11-06\", \"2019-11-07\", \"2019-11-08\", \"2019-11-11\", \"2019-11-12\", \"2019-11-13\", \"2019-11-14\", \"2019-11-15\", \"2019-11-18\", \"2019-11-19\", \"2019-11-20\", \"2019-11-21\", \"2019-11-22\", \"2019-11-25\", \"2019-11-26\", \"2019-11-27\", \"2019-11-29\", \"2019-12-02\", \"2019-12-03\", \"2019-12-04\", \"2019-12-05\", \"2019-12-06\", \"2019-12-09\", \"2019-12-10\", \"2019-12-11\", \"2019-12-12\", \"2019-12-13\", \"2019-12-16\", \"2019-12-17\", \"2019-12-18\", \"2019-12-19\", \"2019-12-20\", \"2019-12-23\", \"2019-12-24\", \"2019-12-26\", \"2019-12-27\", \"2019-12-30\", \"2019-12-31\", \"2020-01-02\", \"2020-01-03\", \"2020-01-06\", \"2020-01-07\", \"2020-01-08\", \"2020-01-09\", \"2020-01-10\", \"2020-01-13\", \"2020-01-14\", \"2020-01-15\", \"2020-01-16\", \"2020-01-17\", \"2020-01-21\", \"2020-01-22\", \"2020-01-23\", \"2020-01-24\", \"2020-01-27\", \"2020-01-28\", \"2020-01-29\", \"2020-01-30\", \"2020-01-31\", \"2020-02-03\", \"2020-02-04\", \"2020-02-05\", \"2020-02-06\", \"2020-02-07\", \"2020-02-10\", \"2020-02-11\", \"2020-02-12\", \"2020-02-13\", \"2020-02-14\", \"2020-02-18\", \"2020-02-19\", \"2020-02-20\", \"2020-02-21\", \"2020-02-24\", \"2020-02-25\", \"2020-02-26\", \"2020-02-27\", \"2020-02-28\", \"2020-03-02\", \"2020-03-03\", \"2020-03-04\", \"2020-03-05\", \"2020-03-06\", \"2020-03-09\", \"2020-03-10\", \"2020-03-11\", \"2020-03-12\", \"2020-03-13\", \"2020-03-16\", \"2020-03-17\", \"2020-03-18\", \"2020-03-19\", \"2020-03-20\", \"2020-03-23\", \"2020-03-24\", \"2020-03-25\", \"2020-03-26\", \"2020-03-27\", \"2020-03-30\", \"2020-03-31\", \"2020-04-01\", \"2020-04-02\", \"2020-04-03\", \"2020-04-06\", \"2020-04-07\", \"2020-04-08\", \"2020-04-09\", \"2020-04-13\", \"2020-04-14\", \"2020-04-15\", \"2020-04-16\", \"2020-04-17\", \"2020-04-20\", \"2020-04-21\", \"2020-04-22\", \"2020-04-23\", \"2020-04-24\", \"2020-04-27\", \"2020-04-28\", \"2020-04-29\", \"2020-04-30\", \"2020-05-01\", \"2020-05-04\", \"2020-05-05\", \"2020-05-06\", \"2020-05-07\", \"2020-05-08\", \"2020-05-11\", \"2020-05-12\", \"2020-05-13\", \"2020-05-14\", \"2020-05-15\", \"2020-05-18\", \"2020-05-19\", \"2020-05-20\", \"2020-05-21\", \"2020-05-22\", \"2020-05-26\", \"2020-05-27\", \"2020-05-28\", \"2020-05-29\", \"2020-06-01\", \"2020-06-02\", \"2020-06-03\", \"2020-06-04\", \"2020-06-05\", \"2020-06-08\", \"2020-06-09\", \"2020-06-10\", \"2020-06-11\", \"2020-06-12\", \"2020-06-15\", \"2020-06-16\", \"2020-06-17\", \"2020-06-18\", \"2020-06-19\", \"2020-06-22\", \"2020-06-23\", \"2020-06-24\", \"2020-06-25\", \"2020-06-26\", \"2020-06-29\", \"2020-06-30\", \"2020-07-01\", \"2020-07-02\", \"2020-07-06\", \"2020-07-07\", \"2020-07-08\", \"2020-07-09\", \"2020-07-10\", \"2020-07-13\", \"2020-07-14\", \"2020-07-15\", \"2020-07-16\", \"2020-07-17\", \"2020-07-20\", \"2020-07-21\", \"2020-07-22\", \"2020-07-23\", \"2020-07-24\", \"2020-07-27\", \"2020-07-28\", \"2020-07-29\", \"2020-07-30\", \"2020-07-31\"], \"y\": [100.0, 97.76359585178665, 98.44304459054274, 100.07427172447943, 99.66990344675818, 99.8294501141584, 96.80631584738538, 95.57945699116992, 92.93868456523533, 93.89871537424698, 97.04013423926499, 97.08414711303057, 95.7417544631805, 95.0843121613072, 95.55194894506644, 97.15291722828928, 97.90113608230408, 97.76359585178665, 96.16537837317415, 94.7734712403378, 96.44596044342971, 94.46263031936842, 100.04401287376558, 99.78543724039282, 100.74271724479411, 103.88138530520177, 104.47830990564742, 105.90597749841831, 103.18268093417326, 102.85533518554179, 100.81148736005284, 96.57799906472643, 94.90000825241384, 94.9715291722829, 93.79418479905374, 93.41732456743598, 93.82994525898826, 93.94822985723324, 95.76651170467362, 97.65631447198307, 97.74434021951421, 98.17071493411824, 94.33609330729239, 97.81586113938327, 97.54353148295878, 97.84061838087642, 97.81035953016259, 96.44320963881937, 97.85987401314885, 98.93268781118478, 96.77605699667153, 94.93026710312768, 92.70761697796605, 92.7956427254972, 89.6322174235964, 89.72299397573792, 88.2650675322532, 88.04775396803566, 91.1974252468847, 88.32283442907051, 82.32057876929002, 84.19937831815805, 83.2888619921327, 84.18837509971667, 83.73174153439882, 83.34662888895002, 83.34662888895002, 86.76037741039254, 84.91733832145904, 85.63254752014964, 85.96264407339147, 86.66409924903034, 84.92834153990043, 87.42332132148654, 85.99015211949497, 86.80163947954777, 87.1482408604517, 87.35180040161748, 84.59824498665861, 84.95860039061427, 84.3204137210134, 83.95455670783704, 83.54193601628477, 86.17170522377796, 85.61604269248755, 86.68610568591313, 90.47671443897342, 93.81068962671581, 93.2605287046461, 92.94693697906638, 94.47638434242016, 93.21651583088054, 91.07914064863975, 90.49597007124585, 91.23318570681926, 89.4561659285341, 87.28027948174842, 85.72607487690149, 86.74937419195116, 85.6463015432014, 88.17154017550133, 87.26927626330703, 86.54581465078536, 87.08497235441367, 92.53981789673482, 91.79159904272001, 92.09693835446869, 92.96344180672847, 92.48755260913819, 93.54386157951201, 95.49693285285947, 94.7844744587792, 96.28366297141913, 96.70728688141283, 97.04563584848569, 95.1475806673452, 92.87816686380766, 94.31133606579925, 96.14887354551206, 95.12832503507276, 97.46375814925867, 96.07185101642231, 94.55890848073062, 91.63755398454049, 91.86862157180977, 94.90275905702418, 86.71361373201663, 85.39047671443898, 86.85115396253406, 89.03254201854044, 88.66118339614339, 91.89475421560807, 92.28674387258275, 92.08868594063763, 91.68431766291641, 95.22460319643497, 96.8420763073199, 98.31925838307706, 96.55049101862295, 94.36910296261657, 91.03237697026381, 92.18496410199984, 91.69807168596816, 90.28140731163866, 91.40923720188157, 90.52897972657004, 89.99807443677277, 95.04305009215196, 94.03350480015405, 89.84953098781394, 89.56619811294804, 88.39710615354993, 86.25422936208842, 85.42623717437351, 87.07121833136192, 85.02737050587298, 82.94776222044949, 83.67397463758151, 76.79696311171018, 70.91024124556432, 73.20716309520535, 69.45231480207961, 73.59227574065413, 78.93158748934064, 84.09759854757517, 82.33158198773141, 79.67980634335544, 83.81701647731961, 82.77996313921822, 80.89566198112948, 82.61766566720766, 80.10618105795946, 79.13789783511677, 80.69485324457405, 82.5461447473386, 79.83935301075566, 77.94955024344623, 77.97430748493935, 77.21233460787282, 78.52997001622975, 80.8942865788243, 80.84614749814321, 82.50213187357302, 82.8404808406459, 78.24663714136385, 80.89841278573982, 83.28611118752235, 83.06604681869449, 84.40843946854456, 83.90504222485077, 82.81572359915276, 80.31524220834595, 78.17236541688445, 78.80505047726461, 78.271394382857, 76.14777322366793, 78.25764035980525, 75.64987758919484, 76.76670426099635, 76.43110609853383, 76.70618655956869, 78.0568316232498, 80.24647209308723, 78.32365967045362, 80.27398013919071, 81.6273760074822, 80.08417462107667, 87.88820730063544, 86.95018292850659, 87.38205925233132, 91.3542211096746, 94.28932962891646, 94.84224135559651, 98.40178252138752, 98.5255687288532, 102.00808736555442, 96.97961653783733, 99.63964459604436, 95.59321101422167, 91.7750942150579, 91.6045443292163, 94.07751767391963, 94.76521882650675, 96.25890572992601, 94.33884411190273, 92.17121007894809, 85.51151211729432, 85.04387533353507, 84.972354413666, 87.61587764421094, 88.70519626990895, 87.73966385167662, 87.1207328143482, 87.71490661018349, 85.30245096690783, 88.76571397133662, 89.08480730613707, 88.08901603719089, 86.25973097130911, 83.40439578576733, 81.81718152559625, 84.92834153990043, 84.35342337633757, 81.74841141033752, 79.82009737848321, 82.01248865293098, 82.75520589772508, 96.15162435012242, 95.77476411850468, 94.07476686930927, 104.41229059499904, 101.87329793964734, 96.95210849173384, 97.7883530932798, 98.04142711743187, 95.6289714741562, 93.16700134789426, 92.27574065414133, 84.0370808461475, 84.84581740158997, 88.54840040711909, 88.47687948725003, 88.05325557725637, 88.80147443127116, 87.82493879459741, 85.78659257832916, 83.90229142024043, 83.39064176271559, 82.98077187577367, 79.4844992160207, 77.22608863092455, 77.28385552774186, 72.41218056281463, 78.53547162545044, 76.86848403157924, 79.9218771490661, 79.62479025114845, 81.20375209748852, 81.10472313151597, 78.38692817649162, 82.25455945864165, 82.0647539405276, 82.27656589552446, 82.43611256292466, 82.79646796688031, 85.1594091271697, 84.59274337743791, 72.83305366819795, 85.46749924352874, 82.80472038071136, 81.09371991307458, 77.52592633345253, 72.05732676807966, 68.9241603168927, 72.29114515995929, 70.66266883063297, 69.3835446868209, 71.18532170659918, 71.4081368800374, 76.08450471762991, 74.76136770005226, 72.596484471708, 71.5209198690617, 71.78224630704482, 80.91216680879157, 79.36071300855501, 86.61183396143373, 91.02412455643277, 92.11069237752044, 90.7490440953979, 92.79014111627652, 94.70470112507908, 95.29062250708333, 93.91246939729871, 93.81894204054687, 95.77201331389433, 96.66327400764723, 96.41845239732622, 91.128655131626, 93.17800456633567, 94.62767859598932, 95.84903584298408, 97.46375814925867, 97.2326905619894, 95.58770940500098, 93.02946111737684, 89.62946661898606, 95.17783951805903, 94.60567215910655, 95.69223998019422, 93.84920089126071, 96.41019998349518, 98.61359447638435, 98.94644183423652, 99.87071218331363, 98.46917723434105, 100.44563034687646, 100.88850988914257, 100.84449701537702, 103.64756691332215, 100.59967540505599, 95.84353423376338, 92.71036778257641, 91.59354111077491, 86.75487580117185, 87.96247902511485, 81.25601738508514, 89.70098753885512, 86.961186146948, 91.84111352570628, 91.54677743239898, 85.30795257612851, 82.62316727642836, 87.39031166616236, 92.14095122823426, 92.24823260803787, 93.12298847412869, 94.89450664319314, 95.52444089896295, 91.98690617005474, 94.74596319423432, 95.19159354111079, 95.5381949220147, 83.14582015239458, 82.22705141253817, 79.11038978901328, 80.18870519626992, 81.70990014579266, 81.52834704150965, 81.82543393942728, 84.93659395373146, 84.45520314692048, 85.88287073969137, 86.06992545319507, 88.39710615354993, 87.26102384947598, 84.58999257282755, 84.11960498445796, 86.05617143014331, 85.77283855527743, 84.77154567711057, 83.56119164855721, 84.69177234341045, 84.07559211069238, 83.22834429070504, 80.11168266718016, 81.06896267158143, 82.18578934338294, 81.93546612384124, 86.57882430610955, 87.99273787582868, 81.09096910846424, 78.49696036090558, 76.07075069457817, 75.98822655626772, 76.08450471762991, 78.16136219844306, 80.02640772425936, 77.94679943883587, 79.48725002063104, 79.76233048166588, 75.76541138282948, 74.13143344428246, 73.57577091299207, 75.26201413913572, 75.37754793277034, 72.76703435754958, 71.63645366269635, 73.6582950513025, 75.60036310620856, 76.64291805353066, 76.98401782521388, 79.54776772205872, 78.64000220064369, 80.27122933458037, 73.66104585591286, 75.6361235661431, 75.15198195472176, 74.90716034440075, 75.93871207328145, 73.83709735097517, 73.63903941903007, 73.27593321046406, 75.19599482848734, 74.6100734464831, 75.16848678238385, 72.27739113690755, 72.59373366709762, 71.15231205127502, 68.11817456606057, 64.68241960773527, 66.42367892608588, 65.65895524440899, 64.37157868676589, 67.14714053860754, 70.15376997771848, 70.23904492063929, 67.96137870327071, 67.35070007977335, 66.56396996121366, 65.88727202706792, 62.44601545952191, 63.90394190300663, 63.80491293703409, 62.80912166808792, 58.05022969218497, 56.49052347811736, 56.41350094902759, 53.016257255247154, 53.77547932770336, 52.43858828707397, 51.90768299727671, 52.226776332077144, 51.77564437597998, 50.93389816521333, 49.23115011140759, 53.255577256347486, 54.07806783484169, 56.65282095012791, 56.25395428162739, 58.55912854509945, 59.71996809066652, 57.563337276153284, 58.84246141996534, 59.12029268561054, 61.9013561466729, 61.8215828129728, 62.28646879212171, 60.41317085247435, 61.02935108519243, 61.51899430583446, 60.45168211701923, 60.31689269111216, 61.298929937006584, 61.46947982284819, 62.49002833328748, 61.76931752537618, 64.61640029708691, 64.12125546722417, 63.36203339476798, 63.28501086567822, 65.722223750447, 65.63419800291585, 67.4167193904217, 69.73289687233516, 69.42480675597614, 70.10700629934257, 69.74390009077655, 71.02027342997827, 70.33257227739115, 71.56768354743764, 72.86331251891178, 62.943911093995, 62.729348334387815, 64.85572029818722, 66.64099249030342, 66.46219019063076, 64.3275658130003, 64.46235523890739, 62.80637086347757, 63.474816383792266, 64.20928121475532, 65.5516738646054, 64.64665914780073, 62.99617638159162, 64.64390834319039, 60.41317085247435, 59.31835061755564, 60.5011966000055, 62.39650097653564, 62.12967292933184, 60.746018210326525, 61.109124418892534, 58.152009462767865, 59.142299122493334, 58.88922509834127, 59.3045965945039, 60.98808901603719, 62.060902814073124, 61.89585453745221, 60.7047561411713, 63.15297224438149, 62.56705086237725, 63.76090006326851, 64.79245179214921, 67.9723819217121, 67.63403295463924, 67.44972904574588, 66.79228674387258, 67.33694605672159, 66.97934145737628, 67.83484169119468, 66.18986053420626, 66.35765961543751, 61.40070970758947, 62.910901438670805, 66.72351662861388, 66.60523203036888, 66.25863064946498, 67.30943801061811, 66.88031249140374, 64.10199983495173, 63.661871097295965, 65.39212719720518, 66.0330646714164, 67.26542513685253, 67.32319203366986, 68.18969548592963, 70.68467526751576, 70.94050009627816, 71.452149753803, 72.06282837730036, 70.6819244629054, 69.73289687233516, 70.30506423128766, 70.05749181635629, 82.43611256292466, 90.26215167936623, 90.14661788573157, 86.98594338844113, 86.65309603058896, 86.62833878909582, 86.18545924682971, 87.3297939647347, 87.26102384947598, 89.83577696476219, 92.30049789563448, 92.74062663329023, 94.92751629851732, 96.25890572992601, 95.20809836877288, 96.0993590625258, 96.87508596264408, 96.2754105575881, 98.89692735125024, 96.88883998569582, 97.60679998899678, 91.61279674304735, 92.52056226446236, 90.47946524358376, 91.13140593623636, 90.76004731383931, 92.11619398674114, 92.48205099991748, 91.610045938437, 90.87833191208429, 92.39677605699667, 93.39806893516354, 95.959068027398, 97.02087860699254, 98.94094022501582, 98.58608643028086, 104.9431958847963, 104.25274392759883, 108.14788325585234, 111.1435094765219, 111.56988419112591, 115.31923087503095, 116.97796605507111, 118.54317387835943, 118.3891288201799, 114.0758671911534, 115.07440926470993, 118.35611916485573, 121.8633950430501, 124.20983137567741, 129.029241053008, 135.37809809369242, 132.40722911451599, 131.52972244381482, 144.3787307787528, 147.97128159986798, 142.62921904657114, 141.25106593678652, 140.4285753582923, 150.52402827827143, 156.6748273870107, 157.40103980414273, 155.37094600170553, 153.50039886666852, 155.943113360658, 159.8189970566391, 176.27431023574397, 178.95909553544413, 214.56275960718511, 244.01287376557644, 202.1016147223063, 206.02426209666328, 205.77944048634228, 212.1640579869612, 213.01680741616926, 211.06648694743214, 221.16469067202158, 220.07262124171322, 236.12906775231755, 252.36431656259458, 247.41011745935685, 247.84749539240232, 229.35933760624985, 220.03961158638901, 214.23266305394327, 186.77963304266498, 183.75099716667128, 204.55533243473715, 205.07523450609307, 206.17280554562208, 199.3067972381922, 193.5136027287982, 167.24892030919045, 177.51767391962153, 174.46428080213465, 154.19635243308667, 150.3644816108712, 122.43006079278189, 118.33961433719364, 99.3645641350095, 117.63540835694441, 117.60514950623057, 119.4646934228262, 138.91563282260063, 148.33713861304432, 145.2864963001678, 141.49038593788686, 138.1261518994306, 144.14216158226282, 132.46774681594366, 125.01581712650953, 132.04137210133965, 142.00753720463237, 150.04263747146044, 150.97516023436856, 157.6211041729706, 179.0636261106374, 195.27686848403158, 200.76197287706657, 204.99271036778262, 207.38040876956512, 205.30905289797266, 188.90325420185405, 201.389156328226, 194.10502572002312, 199.47459631942343, 219.72051825158863, 211.5698841911259, 220.20465986300994, 215.07991087393066, 192.91942893296292, 209.38849613511957, 211.3195609715842, 215.27246719665504, 214.57376282562652, 225.406431381179, 223.17002723296565, 222.6528759662201, 217.5776414601271, 220.98038676312822, 219.83605204522325, 223.8137155117872, 222.26776332077134, 224.34462080158445, 227.6565895524441, 224.70772701015048, 225.25513712760983, 225.62924655461725, 221.66258630649466, 229.692184964102, 247.0497620554012, 242.49993122988474, 242.88504387533357, 237.774048909306, 243.62776112012762, 261.30443154622725, 258.75993728165486, 281.9712265837758, 267.60927571314613, 257.27725359667704, 272.5772288394356, 270.1647731961599, 272.8220504497566, 276.1697796605508, 275.3280334497841, 273.5180040161748, 275.57010425549475, 264.31106098533826, 271.2238329711441, 264.00572167358956, 277.6524633455286, 297.03463263004426, 307.98833658845217, 332.4787500343851, 377.29485874618325, 382.32332957390037, 375.7269001182847, 383.5391852116744, 424.9030341374853, 411.8119549968366, 417.24204329766457, 425.27714356449263, 412.7967430473414, 412.85175913954834, 451.95719748026295, 431.42519186862154, 438.018870519627, 416.2159931780046, 389.7890132863863, 423.5138778092592, 406.1535499133497, 412.37586994195806, 409.17943498473306, 393.5741204302259]}, {\"line\": {\"color\": \"rgba(128, 0, 128, 1.0)\", \"dash\": \"solid\", \"shape\": \"linear\", \"width\": 1.3}, \"mode\": \"lines\", \"name\": \".SPX\", \"text\": \"\", \"type\": \"scatter\", \"x\": [\"2017-08-09\", \"2017-08-10\", \"2017-08-11\", \"2017-08-14\", \"2017-08-15\", \"2017-08-16\", \"2017-08-17\", \"2017-08-18\", \"2017-08-21\", \"2017-08-22\", \"2017-08-23\", \"2017-08-24\", \"2017-08-25\", \"2017-08-28\", \"2017-08-29\", \"2017-08-30\", \"2017-08-31\", \"2017-09-01\", \"2017-09-05\", \"2017-09-06\", \"2017-09-07\", \"2017-09-08\", \"2017-09-11\", \"2017-09-12\", \"2017-09-13\", \"2017-09-14\", \"2017-09-15\", \"2017-09-18\", \"2017-09-19\", \"2017-09-20\", \"2017-09-21\", \"2017-09-22\", \"2017-09-25\", \"2017-09-26\", \"2017-09-27\", \"2017-09-28\", \"2017-09-29\", \"2017-10-02\", \"2017-10-03\", \"2017-10-04\", \"2017-10-05\", \"2017-10-06\", \"2017-10-09\", \"2017-10-10\", \"2017-10-11\", \"2017-10-12\", \"2017-10-13\", \"2017-10-16\", \"2017-10-17\", \"2017-10-18\", \"2017-10-19\", \"2017-10-20\", \"2017-10-23\", \"2017-10-24\", \"2017-10-25\", \"2017-10-26\", \"2017-10-27\", \"2017-10-30\", \"2017-10-31\", \"2017-11-01\", \"2017-11-02\", \"2017-11-03\", \"2017-11-06\", \"2017-11-07\", \"2017-11-08\", \"2017-11-09\", \"2017-11-10\", \"2017-11-13\", \"2017-11-14\", \"2017-11-15\", \"2017-11-16\", \"2017-11-17\", \"2017-11-20\", \"2017-11-21\", \"2017-11-22\", \"2017-11-24\", \"2017-11-27\", \"2017-11-28\", \"2017-11-29\", \"2017-11-30\", \"2017-12-01\", \"2017-12-04\", \"2017-12-05\", \"2017-12-06\", \"2017-12-07\", \"2017-12-08\", \"2017-12-11\", \"2017-12-12\", \"2017-12-13\", \"2017-12-14\", \"2017-12-15\", \"2017-12-18\", \"2017-12-19\", \"2017-12-20\", \"2017-12-21\", \"2017-12-22\", \"2017-12-26\", \"2017-12-27\", \"2017-12-28\", \"2017-12-29\", \"2018-01-02\", \"2018-01-03\", \"2018-01-04\", \"2018-01-05\", \"2018-01-08\", \"2018-01-09\", \"2018-01-10\", \"2018-01-11\", \"2018-01-12\", \"2018-01-16\", \"2018-01-17\", \"2018-01-18\", \"2018-01-19\", \"2018-01-22\", \"2018-01-23\", \"2018-01-24\", \"2018-01-25\", \"2018-01-26\", \"2018-01-29\", \"2018-01-30\", \"2018-01-31\", \"2018-02-01\", \"2018-02-02\", \"2018-02-05\", \"2018-02-06\", \"2018-02-07\", \"2018-02-08\", \"2018-02-09\", \"2018-02-12\", \"2018-02-13\", \"2018-02-14\", \"2018-02-15\", \"2018-02-16\", \"2018-02-20\", \"2018-02-21\", \"2018-02-22\", \"2018-02-23\", \"2018-02-26\", \"2018-02-27\", \"2018-02-28\", \"2018-03-01\", \"2018-03-02\", \"2018-03-05\", \"2018-03-06\", \"2018-03-07\", \"2018-03-08\", \"2018-03-09\", \"2018-03-12\", \"2018-03-13\", \"2018-03-14\", \"2018-03-15\", \"2018-03-16\", \"2018-03-19\", \"2018-03-20\", \"2018-03-21\", \"2018-03-22\", \"2018-03-23\", \"2018-03-26\", \"2018-03-27\", \"2018-03-28\", \"2018-03-29\", \"2018-04-02\", \"2018-04-03\", \"2018-04-04\", \"2018-04-05\", \"2018-04-06\", \"2018-04-09\", \"2018-04-10\", \"2018-04-11\", \"2018-04-12\", \"2018-04-13\", \"2018-04-16\", \"2018-04-17\", \"2018-04-18\", \"2018-04-19\", \"2018-04-20\", \"2018-04-23\", \"2018-04-24\", \"2018-04-25\", \"2018-04-26\", \"2018-04-27\", \"2018-04-30\", \"2018-05-01\", \"2018-05-02\", \"2018-05-03\", \"2018-05-04\", \"2018-05-07\", \"2018-05-08\", \"2018-05-09\", \"2018-05-10\", \"2018-05-11\", \"2018-05-14\", \"2018-05-15\", \"2018-05-16\", \"2018-05-17\", \"2018-05-18\", \"2018-05-21\", \"2018-05-22\", \"2018-05-23\", \"2018-05-24\", \"2018-05-25\", \"2018-05-29\", \"2018-05-30\", \"2018-05-31\", \"2018-06-01\", \"2018-06-04\", \"2018-06-05\", \"2018-06-06\", \"2018-06-07\", \"2018-06-08\", \"2018-06-11\", \"2018-06-12\", \"2018-06-13\", \"2018-06-14\", \"2018-06-15\", \"2018-06-18\", \"2018-06-19\", \"2018-06-20\", \"2018-06-21\", \"2018-06-22\", \"2018-06-25\", \"2018-06-26\", \"2018-06-27\", \"2018-06-28\", \"2018-06-29\", \"2018-07-02\", \"2018-07-03\", \"2018-07-05\", \"2018-07-06\", \"2018-07-09\", \"2018-07-10\", \"2018-07-11\", \"2018-07-12\", \"2018-07-13\", \"2018-07-16\", \"2018-07-17\", \"2018-07-18\", \"2018-07-19\", \"2018-07-20\", \"2018-07-23\", \"2018-07-24\", \"2018-07-25\", \"2018-07-26\", \"2018-07-27\", \"2018-07-30\", \"2018-07-31\", \"2018-08-01\", \"2018-08-02\", \"2018-08-03\", \"2018-08-06\", \"2018-08-07\", \"2018-08-08\", \"2018-08-09\", \"2018-08-10\", \"2018-08-13\", \"2018-08-14\", \"2018-08-15\", \"2018-08-16\", \"2018-08-17\", \"2018-08-20\", \"2018-08-21\", \"2018-08-22\", \"2018-08-23\", \"2018-08-24\", \"2018-08-27\", \"2018-08-28\", \"2018-08-29\", \"2018-08-30\", \"2018-08-31\", \"2018-09-04\", \"2018-09-05\", \"2018-09-06\", \"2018-09-07\", \"2018-09-10\", \"2018-09-11\", \"2018-09-12\", \"2018-09-13\", \"2018-09-14\", \"2018-09-17\", \"2018-09-18\", \"2018-09-19\", \"2018-09-20\", \"2018-09-21\", \"2018-09-24\", \"2018-09-25\", \"2018-09-26\", \"2018-09-27\", \"2018-09-28\", \"2018-10-01\", \"2018-10-02\", \"2018-10-03\", \"2018-10-04\", \"2018-10-05\", \"2018-10-08\", \"2018-10-09\", \"2018-10-10\", \"2018-10-11\", \"2018-10-12\", \"2018-10-15\", \"2018-10-16\", \"2018-10-17\", \"2018-10-18\", \"2018-10-19\", \"2018-10-22\", \"2018-10-23\", \"2018-10-24\", \"2018-10-25\", \"2018-10-26\", \"2018-10-29\", \"2018-10-30\", \"2018-10-31\", \"2018-11-01\", \"2018-11-02\", \"2018-11-05\", \"2018-11-06\", \"2018-11-07\", \"2018-11-08\", \"2018-11-09\", \"2018-11-12\", \"2018-11-13\", \"2018-11-14\", \"2018-11-15\", \"2018-11-16\", \"2018-11-19\", \"2018-11-20\", \"2018-11-21\", \"2018-11-23\", \"2018-11-26\", \"2018-11-27\", \"2018-11-28\", \"2018-11-29\", \"2018-11-30\", \"2018-12-03\", \"2018-12-04\", \"2018-12-06\", \"2018-12-07\", \"2018-12-10\", \"2018-12-11\", \"2018-12-12\", \"2018-12-13\", \"2018-12-14\", \"2018-12-17\", \"2018-12-18\", \"2018-12-19\", \"2018-12-20\", \"2018-12-21\", \"2018-12-24\", \"2018-12-26\", \"2018-12-27\", \"2018-12-28\", \"2018-12-31\", \"2019-01-02\", \"2019-01-03\", \"2019-01-04\", \"2019-01-07\", \"2019-01-08\", \"2019-01-09\", \"2019-01-10\", \"2019-01-11\", \"2019-01-14\", \"2019-01-15\", \"2019-01-16\", \"2019-01-17\", \"2019-01-18\", \"2019-01-22\", \"2019-01-23\", \"2019-01-24\", \"2019-01-25\", \"2019-01-28\", \"2019-01-29\", \"2019-01-30\", \"2019-01-31\", \"2019-02-01\", \"2019-02-04\", \"2019-02-05\", \"2019-02-06\", \"2019-02-07\", \"2019-02-08\", \"2019-02-11\", \"2019-02-12\", \"2019-02-13\", \"2019-02-14\", \"2019-02-15\", \"2019-02-19\", \"2019-02-20\", \"2019-02-21\", \"2019-02-22\", \"2019-02-25\", \"2019-02-26\", \"2019-02-27\", \"2019-02-28\", \"2019-03-01\", \"2019-03-04\", \"2019-03-05\", \"2019-03-06\", \"2019-03-07\", \"2019-03-08\", \"2019-03-11\", \"2019-03-12\", \"2019-03-13\", \"2019-03-14\", \"2019-03-15\", \"2019-03-18\", \"2019-03-19\", \"2019-03-20\", \"2019-03-21\", \"2019-03-22\", \"2019-03-25\", \"2019-03-26\", \"2019-03-27\", \"2019-03-28\", \"2019-03-29\", \"2019-04-01\", \"2019-04-02\", \"2019-04-03\", \"2019-04-04\", \"2019-04-05\", \"2019-04-08\", \"2019-04-09\", \"2019-04-10\", \"2019-04-11\", \"2019-04-12\", \"2019-04-15\", \"2019-04-16\", \"2019-04-17\", \"2019-04-18\", \"2019-04-22\", \"2019-04-23\", \"2019-04-24\", \"2019-04-25\", \"2019-04-26\", \"2019-04-29\", \"2019-04-30\", \"2019-05-01\", \"2019-05-02\", \"2019-05-03\", \"2019-05-06\", \"2019-05-07\", \"2019-05-08\", \"2019-05-09\", \"2019-05-10\", \"2019-05-13\", \"2019-05-14\", \"2019-05-15\", \"2019-05-16\", \"2019-05-17\", \"2019-05-20\", \"2019-05-21\", \"2019-05-22\", \"2019-05-23\", \"2019-05-24\", \"2019-05-28\", \"2019-05-29\", \"2019-05-30\", \"2019-05-31\", \"2019-06-03\", \"2019-06-04\", \"2019-06-05\", \"2019-06-06\", \"2019-06-07\", \"2019-06-10\", \"2019-06-11\", \"2019-06-12\", \"2019-06-13\", \"2019-06-14\", \"2019-06-17\", \"2019-06-18\", \"2019-06-19\", \"2019-06-20\", \"2019-06-21\", \"2019-06-24\", \"2019-06-25\", \"2019-06-26\", \"2019-06-27\", \"2019-06-28\", \"2019-07-01\", \"2019-07-02\", \"2019-07-03\", \"2019-07-05\", \"2019-07-08\", \"2019-07-09\", \"2019-07-10\", \"2019-07-11\", \"2019-07-12\", \"2019-07-15\", \"2019-07-16\", \"2019-07-17\", \"2019-07-18\", \"2019-07-19\", \"2019-07-22\", \"2019-07-23\", \"2019-07-24\", \"2019-07-25\", \"2019-07-26\", \"2019-07-29\", \"2019-07-30\", \"2019-07-31\", \"2019-08-01\", \"2019-08-02\", \"2019-08-05\", \"2019-08-06\", \"2019-08-07\", \"2019-08-08\", \"2019-08-09\", \"2019-08-12\", \"2019-08-13\", \"2019-08-14\", \"2019-08-15\", \"2019-08-16\", \"2019-08-19\", \"2019-08-20\", \"2019-08-21\", \"2019-08-22\", \"2019-08-23\", \"2019-08-26\", \"2019-08-27\", \"2019-08-28\", \"2019-08-29\", \"2019-08-30\", \"2019-09-03\", \"2019-09-04\", \"2019-09-05\", \"2019-09-06\", \"2019-09-09\", \"2019-09-10\", \"2019-09-11\", \"2019-09-12\", \"2019-09-13\", \"2019-09-16\", \"2019-09-17\", \"2019-09-18\", \"2019-09-19\", \"2019-09-20\", \"2019-09-23\", \"2019-09-24\", \"2019-09-25\", \"2019-09-26\", \"2019-09-27\", \"2019-09-30\", \"2019-10-01\", \"2019-10-02\", \"2019-10-03\", \"2019-10-04\", \"2019-10-07\", \"2019-10-08\", \"2019-10-09\", \"2019-10-10\", \"2019-10-11\", \"2019-10-14\", \"2019-10-15\", \"2019-10-16\", \"2019-10-17\", \"2019-10-18\", \"2019-10-21\", \"2019-10-22\", \"2019-10-23\", \"2019-10-24\", \"2019-10-25\", \"2019-10-28\", \"2019-10-29\", \"2019-10-30\", \"2019-10-31\", \"2019-11-01\", \"2019-11-04\", \"2019-11-05\", \"2019-11-06\", \"2019-11-07\", \"2019-11-08\", \"2019-11-11\", \"2019-11-12\", \"2019-11-13\", \"2019-11-14\", \"2019-11-15\", \"2019-11-18\", \"2019-11-19\", \"2019-11-20\", \"2019-11-21\", \"2019-11-22\", \"2019-11-25\", \"2019-11-26\", \"2019-11-27\", \"2019-11-29\", \"2019-12-02\", \"2019-12-03\", \"2019-12-04\", \"2019-12-05\", \"2019-12-06\", \"2019-12-09\", \"2019-12-10\", \"2019-12-11\", \"2019-12-12\", \"2019-12-13\", \"2019-12-16\", \"2019-12-17\", \"2019-12-18\", \"2019-12-19\", \"2019-12-20\", \"2019-12-23\", \"2019-12-24\", \"2019-12-26\", \"2019-12-27\", \"2019-12-30\", \"2019-12-31\", \"2020-01-02\", \"2020-01-03\", \"2020-01-06\", \"2020-01-07\", \"2020-01-08\", \"2020-01-09\", \"2020-01-10\", \"2020-01-13\", \"2020-01-14\", \"2020-01-15\", \"2020-01-16\", \"2020-01-17\", \"2020-01-21\", \"2020-01-22\", \"2020-01-23\", \"2020-01-24\", \"2020-01-27\", \"2020-01-28\", \"2020-01-29\", \"2020-01-30\", \"2020-01-31\", \"2020-02-03\", \"2020-02-04\", \"2020-02-05\", \"2020-02-06\", \"2020-02-07\", \"2020-02-10\", \"2020-02-11\", \"2020-02-12\", \"2020-02-13\", \"2020-02-14\", \"2020-02-18\", \"2020-02-19\", \"2020-02-20\", \"2020-02-21\", \"2020-02-24\", \"2020-02-25\", \"2020-02-26\", \"2020-02-27\", \"2020-02-28\", \"2020-03-02\", \"2020-03-03\", \"2020-03-04\", \"2020-03-05\", \"2020-03-06\", \"2020-03-09\", \"2020-03-10\", \"2020-03-11\", \"2020-03-12\", \"2020-03-13\", \"2020-03-16\", \"2020-03-17\", \"2020-03-18\", \"2020-03-19\", \"2020-03-20\", \"2020-03-23\", \"2020-03-24\", \"2020-03-25\", \"2020-03-26\", \"2020-03-27\", \"2020-03-30\", \"2020-03-31\", \"2020-04-01\", \"2020-04-02\", \"2020-04-03\", \"2020-04-06\", \"2020-04-07\", \"2020-04-08\", \"2020-04-09\", \"2020-04-13\", \"2020-04-14\", \"2020-04-15\", \"2020-04-16\", \"2020-04-17\", \"2020-04-20\", \"2020-04-21\", \"2020-04-22\", \"2020-04-23\", \"2020-04-24\", \"2020-04-27\", \"2020-04-28\", \"2020-04-29\", \"2020-04-30\", \"2020-05-01\", \"2020-05-04\", \"2020-05-05\", \"2020-05-06\", \"2020-05-07\", \"2020-05-08\", \"2020-05-11\", \"2020-05-12\", \"2020-05-13\", \"2020-05-14\", \"2020-05-15\", \"2020-05-18\", \"2020-05-19\", \"2020-05-20\", \"2020-05-21\", \"2020-05-22\", \"2020-05-26\", \"2020-05-27\", \"2020-05-28\", \"2020-05-29\", \"2020-06-01\", \"2020-06-02\", \"2020-06-03\", \"2020-06-04\", \"2020-06-05\", \"2020-06-08\", \"2020-06-09\", \"2020-06-10\", \"2020-06-11\", \"2020-06-12\", \"2020-06-15\", \"2020-06-16\", \"2020-06-17\", \"2020-06-18\", \"2020-06-19\", \"2020-06-22\", \"2020-06-23\", \"2020-06-24\", \"2020-06-25\", \"2020-06-26\", \"2020-06-29\", \"2020-06-30\", \"2020-07-01\", \"2020-07-02\", \"2020-07-06\", \"2020-07-07\", \"2020-07-08\", \"2020-07-09\", \"2020-07-10\", \"2020-07-13\", \"2020-07-14\", \"2020-07-15\", \"2020-07-16\", \"2020-07-17\", \"2020-07-20\", \"2020-07-21\", \"2020-07-22\", \"2020-07-23\", \"2020-07-24\", \"2020-07-27\", \"2020-07-28\", \"2020-07-29\", \"2020-07-30\", \"2020-07-31\"], \"y\": [100.0, 98.55255818465494, 98.67826452494322, 99.66936403101026, 99.61964737552648, 99.76111753340717, 98.22111381476303, 98.04084041357791, 98.15482494078464, 99.13056482971035, 98.78820704763906, 98.58327741893758, 98.74819120298139, 98.7962910566608, 98.8795563495849, 99.3358986588629, 99.90420449309222, 100.10226271412519, 99.34640787059118, 99.65723801747762, 99.63945319762976, 99.49111163208057, 100.56951843558257, 100.90783421314298, 100.98422809839856, 100.87307297434944, 101.05940938230087, 101.2065383464968, 101.31890607189918, 101.38317394362211, 101.07436479899113, 101.13984527206732, 100.91510982126255, 100.92238542938215, 101.33466988949161, 101.45673842572008, 101.83264484523164, 102.22714448549324, 102.44783793178713, 102.57556527433084, 103.15478452073954, 103.04403359714149, 102.85810138964115, 103.09698385623398, 103.28291606373432, 103.10870566931551, 103.19924657035916, 103.37992417199537, 103.44944664958247, 103.52624473528913, 103.56019757318049, 104.09010436455648, 103.67660730309376, 103.84435049029514, 103.36011834989209, 103.49148349649559, 104.32696582889388, 103.9939046571976, 104.09212536681191, 104.25784755175786, 104.27765337386117, 104.60060953428025, 104.7335914826881, 104.7137856605848, 104.86495662929161, 104.47045698903, 104.37668248437765, 104.47934939895393, 104.23804172965457, 103.66205608685459, 104.51168543504095, 104.23723332875238, 104.37021527716024, 105.05290983904739, 104.97409075108528, 105.18993379196611, 105.14951374685735, 106.18507530254404, 106.14586785878855, 107.01530302907818, 106.79865158729515, 106.68628386189279, 106.28733801666922, 106.27521200313659, 106.58685055092522, 107.17374960590456, 107.51691578887801, 107.68344637472616, 107.63251711788911, 107.19436382891003, 108.15636090249876, 108.73638854980963, 108.3851383578144, 108.29540585767295, 108.5104404976516, 108.46072384216781, 108.34593091405891, 108.4316214096895, 108.63048803162465, 108.06743680325948, 108.96476180467418, 109.66200758280047, 110.1037986758393, 110.87824674012336, 111.06256214581936, 111.20726590730877, 111.08358056927592, 111.86490004122844, 112.61994648386026, 112.22302164089216, 113.27960162003541, 113.09649881569268, 113.59245276917729, 114.5087751917931, 114.75776266966315, 114.6934947979402, 114.7626130750762, 116.12153499163304, 115.33981131922944, 114.08274791634668, 114.13852757859677, 114.06455889604771, 111.64541919628783, 107.0702742904261, 108.93768037445129, 108.39281816638507, 104.32413642573626, 105.88232916467935, 107.35563980889403, 107.63615492194889, 109.07874633188091, 110.39522720107355, 110.43645564708449, 109.79135172714854, 109.18788045367458, 109.29418517231066, 111.04598992732477, 112.35155738433804, 110.92392139109629, 109.69313101753421, 108.23154218640107, 108.7804463989782, 109.98051753825757, 110.27073346213854, 110.21737900259498, 110.70929095156869, 112.63328509874617, 112.48979393861003, 111.77395493973373, 111.13410562566189, 111.04720252867801, 111.23636833978708, 109.65634877648525, 109.8188373578225, 109.61633293182756, 106.85806905360506, 104.61758595322594, 107.4587109239214, 105.60221825207556, 105.29421750834673, 106.74408452639832, 104.35970606543196, 105.67618693462461, 106.89848909871384, 107.63211291743802, 105.27279488443908, 105.6240450764343, 107.39080524813865, 106.79743898594192, 107.67859596931308, 107.36776582242666, 108.23841359406958, 109.39240588192496, 109.4833509834197, 108.85643608378268, 107.92717924673202, 107.93324225349836, 106.489034041762, 106.68466706008843, 107.79783510238398, 107.91788263635702, 107.0343004502793, 107.30713575476352, 106.53390029183274, 106.29380522388662, 107.65555654360111, 108.0278251590529, 107.99912692702564, 109.04479349398954, 110.06661223433926, 110.25456544409502, 110.35197775280719, 109.59693131017534, 110.04195600682291, 109.94777730171947, 109.65836977874066, 110.46838748272043, 110.12198769613828, 110.47970509535088, 110.2561822458994, 109.99628135585, 108.72426253627701, 110.1046070767415, 109.34713543140313, 110.53346375534554, 111.028609307928, 111.10661999498792, 112.05851205729947, 111.97848036798408, 112.32851795862607, 112.4485654925991, 112.64460271137662, 112.19108980525623, 112.46837131470238, 112.35398258704457, 112.11510012045174, 111.66401241703787, 111.85519923040235, 111.14542323829235, 111.35237386924923, 109.82409196368663, 110.06620803388816, 109.11916637698968, 109.79337272940397, 109.87663802232804, 110.21374119853517, 109.66847479001787, 110.61389964511201, 111.55204889208656, 112.53627699048512, 112.92713882668694, 112.12601353263109, 113.10700802742095, 113.22907656364944, 113.11266683373617, 113.56213773534571, 113.80748740915594, 113.35761230709534, 113.25009498710601, 113.45825821941618, 114.00069522477587, 115.03827778271803, 114.68945279342933, 113.93683155350402, 113.28121842183975, 113.83456883937882, 113.71613810721013, 114.27635993241768, 114.80707512469583, 115.21329657803898, 115.53867794116456, 115.508362907333, 115.34183232148487, 114.52130540577686, 114.06253789379228, 114.79131130710343, 113.91864253320507, 114.82081794003282, 115.20238316585963, 115.48208987801232, 115.72097234460514, 115.67489349318114, 115.47926047485468, 116.195099473731, 117.08636146837938, 117.11788910356424, 117.78562824876113, 117.26380546640691, 117.27956928399932, 117.0855530674772, 116.75734230119402, 116.3309108252965, 116.07343513795361, 116.29372438379642, 116.72864406916679, 116.77027671562882, 117.38708660398865, 117.41942264007568, 116.76542631021579, 117.39234120985277, 117.53947017404872, 118.46104720252868, 118.4173935538112, 118.00106708919087, 117.84706671732646, 117.45943848473334, 117.78401144695678, 117.78320304605461, 118.21205972465867, 118.16517247233247, 118.24924616615873, 117.28320708805913, 116.63486956451443, 116.58879071309043, 116.42347272859557, 112.59731125859935, 110.28083847341574, 111.84751942183169, 111.18705588475437, 113.57709315203597, 113.54839492000875, 111.91421249626114, 111.87379245115238, 111.39279391435801, 110.77881342915579, 107.35968181340489, 109.35926144493577, 107.46436973023663, 106.75944414353967, 108.43202561014058, 109.60865312325687, 110.76587901472097, 110.06620803388816, 110.68261372179691, 111.37541329496123, 113.73756073111778, 113.45219521264987, 112.40854964794143, 110.19393537643187, 110.03063839419245, 109.19798546495178, 110.35480715596478, 110.60015682977502, 108.75942797552163, 106.78531297240927, 107.11029013508377, 106.40819395154443, 108.06096959604206, 108.41343238939054, 110.90411556899298, 110.6603826969871, 111.56619590787464, 112.7868812701595, 109.13654699638644, 108.97042061098941, 106.429212375001, 106.61676138430569, 106.57876654190348, 107.1563689865078, 107.13494636260015, 105.09009628054744, 102.90700964422277, 102.91590205414668, 101.3314362858829, 99.73322770228212, 97.67988941075659, 95.03156805522994, 99.74454531491257, 100.59862086806089, 100.47372292867477, 101.32699008092092, 101.45552582436683, 98.94382422130784, 102.34112901269998, 103.05858481338066, 104.05776832846945, 104.48419980436698, 104.95630593123741, 104.9409463140961, 104.38921269836136, 105.50844374742323, 105.74288000905409, 106.54562210491427, 107.95021867244404, 106.42193676688143, 106.65637302851229, 106.80309779225713, 107.70971940404685, 106.86453626082246, 106.7089190871537, 108.36816193886874, 109.29984397862589, 109.3980646882402, 110.13936831553504, 110.65795749428055, 110.41179941956815, 109.37866306658799, 109.45263174913704, 109.53023823574588, 110.9421104113952, 111.27759678579802, 110.982530456504, 112.18987720390297, 112.35802459155546, 112.55769961439277, 112.16077477142466, 112.87984737390968, 113.01889232908384, 112.92956402939348, 112.86812556082812, 112.54921140491992, 113.32527627100832, 112.88550618022491, 112.75777883768119, 112.02213401670156, 111.11187460085206, 110.87501313651467, 112.5011115512405, 112.83336432203458, 113.61751319714473, 113.51888828707932, 114.08476891860211, 114.50756259043986, 114.4926071737496, 114.15550399754247, 115.39437838012627, 113.20482453658418, 113.10983743057858, 113.92228033726485, 113.39318194679105, 113.80021180103637, 114.56657585629866, 115.89194913541523, 115.89397013767066, 116.1429576155407, 116.38507368574223, 116.92468128794431, 117.0471540246239, 116.33697383206278, 116.74157848360159, 116.74602468856357, 117.51764334968998, 117.44367466714093, 117.50349633390191, 117.23631983573293, 117.42144364233111, 117.54027857495089, 118.57947793469737, 118.31957704464797, 118.27592339593052, 118.83008221437174, 118.95740535646439, 119.07058148276892, 118.17729848586511, 117.92629000573965, 119.06290167419826, 118.53056968011575, 116.5734310959491, 116.38628628709552, 116.03463189464918, 116.46631797641088, 113.65591223999805, 114.56698005674974, 115.23593180329989, 116.26098414725831, 115.58233158988207, 114.80222471928279, 115.77756040775742, 115.45056224282746, 114.07506810777599, 114.22947268009152, 113.27273021236692, 112.48979393861003, 112.72584700204527, 111.23838934204251, 110.93079279876477, 113.30829985206263, 114.2331104841513, 114.93399406633738, 116.14053241283418, 116.6817568168406, 116.64093257128074, 116.40326270604118, 116.88021923832466, 116.6918618281178, 116.80059174946041, 117.93558661611468, 118.28764520901206, 119.40808885942715, 119.25772629162255, 119.05117986111674, 117.92063119942442, 117.77511903703287, 118.22539833954455, 118.90607189917625, 119.81835231728117, 120.16919830882533, 121.09117953775636, 120.8725070937179, 120.28803324144508, 120.43677900744538, 120.98002441370726, 121.25649752225122, 121.81671934745879, 121.83814197136644, 121.42343230855046, 120.63039102351638, 121.06248130572914, 120.31471047121688, 120.65504725103273, 121.481232973056, 122.05075140863858, 121.4084768918602, 122.30539769282383, 122.10774367224192, 121.79287152084461, 120.46709404127695, 119.38302843145973, 118.51359326117009, 114.98451912272334, 116.4812733931011, 116.5706016927915, 118.75773033362707, 117.97196465671256, 116.56130508241647, 118.28198640269683, 114.81718013597302, 115.10012045173441, 116.7605759048027, 118.17406488225642, 117.23874503843948, 118.20559251744125, 118.14577085068025, 115.08031462963113, 116.34424944018238, 115.9715766242795, 116.73066507142222, 118.21165552420756, 118.28764520901206, 117.47156449826599, 118.74520011964333, 120.29005424370054, 120.3995925659453, 120.38827495331483, 120.42707819661926, 121.29772596826218, 121.64695515800197, 121.55883945966484, 121.17767843428912, 121.49052958343101, 121.53216222989305, 121.53458743259958, 120.93960436859848, 120.92788255551694, 119.9101058196781, 120.64858004381533, 120.35553471677673, 119.71568540270492, 120.31996507708102, 118.845037631062, 116.71732645653634, 117.64779589494023, 119.32037736154115, 118.78602436520318, 116.93761570237913, 118.00227969054413, 118.75934713543141, 120.05844738522728, 119.89191679937916, 121.08552073144112, 120.84340466123959, 121.17727423383803, 120.70233870381, 121.53175802944196, 121.09805094542484, 121.44283393020268, 121.67605759048028, 122.1716073435138, 122.85349350449874, 122.75123079037355, 123.15058083604822, 122.77831222059643, 123.96464054453884, 124.42381225697447, 124.27627909232746, 124.36358638976242, 124.70311476867609, 125.02243312503536, 124.77708345122514, 124.9723122691005, 125.06123636833979, 125.1659242851715, 126.12913396011349, 126.19259343093428, 126.11781634748304, 125.64409341880827, 125.44522679687311, 125.7180621013573, 126.66187015464709, 126.93996006499543, 127.46986685637143, 126.95855328574548, 125.8627658628467, 125.02728353044841, 125.81789961277599, 126.00666122343391, 127.1578241081317, 126.75564465929945, 126.61659970412526, 126.98482631506619, 128.07374233029645, 128.08303894067146, 128.9985529623851, 129.04180241065148, 128.98602274840138, 129.56119999029917, 130.2018577052732, 130.31462963112668, 130.28916500270816, 130.9573083483561, 130.9617545533181, 130.20468710843082, 130.58827333651305, 131.68244395760746, 130.75278292010572, 131.21478403569898, 130.84696162520916, 131.48842774108536, 132.36352171769025, 131.98559429592322, 132.906362923501, 132.70507109885935, 132.9532501758272, 134.06560981722055, 134.5833905950639, 134.22648159675344, 134.2652848400579, 134.41847681102013, 133.20304605459938, 131.10767091616077, 132.42576858715773, 132.31097565904884, 132.72568532186483, 130.37566389924092, 131.32149295478615, 133.28873655023, 134.78832022376537, 135.23657852402164, 134.50618830890616, 135.49162900865798, 135.7204064639736, 136.59752144283394, 136.37480699428463, 136.62621967486115, 136.2272738296376, 136.8683357450627, 136.3461087622574, 134.9120055617982, 130.39061931593113, 126.44238930970648, 125.9646243765208, 120.40161356820076, 119.4097056612315, 124.90723599647538, 121.39635087832758, 126.51959159586421, 122.22779120621499, 120.1433294799557, 111.01607909394427, 116.49986661385114, 110.80670326028084, 100.26758069862005, 109.57955069077856, 96.44748223539018, 102.22997388865087, 96.93131017534216, 97.38765248462016, 93.16497037210694, 90.43580892636277, 98.92118899604692, 100.0622468694675, 106.30754803922362, 102.72633204258655, 106.1693114849516, 104.46924438767675, 99.85772144121712, 102.13741198535178, 100.5913452599413, 107.66606575532937, 107.49347216271492, 111.15431564821627, 112.76465024534967, 111.62520917373344, 115.03787358226691, 112.50353675394702, 113.15793728425803, 116.18984486786688, 114.11225454927607, 110.61187864285655, 113.14823647343191, 113.08720220531767, 114.66115876185316, 116.34829144469325, 115.7383529640019, 118.81512679768151, 117.720551976136, 114.4174258898473, 114.9036790325058, 115.9424741918012, 115.13326488872362, 116.45782976693802, 118.42264815967536, 118.44366658313193, 116.01037986758394, 113.98452720673235, 115.29817867276739, 115.75088317798563, 119.39717544724779, 118.14536665022919, 120.11261024567304, 119.17890720366044, 119.45942231671529, 120.92747835506586, 122.7205115560909, 122.46182326739476, 123.05114752508064, 123.5127444402228, 124.52688337200183, 126.22654626882563, 125.80132739428136, 129.09879467425483, 130.65334960913816, 129.63436027194606, 128.9456027032926, 121.34501742103944, 122.92988738975433, 123.95170613010404, 126.30213175317904, 125.84740624570536, 125.92218332915661, 125.21079053524223, 126.0240418428307, 126.56688304864147, 123.29447619663543, 124.64571830462164, 121.6259367345454, 123.41209852790196, 125.31386165026962, 125.94320175261315, 126.51514539090228, 128.52442583325922, 127.13397628151755, 128.12911779209546, 127.40600318509956, 128.73946047323787, 127.53413472809434, 129.24390263619534, 130.41770074615405, 129.97348445040865, 130.343732063605, 131.43951948650377, 131.66021293279763, 132.4168761772338, 130.78552315664385, 129.9759096531152, 130.93709832580174, 130.08948997987082, 131.70629178422163, 131.21235883299244, 132.21881795620084]}],\n",
       "                        {\"legend\": {\"bgcolor\": \"#F5F6F9\", \"font\": {\"color\": \"#4D5663\"}}, \"paper_bgcolor\": \"#F5F6F9\", \"plot_bgcolor\": \"#F5F6F9\", \"template\": {\"data\": {\"bar\": [{\"error_x\": {\"color\": \"#2a3f5f\"}, \"error_y\": {\"color\": \"#2a3f5f\"}, \"marker\": {\"line\": {\"color\": \"#E5ECF6\", \"width\": 0.5}}, \"type\": \"bar\"}], \"barpolar\": [{\"marker\": {\"line\": {\"color\": \"#E5ECF6\", \"width\": 0.5}}, \"type\": \"barpolar\"}], \"carpet\": [{\"aaxis\": {\"endlinecolor\": \"#2a3f5f\", \"gridcolor\": \"white\", \"linecolor\": \"white\", \"minorgridcolor\": \"white\", \"startlinecolor\": \"#2a3f5f\"}, \"baxis\": {\"endlinecolor\": \"#2a3f5f\", \"gridcolor\": \"white\", \"linecolor\": \"white\", \"minorgridcolor\": \"white\", \"startlinecolor\": \"#2a3f5f\"}, \"type\": \"carpet\"}], \"choropleth\": [{\"colorbar\": {\"outlinewidth\": 0, \"ticks\": \"\"}, \"type\": \"choropleth\"}], \"contour\": [{\"colorbar\": {\"outlinewidth\": 0, \"ticks\": \"\"}, \"colorscale\": [[0.0, \"#0d0887\"], [0.1111111111111111, \"#46039f\"], [0.2222222222222222, \"#7201a8\"], [0.3333333333333333, \"#9c179e\"], [0.4444444444444444, \"#bd3786\"], [0.5555555555555556, \"#d8576b\"], [0.6666666666666666, \"#ed7953\"], [0.7777777777777778, \"#fb9f3a\"], [0.8888888888888888, \"#fdca26\"], [1.0, \"#f0f921\"]], \"type\": \"contour\"}], \"contourcarpet\": [{\"colorbar\": {\"outlinewidth\": 0, \"ticks\": \"\"}, \"type\": \"contourcarpet\"}], \"heatmap\": [{\"colorbar\": {\"outlinewidth\": 0, \"ticks\": \"\"}, \"colorscale\": [[0.0, \"#0d0887\"], [0.1111111111111111, \"#46039f\"], [0.2222222222222222, \"#7201a8\"], [0.3333333333333333, \"#9c179e\"], [0.4444444444444444, \"#bd3786\"], [0.5555555555555556, \"#d8576b\"], [0.6666666666666666, \"#ed7953\"], [0.7777777777777778, \"#fb9f3a\"], [0.8888888888888888, \"#fdca26\"], [1.0, \"#f0f921\"]], \"type\": \"heatmap\"}], \"heatmapgl\": [{\"colorbar\": {\"outlinewidth\": 0, \"ticks\": \"\"}, \"colorscale\": [[0.0, \"#0d0887\"], [0.1111111111111111, \"#46039f\"], [0.2222222222222222, \"#7201a8\"], [0.3333333333333333, \"#9c179e\"], [0.4444444444444444, \"#bd3786\"], [0.5555555555555556, \"#d8576b\"], [0.6666666666666666, \"#ed7953\"], [0.7777777777777778, \"#fb9f3a\"], [0.8888888888888888, \"#fdca26\"], [1.0, \"#f0f921\"]], \"type\": \"heatmapgl\"}], \"histogram\": [{\"marker\": {\"colorbar\": {\"outlinewidth\": 0, \"ticks\": \"\"}}, \"type\": \"histogram\"}], \"histogram2d\": [{\"colorbar\": {\"outlinewidth\": 0, \"ticks\": \"\"}, \"colorscale\": [[0.0, \"#0d0887\"], [0.1111111111111111, \"#46039f\"], [0.2222222222222222, \"#7201a8\"], [0.3333333333333333, \"#9c179e\"], [0.4444444444444444, \"#bd3786\"], [0.5555555555555556, \"#d8576b\"], [0.6666666666666666, \"#ed7953\"], [0.7777777777777778, \"#fb9f3a\"], [0.8888888888888888, \"#fdca26\"], [1.0, \"#f0f921\"]], \"type\": \"histogram2d\"}], \"histogram2dcontour\": [{\"colorbar\": {\"outlinewidth\": 0, \"ticks\": \"\"}, \"colorscale\": [[0.0, \"#0d0887\"], [0.1111111111111111, \"#46039f\"], [0.2222222222222222, \"#7201a8\"], [0.3333333333333333, \"#9c179e\"], [0.4444444444444444, \"#bd3786\"], [0.5555555555555556, \"#d8576b\"], [0.6666666666666666, \"#ed7953\"], [0.7777777777777778, \"#fb9f3a\"], [0.8888888888888888, \"#fdca26\"], [1.0, \"#f0f921\"]], \"type\": \"histogram2dcontour\"}], \"mesh3d\": [{\"colorbar\": {\"outlinewidth\": 0, \"ticks\": \"\"}, \"type\": \"mesh3d\"}], \"parcoords\": [{\"line\": {\"colorbar\": {\"outlinewidth\": 0, \"ticks\": \"\"}}, \"type\": \"parcoords\"}], \"pie\": [{\"automargin\": true, \"type\": \"pie\"}], \"scatter\": [{\"marker\": {\"colorbar\": {\"outlinewidth\": 0, \"ticks\": \"\"}}, \"type\": \"scatter\"}], \"scatter3d\": [{\"line\": {\"colorbar\": {\"outlinewidth\": 0, \"ticks\": \"\"}}, \"marker\": {\"colorbar\": {\"outlinewidth\": 0, \"ticks\": \"\"}}, \"type\": \"scatter3d\"}], \"scattercarpet\": [{\"marker\": {\"colorbar\": {\"outlinewidth\": 0, \"ticks\": \"\"}}, \"type\": \"scattercarpet\"}], \"scattergeo\": [{\"marker\": {\"colorbar\": {\"outlinewidth\": 0, \"ticks\": \"\"}}, \"type\": \"scattergeo\"}], \"scattergl\": [{\"marker\": {\"colorbar\": {\"outlinewidth\": 0, \"ticks\": \"\"}}, \"type\": \"scattergl\"}], \"scattermapbox\": [{\"marker\": {\"colorbar\": {\"outlinewidth\": 0, \"ticks\": \"\"}}, \"type\": \"scattermapbox\"}], \"scatterpolar\": [{\"marker\": {\"colorbar\": {\"outlinewidth\": 0, \"ticks\": \"\"}}, \"type\": \"scatterpolar\"}], \"scatterpolargl\": [{\"marker\": {\"colorbar\": {\"outlinewidth\": 0, \"ticks\": \"\"}}, \"type\": \"scatterpolargl\"}], \"scatterternary\": [{\"marker\": {\"colorbar\": {\"outlinewidth\": 0, \"ticks\": \"\"}}, \"type\": \"scatterternary\"}], \"surface\": [{\"colorbar\": {\"outlinewidth\": 0, \"ticks\": \"\"}, \"colorscale\": [[0.0, \"#0d0887\"], [0.1111111111111111, \"#46039f\"], [0.2222222222222222, \"#7201a8\"], [0.3333333333333333, \"#9c179e\"], [0.4444444444444444, \"#bd3786\"], [0.5555555555555556, \"#d8576b\"], [0.6666666666666666, \"#ed7953\"], [0.7777777777777778, \"#fb9f3a\"], [0.8888888888888888, \"#fdca26\"], [1.0, \"#f0f921\"]], \"type\": \"surface\"}], \"table\": [{\"cells\": {\"fill\": {\"color\": \"#EBF0F8\"}, \"line\": {\"color\": \"white\"}}, \"header\": {\"fill\": {\"color\": \"#C8D4E3\"}, \"line\": {\"color\": \"white\"}}, \"type\": \"table\"}]}, \"layout\": {\"annotationdefaults\": {\"arrowcolor\": \"#2a3f5f\", \"arrowhead\": 0, \"arrowwidth\": 1}, \"coloraxis\": {\"colorbar\": {\"outlinewidth\": 0, \"ticks\": \"\"}}, \"colorscale\": {\"diverging\": [[0, \"#8e0152\"], [0.1, \"#c51b7d\"], [0.2, \"#de77ae\"], [0.3, \"#f1b6da\"], [0.4, \"#fde0ef\"], [0.5, \"#f7f7f7\"], [0.6, \"#e6f5d0\"], [0.7, \"#b8e186\"], [0.8, \"#7fbc41\"], [0.9, \"#4d9221\"], [1, \"#276419\"]], \"sequential\": [[0.0, \"#0d0887\"], [0.1111111111111111, \"#46039f\"], [0.2222222222222222, \"#7201a8\"], [0.3333333333333333, \"#9c179e\"], [0.4444444444444444, \"#bd3786\"], [0.5555555555555556, \"#d8576b\"], [0.6666666666666666, \"#ed7953\"], [0.7777777777777778, \"#fb9f3a\"], [0.8888888888888888, \"#fdca26\"], [1.0, \"#f0f921\"]], \"sequentialminus\": [[0.0, \"#0d0887\"], [0.1111111111111111, \"#46039f\"], [0.2222222222222222, \"#7201a8\"], [0.3333333333333333, \"#9c179e\"], [0.4444444444444444, \"#bd3786\"], [0.5555555555555556, \"#d8576b\"], [0.6666666666666666, \"#ed7953\"], [0.7777777777777778, \"#fb9f3a\"], [0.8888888888888888, \"#fdca26\"], [1.0, \"#f0f921\"]]}, \"colorway\": [\"#636efa\", \"#EF553B\", \"#00cc96\", \"#ab63fa\", \"#FFA15A\", \"#19d3f3\", \"#FF6692\", \"#B6E880\", \"#FF97FF\", \"#FECB52\"], \"font\": {\"color\": \"#2a3f5f\"}, \"geo\": {\"bgcolor\": \"white\", \"lakecolor\": \"white\", \"landcolor\": \"#E5ECF6\", \"showlakes\": true, \"showland\": true, \"subunitcolor\": \"white\"}, \"hoverlabel\": {\"align\": \"left\"}, \"hovermode\": \"closest\", \"mapbox\": {\"style\": \"light\"}, \"paper_bgcolor\": \"white\", \"plot_bgcolor\": \"#E5ECF6\", \"polar\": {\"angularaxis\": {\"gridcolor\": \"white\", \"linecolor\": \"white\", \"ticks\": \"\"}, \"bgcolor\": \"#E5ECF6\", \"radialaxis\": {\"gridcolor\": \"white\", \"linecolor\": \"white\", \"ticks\": \"\"}}, \"scene\": {\"xaxis\": {\"backgroundcolor\": \"#E5ECF6\", \"gridcolor\": \"white\", \"gridwidth\": 2, \"linecolor\": \"white\", \"showbackground\": true, \"ticks\": \"\", \"zerolinecolor\": \"white\"}, \"yaxis\": {\"backgroundcolor\": \"#E5ECF6\", \"gridcolor\": \"white\", \"gridwidth\": 2, \"linecolor\": \"white\", \"showbackground\": true, \"ticks\": \"\", \"zerolinecolor\": \"white\"}, \"zaxis\": {\"backgroundcolor\": \"#E5ECF6\", \"gridcolor\": \"white\", \"gridwidth\": 2, \"linecolor\": \"white\", \"showbackground\": true, \"ticks\": \"\", \"zerolinecolor\": \"white\"}}, \"shapedefaults\": {\"line\": {\"color\": \"#2a3f5f\"}}, \"ternary\": {\"aaxis\": {\"gridcolor\": \"white\", \"linecolor\": \"white\", \"ticks\": \"\"}, \"baxis\": {\"gridcolor\": \"white\", \"linecolor\": \"white\", \"ticks\": \"\"}, \"bgcolor\": \"#E5ECF6\", \"caxis\": {\"gridcolor\": \"white\", \"linecolor\": \"white\", \"ticks\": \"\"}}, \"title\": {\"x\": 0.05}, \"xaxis\": {\"automargin\": true, \"gridcolor\": \"white\", \"linecolor\": \"white\", \"ticks\": \"\", \"title\": {\"standoff\": 15}, \"zerolinecolor\": \"white\", \"zerolinewidth\": 2}, \"yaxis\": {\"automargin\": true, \"gridcolor\": \"white\", \"linecolor\": \"white\", \"ticks\": \"\", \"title\": {\"standoff\": 15}, \"zerolinecolor\": \"white\", \"zerolinewidth\": 2}}}, \"title\": {\"font\": {\"color\": \"#4D5663\"}}, \"xaxis\": {\"gridcolor\": \"#E1E5ED\", \"showgrid\": true, \"tickfont\": {\"color\": \"#4D5663\"}, \"title\": {\"font\": {\"color\": \"#4D5663\"}, \"text\": \"\"}, \"zerolinecolor\": \"#E1E5ED\"}, \"yaxis\": {\"gridcolor\": \"#E1E5ED\", \"showgrid\": true, \"tickfont\": {\"color\": \"#4D5663\"}, \"title\": {\"font\": {\"color\": \"#4D5663\"}, \"text\": \"\"}, \"zerolinecolor\": \"#E1E5ED\"}},\n",
       "                        {\"showLink\": true, \"linkText\": \"Export to plot.ly\", \"plotlyServerURL\": \"https://plot.ly\", \"responsive\": true}\n",
       "                    ).then(function(){\n",
       "                            \n",
       "var gd = document.getElementById('458722ff-d1a1-4fc0-b32e-813e7eaa33d1');\n",
       "var x = new MutationObserver(function (mutations, observer) {{\n",
       "        var display = window.getComputedStyle(gd).display;\n",
       "        if (!display || display === 'none') {{\n",
       "            console.log([gd, 'removed!']);\n",
       "            Plotly.purge(gd);\n",
       "            observer.disconnect();\n",
       "        }}\n",
       "}});\n",
       "\n",
       "// Listen for the removal of the full notebook cells\n",
       "var notebookContainer = gd.closest('#notebook-container');\n",
       "if (notebookContainer) {{\n",
       "    x.observe(notebookContainer, {childList: true});\n",
       "}}\n",
       "\n",
       "// Listen for the clearing of the current output cell\n",
       "var outputEl = gd.closest('.output');\n",
       "if (outputEl) {{\n",
       "    x.observe(outputEl, {childList: true});\n",
       "}}\n",
       "\n",
       "                        })\n",
       "                };\n",
       "                });\n",
       "            </script>\n",
       "        </div>"
      ]
     },
     "metadata": {},
     "output_type": "display_data"
    }
   ],
   "source": [
    "data.normalize().iplot()\n"
   ]
  },
  {
   "cell_type": "markdown",
   "metadata": {},
   "source": [
    "# Get Constituents from an Index"
   ]
  },
  {
   "cell_type": "code",
   "execution_count": 35,
   "metadata": {},
   "outputs": [
    {
     "name": "stderr",
     "output_type": "stream",
     "text": [
      "C:\\Users\\Admin\\anaconda3\\lib\\site-packages\\eikon\\data_grid.py:247: FutureWarning:\n",
      "\n",
      "The pandas.np module is deprecated and will be removed from pandas in a future version. Import numpy directly instead\n",
      "\n"
     ]
    }
   ],
   "source": [
    "dax = ek.get_data('0#.FTSE', fields=['TR.CommonName', 'TR.PriceClose',\n",
    "                                      'TR.Volume', 'TR.TotalReturnYTD'])[0]"
   ]
  },
  {
   "cell_type": "code",
   "execution_count": 36,
   "metadata": {},
   "outputs": [
    {
     "data": {
      "text/html": [
       "<div>\n",
       "<style scoped>\n",
       "    .dataframe tbody tr th:only-of-type {\n",
       "        vertical-align: middle;\n",
       "    }\n",
       "\n",
       "    .dataframe tbody tr th {\n",
       "        vertical-align: top;\n",
       "    }\n",
       "\n",
       "    .dataframe thead th {\n",
       "        text-align: right;\n",
       "    }\n",
       "</style>\n",
       "<table border=\"1\" class=\"dataframe\">\n",
       "  <thead>\n",
       "    <tr style=\"text-align: right;\">\n",
       "      <th></th>\n",
       "      <th>Instrument</th>\n",
       "      <th>Company Common Name</th>\n",
       "      <th>Price Close</th>\n",
       "      <th>Volume</th>\n",
       "      <th>YTD Total Return</th>\n",
       "    </tr>\n",
       "  </thead>\n",
       "  <tbody>\n",
       "    <tr>\n",
       "      <th>0</th>\n",
       "      <td>STAN.L</td>\n",
       "      <td>Standard Chartered PLC</td>\n",
       "      <td>385.80</td>\n",
       "      <td>7203727</td>\n",
       "      <td>-45.845031</td>\n",
       "    </tr>\n",
       "    <tr>\n",
       "      <th>1</th>\n",
       "      <td>CRDA.L</td>\n",
       "      <td>Croda International PLC</td>\n",
       "      <td>5730.00</td>\n",
       "      <td>255300</td>\n",
       "      <td>13.164430</td>\n",
       "    </tr>\n",
       "    <tr>\n",
       "      <th>2</th>\n",
       "      <td>ANTO.L</td>\n",
       "      <td>Antofagasta PLC</td>\n",
       "      <td>1027.50</td>\n",
       "      <td>946015</td>\n",
       "      <td>12.890222</td>\n",
       "    </tr>\n",
       "    <tr>\n",
       "      <th>3</th>\n",
       "      <td>MRW.L</td>\n",
       "      <td>WM Morrison Supermarkets PLC</td>\n",
       "      <td>186.85</td>\n",
       "      <td>9047891</td>\n",
       "      <td>-3.975227</td>\n",
       "    </tr>\n",
       "    <tr>\n",
       "      <th>4</th>\n",
       "      <td>BNZL.L</td>\n",
       "      <td>Bunzl plc</td>\n",
       "      <td>2198.00</td>\n",
       "      <td>542763</td>\n",
       "      <td>6.440678</td>\n",
       "    </tr>\n",
       "  </tbody>\n",
       "</table>\n",
       "</div>"
      ],
      "text/plain": [
       "  Instrument           Company Common Name  Price Close   Volume  \\\n",
       "0     STAN.L        Standard Chartered PLC       385.80  7203727   \n",
       "1     CRDA.L       Croda International PLC      5730.00   255300   \n",
       "2     ANTO.L               Antofagasta PLC      1027.50   946015   \n",
       "3      MRW.L  WM Morrison Supermarkets PLC       186.85  9047891   \n",
       "4     BNZL.L                     Bunzl plc      2198.00   542763   \n",
       "\n",
       "   YTD Total Return  \n",
       "0        -45.845031  \n",
       "1         13.164430  \n",
       "2         12.890222  \n",
       "3         -3.975227  \n",
       "4          6.440678  "
      ]
     },
     "execution_count": 36,
     "metadata": {},
     "output_type": "execute_result"
    }
   ],
   "source": [
    "dax.head()"
   ]
  },
  {
   "cell_type": "code",
   "execution_count": 37,
   "metadata": {},
   "outputs": [
    {
     "data": {
      "application/vnd.plotly.v1+json": {
       "config": {
        "linkText": "Export to plot.ly",
        "plotlyServerURL": "https://plot.ly",
        "showLink": true
       },
       "data": [
        {
         "marker": {
          "color": "rgba(55, 128, 191, 0.6)",
          "line": {
           "color": "rgba(55, 128, 191, 1.0)",
           "width": 1
          }
         },
         "name": "YTD Total Return",
         "orientation": "v",
         "text": "",
         "type": "bar",
         "x": [
          "ICAG.L",
          "RR.L",
          "MRON.L",
          "ITV.L",
          "LLOY.L",
          "INF.L",
          "NWG.L",
          "RDSb.L",
          "BT.L",
          "RDSa.L",
          "WTB.L",
          "WPP.L",
          "STAN.L",
          "BARC.L",
          "CPG.L",
          "BRBY.L",
          "HSBA.L",
          "BLND.L",
          "LAND.L",
          "BP.L",
          "TW.L",
          "AV.L",
          "IHG.L",
          "ABF.L",
          "SMDS.L",
          "BDEV.L",
          "IMB.L",
          "JD.L",
          "GLEN.L",
          "GVC.L",
          "LGEN.L",
          "JMAT.L",
          "RSA.L",
          "MNG.L",
          "MNDI.L",
          "NXT.L",
          "PRU.L",
          "EVRE.L",
          "CCH.L",
          "SMIN.L",
          "BATS.L",
          "VOD.L",
          "SBRY.L",
          "SLA.L",
          "III.L",
          "SJP.L",
          "SN.L",
          "PSON.L",
          "ICP.L",
          "BAES.L",
          "SKG.L",
          "REL.L",
          "RMV.L",
          "TSCO.L",
          "GSK.L",
          "DGE.L",
          "AAL.L",
          "PSN.L",
          "AVV.L",
          "AUTOA.L",
          "HRGV.L",
          "PHNX.L",
          "SDR.L",
          "ITRK.L",
          "CRH.L",
          "BKGH.L",
          "SSE.L",
          "MRW.L",
          "BHPB.L",
          "UU.L",
          "NG.L",
          "FERG.L",
          "SGE.L",
          "SVT.L",
          "AHT.L",
          "HLMA.L",
          "HSV.L",
          "DCC.L",
          "EXPN.L",
          "ADML.L",
          "BNZL.L",
          "ULVR.L",
          "RIO.L",
          "PNN.L",
          "HIK.L",
          "LSE.L",
          "SGRO.L",
          "KGF.L",
          "ANTO.L",
          "CRDA.L",
          "AZN.L",
          "SPX.L",
          "RTO.L",
          "JETJ.L",
          "FLTRF.L",
          "AVST.L",
          "RB.L",
          "SMT.L",
          "OCDO.L",
          "POLYP.L",
          "FRES.L"
         ],
         "y": [
          -73.6400000008118,
          -66.1007025767383,
          -64.4897959194822,
          -62.4635761583874,
          -57.94400000128199,
          -56.8378062985815,
          -55.8884727434221,
          -50.298920326777704,
          -48.7736437310586,
          -48.3833953348672,
          -47.63775680638229,
          -46.74167838955999,
          -45.8450308808722,
          -44.0213760874715,
          -43.641688232657096,
          -43.197278910612795,
          -42.1861800983232,
          -41.9611755020232,
          -41.7575757549943,
          -39.0534821629054,
          -38.8055842796236,
          -37.0193455959936,
          -32.488479266341,
          -32.0631254765987,
          -32.0145757390735,
          -31.609965176192002,
          -27.865507189846,
          -27.680917123491803,
          -25.7956235403606,
          -24.8360099524994,
          -24.714830996377803,
          -24.181091825774196,
          -24.1336633703199,
          -24.003872727051803,
          -23.102961919635803,
          -22.3425477343649,
          -22.2392450306743,
          -20.967076211872698,
          -19.709873958911,
          -19.679905153546603,
          -18.9407728250205,
          -18.736640606132603,
          -18.5950413285834,
          -18.0198058900366,
          -17.2525626964694,
          -17.1841737421122,
          -16.0403259857987,
          -14.468005799028699,
          -13.904240945213198,
          -13.2082152987414,
          -13.013698626012001,
          -12.9643768079635,
          -12.6893939383116,
          -12.494599340350302,
          -11.8001614630266,
          -11.6317662013868,
          -11.313361716312698,
          -10.871985156510801,
          -10.0187902884391,
          -9.38982831919141,
          -9.007839897891161,
          -8.49724632967271,
          -8.40352976554811,
          -6.84357984458447,
          -6.5489923175505105,
          -5.563613655218759,
          -4.24176969924125,
          -3.97522661077474,
          -3.5671425224916202,
          -1.6309064135942901,
          -1.40018809215747,
          -0.8467153242716079,
          -0.349033651657715,
          -0.12556021417236,
          1.16684596289756,
          2.93005670642432,
          5.06329113924033,
          5.895831456549259,
          6.34471976226143,
          6.36424038982033,
          6.440677966025139,
          6.8399293456727195,
          7.47240514914156,
          8.25893388042542,
          9.436342371041759,
          10.2036127666091,
          10.3840195141405,
          11.474654379133598,
          12.8902220429918,
          13.1644297926415,
          14.4321264880336,
          16.988483199914903,
          17.924944813990603,
          19.7256097539322,
          26.4330125933226,
          26.8772084805654,
          27.7642408006497,
          50.4623296908521,
          60.516028142467206,
          63.804958716085395,
          94.96666594689329
         ]
        }
       ],
       "layout": {
        "legend": {
         "bgcolor": "#F5F6F9",
         "font": {
          "color": "#4D5663"
         }
        },
        "paper_bgcolor": "#F5F6F9",
        "plot_bgcolor": "#F5F6F9",
        "template": {
         "data": {
          "bar": [
           {
            "error_x": {
             "color": "#2a3f5f"
            },
            "error_y": {
             "color": "#2a3f5f"
            },
            "marker": {
             "line": {
              "color": "#E5ECF6",
              "width": 0.5
             }
            },
            "type": "bar"
           }
          ],
          "barpolar": [
           {
            "marker": {
             "line": {
              "color": "#E5ECF6",
              "width": 0.5
             }
            },
            "type": "barpolar"
           }
          ],
          "carpet": [
           {
            "aaxis": {
             "endlinecolor": "#2a3f5f",
             "gridcolor": "white",
             "linecolor": "white",
             "minorgridcolor": "white",
             "startlinecolor": "#2a3f5f"
            },
            "baxis": {
             "endlinecolor": "#2a3f5f",
             "gridcolor": "white",
             "linecolor": "white",
             "minorgridcolor": "white",
             "startlinecolor": "#2a3f5f"
            },
            "type": "carpet"
           }
          ],
          "choropleth": [
           {
            "colorbar": {
             "outlinewidth": 0,
             "ticks": ""
            },
            "type": "choropleth"
           }
          ],
          "contour": [
           {
            "colorbar": {
             "outlinewidth": 0,
             "ticks": ""
            },
            "colorscale": [
             [
              0,
              "#0d0887"
             ],
             [
              0.1111111111111111,
              "#46039f"
             ],
             [
              0.2222222222222222,
              "#7201a8"
             ],
             [
              0.3333333333333333,
              "#9c179e"
             ],
             [
              0.4444444444444444,
              "#bd3786"
             ],
             [
              0.5555555555555556,
              "#d8576b"
             ],
             [
              0.6666666666666666,
              "#ed7953"
             ],
             [
              0.7777777777777778,
              "#fb9f3a"
             ],
             [
              0.8888888888888888,
              "#fdca26"
             ],
             [
              1,
              "#f0f921"
             ]
            ],
            "type": "contour"
           }
          ],
          "contourcarpet": [
           {
            "colorbar": {
             "outlinewidth": 0,
             "ticks": ""
            },
            "type": "contourcarpet"
           }
          ],
          "heatmap": [
           {
            "colorbar": {
             "outlinewidth": 0,
             "ticks": ""
            },
            "colorscale": [
             [
              0,
              "#0d0887"
             ],
             [
              0.1111111111111111,
              "#46039f"
             ],
             [
              0.2222222222222222,
              "#7201a8"
             ],
             [
              0.3333333333333333,
              "#9c179e"
             ],
             [
              0.4444444444444444,
              "#bd3786"
             ],
             [
              0.5555555555555556,
              "#d8576b"
             ],
             [
              0.6666666666666666,
              "#ed7953"
             ],
             [
              0.7777777777777778,
              "#fb9f3a"
             ],
             [
              0.8888888888888888,
              "#fdca26"
             ],
             [
              1,
              "#f0f921"
             ]
            ],
            "type": "heatmap"
           }
          ],
          "heatmapgl": [
           {
            "colorbar": {
             "outlinewidth": 0,
             "ticks": ""
            },
            "colorscale": [
             [
              0,
              "#0d0887"
             ],
             [
              0.1111111111111111,
              "#46039f"
             ],
             [
              0.2222222222222222,
              "#7201a8"
             ],
             [
              0.3333333333333333,
              "#9c179e"
             ],
             [
              0.4444444444444444,
              "#bd3786"
             ],
             [
              0.5555555555555556,
              "#d8576b"
             ],
             [
              0.6666666666666666,
              "#ed7953"
             ],
             [
              0.7777777777777778,
              "#fb9f3a"
             ],
             [
              0.8888888888888888,
              "#fdca26"
             ],
             [
              1,
              "#f0f921"
             ]
            ],
            "type": "heatmapgl"
           }
          ],
          "histogram": [
           {
            "marker": {
             "colorbar": {
              "outlinewidth": 0,
              "ticks": ""
             }
            },
            "type": "histogram"
           }
          ],
          "histogram2d": [
           {
            "colorbar": {
             "outlinewidth": 0,
             "ticks": ""
            },
            "colorscale": [
             [
              0,
              "#0d0887"
             ],
             [
              0.1111111111111111,
              "#46039f"
             ],
             [
              0.2222222222222222,
              "#7201a8"
             ],
             [
              0.3333333333333333,
              "#9c179e"
             ],
             [
              0.4444444444444444,
              "#bd3786"
             ],
             [
              0.5555555555555556,
              "#d8576b"
             ],
             [
              0.6666666666666666,
              "#ed7953"
             ],
             [
              0.7777777777777778,
              "#fb9f3a"
             ],
             [
              0.8888888888888888,
              "#fdca26"
             ],
             [
              1,
              "#f0f921"
             ]
            ],
            "type": "histogram2d"
           }
          ],
          "histogram2dcontour": [
           {
            "colorbar": {
             "outlinewidth": 0,
             "ticks": ""
            },
            "colorscale": [
             [
              0,
              "#0d0887"
             ],
             [
              0.1111111111111111,
              "#46039f"
             ],
             [
              0.2222222222222222,
              "#7201a8"
             ],
             [
              0.3333333333333333,
              "#9c179e"
             ],
             [
              0.4444444444444444,
              "#bd3786"
             ],
             [
              0.5555555555555556,
              "#d8576b"
             ],
             [
              0.6666666666666666,
              "#ed7953"
             ],
             [
              0.7777777777777778,
              "#fb9f3a"
             ],
             [
              0.8888888888888888,
              "#fdca26"
             ],
             [
              1,
              "#f0f921"
             ]
            ],
            "type": "histogram2dcontour"
           }
          ],
          "mesh3d": [
           {
            "colorbar": {
             "outlinewidth": 0,
             "ticks": ""
            },
            "type": "mesh3d"
           }
          ],
          "parcoords": [
           {
            "line": {
             "colorbar": {
              "outlinewidth": 0,
              "ticks": ""
             }
            },
            "type": "parcoords"
           }
          ],
          "pie": [
           {
            "automargin": true,
            "type": "pie"
           }
          ],
          "scatter": [
           {
            "marker": {
             "colorbar": {
              "outlinewidth": 0,
              "ticks": ""
             }
            },
            "type": "scatter"
           }
          ],
          "scatter3d": [
           {
            "line": {
             "colorbar": {
              "outlinewidth": 0,
              "ticks": ""
             }
            },
            "marker": {
             "colorbar": {
              "outlinewidth": 0,
              "ticks": ""
             }
            },
            "type": "scatter3d"
           }
          ],
          "scattercarpet": [
           {
            "marker": {
             "colorbar": {
              "outlinewidth": 0,
              "ticks": ""
             }
            },
            "type": "scattercarpet"
           }
          ],
          "scattergeo": [
           {
            "marker": {
             "colorbar": {
              "outlinewidth": 0,
              "ticks": ""
             }
            },
            "type": "scattergeo"
           }
          ],
          "scattergl": [
           {
            "marker": {
             "colorbar": {
              "outlinewidth": 0,
              "ticks": ""
             }
            },
            "type": "scattergl"
           }
          ],
          "scattermapbox": [
           {
            "marker": {
             "colorbar": {
              "outlinewidth": 0,
              "ticks": ""
             }
            },
            "type": "scattermapbox"
           }
          ],
          "scatterpolar": [
           {
            "marker": {
             "colorbar": {
              "outlinewidth": 0,
              "ticks": ""
             }
            },
            "type": "scatterpolar"
           }
          ],
          "scatterpolargl": [
           {
            "marker": {
             "colorbar": {
              "outlinewidth": 0,
              "ticks": ""
             }
            },
            "type": "scatterpolargl"
           }
          ],
          "scatterternary": [
           {
            "marker": {
             "colorbar": {
              "outlinewidth": 0,
              "ticks": ""
             }
            },
            "type": "scatterternary"
           }
          ],
          "surface": [
           {
            "colorbar": {
             "outlinewidth": 0,
             "ticks": ""
            },
            "colorscale": [
             [
              0,
              "#0d0887"
             ],
             [
              0.1111111111111111,
              "#46039f"
             ],
             [
              0.2222222222222222,
              "#7201a8"
             ],
             [
              0.3333333333333333,
              "#9c179e"
             ],
             [
              0.4444444444444444,
              "#bd3786"
             ],
             [
              0.5555555555555556,
              "#d8576b"
             ],
             [
              0.6666666666666666,
              "#ed7953"
             ],
             [
              0.7777777777777778,
              "#fb9f3a"
             ],
             [
              0.8888888888888888,
              "#fdca26"
             ],
             [
              1,
              "#f0f921"
             ]
            ],
            "type": "surface"
           }
          ],
          "table": [
           {
            "cells": {
             "fill": {
              "color": "#EBF0F8"
             },
             "line": {
              "color": "white"
             }
            },
            "header": {
             "fill": {
              "color": "#C8D4E3"
             },
             "line": {
              "color": "white"
             }
            },
            "type": "table"
           }
          ]
         },
         "layout": {
          "annotationdefaults": {
           "arrowcolor": "#2a3f5f",
           "arrowhead": 0,
           "arrowwidth": 1
          },
          "coloraxis": {
           "colorbar": {
            "outlinewidth": 0,
            "ticks": ""
           }
          },
          "colorscale": {
           "diverging": [
            [
             0,
             "#8e0152"
            ],
            [
             0.1,
             "#c51b7d"
            ],
            [
             0.2,
             "#de77ae"
            ],
            [
             0.3,
             "#f1b6da"
            ],
            [
             0.4,
             "#fde0ef"
            ],
            [
             0.5,
             "#f7f7f7"
            ],
            [
             0.6,
             "#e6f5d0"
            ],
            [
             0.7,
             "#b8e186"
            ],
            [
             0.8,
             "#7fbc41"
            ],
            [
             0.9,
             "#4d9221"
            ],
            [
             1,
             "#276419"
            ]
           ],
           "sequential": [
            [
             0,
             "#0d0887"
            ],
            [
             0.1111111111111111,
             "#46039f"
            ],
            [
             0.2222222222222222,
             "#7201a8"
            ],
            [
             0.3333333333333333,
             "#9c179e"
            ],
            [
             0.4444444444444444,
             "#bd3786"
            ],
            [
             0.5555555555555556,
             "#d8576b"
            ],
            [
             0.6666666666666666,
             "#ed7953"
            ],
            [
             0.7777777777777778,
             "#fb9f3a"
            ],
            [
             0.8888888888888888,
             "#fdca26"
            ],
            [
             1,
             "#f0f921"
            ]
           ],
           "sequentialminus": [
            [
             0,
             "#0d0887"
            ],
            [
             0.1111111111111111,
             "#46039f"
            ],
            [
             0.2222222222222222,
             "#7201a8"
            ],
            [
             0.3333333333333333,
             "#9c179e"
            ],
            [
             0.4444444444444444,
             "#bd3786"
            ],
            [
             0.5555555555555556,
             "#d8576b"
            ],
            [
             0.6666666666666666,
             "#ed7953"
            ],
            [
             0.7777777777777778,
             "#fb9f3a"
            ],
            [
             0.8888888888888888,
             "#fdca26"
            ],
            [
             1,
             "#f0f921"
            ]
           ]
          },
          "colorway": [
           "#636efa",
           "#EF553B",
           "#00cc96",
           "#ab63fa",
           "#FFA15A",
           "#19d3f3",
           "#FF6692",
           "#B6E880",
           "#FF97FF",
           "#FECB52"
          ],
          "font": {
           "color": "#2a3f5f"
          },
          "geo": {
           "bgcolor": "white",
           "lakecolor": "white",
           "landcolor": "#E5ECF6",
           "showlakes": true,
           "showland": true,
           "subunitcolor": "white"
          },
          "hoverlabel": {
           "align": "left"
          },
          "hovermode": "closest",
          "mapbox": {
           "style": "light"
          },
          "paper_bgcolor": "white",
          "plot_bgcolor": "#E5ECF6",
          "polar": {
           "angularaxis": {
            "gridcolor": "white",
            "linecolor": "white",
            "ticks": ""
           },
           "bgcolor": "#E5ECF6",
           "radialaxis": {
            "gridcolor": "white",
            "linecolor": "white",
            "ticks": ""
           }
          },
          "scene": {
           "xaxis": {
            "backgroundcolor": "#E5ECF6",
            "gridcolor": "white",
            "gridwidth": 2,
            "linecolor": "white",
            "showbackground": true,
            "ticks": "",
            "zerolinecolor": "white"
           },
           "yaxis": {
            "backgroundcolor": "#E5ECF6",
            "gridcolor": "white",
            "gridwidth": 2,
            "linecolor": "white",
            "showbackground": true,
            "ticks": "",
            "zerolinecolor": "white"
           },
           "zaxis": {
            "backgroundcolor": "#E5ECF6",
            "gridcolor": "white",
            "gridwidth": 2,
            "linecolor": "white",
            "showbackground": true,
            "ticks": "",
            "zerolinecolor": "white"
           }
          },
          "shapedefaults": {
           "line": {
            "color": "#2a3f5f"
           }
          },
          "ternary": {
           "aaxis": {
            "gridcolor": "white",
            "linecolor": "white",
            "ticks": ""
           },
           "baxis": {
            "gridcolor": "white",
            "linecolor": "white",
            "ticks": ""
           },
           "bgcolor": "#E5ECF6",
           "caxis": {
            "gridcolor": "white",
            "linecolor": "white",
            "ticks": ""
           }
          },
          "title": {
           "x": 0.05
          },
          "xaxis": {
           "automargin": true,
           "gridcolor": "white",
           "linecolor": "white",
           "ticks": "",
           "title": {
            "standoff": 15
           },
           "zerolinecolor": "white",
           "zerolinewidth": 2
          },
          "yaxis": {
           "automargin": true,
           "gridcolor": "white",
           "linecolor": "white",
           "ticks": "",
           "title": {
            "standoff": 15
           },
           "zerolinecolor": "white",
           "zerolinewidth": 2
          }
         }
        },
        "title": {
         "font": {
          "color": "#4D5663"
         }
        },
        "xaxis": {
         "gridcolor": "#E1E5ED",
         "showgrid": true,
         "tickfont": {
          "color": "#4D5663"
         },
         "title": {
          "font": {
           "color": "#4D5663"
          },
          "text": ""
         },
         "zerolinecolor": "#E1E5ED"
        },
        "yaxis": {
         "gridcolor": "#E1E5ED",
         "showgrid": true,
         "tickfont": {
          "color": "#4D5663"
         },
         "title": {
          "font": {
           "color": "#4D5663"
          },
          "text": ""
         },
         "zerolinecolor": "#E1E5ED"
        }
       }
      },
      "text/html": [
       "<div>\n",
       "        \n",
       "        \n",
       "            <div id=\"99297784-9faf-42c9-883e-5ace0b1c149b\" class=\"plotly-graph-div\" style=\"height:525px; width:100%;\"></div>\n",
       "            <script type=\"text/javascript\">\n",
       "                require([\"plotly\"], function(Plotly) {\n",
       "                    window.PLOTLYENV=window.PLOTLYENV || {};\n",
       "                    window.PLOTLYENV.BASE_URL='https://plot.ly';\n",
       "                    \n",
       "                if (document.getElementById(\"99297784-9faf-42c9-883e-5ace0b1c149b\")) {\n",
       "                    Plotly.newPlot(\n",
       "                        '99297784-9faf-42c9-883e-5ace0b1c149b',\n",
       "                        [{\"marker\": {\"color\": \"rgba(55, 128, 191, 0.6)\", \"line\": {\"color\": \"rgba(55, 128, 191, 1.0)\", \"width\": 1}}, \"name\": \"YTD Total Return\", \"orientation\": \"v\", \"text\": \"\", \"type\": \"bar\", \"x\": [\"ICAG.L\", \"RR.L\", \"MRON.L\", \"ITV.L\", \"LLOY.L\", \"INF.L\", \"NWG.L\", \"RDSb.L\", \"BT.L\", \"RDSa.L\", \"WTB.L\", \"WPP.L\", \"STAN.L\", \"BARC.L\", \"CPG.L\", \"BRBY.L\", \"HSBA.L\", \"BLND.L\", \"LAND.L\", \"BP.L\", \"TW.L\", \"AV.L\", \"IHG.L\", \"ABF.L\", \"SMDS.L\", \"BDEV.L\", \"IMB.L\", \"JD.L\", \"GLEN.L\", \"GVC.L\", \"LGEN.L\", \"JMAT.L\", \"RSA.L\", \"MNG.L\", \"MNDI.L\", \"NXT.L\", \"PRU.L\", \"EVRE.L\", \"CCH.L\", \"SMIN.L\", \"BATS.L\", \"VOD.L\", \"SBRY.L\", \"SLA.L\", \"III.L\", \"SJP.L\", \"SN.L\", \"PSON.L\", \"ICP.L\", \"BAES.L\", \"SKG.L\", \"REL.L\", \"RMV.L\", \"TSCO.L\", \"GSK.L\", \"DGE.L\", \"AAL.L\", \"PSN.L\", \"AVV.L\", \"AUTOA.L\", \"HRGV.L\", \"PHNX.L\", \"SDR.L\", \"ITRK.L\", \"CRH.L\", \"BKGH.L\", \"SSE.L\", \"MRW.L\", \"BHPB.L\", \"UU.L\", \"NG.L\", \"FERG.L\", \"SGE.L\", \"SVT.L\", \"AHT.L\", \"HLMA.L\", \"HSV.L\", \"DCC.L\", \"EXPN.L\", \"ADML.L\", \"BNZL.L\", \"ULVR.L\", \"RIO.L\", \"PNN.L\", \"HIK.L\", \"LSE.L\", \"SGRO.L\", \"KGF.L\", \"ANTO.L\", \"CRDA.L\", \"AZN.L\", \"SPX.L\", \"RTO.L\", \"JETJ.L\", \"FLTRF.L\", \"AVST.L\", \"RB.L\", \"SMT.L\", \"OCDO.L\", \"POLYP.L\", \"FRES.L\"], \"y\": [-73.6400000008118, -66.1007025767383, -64.4897959194822, -62.4635761583874, -57.94400000128199, -56.8378062985815, -55.8884727434221, -50.298920326777704, -48.7736437310586, -48.3833953348672, -47.63775680638229, -46.74167838955999, -45.8450308808722, -44.0213760874715, -43.641688232657096, -43.197278910612795, -42.1861800983232, -41.9611755020232, -41.7575757549943, -39.0534821629054, -38.8055842796236, -37.0193455959936, -32.488479266341, -32.0631254765987, -32.0145757390735, -31.609965176192002, -27.865507189846, -27.680917123491803, -25.7956235403606, -24.8360099524994, -24.714830996377803, -24.181091825774196, -24.1336633703199, -24.003872727051803, -23.102961919635803, -22.3425477343649, -22.2392450306743, -20.967076211872698, -19.709873958911, -19.679905153546603, -18.9407728250205, -18.736640606132603, -18.5950413285834, -18.0198058900366, -17.2525626964694, -17.1841737421122, -16.0403259857987, -14.468005799028699, -13.904240945213198, -13.2082152987414, -13.013698626012001, -12.9643768079635, -12.6893939383116, -12.494599340350302, -11.8001614630266, -11.6317662013868, -11.313361716312698, -10.871985156510801, -10.0187902884391, -9.38982831919141, -9.007839897891161, -8.49724632967271, -8.40352976554811, -6.84357984458447, -6.5489923175505105, -5.563613655218759, -4.24176969924125, -3.97522661077474, -3.5671425224916202, -1.6309064135942901, -1.40018809215747, -0.8467153242716079, -0.349033651657715, -0.12556021417236, 1.16684596289756, 2.93005670642432, 5.06329113924033, 5.895831456549259, 6.34471976226143, 6.36424038982033, 6.440677966025139, 6.8399293456727195, 7.47240514914156, 8.25893388042542, 9.436342371041759, 10.2036127666091, 10.3840195141405, 11.474654379133598, 12.8902220429918, 13.1644297926415, 14.4321264880336, 16.988483199914903, 17.924944813990603, 19.7256097539322, 26.4330125933226, 26.8772084805654, 27.7642408006497, 50.4623296908521, 60.516028142467206, 63.804958716085395, 94.96666594689329]}],\n",
       "                        {\"legend\": {\"bgcolor\": \"#F5F6F9\", \"font\": {\"color\": \"#4D5663\"}}, \"paper_bgcolor\": \"#F5F6F9\", \"plot_bgcolor\": \"#F5F6F9\", \"template\": {\"data\": {\"bar\": [{\"error_x\": {\"color\": \"#2a3f5f\"}, \"error_y\": {\"color\": \"#2a3f5f\"}, \"marker\": {\"line\": {\"color\": \"#E5ECF6\", \"width\": 0.5}}, \"type\": \"bar\"}], \"barpolar\": [{\"marker\": {\"line\": {\"color\": \"#E5ECF6\", \"width\": 0.5}}, \"type\": \"barpolar\"}], \"carpet\": [{\"aaxis\": {\"endlinecolor\": \"#2a3f5f\", \"gridcolor\": \"white\", \"linecolor\": \"white\", \"minorgridcolor\": \"white\", \"startlinecolor\": \"#2a3f5f\"}, \"baxis\": {\"endlinecolor\": \"#2a3f5f\", \"gridcolor\": \"white\", \"linecolor\": \"white\", \"minorgridcolor\": \"white\", \"startlinecolor\": \"#2a3f5f\"}, \"type\": \"carpet\"}], \"choropleth\": [{\"colorbar\": {\"outlinewidth\": 0, \"ticks\": \"\"}, \"type\": \"choropleth\"}], \"contour\": [{\"colorbar\": {\"outlinewidth\": 0, \"ticks\": \"\"}, \"colorscale\": [[0.0, \"#0d0887\"], [0.1111111111111111, \"#46039f\"], [0.2222222222222222, \"#7201a8\"], [0.3333333333333333, \"#9c179e\"], [0.4444444444444444, \"#bd3786\"], [0.5555555555555556, \"#d8576b\"], [0.6666666666666666, \"#ed7953\"], [0.7777777777777778, \"#fb9f3a\"], [0.8888888888888888, \"#fdca26\"], [1.0, \"#f0f921\"]], \"type\": \"contour\"}], \"contourcarpet\": [{\"colorbar\": {\"outlinewidth\": 0, \"ticks\": \"\"}, \"type\": \"contourcarpet\"}], \"heatmap\": [{\"colorbar\": {\"outlinewidth\": 0, \"ticks\": \"\"}, \"colorscale\": [[0.0, \"#0d0887\"], [0.1111111111111111, \"#46039f\"], [0.2222222222222222, \"#7201a8\"], [0.3333333333333333, \"#9c179e\"], [0.4444444444444444, \"#bd3786\"], [0.5555555555555556, \"#d8576b\"], [0.6666666666666666, \"#ed7953\"], [0.7777777777777778, \"#fb9f3a\"], [0.8888888888888888, \"#fdca26\"], [1.0, \"#f0f921\"]], \"type\": \"heatmap\"}], \"heatmapgl\": [{\"colorbar\": {\"outlinewidth\": 0, \"ticks\": \"\"}, \"colorscale\": [[0.0, \"#0d0887\"], [0.1111111111111111, \"#46039f\"], [0.2222222222222222, \"#7201a8\"], [0.3333333333333333, \"#9c179e\"], [0.4444444444444444, \"#bd3786\"], [0.5555555555555556, \"#d8576b\"], [0.6666666666666666, \"#ed7953\"], [0.7777777777777778, \"#fb9f3a\"], [0.8888888888888888, \"#fdca26\"], [1.0, \"#f0f921\"]], \"type\": \"heatmapgl\"}], \"histogram\": [{\"marker\": {\"colorbar\": {\"outlinewidth\": 0, \"ticks\": \"\"}}, \"type\": \"histogram\"}], \"histogram2d\": [{\"colorbar\": {\"outlinewidth\": 0, \"ticks\": \"\"}, \"colorscale\": [[0.0, \"#0d0887\"], [0.1111111111111111, \"#46039f\"], [0.2222222222222222, \"#7201a8\"], [0.3333333333333333, \"#9c179e\"], [0.4444444444444444, \"#bd3786\"], [0.5555555555555556, \"#d8576b\"], [0.6666666666666666, \"#ed7953\"], [0.7777777777777778, \"#fb9f3a\"], [0.8888888888888888, \"#fdca26\"], [1.0, \"#f0f921\"]], \"type\": \"histogram2d\"}], \"histogram2dcontour\": [{\"colorbar\": {\"outlinewidth\": 0, \"ticks\": \"\"}, \"colorscale\": [[0.0, \"#0d0887\"], [0.1111111111111111, \"#46039f\"], [0.2222222222222222, \"#7201a8\"], [0.3333333333333333, \"#9c179e\"], [0.4444444444444444, \"#bd3786\"], [0.5555555555555556, \"#d8576b\"], [0.6666666666666666, \"#ed7953\"], [0.7777777777777778, \"#fb9f3a\"], [0.8888888888888888, \"#fdca26\"], [1.0, \"#f0f921\"]], \"type\": \"histogram2dcontour\"}], \"mesh3d\": [{\"colorbar\": {\"outlinewidth\": 0, \"ticks\": \"\"}, \"type\": \"mesh3d\"}], \"parcoords\": [{\"line\": {\"colorbar\": {\"outlinewidth\": 0, \"ticks\": \"\"}}, \"type\": \"parcoords\"}], \"pie\": [{\"automargin\": true, \"type\": \"pie\"}], \"scatter\": [{\"marker\": {\"colorbar\": {\"outlinewidth\": 0, \"ticks\": \"\"}}, \"type\": \"scatter\"}], \"scatter3d\": [{\"line\": {\"colorbar\": {\"outlinewidth\": 0, \"ticks\": \"\"}}, \"marker\": {\"colorbar\": {\"outlinewidth\": 0, \"ticks\": \"\"}}, \"type\": \"scatter3d\"}], \"scattercarpet\": [{\"marker\": {\"colorbar\": {\"outlinewidth\": 0, \"ticks\": \"\"}}, \"type\": \"scattercarpet\"}], \"scattergeo\": [{\"marker\": {\"colorbar\": {\"outlinewidth\": 0, \"ticks\": \"\"}}, \"type\": \"scattergeo\"}], \"scattergl\": [{\"marker\": {\"colorbar\": {\"outlinewidth\": 0, \"ticks\": \"\"}}, \"type\": \"scattergl\"}], \"scattermapbox\": [{\"marker\": {\"colorbar\": {\"outlinewidth\": 0, \"ticks\": \"\"}}, \"type\": \"scattermapbox\"}], \"scatterpolar\": [{\"marker\": {\"colorbar\": {\"outlinewidth\": 0, \"ticks\": \"\"}}, \"type\": \"scatterpolar\"}], \"scatterpolargl\": [{\"marker\": {\"colorbar\": {\"outlinewidth\": 0, \"ticks\": \"\"}}, \"type\": \"scatterpolargl\"}], \"scatterternary\": [{\"marker\": {\"colorbar\": {\"outlinewidth\": 0, \"ticks\": \"\"}}, \"type\": \"scatterternary\"}], \"surface\": [{\"colorbar\": {\"outlinewidth\": 0, \"ticks\": \"\"}, \"colorscale\": [[0.0, \"#0d0887\"], [0.1111111111111111, \"#46039f\"], [0.2222222222222222, \"#7201a8\"], [0.3333333333333333, \"#9c179e\"], [0.4444444444444444, \"#bd3786\"], [0.5555555555555556, \"#d8576b\"], [0.6666666666666666, \"#ed7953\"], [0.7777777777777778, \"#fb9f3a\"], [0.8888888888888888, \"#fdca26\"], [1.0, \"#f0f921\"]], \"type\": \"surface\"}], \"table\": [{\"cells\": {\"fill\": {\"color\": \"#EBF0F8\"}, \"line\": {\"color\": \"white\"}}, \"header\": {\"fill\": {\"color\": \"#C8D4E3\"}, \"line\": {\"color\": \"white\"}}, \"type\": \"table\"}]}, \"layout\": {\"annotationdefaults\": {\"arrowcolor\": \"#2a3f5f\", \"arrowhead\": 0, \"arrowwidth\": 1}, \"coloraxis\": {\"colorbar\": {\"outlinewidth\": 0, \"ticks\": \"\"}}, \"colorscale\": {\"diverging\": [[0, \"#8e0152\"], [0.1, \"#c51b7d\"], [0.2, \"#de77ae\"], [0.3, \"#f1b6da\"], [0.4, \"#fde0ef\"], [0.5, \"#f7f7f7\"], [0.6, \"#e6f5d0\"], [0.7, \"#b8e186\"], [0.8, \"#7fbc41\"], [0.9, \"#4d9221\"], [1, \"#276419\"]], \"sequential\": [[0.0, \"#0d0887\"], [0.1111111111111111, \"#46039f\"], [0.2222222222222222, \"#7201a8\"], [0.3333333333333333, \"#9c179e\"], [0.4444444444444444, \"#bd3786\"], [0.5555555555555556, \"#d8576b\"], [0.6666666666666666, \"#ed7953\"], [0.7777777777777778, \"#fb9f3a\"], [0.8888888888888888, \"#fdca26\"], [1.0, \"#f0f921\"]], \"sequentialminus\": [[0.0, \"#0d0887\"], [0.1111111111111111, \"#46039f\"], [0.2222222222222222, \"#7201a8\"], [0.3333333333333333, \"#9c179e\"], [0.4444444444444444, \"#bd3786\"], [0.5555555555555556, \"#d8576b\"], [0.6666666666666666, \"#ed7953\"], [0.7777777777777778, \"#fb9f3a\"], [0.8888888888888888, \"#fdca26\"], [1.0, \"#f0f921\"]]}, \"colorway\": [\"#636efa\", \"#EF553B\", \"#00cc96\", \"#ab63fa\", \"#FFA15A\", \"#19d3f3\", \"#FF6692\", \"#B6E880\", \"#FF97FF\", \"#FECB52\"], \"font\": {\"color\": \"#2a3f5f\"}, \"geo\": {\"bgcolor\": \"white\", \"lakecolor\": \"white\", \"landcolor\": \"#E5ECF6\", \"showlakes\": true, \"showland\": true, \"subunitcolor\": \"white\"}, \"hoverlabel\": {\"align\": \"left\"}, \"hovermode\": \"closest\", \"mapbox\": {\"style\": \"light\"}, \"paper_bgcolor\": \"white\", \"plot_bgcolor\": \"#E5ECF6\", \"polar\": {\"angularaxis\": {\"gridcolor\": \"white\", \"linecolor\": \"white\", \"ticks\": \"\"}, \"bgcolor\": \"#E5ECF6\", \"radialaxis\": {\"gridcolor\": \"white\", \"linecolor\": \"white\", \"ticks\": \"\"}}, \"scene\": {\"xaxis\": {\"backgroundcolor\": \"#E5ECF6\", \"gridcolor\": \"white\", \"gridwidth\": 2, \"linecolor\": \"white\", \"showbackground\": true, \"ticks\": \"\", \"zerolinecolor\": \"white\"}, \"yaxis\": {\"backgroundcolor\": \"#E5ECF6\", \"gridcolor\": \"white\", \"gridwidth\": 2, \"linecolor\": \"white\", \"showbackground\": true, \"ticks\": \"\", \"zerolinecolor\": \"white\"}, \"zaxis\": {\"backgroundcolor\": \"#E5ECF6\", \"gridcolor\": \"white\", \"gridwidth\": 2, \"linecolor\": \"white\", \"showbackground\": true, \"ticks\": \"\", \"zerolinecolor\": \"white\"}}, \"shapedefaults\": {\"line\": {\"color\": \"#2a3f5f\"}}, \"ternary\": {\"aaxis\": {\"gridcolor\": \"white\", \"linecolor\": \"white\", \"ticks\": \"\"}, \"baxis\": {\"gridcolor\": \"white\", \"linecolor\": \"white\", \"ticks\": \"\"}, \"bgcolor\": \"#E5ECF6\", \"caxis\": {\"gridcolor\": \"white\", \"linecolor\": \"white\", \"ticks\": \"\"}}, \"title\": {\"x\": 0.05}, \"xaxis\": {\"automargin\": true, \"gridcolor\": \"white\", \"linecolor\": \"white\", \"ticks\": \"\", \"title\": {\"standoff\": 15}, \"zerolinecolor\": \"white\", \"zerolinewidth\": 2}, \"yaxis\": {\"automargin\": true, \"gridcolor\": \"white\", \"linecolor\": \"white\", \"ticks\": \"\", \"title\": {\"standoff\": 15}, \"zerolinecolor\": \"white\", \"zerolinewidth\": 2}}}, \"title\": {\"font\": {\"color\": \"#4D5663\"}}, \"xaxis\": {\"gridcolor\": \"#E1E5ED\", \"showgrid\": true, \"tickfont\": {\"color\": \"#4D5663\"}, \"title\": {\"font\": {\"color\": \"#4D5663\"}, \"text\": \"\"}, \"zerolinecolor\": \"#E1E5ED\"}, \"yaxis\": {\"gridcolor\": \"#E1E5ED\", \"showgrid\": true, \"tickfont\": {\"color\": \"#4D5663\"}, \"title\": {\"font\": {\"color\": \"#4D5663\"}, \"text\": \"\"}, \"zerolinecolor\": \"#E1E5ED\"}},\n",
       "                        {\"showLink\": true, \"linkText\": \"Export to plot.ly\", \"plotlyServerURL\": \"https://plot.ly\", \"responsive\": true}\n",
       "                    ).then(function(){\n",
       "                            \n",
       "var gd = document.getElementById('99297784-9faf-42c9-883e-5ace0b1c149b');\n",
       "var x = new MutationObserver(function (mutations, observer) {{\n",
       "        var display = window.getComputedStyle(gd).display;\n",
       "        if (!display || display === 'none') {{\n",
       "            console.log([gd, 'removed!']);\n",
       "            Plotly.purge(gd);\n",
       "            observer.disconnect();\n",
       "        }}\n",
       "}});\n",
       "\n",
       "// Listen for the removal of the full notebook cells\n",
       "var notebookContainer = gd.closest('#notebook-container');\n",
       "if (notebookContainer) {{\n",
       "    x.observe(notebookContainer, {childList: true});\n",
       "}}\n",
       "\n",
       "// Listen for the clearing of the current output cell\n",
       "var outputEl = gd.closest('.output');\n",
       "if (outputEl) {{\n",
       "    x.observe(outputEl, {childList: true});\n",
       "}}\n",
       "\n",
       "                        })\n",
       "                };\n",
       "                });\n",
       "            </script>\n",
       "        </div>"
      ]
     },
     "metadata": {},
     "output_type": "display_data"
    }
   ],
   "source": [
    "dax.set_index('Instrument')['YTD Total Return'].sort_values().iplot(kind='bar', color='blue')"
   ]
  },
  {
   "cell_type": "markdown",
   "metadata": {},
   "source": [
    "# ek.get_news_headlines()\n",
    "The function ek.get_news_headlines() allows you to search for and retrieve news headlines, including storyId values needed to retrieve the full news text."
   ]
  },
  {
   "cell_type": "code",
   "execution_count": 57,
   "metadata": {},
   "outputs": [
    {
     "name": "stderr",
     "output_type": "stream",
     "text": [
      "C:\\Users\\Admin\\anaconda3\\lib\\site-packages\\eikon\\news_request.py:139: FutureWarning:\n",
      "\n",
      "The pandas.np module is deprecated and will be removed from pandas in a future version. Import numpy directly instead\n",
      "\n"
     ]
    }
   ],
   "source": [
    "news = ek.get_news_headlines('R:%s ASS IN ENGLISH' % \"0#.FTSE\",\n",
    "                         count=10\n",
    "                        )"
   ]
  },
  {
   "cell_type": "code",
   "execution_count": 58,
   "metadata": {},
   "outputs": [
    {
     "data": {
      "text/html": [
       "<div>\n",
       "<style scoped>\n",
       "    .dataframe tbody tr th:only-of-type {\n",
       "        vertical-align: middle;\n",
       "    }\n",
       "\n",
       "    .dataframe tbody tr th {\n",
       "        vertical-align: top;\n",
       "    }\n",
       "\n",
       "    .dataframe thead th {\n",
       "        text-align: right;\n",
       "    }\n",
       "</style>\n",
       "<table border=\"1\" class=\"dataframe\">\n",
       "  <thead>\n",
       "    <tr style=\"text-align: right;\">\n",
       "      <th></th>\n",
       "      <th>versionCreated</th>\n",
       "      <th>text</th>\n",
       "      <th>storyId</th>\n",
       "      <th>sourceCode</th>\n",
       "    </tr>\n",
       "  </thead>\n",
       "  <tbody>\n",
       "    <tr>\n",
       "      <th>2020-08-01 09:03:46.016</th>\n",
       "      <td>2020-08-01 09:03:46.016000+00:00</td>\n",
       "      <td>Former Rio Tinto employees condemn destruction...</td>\n",
       "      <td>urn:newsml:reuters.com:20200801:nNRAchxbjz:1</td>\n",
       "      <td>NS:THEGRD</td>\n",
       "    </tr>\n",
       "    <tr>\n",
       "      <th>2020-08-01 07:45:34.796</th>\n",
       "      <td>2020-08-01 07:45:34.796000+00:00</td>\n",
       "      <td>Cosmoprof India and Personal Care Ingredients ...</td>\n",
       "      <td>urn:newsml:reuters.com:20200801:nNRAci2q2z:1</td>\n",
       "      <td>NS:ASNEWS</td>\n",
       "    </tr>\n",
       "    <tr>\n",
       "      <th>2020-08-01 07:05:10.011</th>\n",
       "      <td>2020-08-01 07:05:10.011000+00:00</td>\n",
       "      <td>Amazon is stepping into the fresh food ring – ...</td>\n",
       "      <td>urn:newsml:reuters.com:20200801:nNRAci1wf9:1</td>\n",
       "      <td>NS:INDEPE</td>\n",
       "    </tr>\n",
       "    <tr>\n",
       "      <th>2020-08-01 06:02:55.218</th>\n",
       "      <td>2020-08-01 06:02:55.218000+00:00</td>\n",
       "      <td>WHAT TO WATCH TELEVISION WEDNESDAY 5 AUGUST</td>\n",
       "      <td>urn:newsml:reuters.com:20200801:nNRAci0bw5:1</td>\n",
       "      <td>NS:TELGPH</td>\n",
       "    </tr>\n",
       "    <tr>\n",
       "      <th>2020-08-01 06:02:28.235</th>\n",
       "      <td>2020-08-01 06:02:28.235000+00:00</td>\n",
       "      <td>'The cold war with China will boost its shares...</td>\n",
       "      <td>urn:newsml:reuters.com:20200801:nNRAci0bmi:1</td>\n",
       "      <td>NS:TELGPH</td>\n",
       "    </tr>\n",
       "  </tbody>\n",
       "</table>\n",
       "</div>"
      ],
      "text/plain": [
       "                                          versionCreated  \\\n",
       "2020-08-01 09:03:46.016 2020-08-01 09:03:46.016000+00:00   \n",
       "2020-08-01 07:45:34.796 2020-08-01 07:45:34.796000+00:00   \n",
       "2020-08-01 07:05:10.011 2020-08-01 07:05:10.011000+00:00   \n",
       "2020-08-01 06:02:55.218 2020-08-01 06:02:55.218000+00:00   \n",
       "2020-08-01 06:02:28.235 2020-08-01 06:02:28.235000+00:00   \n",
       "\n",
       "                                                                      text  \\\n",
       "2020-08-01 09:03:46.016  Former Rio Tinto employees condemn destruction...   \n",
       "2020-08-01 07:45:34.796  Cosmoprof India and Personal Care Ingredients ...   \n",
       "2020-08-01 07:05:10.011  Amazon is stepping into the fresh food ring – ...   \n",
       "2020-08-01 06:02:55.218        WHAT TO WATCH TELEVISION WEDNESDAY 5 AUGUST   \n",
       "2020-08-01 06:02:28.235  'The cold war with China will boost its shares...   \n",
       "\n",
       "                                                              storyId  \\\n",
       "2020-08-01 09:03:46.016  urn:newsml:reuters.com:20200801:nNRAchxbjz:1   \n",
       "2020-08-01 07:45:34.796  urn:newsml:reuters.com:20200801:nNRAci2q2z:1   \n",
       "2020-08-01 07:05:10.011  urn:newsml:reuters.com:20200801:nNRAci1wf9:1   \n",
       "2020-08-01 06:02:55.218  urn:newsml:reuters.com:20200801:nNRAci0bw5:1   \n",
       "2020-08-01 06:02:28.235  urn:newsml:reuters.com:20200801:nNRAci0bmi:1   \n",
       "\n",
       "                        sourceCode  \n",
       "2020-08-01 09:03:46.016  NS:THEGRD  \n",
       "2020-08-01 07:45:34.796  NS:ASNEWS  \n",
       "2020-08-01 07:05:10.011  NS:INDEPE  \n",
       "2020-08-01 06:02:55.218  NS:TELGPH  \n",
       "2020-08-01 06:02:28.235  NS:TELGPH  "
      ]
     },
     "execution_count": 58,
     "metadata": {},
     "output_type": "execute_result"
    }
   ],
   "source": [
    "news.head()"
   ]
  },
  {
   "cell_type": "markdown",
   "metadata": {},
   "source": [
    "# ek.get_news_story()\n",
    "The function ek.get_news_story() retrieves the full text of a news stroy given the storyId value."
   ]
  },
  {
   "cell_type": "code",
   "execution_count": 60,
   "metadata": {},
   "outputs": [],
   "source": [
    "storyId = news['storyId'][0]"
   ]
  },
  {
   "cell_type": "code",
   "execution_count": 61,
   "metadata": {},
   "outputs": [],
   "source": [
    "from IPython.display import HTML"
   ]
  },
  {
   "cell_type": "code",
   "execution_count": 62,
   "metadata": {},
   "outputs": [
    {
     "data": {
      "text/html": [
       "<div class=\"storyContent\" lang=\"en\"><style type=\"text/css\">.storyContent * {border-color:inherit !important;outline-color:inherit !important;}</style><div class=\"tr-npp-lead\"><p>The Senate inquiry into Rio Tinto's destruction of a 46,000-year-old sacred site at Juukan Gorge in the Pilbara has heard from former senior employees, who said the company was in \"serious breach of its own standards\" and that the destruction \"sadly was waiting to happen\".</p><p>Other expert submissions to the inquiry, which is due to report in September, have also raised questions about why the federal government did not stop the destruction, when it had the legal power to do so.</p></div><div class=\"tr-npp-body\"><p>In May, Rio Tinto faced international condemnation when it destroyed the sacred site to expand its iron ore mine. The cave in Juukan Gorge was the only inland site in Australia to show signs of continual human occupation through the last ice age and a genetic link to its traditional owners, the Puutu Kunti Kurrama and Pinikura (PKKP) people.</p><p>The company initially said the blast followed <a href=\"https://www.theguardian.com/business/2020/jun/05/rio-tinto-blames-misunderstanding-for-destruction-of-46000-year-old-aboriginal-site\" data-type=\"url\" class=\"tr-link\" translate=\"no\">a \"misunderstanding\"</a> with the PKKP but then issued a public apology.</p><p>Rio Tinto's actions have since been compared by shareholder groups to widespread poor conduct in the financial services sector before the banking royal commission. The company was also stripped of its partner status with Reconciliation Australia.</p><p><a href=\"https://www.theguardian.com/business/rio-tinto\" data-type=\"url\" class=\"tr-link\" translate=\"no\">Rio Tinto</a> received ministerial consent to destroy or damage the site in 2013 under Western Australia's outdated Aboriginal heritage laws, which were drafted in 1972 to favour mining proponents.</p><p>The WA Aboriginal Heritage Act does not give traditional owners any formal right of consultation or appeal.</p><p>The WA minister for Aboriginal affairs, Ben Wyatt, a Yamatji man, said he had not known about Juukan Gorge until after the blast happened. But his department was aware. The Department of Planning, Lands and Heritage held a pre-arranged meeting with advisers for the PKKP four days before the blast. It told the PKKP advisers there was no way to revoke the section 18 approval, and called Rio Tinto after the meeting.</p><p>Federal <a href=\"https://www.theguardian.com/australia-news/indigenous-australians\" data-type=\"url\" class=\"tr-link\" translate=\"no\">Indigenous Australians</a> minister Ken Wyatt, also a Yamatji man and cousin to his West Australian counterpart, admitted lawyers from the PKKP contacted his office on 20 May, seeking an injunction under federal laws.</p><p>Wyatt referred them to the environment minister, Sussan Ley, who has carriage of the federal Aboriginal heritage protection act</p><p>His office did not follow-up with Ley until after the sites were destroyed.</p><p>Former senior Commonwealth public servant Dr Bill Gray helped draw up and administer the act when it began in 1984. Gray said the act could have been used to stop the blast, and questions must be asked about why it failed.</p><p>\"It is legislation of last resort which enables the minister to exercise his or her discretion to intervene,\" Gray said. \"It can be used to override state legislation or other agreements, provide emergency declarations to protect significant Aboriginal sites that are in imminent danger of being destroyed.\"</p><p>Gray said the Senate should clarify the \"sequence of events and decision making process\" undertaken by federal ministers to protect the Juukan site from being destroyed.</p><p>\"Unless these questions are answered, it will remain unclear as to how, in 2020 Australia, a site of such traditional and world significance could be the subject of such a catastrophic act of destruction by one of the largest mining companies in the world which, until now, had promoted itself as having exemplary and respectful relationships with the local traditional owners in the Pilbara,\" he said.</p><p>\"Commonwealth legislation exists which could have protected the Juukan Gorge site. Why did it fail on this occasion?\"</p><p>World-leading archaeologist Prof Glynn Cochrane, who spent 20 years implementing Rio Tinto's social performance program, said the company had offered \"no convincing explanation\" for the destruction of the caves.</p><p>\"It was not done for gain,\" Cochrane said. \"[Former Rio boss] Leon Davis said it was not worth the few tons of iron ore the company might achieve.\"</p><p>Rio Tinto's management of cultural resources in the Pilbara had been \"stripped down\" in recent years, Cochrane said. The focus is on securing \"quick clearance – the removal of impediments to mining – something that too frequently results in the destruction of sacred sites\".</p><p>\"While legal changes may discourage bad behaviour they cannot necessarily promote the good behaviour and enlightened stewardship that is now missing,\" he said.</p><p>Another long-term senior Rio Tinto employee, Bruce Harvey, said a loss of expertise in cultural heritage management at the company was a factor.</p><p>\"These included world-class archaeologists and anthropologists who had the necessary seniority in Rio Tinto and sufficient forthrightness to have spoken up on the folly of the proposed destruction,\" Harvey said.</p><p>Harvey worked for Rio Tinto for seven years as a senior adviser on social performance, after 27 years as a geologist and chief adviser to Rio Tinto and its predecessors on Aboriginal community relations.</p><p>\"While Rio Tinto was not in breach of the law, I contend it was in serious breach of its own standards and world leading guidance on the matter of cultural heritage management,\" Harvey said. \"Juukan, or an event like it, sadly was waiting to happen and perhaps overdue.\" <br/><br/> Australian National University emeritus professor Jon Altman, who has researched land rights and native title matters for more than 40 years, said Indigenous people had a right to expect stronger protection of their cultural heritage.</p><p>\"There is currently a culture of tokenism and symbolism\" that marginalises Indigenous knowledge and views, while mining companies hold influence over legislation, he said.</p><p>\"I am not suggesting that multinational corporations like Rio Tinto and BHP and others have operated outside the letter of the law,\" Altman wrote. \"What I am saying is that they have been far too influential in shaping the law to suit their instrumental extractive profit-seeking interests.\"</p><p>He said \"at all jurisdictional levels in Australia there is a degree of state capture by industry\" while the native title act is \"frozen in the past\".</p><p>The limited rights offered to traditional owners leave them with little bargaining power Altman said, and \"being forced to sign off on risky agreements that result in debacles like the destruction at Juukan Gorge\".</p><p><a href=\"https://www.theguardian.com/business/2020/jul/29/rio-tinto-chief-says-he-fully-respects-indigenous-academic-after-her-rebuke-of-juukan-gorge-debacle\" data-type=\"url\" class=\"tr-link\" translate=\"no\">Rio Tinto has said</a> it will provide a submission to the senate inquiry, and its global chief executive, Jean-Sébastien Jacques, will appear at its hearings.</p><p>Jacques has also said the company's board is conducting a separate review, which would be <a href=\"https://www.theguardian.com/business/2020/jun/19/rio-tinto-caves-release-review-indigenous-heritage-site-destruction-juukan-pilbara\" data-type=\"url\" class=\"tr-link\" translate=\"no\">made public</a> .</p><p>The inquiry is due to report in September.</p></div><p class=\"line-break\"><br/></p><p class=\"tr-copyright\">Copyright (c) 2020 theguardian.com-NonSyndicated</p></div>"
      ],
      "text/plain": [
       "<IPython.core.display.HTML object>"
      ]
     },
     "execution_count": 62,
     "metadata": {},
     "output_type": "execute_result"
    }
   ],
   "source": [
    "HTML(ek.get_news_story(storyId))"
   ]
  }
 ],
 "metadata": {
  "kernelspec": {
   "display_name": "Python 3",
   "language": "python",
   "name": "python3"
  },
  "language_info": {
   "codemirror_mode": {
    "name": "ipython",
    "version": 3
   },
   "file_extension": ".py",
   "mimetype": "text/x-python",
   "name": "python",
   "nbconvert_exporter": "python",
   "pygments_lexer": "ipython3",
   "version": "3.7.6"
  }
 },
 "nbformat": 4,
 "nbformat_minor": 4
}
